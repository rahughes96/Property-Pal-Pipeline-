{
 "cells": [
  {
   "cell_type": "code",
   "execution_count": 1,
   "metadata": {},
   "outputs": [],
   "source": [
    "class Power(object):\n",
    "\tdef __init__(self, arg):\n",
    "\t\tself._arg = arg\n",
    "\n",
    "\tdef __call__(self, a, b):\n",
    "\t\tretval = self._arg(a, b)\n",
    "\t\treturn retval ** 2\n",
    "\n",
    "\n",
    "@Power\n",
    "def multiply_together(a, b):\n",
    "\treturn a * b\n"
   ]
  },
  {
   "cell_type": "code",
   "execution_count": 2,
   "metadata": {},
   "outputs": [
    {
     "name": "stdout",
     "output_type": "stream",
     "text": [
      "<__main__.Power object at 0x7fe40bea9640>\n",
      "16\n"
     ]
    }
   ],
   "source": [
    "print(multiply_together)\n",
    "print(multiply_together(2, 2))"
   ]
  },
  {
   "cell_type": "code",
   "execution_count": 8,
   "metadata": {},
   "outputs": [
    {
     "ename": "TypeError",
     "evalue": "__init__() missing 1 required positional argument: 'arg'",
     "output_type": "error",
     "traceback": [
      "\u001b[0;31m---------------------------------------------------------------------------\u001b[0m",
      "\u001b[0;31mTypeError\u001b[0m                                 Traceback (most recent call last)",
      "\u001b[1;32m/Users/ryanhughes/Desktop/Aicore/Property-Pal-Pipeline-/decorators_practice.ipynb Cell 3'\u001b[0m in \u001b[0;36m<cell line: 1>\u001b[0;34m()\u001b[0m\n\u001b[0;32m----> <a href='vscode-notebook-cell:/Users/ryanhughes/Desktop/Aicore/Property-Pal-Pipeline-/decorators_practice.ipynb#ch0000002?line=0'>1</a>\u001b[0m test \u001b[39m=\u001b[39m Power()\n",
      "\u001b[0;31mTypeError\u001b[0m: __init__() missing 1 required positional argument: 'arg'"
     ]
    }
   ],
   "source": [
    "test = Power()"
   ]
  },
  {
   "cell_type": "code",
   "execution_count": 15,
   "metadata": {},
   "outputs": [
    {
     "ename": "TypeError",
     "evalue": "'int' object is not callable",
     "output_type": "error",
     "traceback": [
      "\u001b[0;31m---------------------------------------------------------------------------\u001b[0m",
      "\u001b[0;31mTypeError\u001b[0m                                 Traceback (most recent call last)",
      "\u001b[1;32m/Users/ryanhughes/Desktop/Aicore/Property-Pal-Pipeline-/decorators_practice.ipynb Cell 4'\u001b[0m in \u001b[0;36m<cell line: 1>\u001b[0;34m()\u001b[0m\n\u001b[0;32m----> <a href='vscode-notebook-cell:/Users/ryanhughes/Desktop/Aicore/Property-Pal-Pipeline-/decorators_practice.ipynb#ch0000003?line=0'>1</a>\u001b[0m test\u001b[39m.\u001b[39;49m\u001b[39m__call__\u001b[39;49m(a\u001b[39m=\u001b[39;49m\u001b[39m2\u001b[39;49m,b\u001b[39m=\u001b[39;49m\u001b[39m1\u001b[39;49m)\n",
      "\u001b[1;32m/Users/ryanhughes/Desktop/Aicore/Property-Pal-Pipeline-/decorators_practice.ipynb Cell 1'\u001b[0m in \u001b[0;36mPower.__call__\u001b[0;34m(self, a, b)\u001b[0m\n\u001b[1;32m      <a href='vscode-notebook-cell:/Users/ryanhughes/Desktop/Aicore/Property-Pal-Pipeline-/decorators_practice.ipynb#ch0000000?line=4'>5</a>\u001b[0m \u001b[39mdef\u001b[39;00m \u001b[39m__call__\u001b[39m(\u001b[39mself\u001b[39m, a, b):\n\u001b[0;32m----> <a href='vscode-notebook-cell:/Users/ryanhughes/Desktop/Aicore/Property-Pal-Pipeline-/decorators_practice.ipynb#ch0000000?line=5'>6</a>\u001b[0m \tretval \u001b[39m=\u001b[39m \u001b[39mself\u001b[39;49m\u001b[39m.\u001b[39;49m_arg(a, b)\n\u001b[1;32m      <a href='vscode-notebook-cell:/Users/ryanhughes/Desktop/Aicore/Property-Pal-Pipeline-/decorators_practice.ipynb#ch0000000?line=6'>7</a>\u001b[0m \t\u001b[39mreturn\u001b[39;00m retval \u001b[39m*\u001b[39m\u001b[39m*\u001b[39m \u001b[39m2\u001b[39m\n",
      "\u001b[0;31mTypeError\u001b[0m: 'int' object is not callable"
     ]
    }
   ],
   "source": [
    "test.__call__(a=2,b=1)"
   ]
  },
  {
   "cell_type": "code",
   "execution_count": null,
   "metadata": {},
   "outputs": [],
   "source": []
  }
 ],
 "metadata": {
  "interpreter": {
   "hash": "7cff52bf4713bc310c3529dfa4c8f486705b7e68a3bc265f7e385d5cb49a4053"
  },
  "kernelspec": {
   "display_name": "Python 3.9.7 ('base')",
   "language": "python",
   "name": "python3"
  },
  "language_info": {
   "codemirror_mode": {
    "name": "ipython",
    "version": 3
   },
   "file_extension": ".py",
   "mimetype": "text/x-python",
   "name": "python",
   "nbconvert_exporter": "python",
   "pygments_lexer": "ipython3",
   "version": "3.9.7"
  },
  "orig_nbformat": 4
 },
 "nbformat": 4,
 "nbformat_minor": 2
}
