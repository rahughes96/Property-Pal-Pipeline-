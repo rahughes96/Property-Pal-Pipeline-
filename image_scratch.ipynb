{
 "cells": [
  {
   "cell_type": "code",
   "execution_count": 6,
   "metadata": {},
   "outputs": [],
   "source": [
    "import Property_Web_Scraper\n",
    "from Property_Web_Scraper import Scraper\n",
    "from Property_Web_Scraper import By"
   ]
  },
  {
   "cell_type": "code",
   "execution_count": 4,
   "metadata": {},
   "outputs": [
    {
     "name": "stdout",
     "output_type": "stream",
     "text": [
      "\n"
     ]
    },
    {
     "name": "stderr",
     "output_type": "stream",
     "text": [
      "[WDM] - ====== WebDriver manager ======\n",
      "[WDM] - Current google-chrome version is 103.0.5060\n",
      "[WDM] - Get LATEST chromedriver version for 103.0.5060 google-chrome\n",
      "[WDM] - Driver [/Users/ryanhughes/.wdm/drivers/chromedriver/mac64/103.0.5060.134/chromedriver] found in cache\n"
     ]
    }
   ],
   "source": [
    "bot = Scraper()"
   ]
  },
  {
   "cell_type": "code",
   "execution_count": 7,
   "metadata": {},
   "outputs": [],
   "source": [
    "img_list = []\n",
    "img_container = bot.driver.find_elements(By.XPATH, '//div[@class=\"Slideshow-slides SlideshowCarousel\"]//img')\n",
    "img_list += img_container"
   ]
  },
  {
   "cell_type": "code",
   "execution_count": 8,
   "metadata": {},
   "outputs": [
    {
     "data": {
      "text/plain": [
       "[<selenium.webdriver.remote.webelement.WebElement (session=\"9b7fabb9c07fdb4ac0a33e05d9a58fee\", element=\"8fe34605-7425-429c-9cad-08b258595e72\")>,\n",
       " <selenium.webdriver.remote.webelement.WebElement (session=\"9b7fabb9c07fdb4ac0a33e05d9a58fee\", element=\"dbaa56e7-09c3-40cc-894a-50daec07eb5a\")>,\n",
       " <selenium.webdriver.remote.webelement.WebElement (session=\"9b7fabb9c07fdb4ac0a33e05d9a58fee\", element=\"d68fd807-a1a9-41df-a3d4-393362aed3ec\")>,\n",
       " <selenium.webdriver.remote.webelement.WebElement (session=\"9b7fabb9c07fdb4ac0a33e05d9a58fee\", element=\"a78037b1-85a8-48f9-9faa-be7d7a8cf085\")>]"
      ]
     },
     "execution_count": 8,
     "metadata": {},
     "output_type": "execute_result"
    }
   ],
   "source": [
    "img_list"
   ]
  },
  {
   "cell_type": "code",
   "execution_count": 9,
   "metadata": {},
   "outputs": [],
   "source": [
    "img_links = []\n",
    "for img in img_list:\n",
    "    try:\n",
    "        link = img.get_attribute('src')\n",
    "        img_links.append(link)\n",
    "    except:\n",
    "        print('No src found')"
   ]
  },
  {
   "cell_type": "code",
   "execution_count": 10,
   "metadata": {},
   "outputs": [
    {
     "data": {
      "text/plain": [
       "['https://media.propertypal.com/sd/p/767449/32508355.jpg',\n",
       " 'https://media.propertypal.com/sd/p/767449/32508359.jpg',\n",
       " 'https://media.propertypal.com/sd/p/767449/32508361.jpg',\n",
       " 'https://media.propertypal.com/sd/p/767449/32508394.jpg']"
      ]
     },
     "execution_count": 10,
     "metadata": {},
     "output_type": "execute_result"
    }
   ],
   "source": [
    "img_links"
   ]
  },
  {
   "cell_type": "code",
   "execution_count": null,
   "metadata": {},
   "outputs": [],
   "source": []
  }
 ],
 "metadata": {
  "interpreter": {
   "hash": "abcb30ab7bc6104931a5f80423bb1c3e45bb903c802651b2eecdcc47e82e9fae"
  },
  "kernelspec": {
   "display_name": "Python 3.10.4 ('Selenium_demo')",
   "language": "python",
   "name": "python3"
  },
  "language_info": {
   "codemirror_mode": {
    "name": "ipython",
    "version": 3
   },
   "file_extension": ".py",
   "mimetype": "text/x-python",
   "name": "python",
   "nbconvert_exporter": "python",
   "pygments_lexer": "ipython3",
   "version": "3.10.4"
  },
  "orig_nbformat": 4
 },
 "nbformat": 4,
 "nbformat_minor": 2
}
