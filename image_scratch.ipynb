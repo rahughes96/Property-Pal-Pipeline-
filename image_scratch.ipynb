{
 "cells": [
  {
   "cell_type": "code",
   "execution_count": 12,
   "metadata": {},
   "outputs": [],
   "source": [
    "import Property_Web_Scraper\n",
    "from Property_Web_Scraper import Scraper\n",
    "from Property_Web_Scraper import By\n",
    "from Property_Web_Scraper import NoSuchElementException"
   ]
  },
  {
   "cell_type": "code",
   "execution_count": 4,
   "metadata": {},
   "outputs": [
    {
     "name": "stdout",
     "output_type": "stream",
     "text": [
      "\n"
     ]
    },
    {
     "name": "stderr",
     "output_type": "stream",
     "text": [
      "[WDM] - ====== WebDriver manager ======\n",
      "[WDM] - Current google-chrome version is 103.0.5060\n",
      "[WDM] - Get LATEST chromedriver version for 103.0.5060 google-chrome\n",
      "[WDM] - Driver [/Users/ryanhughes/.wdm/drivers/chromedriver/mac64/103.0.5060.134/chromedriver] found in cache\n"
     ]
    }
   ],
   "source": [
    "bot = Scraper()"
   ]
  },
  {
   "cell_type": "code",
   "execution_count": 7,
   "metadata": {},
   "outputs": [],
   "source": [
    "img_list = []\n",
    "img_container = bot.driver.find_elements(By.XPATH, '//div[@class=\"Slideshow-slides SlideshowCarousel\"]//img')\n",
    "img_list += img_container"
   ]
  },
  {
   "cell_type": "code",
   "execution_count": 8,
   "metadata": {},
   "outputs": [
    {
     "data": {
      "text/plain": [
       "[<selenium.webdriver.remote.webelement.WebElement (session=\"9b7fabb9c07fdb4ac0a33e05d9a58fee\", element=\"8fe34605-7425-429c-9cad-08b258595e72\")>,\n",
       " <selenium.webdriver.remote.webelement.WebElement (session=\"9b7fabb9c07fdb4ac0a33e05d9a58fee\", element=\"dbaa56e7-09c3-40cc-894a-50daec07eb5a\")>,\n",
       " <selenium.webdriver.remote.webelement.WebElement (session=\"9b7fabb9c07fdb4ac0a33e05d9a58fee\", element=\"d68fd807-a1a9-41df-a3d4-393362aed3ec\")>,\n",
       " <selenium.webdriver.remote.webelement.WebElement (session=\"9b7fabb9c07fdb4ac0a33e05d9a58fee\", element=\"a78037b1-85a8-48f9-9faa-be7d7a8cf085\")>]"
      ]
     },
     "execution_count": 8,
     "metadata": {},
     "output_type": "execute_result"
    }
   ],
   "source": [
    "img_list"
   ]
  },
  {
   "cell_type": "code",
   "execution_count": 9,
   "metadata": {},
   "outputs": [],
   "source": [
    "img_links = []\n",
    "for img in img_list:\n",
    "    try:\n",
    "        link = img.get_attribute('src')\n",
    "        img_links.append(link)\n",
    "    except:\n",
    "        print('No src found')"
   ]
  },
  {
   "cell_type": "code",
   "execution_count": 10,
   "metadata": {},
   "outputs": [
    {
     "data": {
      "text/plain": [
       "['https://media.propertypal.com/sd/p/767449/32508355.jpg',\n",
       " 'https://media.propertypal.com/sd/p/767449/32508359.jpg',\n",
       " 'https://media.propertypal.com/sd/p/767449/32508361.jpg',\n",
       " 'https://media.propertypal.com/sd/p/767449/32508394.jpg']"
      ]
     },
     "execution_count": 10,
     "metadata": {},
     "output_type": "execute_result"
    }
   ],
   "source": [
    "img_links"
   ]
  },
  {
   "cell_type": "code",
   "execution_count": 11,
   "metadata": {},
   "outputs": [
    {
     "name": "stdout",
     "output_type": "stream",
     "text": [
      "\n"
     ]
    },
    {
     "name": "stderr",
     "output_type": "stream",
     "text": [
      "[WDM] - ====== WebDriver manager ======\n",
      "[WDM] - Current google-chrome version is 103.0.5060\n",
      "[WDM] - Get LATEST chromedriver version for 103.0.5060 google-chrome\n",
      "[WDM] - Driver [/Users/ryanhughes/.wdm/drivers/chromedriver/mac64/103.0.5060.134/chromedriver] found in cache\n"
     ]
    }
   ],
   "source": [
    "bot = Scraper()"
   ]
  },
  {
   "cell_type": "code",
   "execution_count": 24,
   "metadata": {},
   "outputs": [
    {
     "name": "stdout",
     "output_type": "stream",
     "text": [
      "end of pages\n"
     ]
    },
    {
     "ename": "StaleElementReferenceException",
     "evalue": "Message: stale element reference: element is not attached to the page document\n  (Session info: chrome=103.0.5060.134)\nStacktrace:\n0   chromedriver                        0x0000000102cf2ef9 chromedriver + 4480761\n1   chromedriver                        0x0000000102c7e5d3 chromedriver + 4003283\n2   chromedriver                        0x0000000102911338 chromedriver + 410424\n3   chromedriver                        0x00000001029141e7 chromedriver + 422375\n4   chromedriver                        0x0000000102914086 chromedriver + 422022\n5   chromedriver                        0x000000010291434c chromedriver + 422732\n6   chromedriver                        0x0000000102947395 chromedriver + 631701\n7   chromedriver                        0x0000000102947841 chromedriver + 632897\n8   chromedriver                        0x000000010293c2b7 chromedriver + 586423\n9   chromedriver                        0x0000000102964a8d chromedriver + 752269\n10  chromedriver                        0x000000010293c1f5 chromedriver + 586229\n11  chromedriver                        0x0000000102964b6e chromedriver + 752494\n12  chromedriver                        0x00000001029774f1 chromedriver + 828657\n13  chromedriver                        0x0000000102964953 chromedriver + 751955\n14  chromedriver                        0x000000010293acd5 chromedriver + 580821\n15  chromedriver                        0x000000010293bd25 chromedriver + 584997\n16  chromedriver                        0x0000000102cc402d chromedriver + 4288557\n17  chromedriver                        0x0000000102cc91b3 chromedriver + 4309427\n18  chromedriver                        0x0000000102cce23f chromedriver + 4330047\n19  chromedriver                        0x0000000102cc9dfa chromedriver + 4312570\n20  chromedriver                        0x0000000102ca2fef chromedriver + 4153327\n21  chromedriver                        0x0000000102ce3d78 chromedriver + 4418936\n22  chromedriver                        0x0000000102ce3eff chromedriver + 4419327\n23  chromedriver                        0x0000000102cfaab5 chromedriver + 4512437\n24  libsystem_pthread.dylib             0x00007ff81ce834f4 _pthread_start + 125\n25  libsystem_pthread.dylib             0x00007ff81ce7f00f thread_start + 15\n",
     "output_type": "error",
     "traceback": [
      "\u001b[0;31m---------------------------------------------------------------------------\u001b[0m",
      "\u001b[0;31mStaleElementReferenceException\u001b[0m            Traceback (most recent call last)",
      "\u001b[1;32m/Users/ryanhughes/Desktop/Aicore/Property-Pal-Pipeline-/image_scratch.ipynb Cell 8'\u001b[0m in \u001b[0;36m<cell line: 15>\u001b[0;34m()\u001b[0m\n\u001b[1;32m     <a href='vscode-notebook-cell:/Users/ryanhughes/Desktop/Aicore/Property-Pal-Pipeline-/image_scratch.ipynb#ch0000006?line=13'>14</a>\u001b[0m list_links\u001b[39m=\u001b[39m[]\n\u001b[1;32m     <a href='vscode-notebook-cell:/Users/ryanhughes/Desktop/Aicore/Property-Pal-Pipeline-/image_scratch.ipynb#ch0000006?line=14'>15</a>\u001b[0m \u001b[39mfor\u001b[39;00m link_element \u001b[39min\u001b[39;00m link_container:\n\u001b[0;32m---> <a href='vscode-notebook-cell:/Users/ryanhughes/Desktop/Aicore/Property-Pal-Pipeline-/image_scratch.ipynb#ch0000006?line=16'>17</a>\u001b[0m     link_location \u001b[39m=\u001b[39m link_element\u001b[39m.\u001b[39;49mfind_element(By\u001b[39m.\u001b[39;49mXPATH, \u001b[39m'\u001b[39;49m\u001b[39m.//[a]\u001b[39;49m\u001b[39m'\u001b[39;49m)\n\u001b[1;32m     <a href='vscode-notebook-cell:/Users/ryanhughes/Desktop/Aicore/Property-Pal-Pipeline-/image_scratch.ipynb#ch0000006?line=17'>18</a>\u001b[0m     link \u001b[39m=\u001b[39m link_location\u001b[39m.\u001b[39mget_attribute(\u001b[39m'\u001b[39m\u001b[39mhref\u001b[39m\u001b[39m'\u001b[39m)\n\u001b[1;32m     <a href='vscode-notebook-cell:/Users/ryanhughes/Desktop/Aicore/Property-Pal-Pipeline-/image_scratch.ipynb#ch0000006?line=18'>19</a>\u001b[0m     list_links\u001b[39m.\u001b[39mappend(link)\n",
      "File \u001b[0;32m~/opt/miniconda3/envs/Selenium_demo/lib/python3.10/site-packages/selenium/webdriver/remote/webelement.py:796\u001b[0m, in \u001b[0;36mWebElement.find_element\u001b[0;34m(self, by, value)\u001b[0m\n\u001b[1;32m    <a href='file:///Users/ryanhughes/opt/miniconda3/envs/Selenium_demo/lib/python3.10/site-packages/selenium/webdriver/remote/webelement.py?line=792'>793</a>\u001b[0m     by \u001b[39m=\u001b[39m By\u001b[39m.\u001b[39mCSS_SELECTOR\n\u001b[1;32m    <a href='file:///Users/ryanhughes/opt/miniconda3/envs/Selenium_demo/lib/python3.10/site-packages/selenium/webdriver/remote/webelement.py?line=793'>794</a>\u001b[0m     value \u001b[39m=\u001b[39m \u001b[39m'\u001b[39m\u001b[39m[name=\u001b[39m\u001b[39m\"\u001b[39m\u001b[39m%s\u001b[39;00m\u001b[39m\"\u001b[39m\u001b[39m]\u001b[39m\u001b[39m'\u001b[39m \u001b[39m%\u001b[39m value\n\u001b[0;32m--> <a href='file:///Users/ryanhughes/opt/miniconda3/envs/Selenium_demo/lib/python3.10/site-packages/selenium/webdriver/remote/webelement.py?line=795'>796</a>\u001b[0m \u001b[39mreturn\u001b[39;00m \u001b[39mself\u001b[39;49m\u001b[39m.\u001b[39;49m_execute(Command\u001b[39m.\u001b[39;49mFIND_CHILD_ELEMENT,\n\u001b[1;32m    <a href='file:///Users/ryanhughes/opt/miniconda3/envs/Selenium_demo/lib/python3.10/site-packages/selenium/webdriver/remote/webelement.py?line=796'>797</a>\u001b[0m                      {\u001b[39m\"\u001b[39;49m\u001b[39musing\u001b[39;49m\u001b[39m\"\u001b[39;49m: by, \u001b[39m\"\u001b[39;49m\u001b[39mvalue\u001b[39;49m\u001b[39m\"\u001b[39;49m: value})[\u001b[39m'\u001b[39m\u001b[39mvalue\u001b[39m\u001b[39m'\u001b[39m]\n",
      "File \u001b[0;32m~/opt/miniconda3/envs/Selenium_demo/lib/python3.10/site-packages/selenium/webdriver/remote/webelement.py:773\u001b[0m, in \u001b[0;36mWebElement._execute\u001b[0;34m(self, command, params)\u001b[0m\n\u001b[1;32m    <a href='file:///Users/ryanhughes/opt/miniconda3/envs/Selenium_demo/lib/python3.10/site-packages/selenium/webdriver/remote/webelement.py?line=770'>771</a>\u001b[0m     params \u001b[39m=\u001b[39m {}\n\u001b[1;32m    <a href='file:///Users/ryanhughes/opt/miniconda3/envs/Selenium_demo/lib/python3.10/site-packages/selenium/webdriver/remote/webelement.py?line=771'>772</a>\u001b[0m params[\u001b[39m'\u001b[39m\u001b[39mid\u001b[39m\u001b[39m'\u001b[39m] \u001b[39m=\u001b[39m \u001b[39mself\u001b[39m\u001b[39m.\u001b[39m_id\n\u001b[0;32m--> <a href='file:///Users/ryanhughes/opt/miniconda3/envs/Selenium_demo/lib/python3.10/site-packages/selenium/webdriver/remote/webelement.py?line=772'>773</a>\u001b[0m \u001b[39mreturn\u001b[39;00m \u001b[39mself\u001b[39;49m\u001b[39m.\u001b[39;49m_parent\u001b[39m.\u001b[39;49mexecute(command, params)\n",
      "File \u001b[0;32m~/opt/miniconda3/envs/Selenium_demo/lib/python3.10/site-packages/selenium/webdriver/remote/webdriver.py:430\u001b[0m, in \u001b[0;36mWebDriver.execute\u001b[0;34m(self, driver_command, params)\u001b[0m\n\u001b[1;32m    <a href='file:///Users/ryanhughes/opt/miniconda3/envs/Selenium_demo/lib/python3.10/site-packages/selenium/webdriver/remote/webdriver.py?line=427'>428</a>\u001b[0m response \u001b[39m=\u001b[39m \u001b[39mself\u001b[39m\u001b[39m.\u001b[39mcommand_executor\u001b[39m.\u001b[39mexecute(driver_command, params)\n\u001b[1;32m    <a href='file:///Users/ryanhughes/opt/miniconda3/envs/Selenium_demo/lib/python3.10/site-packages/selenium/webdriver/remote/webdriver.py?line=428'>429</a>\u001b[0m \u001b[39mif\u001b[39;00m response:\n\u001b[0;32m--> <a href='file:///Users/ryanhughes/opt/miniconda3/envs/Selenium_demo/lib/python3.10/site-packages/selenium/webdriver/remote/webdriver.py?line=429'>430</a>\u001b[0m     \u001b[39mself\u001b[39;49m\u001b[39m.\u001b[39;49merror_handler\u001b[39m.\u001b[39;49mcheck_response(response)\n\u001b[1;32m    <a href='file:///Users/ryanhughes/opt/miniconda3/envs/Selenium_demo/lib/python3.10/site-packages/selenium/webdriver/remote/webdriver.py?line=430'>431</a>\u001b[0m     response[\u001b[39m'\u001b[39m\u001b[39mvalue\u001b[39m\u001b[39m'\u001b[39m] \u001b[39m=\u001b[39m \u001b[39mself\u001b[39m\u001b[39m.\u001b[39m_unwrap_value(\n\u001b[1;32m    <a href='file:///Users/ryanhughes/opt/miniconda3/envs/Selenium_demo/lib/python3.10/site-packages/selenium/webdriver/remote/webdriver.py?line=431'>432</a>\u001b[0m         response\u001b[39m.\u001b[39mget(\u001b[39m'\u001b[39m\u001b[39mvalue\u001b[39m\u001b[39m'\u001b[39m, \u001b[39mNone\u001b[39;00m))\n\u001b[1;32m    <a href='file:///Users/ryanhughes/opt/miniconda3/envs/Selenium_demo/lib/python3.10/site-packages/selenium/webdriver/remote/webdriver.py?line=432'>433</a>\u001b[0m     \u001b[39mreturn\u001b[39;00m response\n",
      "File \u001b[0;32m~/opt/miniconda3/envs/Selenium_demo/lib/python3.10/site-packages/selenium/webdriver/remote/errorhandler.py:247\u001b[0m, in \u001b[0;36mErrorHandler.check_response\u001b[0;34m(self, response)\u001b[0m\n\u001b[1;32m    <a href='file:///Users/ryanhughes/opt/miniconda3/envs/Selenium_demo/lib/python3.10/site-packages/selenium/webdriver/remote/errorhandler.py?line=244'>245</a>\u001b[0m         alert_text \u001b[39m=\u001b[39m value[\u001b[39m'\u001b[39m\u001b[39malert\u001b[39m\u001b[39m'\u001b[39m]\u001b[39m.\u001b[39mget(\u001b[39m'\u001b[39m\u001b[39mtext\u001b[39m\u001b[39m'\u001b[39m)\n\u001b[1;32m    <a href='file:///Users/ryanhughes/opt/miniconda3/envs/Selenium_demo/lib/python3.10/site-packages/selenium/webdriver/remote/errorhandler.py?line=245'>246</a>\u001b[0m     \u001b[39mraise\u001b[39;00m exception_class(message, screen, stacktrace, alert_text)  \u001b[39m# type: ignore[call-arg]  # mypy is not smart enough here\u001b[39;00m\n\u001b[0;32m--> <a href='file:///Users/ryanhughes/opt/miniconda3/envs/Selenium_demo/lib/python3.10/site-packages/selenium/webdriver/remote/errorhandler.py?line=246'>247</a>\u001b[0m \u001b[39mraise\u001b[39;00m exception_class(message, screen, stacktrace)\n",
      "\u001b[0;31mStaleElementReferenceException\u001b[0m: Message: stale element reference: element is not attached to the page document\n  (Session info: chrome=103.0.5060.134)\nStacktrace:\n0   chromedriver                        0x0000000102cf2ef9 chromedriver + 4480761\n1   chromedriver                        0x0000000102c7e5d3 chromedriver + 4003283\n2   chromedriver                        0x0000000102911338 chromedriver + 410424\n3   chromedriver                        0x00000001029141e7 chromedriver + 422375\n4   chromedriver                        0x0000000102914086 chromedriver + 422022\n5   chromedriver                        0x000000010291434c chromedriver + 422732\n6   chromedriver                        0x0000000102947395 chromedriver + 631701\n7   chromedriver                        0x0000000102947841 chromedriver + 632897\n8   chromedriver                        0x000000010293c2b7 chromedriver + 586423\n9   chromedriver                        0x0000000102964a8d chromedriver + 752269\n10  chromedriver                        0x000000010293c1f5 chromedriver + 586229\n11  chromedriver                        0x0000000102964b6e chromedriver + 752494\n12  chromedriver                        0x00000001029774f1 chromedriver + 828657\n13  chromedriver                        0x0000000102964953 chromedriver + 751955\n14  chromedriver                        0x000000010293acd5 chromedriver + 580821\n15  chromedriver                        0x000000010293bd25 chromedriver + 584997\n16  chromedriver                        0x0000000102cc402d chromedriver + 4288557\n17  chromedriver                        0x0000000102cc91b3 chromedriver + 4309427\n18  chromedriver                        0x0000000102cce23f chromedriver + 4330047\n19  chromedriver                        0x0000000102cc9dfa chromedriver + 4312570\n20  chromedriver                        0x0000000102ca2fef chromedriver + 4153327\n21  chromedriver                        0x0000000102ce3d78 chromedriver + 4418936\n22  chromedriver                        0x0000000102ce3eff chromedriver + 4419327\n23  chromedriver                        0x0000000102cfaab5 chromedriver + 4512437\n24  libsystem_pthread.dylib             0x00007ff81ce834f4 _pthread_start + 125\n25  libsystem_pthread.dylib             0x00007ff81ce7f00f thread_start + 15\n"
     ]
    }
   ],
   "source": [
    "link_container = []\n",
    "container_holder = []\n",
    "while True:\n",
    "    container_holder = []\n",
    "    container = bot.find_container()\n",
    "    container_holder = container.find_elements(By.XPATH, './li')\n",
    "    link_container += container_holder\n",
    "    try:\n",
    "        bot.button_click('//a[@class=\"btn paging-next\"]')\n",
    "    except NoSuchElementException:\n",
    "        print(\"end of pages\")\n",
    "        break    \n",
    "    \n",
    "list_links=[]\n",
    "for link_element in link_container:\n",
    "\n",
    "    link_location = link_element.find_element(By.XPATH, './/[a]')\n",
    "    link = link_location.get_attribute('href')\n",
    "    list_links.append(link)\n",
    "\n",
    "        "
   ]
  },
  {
   "cell_type": "code",
   "execution_count": 23,
   "metadata": {},
   "outputs": [
    {
     "data": {
      "text/plain": [
       "[<selenium.webdriver.remote.webelement.WebElement (session=\"75ee666134d96302626f79acc73c68a3\", element=\"833ea2aa-d6e6-4293-9215-f0b5fd332a37\")>,\n",
       " <selenium.webdriver.remote.webelement.WebElement (session=\"75ee666134d96302626f79acc73c68a3\", element=\"910f1f95-d165-4be6-a7c7-db0d09a18094\")>,\n",
       " <selenium.webdriver.remote.webelement.WebElement (session=\"75ee666134d96302626f79acc73c68a3\", element=\"ebb695db-8b14-4d16-a500-bf08f6b76a8b\")>,\n",
       " <selenium.webdriver.remote.webelement.WebElement (session=\"75ee666134d96302626f79acc73c68a3\", element=\"d9f374a2-ab87-47fc-a1ef-40a4729f2360\")>,\n",
       " <selenium.webdriver.remote.webelement.WebElement (session=\"75ee666134d96302626f79acc73c68a3\", element=\"b0c774b9-f9e6-4a08-82f7-9a6edfd3f637\")>,\n",
       " <selenium.webdriver.remote.webelement.WebElement (session=\"75ee666134d96302626f79acc73c68a3\", element=\"dd7163ee-15a5-4a42-a883-4c06182235b5\")>,\n",
       " <selenium.webdriver.remote.webelement.WebElement (session=\"75ee666134d96302626f79acc73c68a3\", element=\"0c908116-3048-420d-b2c1-a137b6712698\")>,\n",
       " <selenium.webdriver.remote.webelement.WebElement (session=\"75ee666134d96302626f79acc73c68a3\", element=\"9d4e2845-8a0f-412e-9f95-93e3ffe6002b\")>,\n",
       " <selenium.webdriver.remote.webelement.WebElement (session=\"75ee666134d96302626f79acc73c68a3\", element=\"59f29f05-c9b6-4a2f-aea1-6c5f3fa5741c\")>,\n",
       " <selenium.webdriver.remote.webelement.WebElement (session=\"75ee666134d96302626f79acc73c68a3\", element=\"b445bd6c-9649-45d7-94a4-b45868ed5567\")>,\n",
       " <selenium.webdriver.remote.webelement.WebElement (session=\"75ee666134d96302626f79acc73c68a3\", element=\"20cffae7-37af-4661-a0a3-7bf59f332a13\")>,\n",
       " <selenium.webdriver.remote.webelement.WebElement (session=\"75ee666134d96302626f79acc73c68a3\", element=\"e1887dba-1932-4559-a699-d9a753fc1d89\")>,\n",
       " <selenium.webdriver.remote.webelement.WebElement (session=\"75ee666134d96302626f79acc73c68a3\", element=\"d5674350-e9dc-4f1d-a291-73394955791c\")>,\n",
       " <selenium.webdriver.remote.webelement.WebElement (session=\"75ee666134d96302626f79acc73c68a3\", element=\"053ac369-e6bc-40cf-823d-337aba51d0ee\")>,\n",
       " <selenium.webdriver.remote.webelement.WebElement (session=\"75ee666134d96302626f79acc73c68a3\", element=\"b26ab310-aecf-4313-a3cb-7e37b36d8060\")>,\n",
       " <selenium.webdriver.remote.webelement.WebElement (session=\"75ee666134d96302626f79acc73c68a3\", element=\"b3cb030b-17fc-4720-b26b-fb7d4534d050\")>,\n",
       " <selenium.webdriver.remote.webelement.WebElement (session=\"75ee666134d96302626f79acc73c68a3\", element=\"97752a9b-8873-4490-93a7-2b05cd859532\")>,\n",
       " <selenium.webdriver.remote.webelement.WebElement (session=\"75ee666134d96302626f79acc73c68a3\", element=\"599e4316-8df0-4a27-8305-46150645f052\")>,\n",
       " <selenium.webdriver.remote.webelement.WebElement (session=\"75ee666134d96302626f79acc73c68a3\", element=\"1b5cbdab-1fed-4ef1-9a26-9acf2127d028\")>,\n",
       " <selenium.webdriver.remote.webelement.WebElement (session=\"75ee666134d96302626f79acc73c68a3\", element=\"f234dfbc-540b-4eaa-b15b-3a137ec83a93\")>,\n",
       " <selenium.webdriver.remote.webelement.WebElement (session=\"75ee666134d96302626f79acc73c68a3\", element=\"5ae44d04-4a35-418d-af20-ef76786ef919\")>,\n",
       " <selenium.webdriver.remote.webelement.WebElement (session=\"75ee666134d96302626f79acc73c68a3\", element=\"3f7c1ea1-40cb-4fa0-89ef-cd2038df732d\")>,\n",
       " <selenium.webdriver.remote.webelement.WebElement (session=\"75ee666134d96302626f79acc73c68a3\", element=\"0f78415a-8970-4cdd-b835-fbcbf1e0af4c\")>,\n",
       " <selenium.webdriver.remote.webelement.WebElement (session=\"75ee666134d96302626f79acc73c68a3\", element=\"11cbadc3-971c-4fa2-ae39-69522c1f8ed4\")>,\n",
       " <selenium.webdriver.remote.webelement.WebElement (session=\"75ee666134d96302626f79acc73c68a3\", element=\"93d2cb2d-59a5-416b-a728-6df3486e18e1\")>,\n",
       " <selenium.webdriver.remote.webelement.WebElement (session=\"75ee666134d96302626f79acc73c68a3\", element=\"48660e8a-176b-44d0-8c18-f54b55508cc7\")>,\n",
       " <selenium.webdriver.remote.webelement.WebElement (session=\"75ee666134d96302626f79acc73c68a3\", element=\"1eebb747-8c6b-4234-a921-3cdbae3fe16c\")>]"
      ]
     },
     "execution_count": 23,
     "metadata": {},
     "output_type": "execute_result"
    }
   ],
   "source": [
    "link_container"
   ]
  },
  {
   "cell_type": "code",
   "execution_count": 25,
   "metadata": {},
   "outputs": [
    {
     "name": "stdout",
     "output_type": "stream",
     "text": [
      "Finding elements...\n",
      "no href found\n",
      "no href found\n",
      "no href found\n",
      "end of list\n"
     ]
    }
   ],
   "source": [
    "    list_links = []\n",
    "    print(\"Finding elements...\")\n",
    "    while True:\n",
    "        container = bot.find_container()\n",
    "        items = container.find_elements(By.XPATH, './li')\n",
    "        for i in items:\n",
    "            try:\n",
    "                house = i.find_element(By.XPATH, './/a[2]')\n",
    "                link = house.get_attribute('href')\n",
    "                list_links.append(link)\n",
    "            except:\n",
    "                print(\"no href found\")\n",
    "        \n",
    "        try:\n",
    "            bot.button_click('//a[@class=\"btn paging-next\"]')\n",
    "        except NoSuchElementException:\n",
    "            print(\"end of list\")\n",
    "            break"
   ]
  },
  {
   "cell_type": "code",
   "execution_count": 26,
   "metadata": {},
   "outputs": [
    {
     "data": {
      "text/plain": [
       "['https://www.propertypal.com/apt-14-150-larkfield-road-belfast/768940',\n",
       " 'https://www.propertypal.com/27-garnerville-road-belfast/768910',\n",
       " 'https://www.propertypal.com/57-victoria-road-sydenham-belfast/768648',\n",
       " 'https://www.propertypal.com/apt-2-3-park-avenue-heights-belfast/768598',\n",
       " 'https://www.propertypal.com/28-parkgate-crescent-belfast/768346',\n",
       " 'https://www.propertypal.com/apartment-2-556-upper-newtownards-road-belfast/768044',\n",
       " 'https://www.propertypal.com/12-inverary-wood-belfast/768013',\n",
       " 'https://www.propertypal.com/68-belmont-avenue-belfast/356006',\n",
       " 'https://www.propertypal.com/19-aston-gardens-ballyhackamore-belfast/767775',\n",
       " 'https://www.propertypal.com/127-castlehill-road-belfast/767763',\n",
       " 'https://www.propertypal.com/apt-9-39-dundela-crescent-belfast/767651',\n",
       " 'https://www.propertypal.com/21-victoria-avenue-belfast/767523',\n",
       " 'https://www.propertypal.com/apt-1-223d-belmont-road-belfast/548636',\n",
       " 'https://www.propertypal.com/229-park-avenue-belfast/765499',\n",
       " 'https://www.propertypal.com/9-pims-avenue-belfast/765427',\n",
       " 'https://www.propertypal.com/apt-3-goldstone-hall-belfast/765358',\n",
       " 'https://www.propertypal.com/53-upper-newtownards-road-belfast/765329',\n",
       " 'https://www.propertypal.com/40-norwood-avenue-belfast/765201',\n",
       " 'https://www.propertypal.com/apartment-3-40-station-road-belfast/764434',\n",
       " 'https://www.propertypal.com/79-upper-newtownards-road-belfast/730603',\n",
       " 'https://www.propertypal.com/73-upper-newtownards-road-apt-3-ballyhackamore-belfast/761430',\n",
       " 'https://www.propertypal.com/9-larkfield-grove-sydenham-belfast/759461',\n",
       " 'https://www.propertypal.com/85-upper-newtownards-road-room-5-belfast/606480',\n",
       " 'https://www.propertypal.com/apt-a-5-eastleigh-drive-ballyhackamore-belfast/746507']"
      ]
     },
     "execution_count": 26,
     "metadata": {},
     "output_type": "execute_result"
    }
   ],
   "source": [
    "list_links"
   ]
  },
  {
   "cell_type": "code",
   "execution_count": null,
   "metadata": {},
   "outputs": [],
   "source": []
  }
 ],
 "metadata": {
  "interpreter": {
   "hash": "abcb30ab7bc6104931a5f80423bb1c3e45bb903c802651b2eecdcc47e82e9fae"
  },
  "kernelspec": {
   "display_name": "Python 3.10.4 ('Selenium_demo')",
   "language": "python",
   "name": "python3"
  },
  "language_info": {
   "codemirror_mode": {
    "name": "ipython",
    "version": 3
   },
   "file_extension": ".py",
   "mimetype": "text/x-python",
   "name": "python",
   "nbconvert_exporter": "python",
   "pygments_lexer": "ipython3",
   "version": "3.10.4"
  },
  "orig_nbformat": 4
 },
 "nbformat": 4,
 "nbformat_minor": 2
}
