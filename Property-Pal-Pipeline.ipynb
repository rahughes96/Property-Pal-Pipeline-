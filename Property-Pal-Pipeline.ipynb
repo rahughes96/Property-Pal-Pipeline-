{
 "cells": [
  {
   "cell_type": "code",
   "execution_count": 1,
   "metadata": {},
   "outputs": [
    {
     "name": "stdout",
     "output_type": "stream",
     "text": [
      "<!DOCTYPE html>\n",
      "<html lang=\"en-US\">\n",
      "<head>\n",
      "<title>Access denied</title>\n",
      "<meta http-equiv=\"X-UA-Compatible\" content=\"IE=Edge\" />\n",
      "<meta name=\"robots\" content=\"noindex, nofollow\" />\n",
      "<meta name=\"viewport\" content=\"width=device-width,initial-scale=1\" />\n",
      "<link rel=\"stylesheet\" href=\"/cdn-cgi/styles/errors.new.min.css\" media=\"screen\" />\n",
      "<script>\n",
      "(function(){if(document.addEventListener&&window.XMLHttpRequest&&JSON&&JSON.stringify){var e=function(a){var c=document.getElementById(\"error-feedback-survey\"),d=document.getElementById(\"error-feedback-success\"),b=new XMLHttpRequest;a={event:\"feedback clicked\",properties:{errorCode:1020,helpful:a,version:3}};b.open(\"POST\",\"https://sparrow.cloudflare.com/api/v1/event\");b.setRequestHeader(\"Content-Type\",\"application/json\");b.setRequestHeader(\"Sparrow-Source-Key\",\"c771f0e4b54944bebf4261d44bd79a1e\");\n",
      "b.send(JSON.stringify(a));c.classList.add(\"feedback-hidden\");d.classList.remove(\"feedback-hidden\")};document.addEventListener(\"DOMContentLoaded\",function(){var a=document.getElementById(\"error-feedback\"),c=document.getElementById(\"feedback-button-yes\"),d=document.getElementById(\"feedback-button-no\");\"classList\"in a&&(a.classList.remove(\"feedback-hidden\"),c.addEventListener(\"click\",function(){e(!0)}),d.addEventListener(\"click\",function(){e(!1)}))})}})();\n",
      "</script>\n",
      "<script>\n",
      "         (function(){if(document.addEventListener){var c=function(){var b=document.getElementById(\"copy-label\");document.getElementById(\"plain-ray-id\");if(navigator.clipboard)navigator.clipboard.writeText(\"726a572b79f976b9\");else{var a=document.createElement(\"textarea\");a.value=\"726a572b79f976b9\";a.style.top=\"0\";a.style.left=\"0\";a.style.position=\"fixed\";document.body.appendChild(a);a.focus();a.select();document.execCommand(\"copy\");document.body.removeChild(a)}b.innerText=\"Copied\"};document.addEventListener(\"DOMContentLoaded\",\n",
      "function(){var b=document.getElementById(\"plain-ray-id\"),a=document.getElementById(\"click-to-copy-btn\");\"classList\"in b&&(b.classList.add(\"hidden\"),a.classList.remove(\"hidden\"),a.addEventListener(\"click\",c))})}})();\n",
      "      </script>\n",
      "<script defer src=\"https://performance.radar.cloudflare.com/beacon.js\"></script>\n",
      "</head>\n",
      "<body>\n",
      "<div class=\"main-wrapper\" role=\"main\">\n",
      "<div class=\"header section\">\n",
      "<h1>\n",
      "<span class=\"error-description\">Access denied</span>\n",
      "<span class=\"code-label\">Error code <span>1020</span></span>\n",
      "</h1>\n",
      "<div class=\"large-font\">\n",
      "<p>You do not have access to www.propertypal.com.</p><p>The site owner may have set restrictions that prevent you from accessing the site. Contact the site owner for access or try loading the page again.</p>\n",
      "</div>\n",
      "</div>\n",
      "</div>\n",
      "<div>\n",
      "<div class=\"clearfix section\">\n",
      "<div class=\"column know-more\">\n",
      "<h2 class=\"large-font\">Additional information</h2>\n",
      "<p>The access policies of a site define which visits are allowed. Your current visit is not allowed according to those policies.</p><p>Only the site owner can change site access policies.</p>\n",
      "</div>\n",
      "<div class=\"column know-more\">\n",
      "<h2 class=\"large-font\">I am the site owner</h2>\n",
      "<p class=\"ray-id-wrapper\">\n",
      "Ray ID:\n",
      "<span class=\"plain-ray-id\" id=\"plain-ray-id\">\n",
      "726a572b79f976b9\n",
      "</span>\n",
      "<button class=\"click-to-copy-btn hidden\" id=\"click-to-copy-btn\" title=\"Click to copy Ray ID\" type=\"button\">\n",
      "<span class=\"ray-id\">726a572b79f976b9</span><span class=\"copy-label\" id=\"copy-label\">Copy</span>\n",
      "</button>\n",
      "</p>\n",
      "<ol>\n",
      "<li>\n",
      "Search the\n",
      "<a rel=\"noopener noreferrer\" href=\"https://dash.cloudflare.com/?to=/:account/:zone/firewall\" target=\"_blank\">Firewall Events Log</a>\n",
      "<img class=\"external-link\" title=\"Opens in new tab\" src=\"/cdn-cgi/images/external.png\" alt=\"External link\">\n",
      "for the above Ray ID.\n",
      "</li>\n",
      "<li>Examine and assess the details of the access policy.</li>\n",
      "</ol>\n",
      "<br>\n",
      "<a rel=\"noopener noreferrer\" href=\"https://support.cloudflare.com/hc/articles/360029779472-Troubleshooting-Cloudflare-1XXX-errors#error1020\" target=\"_blank\">Troubleshooting guide</a>\n",
      "<img class=\"external-link\" title=\"Opens in new tab\" src=\"/cdn-cgi/images/external.png\" alt=\"External link\">\n",
      "</div>\n",
      "</div>\n",
      "<div class=\"clearfix footer section\" role=\"contentinfo\">\n",
      "<div class=\"column\">\n",
      "<div class=\"feedback-hidden py-8 text-center\" id=\"error-feedback\">\n",
      "<div id=\"error-feedback-survey\" class=\"footer-line-wrapper\">\n",
      "Was this page helpful?\n",
      "<button class=\"border border-solid bg-white cf-button cursor-pointer ml-4 px-4 py-2 rounded\" id=\"feedback-button-yes\" type=\"button\">Yes</button>\n",
      "<button class=\"border border-solid bg-white cf-button cursor-pointer ml-4 px-4 py-2 rounded\" id=\"feedback-button-no\" type=\"button\">No</button>\n",
      "</div>\n",
      "<div class=\"feedback-success feedback-hidden\" id=\"error-feedback-success\">\n",
      "Thank you for your feedback!\n",
      "</div>\n",
      "</div>\n",
      "</div>\n",
      "<div class=\"column footer-line-wrapper text-center\">\n",
      "Performance &amp; security by <a rel=\"noopener noreferrer\" href=\"https://www.cloudflare.com\" target=\"_blank\">Cloudflare</a>\n",
      "<img class=\"external-link\" title=\"Opens in new tab\" src=\"/cdn-cgi/images/external.png\" alt=\"External link\">\n",
      "</div>\n",
      "</div>\n",
      "</div>\n",
      "<script>(function(){var js = \"window['__CF$cv$params']={r:'726a572b79f976b9',m:'rm6ynT4h5Bl.K6kiK5bWPIY35KdNSjNgmYX_bjRAQBM-1657131480-0-AQC6PofYinPErvIYtd/flwBMDLM9FyaaW0lRFZhi7Yih5iiaO10UfS2OLeCYw7s3QslHYkNLIDqBZb3HclLXui0ZsFOshhLya5szOKtR2yme2OIYwUQybklkOANbpiY9OQ==',s:[0x8a673aef33,0xfbba8645da],u:'/cdn-cgi/challenge-platform/h/g'};var now=Date.now()/1000,offset=14400,ts=''+(Math.floor(now)-Math.floor(now%offset)),_cpo=document.createElement('script');_cpo.nonce='',_cpo.src='/cdn-cgi/challenge-platform/h/g/scripts/alpha/invisible.js?ts='+ts,document.getElementsByTagName('head')[0].appendChild(_cpo);\";var _0xh = document.createElement('iframe');_0xh.height = 1;_0xh.width = 1;_0xh.style.border = 'none';_0xh.style.visibility = 'hidden';document.body.appendChild(_0xh);function handler() {var _0xi = _0xh.contentDocument || _0xh.contentWindow.document;if (_0xi) {var _0xj = _0xi.createElement('script');_0xj.innerHTML = js;_0xi.getElementsByTagName('head')[0].appendChild(_0xj);}}if (document.readyState !== 'loading') {handler();} else if (window.addEventListener) {document.addEventListener('DOMContentLoaded', handler);} else {var prev = document.onreadystatechange || function () {};document.onreadystatechange = function (e) {prev(e);if (document.readyState !== 'loading') {document.onreadystatechange = prev;handler();}};}})();</script></body>\n",
      "</html>\n",
      "\n",
      "<!DOCTYPE html>\n",
      "<html lang=\"en-US\">\n",
      " <head>\n",
      "  <title>\n",
      "   Access denied\n",
      "  </title>\n",
      "  <meta content=\"IE=Edge\" http-equiv=\"X-UA-Compatible\"/>\n",
      "  <meta content=\"noindex, nofollow\" name=\"robots\"/>\n",
      "  <meta content=\"width=device-width,initial-scale=1\" name=\"viewport\"/>\n",
      "  <link href=\"/cdn-cgi/styles/errors.new.min.css\" media=\"screen\" rel=\"stylesheet\"/>\n",
      "  <script>\n",
      "   (function(){if(document.addEventListener&&window.XMLHttpRequest&&JSON&&JSON.stringify){var e=function(a){var c=document.getElementById(\"error-feedback-survey\"),d=document.getElementById(\"error-feedback-success\"),b=new XMLHttpRequest;a={event:\"feedback clicked\",properties:{errorCode:1020,helpful:a,version:3}};b.open(\"POST\",\"https://sparrow.cloudflare.com/api/v1/event\");b.setRequestHeader(\"Content-Type\",\"application/json\");b.setRequestHeader(\"Sparrow-Source-Key\",\"c771f0e4b54944bebf4261d44bd79a1e\");\n",
      "b.send(JSON.stringify(a));c.classList.add(\"feedback-hidden\");d.classList.remove(\"feedback-hidden\")};document.addEventListener(\"DOMContentLoaded\",function(){var a=document.getElementById(\"error-feedback\"),c=document.getElementById(\"feedback-button-yes\"),d=document.getElementById(\"feedback-button-no\");\"classList\"in a&&(a.classList.remove(\"feedback-hidden\"),c.addEventListener(\"click\",function(){e(!0)}),d.addEventListener(\"click\",function(){e(!1)}))})}})();\n",
      "  </script>\n",
      "  <script>\n",
      "   (function(){if(document.addEventListener){var c=function(){var b=document.getElementById(\"copy-label\");document.getElementById(\"plain-ray-id\");if(navigator.clipboard)navigator.clipboard.writeText(\"726a572b79f976b9\");else{var a=document.createElement(\"textarea\");a.value=\"726a572b79f976b9\";a.style.top=\"0\";a.style.left=\"0\";a.style.position=\"fixed\";document.body.appendChild(a);a.focus();a.select();document.execCommand(\"copy\");document.body.removeChild(a)}b.innerText=\"Copied\"};document.addEventListener(\"DOMContentLoaded\",\n",
      "function(){var b=document.getElementById(\"plain-ray-id\"),a=document.getElementById(\"click-to-copy-btn\");\"classList\"in b&&(b.classList.add(\"hidden\"),a.classList.remove(\"hidden\"),a.addEventListener(\"click\",c))})}})();\n",
      "  </script>\n",
      "  <script defer=\"\" src=\"https://performance.radar.cloudflare.com/beacon.js\">\n",
      "  </script>\n",
      " </head>\n",
      " <body>\n",
      "  <div class=\"main-wrapper\" role=\"main\">\n",
      "   <div class=\"header section\">\n",
      "    <h1>\n",
      "     <span class=\"error-description\">\n",
      "      Access denied\n",
      "     </span>\n",
      "     <span class=\"code-label\">\n",
      "      Error code\n",
      "      <span>\n",
      "       1020\n",
      "      </span>\n",
      "     </span>\n",
      "    </h1>\n",
      "    <div class=\"large-font\">\n",
      "     <p>\n",
      "      You do not have access to www.propertypal.com.\n",
      "     </p>\n",
      "     <p>\n",
      "      The site owner may have set restrictions that prevent you from accessing the site. Contact the site owner for access or try loading the page again.\n",
      "     </p>\n",
      "    </div>\n",
      "   </div>\n",
      "  </div>\n",
      "  <div>\n",
      "   <div class=\"clearfix section\">\n",
      "    <div class=\"column know-more\">\n",
      "     <h2 class=\"large-font\">\n",
      "      Additional information\n",
      "     </h2>\n",
      "     <p>\n",
      "      The access policies of a site define which visits are allowed. Your current visit is not allowed according to those policies.\n",
      "     </p>\n",
      "     <p>\n",
      "      Only the site owner can change site access policies.\n",
      "     </p>\n",
      "    </div>\n",
      "    <div class=\"column know-more\">\n",
      "     <h2 class=\"large-font\">\n",
      "      I am the site owner\n",
      "     </h2>\n",
      "     <p class=\"ray-id-wrapper\">\n",
      "      Ray ID:\n",
      "      <span class=\"plain-ray-id\" id=\"plain-ray-id\">\n",
      "       726a572b79f976b9\n",
      "      </span>\n",
      "      <button class=\"click-to-copy-btn hidden\" id=\"click-to-copy-btn\" title=\"Click to copy Ray ID\" type=\"button\">\n",
      "       <span class=\"ray-id\">\n",
      "        726a572b79f976b9\n",
      "       </span>\n",
      "       <span class=\"copy-label\" id=\"copy-label\">\n",
      "        Copy\n",
      "       </span>\n",
      "      </button>\n",
      "     </p>\n",
      "     <ol>\n",
      "      <li>\n",
      "       Search the\n",
      "       <a href=\"https://dash.cloudflare.com/?to=/:account/:zone/firewall\" rel=\"noopener noreferrer\" target=\"_blank\">\n",
      "        Firewall Events Log\n",
      "       </a>\n",
      "       <img alt=\"External link\" class=\"external-link\" src=\"/cdn-cgi/images/external.png\" title=\"Opens in new tab\"/>\n",
      "       for the above Ray ID.\n",
      "      </li>\n",
      "      <li>\n",
      "       Examine and assess the details of the access policy.\n",
      "      </li>\n",
      "     </ol>\n",
      "     <br/>\n",
      "     <a href=\"https://support.cloudflare.com/hc/articles/360029779472-Troubleshooting-Cloudflare-1XXX-errors#error1020\" rel=\"noopener noreferrer\" target=\"_blank\">\n",
      "      Troubleshooting guide\n",
      "     </a>\n",
      "     <img alt=\"External link\" class=\"external-link\" src=\"/cdn-cgi/images/external.png\" title=\"Opens in new tab\"/>\n",
      "    </div>\n",
      "   </div>\n",
      "   <div class=\"clearfix footer section\" role=\"contentinfo\">\n",
      "    <div class=\"column\">\n",
      "     <div class=\"feedback-hidden py-8 text-center\" id=\"error-feedback\">\n",
      "      <div class=\"footer-line-wrapper\" id=\"error-feedback-survey\">\n",
      "       Was this page helpful?\n",
      "       <button class=\"border border-solid bg-white cf-button cursor-pointer ml-4 px-4 py-2 rounded\" id=\"feedback-button-yes\" type=\"button\">\n",
      "        Yes\n",
      "       </button>\n",
      "       <button class=\"border border-solid bg-white cf-button cursor-pointer ml-4 px-4 py-2 rounded\" id=\"feedback-button-no\" type=\"button\">\n",
      "        No\n",
      "       </button>\n",
      "      </div>\n",
      "      <div class=\"feedback-success feedback-hidden\" id=\"error-feedback-success\">\n",
      "       Thank you for your feedback!\n",
      "      </div>\n",
      "     </div>\n",
      "    </div>\n",
      "    <div class=\"column footer-line-wrapper text-center\">\n",
      "     Performance &amp; security by\n",
      "     <a href=\"https://www.cloudflare.com\" rel=\"noopener noreferrer\" target=\"_blank\">\n",
      "      Cloudflare\n",
      "     </a>\n",
      "     <img alt=\"External link\" class=\"external-link\" src=\"/cdn-cgi/images/external.png\" title=\"Opens in new tab\"/>\n",
      "    </div>\n",
      "   </div>\n",
      "  </div>\n",
      "  <script>\n",
      "   (function(){var js = \"window['__CF$cv$params']={r:'726a572b79f976b9',m:'rm6ynT4h5Bl.K6kiK5bWPIY35KdNSjNgmYX_bjRAQBM-1657131480-0-AQC6PofYinPErvIYtd/flwBMDLM9FyaaW0lRFZhi7Yih5iiaO10UfS2OLeCYw7s3QslHYkNLIDqBZb3HclLXui0ZsFOshhLya5szOKtR2yme2OIYwUQybklkOANbpiY9OQ==',s:[0x8a673aef33,0xfbba8645da],u:'/cdn-cgi/challenge-platform/h/g'};var now=Date.now()/1000,offset=14400,ts=''+(Math.floor(now)-Math.floor(now%offset)),_cpo=document.createElement('script');_cpo.nonce='',_cpo.src='/cdn-cgi/challenge-platform/h/g/scripts/alpha/invisible.js?ts='+ts,document.getElementsByTagName('head')[0].appendChild(_cpo);\";var _0xh = document.createElement('iframe');_0xh.height = 1;_0xh.width = 1;_0xh.style.border = 'none';_0xh.style.visibility = 'hidden';document.body.appendChild(_0xh);function handler() {var _0xi = _0xh.contentDocument || _0xh.contentWindow.document;if (_0xi) {var _0xj = _0xi.createElement('script');_0xj.innerHTML = js;_0xi.getElementsByTagName('head')[0].appendChild(_0xj);}}if (document.readyState !== 'loading') {handler();} else if (window.addEventListener) {document.addEventListener('DOMContentLoaded', handler);} else {var prev = document.onreadystatechange || function () {};document.onreadystatechange = function (e) {prev(e);if (document.readyState !== 'loading') {document.onreadystatechange = prev;handler();}};}})();\n",
      "  </script>\n",
      " </body>\n",
      "</html>\n",
      "\n"
     ]
    }
   ],
   "source": [
    "from bs4 import BeautifulSoup\n",
    "import requests\n",
    "r=requests.get('https://www.propertypal.com')\n",
    "html_str=r.text\n",
    "print(r.text)\n",
    "python_wiki = BeautifulSoup(html_str, 'html.parser')\n",
    "print(python_wiki.prettify())"
   ]
  },
  {
   "cell_type": "code",
   "execution_count": 127,
   "metadata": {},
   "outputs": [],
   "source": [
    "import selenium\n",
    "from selenium import webdriver\n",
    "from selenium.webdriver import Chrome\n",
    "from webdriver_manager.chrome import ChromeDriverManager\n",
    "from selenium.webdriver.common.by import By\n",
    "from selenium.webdriver.common.action_chains import ActionChains\n",
    "from selenium.webdriver.support.ui import WebDriverWait\n",
    "from selenium.webdriver.support import expected_conditions as EC\n",
    "from selenium.common.exceptions import NoSuchElementException\n",
    "from selenium.common.exceptions import TimeoutException\n",
    "import time"
   ]
  },
  {
   "cell_type": "code",
   "execution_count": 17,
   "metadata": {},
   "outputs": [],
   "source": [
    "class Scraper:\n",
    "    def __init__(self, url: str = 'https://www.propertypal.com') -> None:\n",
    "        self.driver = Chrome(ChromeDriverManager().install())\n",
    "        self.driver.get(url)\n",
    "        \n",
    "    def ivan_accept_cookies(self, xpath:str = '//*[@id=\"qc-cmp2-ui\"]/div[2]/div/button[2]'):\n",
    "        \n",
    "        try:\n",
    "            time.sleep(1)\n",
    "            WebDriverWait(self.driver, 10).until(EC.presence_of_element_located((By.XPATH, xpath)))\n",
    "\n",
    "            button = self.driver.find_element(By.XPATH, xpath)\n",
    "            button.click()\n",
    "        except TimeoutException:\n",
    "            print(\"No Cookies Found\")\n",
    "\n",
    "    def accept_cookies(self, xpath:str = '//*[@id=\"qc-cmp2-ui\"]/div[2]/div/button[2]'):\n",
    "        button = self.driver.find_element(By.XPATH, xpath)\n",
    "        button.click()\n",
    "\n",
    "    \n",
    "    def search_word(self, xpath, text):\n",
    "\n",
    "        search = self.driver.find_element(By.XPATH, xpath)\n",
    "        self.driver.implicitly_wait(10)\n",
    "        ActionChains(self.driver).move_to_element(search).click(search).perform()\n",
    "        ActionChains(self.driver).send_keys(text).perform()\n",
    "\n",
    "    def scroll_down(self):\n",
    "        \n",
    "        self.driver.execute_script(\"window.scrollTo(0, 540)\") \n",
    "    \n",
    "    def search_rent(self):\n",
    "        rent = self.driver.find_element_by_xpath('//*[@id=\"searchForm\"]/div/div[2]/button[2]')\n",
    "        rent.click()\n",
    "\n",
    "    def search_sale(self):\n",
    "        rent = self.driver.find_element_by_xpath('//*[@id=\"searchForm\"]/div/div[2]/button[1]')\n",
    "        rent.click()\n",
    "    \n",
    "    def button_click(self,xpath):\n",
    "        button = self.driver.find_element_by_xpath(xpath)\n",
    "        button.click()\n",
    "    \n",
    "    def find_container(self, xpath: str = '//*[@id=\"body\"]/div[3]/div/div[1]/div/ul'):\n",
    "        self.container = self.driver.find_element(By.XPATH, xpath)\n",
    "        return self.container"
   ]
  },
  {
   "cell_type": "code",
   "execution_count": 19,
   "metadata": {},
   "outputs": [
    {
     "name": "stdout",
     "output_type": "stream",
     "text": [
      "\n"
     ]
    },
    {
     "name": "stderr",
     "output_type": "stream",
     "text": [
      "[WDM] - ====== WebDriver manager ======\n",
      "[WDM] - Current google-chrome version is 103.0.5060\n",
      "[WDM] - Get LATEST chromedriver version for 103.0.5060 google-chrome\n",
      "[WDM] - About to download new driver from https://chromedriver.storage.googleapis.com/103.0.5060.53/chromedriver_mac64.zip\n",
      "[WDM] - Driver has been saved in cache [/Users/ryanhughes/.wdm/drivers/chromedriver/mac64/103.0.5060.53]\n",
      "/var/folders/k0/hpk5zvqn2rdfdj_f5sv8ptp80000gn/T/ipykernel_6413/2763093461.py:3: DeprecationWarning: executable_path has been deprecated, please pass in a Service object\n",
      "  self.driver = Chrome(ChromeDriverManager().install())\n",
      "/var/folders/k0/hpk5zvqn2rdfdj_f5sv8ptp80000gn/T/ipykernel_6413/2763093461.py:34: DeprecationWarning: find_element_by_xpath is deprecated. Please use find_element(by=By.XPATH, value=xpath) instead\n",
      "  rent = self.driver.find_element_by_xpath('//*[@id=\"searchForm\"]/div/div[2]/button[2]')\n"
     ]
    }
   ],
   "source": [
    "bot = Scraper()\n",
    "bot.ivan_accept_cookies()\n",
    "time.sleep(2)\n",
    "bot.search_word('//*[@id=\"searchForm\"]/div/div[1]', 'bt4')\n",
    "time.sleep(2)\n",
    "bot.search_rent()\n"
   ]
  },
  {
   "cell_type": "code",
   "execution_count": 59,
   "metadata": {},
   "outputs": [
    {
     "name": "stdout",
     "output_type": "stream",
     "text": [
      "\n"
     ]
    },
    {
     "name": "stderr",
     "output_type": "stream",
     "text": [
      "[WDM] - ====== WebDriver manager ======\n",
      "[WDM] - Current google-chrome version is 103.0.5060\n",
      "[WDM] - Get LATEST chromedriver version for 103.0.5060 google-chrome\n",
      "[WDM] - About to download new driver from https://chromedriver.storage.googleapis.com/103.0.5060.53/chromedriver_mac64.zip\n",
      "[WDM] - Driver has been saved in cache [/Users/ryanhughes/.wdm/drivers/chromedriver/mac64/103.0.5060.53]\n",
      "/var/folders/k0/hpk5zvqn2rdfdj_f5sv8ptp80000gn/T/ipykernel_6413/2763093461.py:3: DeprecationWarning: executable_path has been deprecated, please pass in a Service object\n",
      "  self.driver = Chrome(ChromeDriverManager().install())\n"
     ]
    }
   ],
   "source": [
    "bot = Scraper()\n",
    "bot.ivan_accept_cookies()"
   ]
  },
  {
   "cell_type": "code",
   "execution_count": 53,
   "metadata": {},
   "outputs": [
    {
     "name": "stderr",
     "output_type": "stream",
     "text": [
      "/var/folders/k0/hpk5zvqn2rdfdj_f5sv8ptp80000gn/T/ipykernel_6413/2763093461.py:42: DeprecationWarning: find_element_by_xpath is deprecated. Please use find_element(by=By.XPATH, value=xpath) instead\n",
      "  button = self.driver.find_element_by_xpath(xpath)\n"
     ]
    }
   ],
   "source": [
    "bot = Scraper()\n",
    "bot.ivan_accept_cookies()\n",
    "bot.button_click('//a[@href=\"/login\"]')"
   ]
  },
  {
   "cell_type": "code",
   "execution_count": 54,
   "metadata": {},
   "outputs": [],
   "source": [
    "bot = Scraper()\n",
    "bot.ivan_accept_cookies()\n",
    "bot.button_click('//a[@href=\"/login\"]')\n",
    "bot.search_word('//input[@placeholder=\"Email address\"]','sopranotony233@gmail.com')"
   ]
  },
  {
   "cell_type": "code",
   "execution_count": 113,
   "metadata": {},
   "outputs": [
    {
     "name": "stdout",
     "output_type": "stream",
     "text": [
      "\n"
     ]
    },
    {
     "name": "stderr",
     "output_type": "stream",
     "text": [
      "[WDM] - ====== WebDriver manager ======\n",
      "[WDM] - Current google-chrome version is 103.0.5060\n",
      "[WDM] - Get LATEST chromedriver version for 103.0.5060 google-chrome\n",
      "[WDM] - Driver [/Users/ryanhughes/.wdm/drivers/chromedriver/mac64/103.0.5060.53/chromedriver] found in cache\n",
      "/var/folders/k0/hpk5zvqn2rdfdj_f5sv8ptp80000gn/T/ipykernel_6413/2763093461.py:3: DeprecationWarning: executable_path has been deprecated, please pass in a Service object\n",
      "  self.driver = Chrome(ChromeDriverManager().install())\n",
      "/var/folders/k0/hpk5zvqn2rdfdj_f5sv8ptp80000gn/T/ipykernel_6413/2763093461.py:42: DeprecationWarning: find_element_by_xpath is deprecated. Please use find_element(by=By.XPATH, value=xpath) instead\n",
      "  button = self.driver.find_element_by_xpath(xpath)\n"
     ]
    }
   ],
   "source": [
    "bot = Scraper()\n",
    "bot.ivan_accept_cookies()\n",
    "time.sleep(2)\n",
    "bot.button_click('//a[@href=\"/login\"]')\n",
    "time.sleep(2)\n",
    "bot.search_word('//input[@placeholder=\"Email address\"]','sopranotony233@gmail.com')\n",
    "time.sleep(2)\n",
    "bot.search_word('//input[@placeholder=\"Password\"]','sopranotony321')\n",
    "time.sleep(2)\n",
    "bot.button_click('//*[@id=\"root\"]/div/div/div/div/div/div[1]/div/div[2]/div[2]/form/button')\n",
    "time.sleep(2)\n",
    "bot.button_click('//a[@class=\"mainnav-logo\"]')"
   ]
  },
  {
   "cell_type": "code",
   "execution_count": 56,
   "metadata": {},
   "outputs": [
    {
     "name": "stderr",
     "output_type": "stream",
     "text": [
      "/var/folders/k0/hpk5zvqn2rdfdj_f5sv8ptp80000gn/T/ipykernel_6413/2763093461.py:42: DeprecationWarning: find_element_by_xpath is deprecated. Please use find_element(by=By.XPATH, value=xpath) instead\n",
      "  button = self.driver.find_element_by_xpath(xpath)\n"
     ]
    }
   ],
   "source": [
    "bot.button_click('//*[@id=\"root\"]/div/div/div/div/div/div[1]/div/div[2]/div[2]/form/button')"
   ]
  },
  {
   "cell_type": "code",
   "execution_count": 57,
   "metadata": {},
   "outputs": [
    {
     "name": "stderr",
     "output_type": "stream",
     "text": [
      "/var/folders/k0/hpk5zvqn2rdfdj_f5sv8ptp80000gn/T/ipykernel_6413/2763093461.py:42: DeprecationWarning: find_element_by_xpath is deprecated. Please use find_element(by=By.XPATH, value=xpath) instead\n",
      "  button = self.driver.find_element_by_xpath(xpath)\n"
     ]
    }
   ],
   "source": [
    "bot.button_click('//a[@class=\"mainnav-logo\"]')"
   ]
  },
  {
   "cell_type": "code",
   "execution_count": 114,
   "metadata": {},
   "outputs": [],
   "source": [
    "container = bot.find_container()"
   ]
  },
  {
   "cell_type": "code",
   "execution_count": 115,
   "metadata": {},
   "outputs": [
    {
     "name": "stdout",
     "output_type": "stream",
     "text": [
      "[<selenium.webdriver.remote.webelement.WebElement (session=\"b6a148851ce2e9ac7589947b2f3fb558\", element=\"79985579-5e29-499b-81dd-90b7bf676e16\")>, <selenium.webdriver.remote.webelement.WebElement (session=\"b6a148851ce2e9ac7589947b2f3fb558\", element=\"aff8746d-55b3-4408-81ae-a4a4ce27a24c\")>, <selenium.webdriver.remote.webelement.WebElement (session=\"b6a148851ce2e9ac7589947b2f3fb558\", element=\"e87a33e9-4504-4eae-a587-5bd519750a56\")>, <selenium.webdriver.remote.webelement.WebElement (session=\"b6a148851ce2e9ac7589947b2f3fb558\", element=\"36e06693-2224-4d0c-9163-4912a28d9000\")>, <selenium.webdriver.remote.webelement.WebElement (session=\"b6a148851ce2e9ac7589947b2f3fb558\", element=\"dd746f6a-6989-4e5a-99d0-36f6ef43f081\")>, <selenium.webdriver.remote.webelement.WebElement (session=\"b6a148851ce2e9ac7589947b2f3fb558\", element=\"f4ab1e6d-a5e8-4f1e-9d22-02c741466b7e\")>, <selenium.webdriver.remote.webelement.WebElement (session=\"b6a148851ce2e9ac7589947b2f3fb558\", element=\"69fa86c3-b21c-49a2-a878-c3559d00ab0b\")>, <selenium.webdriver.remote.webelement.WebElement (session=\"b6a148851ce2e9ac7589947b2f3fb558\", element=\"3c9f4849-446a-4dbb-9b2f-d877f7a34ae7\")>, <selenium.webdriver.remote.webelement.WebElement (session=\"b6a148851ce2e9ac7589947b2f3fb558\", element=\"1f1e2a59-a223-4d62-acbd-29c7a99d46e5\")>, <selenium.webdriver.remote.webelement.WebElement (session=\"b6a148851ce2e9ac7589947b2f3fb558\", element=\"582983d4-c2c9-4d88-b521-f90e922b8ada\")>, <selenium.webdriver.remote.webelement.WebElement (session=\"b6a148851ce2e9ac7589947b2f3fb558\", element=\"d00bfaff-29bf-4953-9b68-6cd8e28d6c77\")>]\n"
     ]
    }
   ],
   "source": [
    "items = container.find_elements(By.XPATH, './li')\n",
    "print(items)\n",
    "list_links = []"
   ]
  },
  {
   "cell_type": "code",
   "execution_count": 116,
   "metadata": {},
   "outputs": [
    {
     "ename": "AttributeError",
     "evalue": "'list' object has no attribute 'find_element'",
     "output_type": "error",
     "traceback": [
      "\u001b[0;31m---------------------------------------------------------------------------\u001b[0m",
      "\u001b[0;31mAttributeError\u001b[0m                            Traceback (most recent call last)",
      "Input \u001b[0;32mIn [116]\u001b[0m, in \u001b[0;36m<cell line: 1>\u001b[0;34m()\u001b[0m\n\u001b[0;32m----> 1\u001b[0m house \u001b[39m=\u001b[39m items\u001b[39m.\u001b[39;49mfind_element(By\u001b[39m.\u001b[39mXPATH, \u001b[39m'\u001b[39m\u001b[39m.//a[2]\u001b[39m\u001b[39m'\u001b[39m)\n\u001b[1;32m      2\u001b[0m link \u001b[39m=\u001b[39m house\u001b[39m.\u001b[39mget_attribute(\u001b[39m'\u001b[39m\u001b[39mhref\u001b[39m\u001b[39m'\u001b[39m)\n\u001b[1;32m      3\u001b[0m \u001b[39mprint\u001b[39m(link)\n",
      "\u001b[0;31mAttributeError\u001b[0m: 'list' object has no attribute 'find_element'"
     ]
    }
   ],
   "source": [
    "\n",
    "house = items.find_element(By.XPATH, './/a[2]')\n",
    "link = house.get_attribute('href')\n",
    "print(link)"
   ]
  },
  {
   "cell_type": "code",
   "execution_count": 133,
   "metadata": {},
   "outputs": [
    {
     "name": "stdout",
     "output_type": "stream",
     "text": [
      "No href found, skipping this property\n",
      "No href found, skipping this property\n",
      "No href found, skipping this property\n",
      "No href found, skipping this property\n",
      "No href found, skipping this property\n",
      "No href found, skipping this property\n",
      "No href found, skipping this property\n",
      "No href found, skipping this property\n",
      "No href found, skipping this property\n",
      "No href found, skipping this property\n",
      "No href found, skipping this property\n",
      "['https://www.propertypal.com/apt-14-39-dundela-crescent-belfast/759335', 'https://www.propertypal.com/1a-carew-street-belfast/765807', 'https://www.propertypal.com/13-bathgate-drive-belfast/765788', 'https://www.propertypal.com/flat-3-152-upper-newtownards-road-152-upper-newtownards-road-belfast/532728', 'https://www.propertypal.com/229-park-avenue-belfast/765499', 'https://www.propertypal.com/9-pims-avenue-belfast/765427', 'https://www.propertypal.com/apt-3-goldstone-hall-belfast/765358', 'https://www.propertypal.com/53-upper-newtownards-road-belfast/765329', 'https://www.propertypal.com/4-devon-drive-sydenham-belfast/765273', 'https://www.propertypal.com/40-norwood-avenue-belfast/765201']\n"
     ]
    }
   ],
   "source": [
    " for i in items:\n",
    "    try:\n",
    "        house = i.find_element(By.XPATH, './/a[2]')\n",
    "        link = house.get_attribute('href')\n",
    "        print(link)\n",
    "        list_links.append(link)\n",
    "    except:\n",
    "        print('No href found, skipping this property')\n",
    " print(list_links)"
   ]
  },
  {
   "cell_type": "code",
   "execution_count": 118,
   "metadata": {},
   "outputs": [
    {
     "name": "stdout",
     "output_type": "stream",
     "text": [
      "{'Link': ['https://www.propertypal.com/apt-14-39-dundela-crescent-belfast/759335', 'https://www.propertypal.com/1a-carew-street-belfast/765807', 'https://www.propertypal.com/13-bathgate-drive-belfast/765788', 'https://www.propertypal.com/flat-3-152-upper-newtownards-road-152-upper-newtownards-road-belfast/532728', 'https://www.propertypal.com/229-park-avenue-belfast/765499', 'https://www.propertypal.com/9-pims-avenue-belfast/765427', 'https://www.propertypal.com/apt-3-goldstone-hall-belfast/765358', 'https://www.propertypal.com/53-upper-newtownards-road-belfast/765329', 'https://www.propertypal.com/4-devon-drive-sydenham-belfast/765273', 'https://www.propertypal.com/40-norwood-avenue-belfast/765201'], 'Summary': ['2 Bed Apartment To Rent', '2 Bed End-terrace House To Rent', '4 Bed Terrace House To Rent', '1 Bed Apartment To Rent', '4 Bed Mid-terrace House To Rent', '3 Bed Terrace House To Rent', '2 Bed 1st Floor Apartment To Rent', '3 Bed Terrace House To Rent', '2 Bed Terrace House To Rent', '3 Bed Semi-detached House To Rent'], 'Address': ['APT 14, 39 DUNDELA CRESCENT,\\nBelfast BT4 3BN', '1A CAREW STREET,\\nBelfast BT4 1HQ', '13 BATHGATE DRIVE,\\nBelfast BT4 2BA', 'FLAT 3, 152 UPPER NEWTOWNARDS ROAD,\\n152 Upper Newtownards Road, BELFAST BT4 3EQ', '229 PARK AVENUE,\\nBelfast BT4 1LN', '9 PIMS AVENUE,\\nBELFAST BT4 1PJ', 'APT 3, GOLDSTONE HALL,\\nBelfast BT4 1JE', '53 UPPER NEWTOWNARDS ROAD,\\nBELFAST BT4 3HT', '4 DEVON DRIVE,\\nSydenham, Belfast BT4 1LF', '40 NORWOOD AVENUE,\\nBelfast BT4 2EF']}\n"
     ]
    }
   ],
   "source": [
    "prop_dict = {\"Link\": [],\n",
    "             \"Summary\": [],\n",
    "            \"Address\": []\n",
    "            }\n",
    "for link in list_links:\n",
    "    bot.driver.get(link)\n",
    "    prop_dict[\"Link\"].append(link)\n",
    "    time.sleep(1)\n",
    "    summary = bot.driver.find_element(By.XPATH, '//div[@class=\"prop-heading-brief\"]')\n",
    "    prop_dict[\"Summary\"].append(summary.text)\n",
    "    time.sleep(1)\n",
    "    info = bot.driver.find_element(By.XPATH, '//div[@class=\"prop-summary-row\"]')\n",
    "    address = info.find_element(By.XPATH, './/h1')\n",
    "    prop_dict[\"Address\"].append(address.text)\n",
    "    time.sleep(1)\n",
    "    \n",
    "print(prop_dict)"
   ]
  },
  {
   "cell_type": "code",
   "execution_count": 120,
   "metadata": {},
   "outputs": [
    {
     "data": {
      "text/html": [
       "<div>\n",
       "<style scoped>\n",
       "    .dataframe tbody tr th:only-of-type {\n",
       "        vertical-align: middle;\n",
       "    }\n",
       "\n",
       "    .dataframe tbody tr th {\n",
       "        vertical-align: top;\n",
       "    }\n",
       "\n",
       "    .dataframe thead th {\n",
       "        text-align: right;\n",
       "    }\n",
       "</style>\n",
       "<table border=\"1\" class=\"dataframe\">\n",
       "  <thead>\n",
       "    <tr style=\"text-align: right;\">\n",
       "      <th></th>\n",
       "      <th>Link</th>\n",
       "      <th>Summary</th>\n",
       "      <th>Address</th>\n",
       "    </tr>\n",
       "  </thead>\n",
       "  <tbody>\n",
       "    <tr>\n",
       "      <th>0</th>\n",
       "      <td>https://www.propertypal.com/apt-14-39-dundela-...</td>\n",
       "      <td>2 Bed Apartment To Rent</td>\n",
       "      <td>APT 14, 39 DUNDELA CRESCENT,\\nBelfast BT4 3BN</td>\n",
       "    </tr>\n",
       "    <tr>\n",
       "      <th>1</th>\n",
       "      <td>https://www.propertypal.com/1a-carew-street-be...</td>\n",
       "      <td>2 Bed End-terrace House To Rent</td>\n",
       "      <td>1A CAREW STREET,\\nBelfast BT4 1HQ</td>\n",
       "    </tr>\n",
       "    <tr>\n",
       "      <th>2</th>\n",
       "      <td>https://www.propertypal.com/13-bathgate-drive-...</td>\n",
       "      <td>4 Bed Terrace House To Rent</td>\n",
       "      <td>13 BATHGATE DRIVE,\\nBelfast BT4 2BA</td>\n",
       "    </tr>\n",
       "    <tr>\n",
       "      <th>3</th>\n",
       "      <td>https://www.propertypal.com/flat-3-152-upper-n...</td>\n",
       "      <td>1 Bed Apartment To Rent</td>\n",
       "      <td>FLAT 3, 152 UPPER NEWTOWNARDS ROAD,\\n152 Upper...</td>\n",
       "    </tr>\n",
       "    <tr>\n",
       "      <th>4</th>\n",
       "      <td>https://www.propertypal.com/229-park-avenue-be...</td>\n",
       "      <td>4 Bed Mid-terrace House To Rent</td>\n",
       "      <td>229 PARK AVENUE,\\nBelfast BT4 1LN</td>\n",
       "    </tr>\n",
       "    <tr>\n",
       "      <th>5</th>\n",
       "      <td>https://www.propertypal.com/9-pims-avenue-belf...</td>\n",
       "      <td>3 Bed Terrace House To Rent</td>\n",
       "      <td>9 PIMS AVENUE,\\nBELFAST BT4 1PJ</td>\n",
       "    </tr>\n",
       "    <tr>\n",
       "      <th>6</th>\n",
       "      <td>https://www.propertypal.com/apt-3-goldstone-ha...</td>\n",
       "      <td>2 Bed 1st Floor Apartment To Rent</td>\n",
       "      <td>APT 3, GOLDSTONE HALL,\\nBelfast BT4 1JE</td>\n",
       "    </tr>\n",
       "    <tr>\n",
       "      <th>7</th>\n",
       "      <td>https://www.propertypal.com/53-upper-newtownar...</td>\n",
       "      <td>3 Bed Terrace House To Rent</td>\n",
       "      <td>53 UPPER NEWTOWNARDS ROAD,\\nBELFAST BT4 3HT</td>\n",
       "    </tr>\n",
       "    <tr>\n",
       "      <th>8</th>\n",
       "      <td>https://www.propertypal.com/4-devon-drive-syde...</td>\n",
       "      <td>2 Bed Terrace House To Rent</td>\n",
       "      <td>4 DEVON DRIVE,\\nSydenham, Belfast BT4 1LF</td>\n",
       "    </tr>\n",
       "    <tr>\n",
       "      <th>9</th>\n",
       "      <td>https://www.propertypal.com/40-norwood-avenue-...</td>\n",
       "      <td>3 Bed Semi-detached House To Rent</td>\n",
       "      <td>40 NORWOOD AVENUE,\\nBelfast BT4 2EF</td>\n",
       "    </tr>\n",
       "  </tbody>\n",
       "</table>\n",
       "</div>"
      ],
      "text/plain": [
       "                                                Link  \\\n",
       "0  https://www.propertypal.com/apt-14-39-dundela-...   \n",
       "1  https://www.propertypal.com/1a-carew-street-be...   \n",
       "2  https://www.propertypal.com/13-bathgate-drive-...   \n",
       "3  https://www.propertypal.com/flat-3-152-upper-n...   \n",
       "4  https://www.propertypal.com/229-park-avenue-be...   \n",
       "5  https://www.propertypal.com/9-pims-avenue-belf...   \n",
       "6  https://www.propertypal.com/apt-3-goldstone-ha...   \n",
       "7  https://www.propertypal.com/53-upper-newtownar...   \n",
       "8  https://www.propertypal.com/4-devon-drive-syde...   \n",
       "9  https://www.propertypal.com/40-norwood-avenue-...   \n",
       "\n",
       "                             Summary  \\\n",
       "0            2 Bed Apartment To Rent   \n",
       "1    2 Bed End-terrace House To Rent   \n",
       "2        4 Bed Terrace House To Rent   \n",
       "3            1 Bed Apartment To Rent   \n",
       "4    4 Bed Mid-terrace House To Rent   \n",
       "5        3 Bed Terrace House To Rent   \n",
       "6  2 Bed 1st Floor Apartment To Rent   \n",
       "7        3 Bed Terrace House To Rent   \n",
       "8        2 Bed Terrace House To Rent   \n",
       "9  3 Bed Semi-detached House To Rent   \n",
       "\n",
       "                                             Address  \n",
       "0      APT 14, 39 DUNDELA CRESCENT,\\nBelfast BT4 3BN  \n",
       "1                  1A CAREW STREET,\\nBelfast BT4 1HQ  \n",
       "2                13 BATHGATE DRIVE,\\nBelfast BT4 2BA  \n",
       "3  FLAT 3, 152 UPPER NEWTOWNARDS ROAD,\\n152 Upper...  \n",
       "4                  229 PARK AVENUE,\\nBelfast BT4 1LN  \n",
       "5                    9 PIMS AVENUE,\\nBELFAST BT4 1PJ  \n",
       "6            APT 3, GOLDSTONE HALL,\\nBelfast BT4 1JE  \n",
       "7        53 UPPER NEWTOWNARDS ROAD,\\nBELFAST BT4 3HT  \n",
       "8          4 DEVON DRIVE,\\nSydenham, Belfast BT4 1LF  \n",
       "9                40 NORWOOD AVENUE,\\nBelfast BT4 2EF  "
      ]
     },
     "execution_count": 120,
     "metadata": {},
     "output_type": "execute_result"
    }
   ],
   "source": [
    "import pandas as pd\n",
    "\n",
    "pd.DataFrame(prop_dict)"
   ]
  },
  {
   "cell_type": "code",
   "execution_count": 137,
   "metadata": {},
   "outputs": [
    {
     "name": "stdout",
     "output_type": "stream",
     "text": [
      "No href found, skipping this property\n"
     ]
    },
    {
     "name": "stderr",
     "output_type": "stream",
     "text": [
      "/var/folders/k0/hpk5zvqn2rdfdj_f5sv8ptp80000gn/T/ipykernel_6413/2763093461.py:42: DeprecationWarning: find_element_by_xpath is deprecated. Please use find_element(by=By.XPATH, value=xpath) instead\n",
      "  button = self.driver.find_element_by_xpath(xpath)\n"
     ]
    },
    {
     "name": "stdout",
     "output_type": "stream",
     "text": [
      "No href found, skipping this property\n",
      "No href found, skipping this property\n",
      "No href found, skipping this property\n",
      "end of list\n"
     ]
    }
   ],
   "source": [
    "list_links = []\n",
    "while True:\n",
    "    container = bot.find_container()\n",
    "    items = container.find_elements(By.XPATH, './li')\n",
    "    for i in items:\n",
    "        try:\n",
    "            house = i.find_element(By.XPATH, './/a[2]')\n",
    "            link = house.get_attribute('href')\n",
    "            list_links.append(link)\n",
    "        except:\n",
    "            print('No href found, skipping this property')\n",
    "    \n",
    "    try:\n",
    "        bot.button_click('//a[@class=\"btn paging-next\"]')\n",
    "    except NoSuchElementException:\n",
    "        print(\"end of list\")\n",
    "        break\n"
   ]
  },
  {
   "cell_type": "code",
   "execution_count": 138,
   "metadata": {},
   "outputs": [
    {
     "name": "stdout",
     "output_type": "stream",
     "text": [
      "['https://www.propertypal.com/apt-14-39-dundela-crescent-belfast/759335', 'https://www.propertypal.com/1a-carew-street-belfast/765807', 'https://www.propertypal.com/13-bathgate-drive-belfast/765788', 'https://www.propertypal.com/flat-3-152-upper-newtownards-road-152-upper-newtownards-road-belfast/532728', 'https://www.propertypal.com/229-park-avenue-belfast/765499', 'https://www.propertypal.com/9-pims-avenue-belfast/765427', 'https://www.propertypal.com/apt-3-goldstone-hall-belfast/765358', 'https://www.propertypal.com/53-upper-newtownards-road-belfast/765329', 'https://www.propertypal.com/4-devon-drive-sydenham-belfast/765273', 'https://www.propertypal.com/40-norwood-avenue-belfast/765201', 'https://www.propertypal.com/the-limes-216-belmont-road-belfast/105704', 'https://www.propertypal.com/apt-14-39-dundela-crescent-belfast/759335', 'https://www.propertypal.com/35-sydenham-avenue-belmont-belfast/764757', 'https://www.propertypal.com/79-upper-newtownards-road-belfast/730603', 'https://www.propertypal.com/apt-12-39-dundela-crescent-belfast/762260', 'https://www.propertypal.com/73-upper-newtownards-road-apt-3-ballyhackamore-belfast/761430', 'https://www.propertypal.com/352-belmont-road-knockdarragh-belfast/512687', 'https://www.propertypal.com/apt-3-556-upper-newtownards-road-belfast/711069', 'https://www.propertypal.com/84-larkfield-road-belfast/759906', 'https://www.propertypal.com/9-larkfield-grove-sydenham-belfast/759461', 'https://www.propertypal.com/85-upper-newtownards-road-room-5-belfast/606480', 'https://www.propertypal.com/55c-victoria-road-belfast/752602', 'https://www.propertypal.com/187-holywood-road-belfast/343908']\n"
     ]
    },
    {
     "data": {
      "text/plain": [
       "23"
      ]
     },
     "execution_count": 138,
     "metadata": {},
     "output_type": "execute_result"
    }
   ],
   "source": [
    "print(list_links)\n",
    "len(list_links)"
   ]
  },
  {
   "cell_type": "code",
   "execution_count": 123,
   "metadata": {},
   "outputs": [
    {
     "name": "stdout",
     "output_type": "stream",
     "text": [
      "\n"
     ]
    },
    {
     "name": "stderr",
     "output_type": "stream",
     "text": [
      "[WDM] - ====== WebDriver manager ======\n",
      "[WDM] - Current google-chrome version is 103.0.5060\n",
      "[WDM] - Get LATEST chromedriver version for 103.0.5060 google-chrome\n",
      "[WDM] - Driver [/Users/ryanhughes/.wdm/drivers/chromedriver/mac64/103.0.5060.53/chromedriver] found in cache\n",
      "/var/folders/k0/hpk5zvqn2rdfdj_f5sv8ptp80000gn/T/ipykernel_6413/2763093461.py:3: DeprecationWarning: executable_path has been deprecated, please pass in a Service object\n",
      "  self.driver = Chrome(ChromeDriverManager().install())\n"
     ]
    }
   ],
   "source": [
    "bot = Scraper()"
   ]
  },
  {
   "cell_type": "code",
   "execution_count": 126,
   "metadata": {},
   "outputs": [
    {
     "name": "stderr",
     "output_type": "stream",
     "text": [
      "/var/folders/k0/hpk5zvqn2rdfdj_f5sv8ptp80000gn/T/ipykernel_6413/2763093461.py:42: DeprecationWarning: find_element_by_xpath is deprecated. Please use find_element(by=By.XPATH, value=xpath) instead\n",
      "  button = self.driver.find_element_by_xpath(xpath)\n"
     ]
    },
    {
     "ename": "NoSuchElementException",
     "evalue": "Message: no such element: Unable to locate element: {\"method\":\"xpath\",\"selector\":\"//a[@class=\"btn paging-next\"]\"}\n  (Session info: chrome=103.0.5060.114)\nStacktrace:\n0   chromedriver                        0x00000001083c5079 chromedriver + 4444281\n1   chromedriver                        0x0000000108351403 chromedriver + 3970051\n2   chromedriver                        0x0000000107fec038 chromedriver + 409656\n3   chromedriver                        0x00000001080222fd chromedriver + 631549\n4   chromedriver                        0x0000000108022581 chromedriver + 632193\n5   chromedriver                        0x00000001080544f4 chromedriver + 836852\n6   chromedriver                        0x000000010803f7bd chromedriver + 751549\n7   chromedriver                        0x0000000108052221 chromedriver + 827937\n8   chromedriver                        0x000000010803f683 chromedriver + 751235\n9   chromedriver                        0x0000000108015a45 chromedriver + 580165\n10  chromedriver                        0x0000000108016a95 chromedriver + 584341\n11  chromedriver                        0x000000010839655d chromedriver + 4253021\n12  chromedriver                        0x000000010839b3a1 chromedriver + 4273057\n13  chromedriver                        0x00000001083a016f chromedriver + 4292975\n14  chromedriver                        0x000000010839bdea chromedriver + 4275690\n15  chromedriver                        0x000000010837554f chromedriver + 4117839\n16  chromedriver                        0x00000001083b5ed8 chromedriver + 4382424\n17  chromedriver                        0x00000001083b605f chromedriver + 4382815\n18  chromedriver                        0x00000001083cc8d5 chromedriver + 4475093\n19  libsystem_pthread.dylib             0x00007ff80939f4f4 _pthread_start + 125\n20  libsystem_pthread.dylib             0x00007ff80939b00f thread_start + 15\n",
     "output_type": "error",
     "traceback": [
      "\u001b[0;31m---------------------------------------------------------------------------\u001b[0m",
      "\u001b[0;31mNoSuchElementException\u001b[0m                    Traceback (most recent call last)",
      "Input \u001b[0;32mIn [126]\u001b[0m, in \u001b[0;36m<cell line: 1>\u001b[0;34m()\u001b[0m\n\u001b[0;32m----> 1\u001b[0m bot\u001b[39m.\u001b[39;49mbutton_click(\u001b[39m'\u001b[39;49m\u001b[39m//a[@class=\u001b[39;49m\u001b[39m\"\u001b[39;49m\u001b[39mbtn paging-next\u001b[39;49m\u001b[39m\"\u001b[39;49m\u001b[39m]\u001b[39;49m\u001b[39m'\u001b[39;49m)\n",
      "\u001b[1;32m/Users/ryanhughes/Desktop/Aicore/Property-Pal-Pipeline-/Property-Pal-Pipeline.ipynb Cell 2'\u001b[0m in \u001b[0;36mScraper.button_click\u001b[0;34m(self, xpath)\u001b[0m\n\u001b[1;32m     <a href='vscode-notebook-cell:/Users/ryanhughes/Desktop/Aicore/Property-Pal-Pipeline-/Property-Pal-Pipeline.ipynb#ch0000001?line=40'>41</a>\u001b[0m \u001b[39mdef\u001b[39;00m \u001b[39mbutton_click\u001b[39m(\u001b[39mself\u001b[39m,xpath):\n\u001b[0;32m---> <a href='vscode-notebook-cell:/Users/ryanhughes/Desktop/Aicore/Property-Pal-Pipeline-/Property-Pal-Pipeline.ipynb#ch0000001?line=41'>42</a>\u001b[0m     button \u001b[39m=\u001b[39m \u001b[39mself\u001b[39;49m\u001b[39m.\u001b[39;49mdriver\u001b[39m.\u001b[39;49mfind_element_by_xpath(xpath)\n\u001b[1;32m     <a href='vscode-notebook-cell:/Users/ryanhughes/Desktop/Aicore/Property-Pal-Pipeline-/Property-Pal-Pipeline.ipynb#ch0000001?line=42'>43</a>\u001b[0m     button\u001b[39m.\u001b[39mclick()\n",
      "File \u001b[0;32m~/opt/miniconda3/envs/Selenium_demo/lib/python3.10/site-packages/selenium/webdriver/remote/webdriver.py:526\u001b[0m, in \u001b[0;36mWebDriver.find_element_by_xpath\u001b[0;34m(self, xpath)\u001b[0m\n\u001b[1;32m    <a href='file:///Users/ryanhughes/opt/miniconda3/envs/Selenium_demo/lib/python3.10/site-packages/selenium/webdriver/remote/webdriver.py?line=503'>504</a>\u001b[0m \u001b[39m\"\"\"\u001b[39;00m\n\u001b[1;32m    <a href='file:///Users/ryanhughes/opt/miniconda3/envs/Selenium_demo/lib/python3.10/site-packages/selenium/webdriver/remote/webdriver.py?line=504'>505</a>\u001b[0m \u001b[39mFinds an element by xpath.\u001b[39;00m\n\u001b[1;32m    <a href='file:///Users/ryanhughes/opt/miniconda3/envs/Selenium_demo/lib/python3.10/site-packages/selenium/webdriver/remote/webdriver.py?line=505'>506</a>\u001b[0m \n\u001b[0;32m   (...)\u001b[0m\n\u001b[1;32m    <a href='file:///Users/ryanhughes/opt/miniconda3/envs/Selenium_demo/lib/python3.10/site-packages/selenium/webdriver/remote/webdriver.py?line=518'>519</a>\u001b[0m \u001b[39m        element = driver.find_element_by_xpath('//div/td[1]')\u001b[39;00m\n\u001b[1;32m    <a href='file:///Users/ryanhughes/opt/miniconda3/envs/Selenium_demo/lib/python3.10/site-packages/selenium/webdriver/remote/webdriver.py?line=519'>520</a>\u001b[0m \u001b[39m\"\"\"\u001b[39;00m\n\u001b[1;32m    <a href='file:///Users/ryanhughes/opt/miniconda3/envs/Selenium_demo/lib/python3.10/site-packages/selenium/webdriver/remote/webdriver.py?line=520'>521</a>\u001b[0m warnings\u001b[39m.\u001b[39mwarn(\n\u001b[1;32m    <a href='file:///Users/ryanhughes/opt/miniconda3/envs/Selenium_demo/lib/python3.10/site-packages/selenium/webdriver/remote/webdriver.py?line=521'>522</a>\u001b[0m     \u001b[39m\"\u001b[39m\u001b[39mfind_element_by_xpath is deprecated. Please use find_element(by=By.XPATH, value=xpath) instead\u001b[39m\u001b[39m\"\u001b[39m,\n\u001b[1;32m    <a href='file:///Users/ryanhughes/opt/miniconda3/envs/Selenium_demo/lib/python3.10/site-packages/selenium/webdriver/remote/webdriver.py?line=522'>523</a>\u001b[0m     \u001b[39mDeprecationWarning\u001b[39;00m,\n\u001b[1;32m    <a href='file:///Users/ryanhughes/opt/miniconda3/envs/Selenium_demo/lib/python3.10/site-packages/selenium/webdriver/remote/webdriver.py?line=523'>524</a>\u001b[0m     stacklevel\u001b[39m=\u001b[39m\u001b[39m2\u001b[39m,\n\u001b[1;32m    <a href='file:///Users/ryanhughes/opt/miniconda3/envs/Selenium_demo/lib/python3.10/site-packages/selenium/webdriver/remote/webdriver.py?line=524'>525</a>\u001b[0m )\n\u001b[0;32m--> <a href='file:///Users/ryanhughes/opt/miniconda3/envs/Selenium_demo/lib/python3.10/site-packages/selenium/webdriver/remote/webdriver.py?line=525'>526</a>\u001b[0m \u001b[39mreturn\u001b[39;00m \u001b[39mself\u001b[39;49m\u001b[39m.\u001b[39;49mfind_element(by\u001b[39m=\u001b[39;49mBy\u001b[39m.\u001b[39;49mXPATH, value\u001b[39m=\u001b[39;49mxpath)\n",
      "File \u001b[0;32m~/opt/miniconda3/envs/Selenium_demo/lib/python3.10/site-packages/selenium/webdriver/remote/webdriver.py:1251\u001b[0m, in \u001b[0;36mWebDriver.find_element\u001b[0;34m(self, by, value)\u001b[0m\n\u001b[1;32m   <a href='file:///Users/ryanhughes/opt/miniconda3/envs/Selenium_demo/lib/python3.10/site-packages/selenium/webdriver/remote/webdriver.py?line=1247'>1248</a>\u001b[0m     by \u001b[39m=\u001b[39m By\u001b[39m.\u001b[39mCSS_SELECTOR\n\u001b[1;32m   <a href='file:///Users/ryanhughes/opt/miniconda3/envs/Selenium_demo/lib/python3.10/site-packages/selenium/webdriver/remote/webdriver.py?line=1248'>1249</a>\u001b[0m     value \u001b[39m=\u001b[39m \u001b[39m'\u001b[39m\u001b[39m[name=\u001b[39m\u001b[39m\"\u001b[39m\u001b[39m%s\u001b[39;00m\u001b[39m\"\u001b[39m\u001b[39m]\u001b[39m\u001b[39m'\u001b[39m \u001b[39m%\u001b[39m value\n\u001b[0;32m-> <a href='file:///Users/ryanhughes/opt/miniconda3/envs/Selenium_demo/lib/python3.10/site-packages/selenium/webdriver/remote/webdriver.py?line=1250'>1251</a>\u001b[0m \u001b[39mreturn\u001b[39;00m \u001b[39mself\u001b[39;49m\u001b[39m.\u001b[39;49mexecute(Command\u001b[39m.\u001b[39;49mFIND_ELEMENT, {\n\u001b[1;32m   <a href='file:///Users/ryanhughes/opt/miniconda3/envs/Selenium_demo/lib/python3.10/site-packages/selenium/webdriver/remote/webdriver.py?line=1251'>1252</a>\u001b[0m     \u001b[39m'\u001b[39;49m\u001b[39musing\u001b[39;49m\u001b[39m'\u001b[39;49m: by,\n\u001b[1;32m   <a href='file:///Users/ryanhughes/opt/miniconda3/envs/Selenium_demo/lib/python3.10/site-packages/selenium/webdriver/remote/webdriver.py?line=1252'>1253</a>\u001b[0m     \u001b[39m'\u001b[39;49m\u001b[39mvalue\u001b[39;49m\u001b[39m'\u001b[39;49m: value})[\u001b[39m'\u001b[39m\u001b[39mvalue\u001b[39m\u001b[39m'\u001b[39m]\n",
      "File \u001b[0;32m~/opt/miniconda3/envs/Selenium_demo/lib/python3.10/site-packages/selenium/webdriver/remote/webdriver.py:430\u001b[0m, in \u001b[0;36mWebDriver.execute\u001b[0;34m(self, driver_command, params)\u001b[0m\n\u001b[1;32m    <a href='file:///Users/ryanhughes/opt/miniconda3/envs/Selenium_demo/lib/python3.10/site-packages/selenium/webdriver/remote/webdriver.py?line=427'>428</a>\u001b[0m response \u001b[39m=\u001b[39m \u001b[39mself\u001b[39m\u001b[39m.\u001b[39mcommand_executor\u001b[39m.\u001b[39mexecute(driver_command, params)\n\u001b[1;32m    <a href='file:///Users/ryanhughes/opt/miniconda3/envs/Selenium_demo/lib/python3.10/site-packages/selenium/webdriver/remote/webdriver.py?line=428'>429</a>\u001b[0m \u001b[39mif\u001b[39;00m response:\n\u001b[0;32m--> <a href='file:///Users/ryanhughes/opt/miniconda3/envs/Selenium_demo/lib/python3.10/site-packages/selenium/webdriver/remote/webdriver.py?line=429'>430</a>\u001b[0m     \u001b[39mself\u001b[39;49m\u001b[39m.\u001b[39;49merror_handler\u001b[39m.\u001b[39;49mcheck_response(response)\n\u001b[1;32m    <a href='file:///Users/ryanhughes/opt/miniconda3/envs/Selenium_demo/lib/python3.10/site-packages/selenium/webdriver/remote/webdriver.py?line=430'>431</a>\u001b[0m     response[\u001b[39m'\u001b[39m\u001b[39mvalue\u001b[39m\u001b[39m'\u001b[39m] \u001b[39m=\u001b[39m \u001b[39mself\u001b[39m\u001b[39m.\u001b[39m_unwrap_value(\n\u001b[1;32m    <a href='file:///Users/ryanhughes/opt/miniconda3/envs/Selenium_demo/lib/python3.10/site-packages/selenium/webdriver/remote/webdriver.py?line=431'>432</a>\u001b[0m         response\u001b[39m.\u001b[39mget(\u001b[39m'\u001b[39m\u001b[39mvalue\u001b[39m\u001b[39m'\u001b[39m, \u001b[39mNone\u001b[39;00m))\n\u001b[1;32m    <a href='file:///Users/ryanhughes/opt/miniconda3/envs/Selenium_demo/lib/python3.10/site-packages/selenium/webdriver/remote/webdriver.py?line=432'>433</a>\u001b[0m     \u001b[39mreturn\u001b[39;00m response\n",
      "File \u001b[0;32m~/opt/miniconda3/envs/Selenium_demo/lib/python3.10/site-packages/selenium/webdriver/remote/errorhandler.py:247\u001b[0m, in \u001b[0;36mErrorHandler.check_response\u001b[0;34m(self, response)\u001b[0m\n\u001b[1;32m    <a href='file:///Users/ryanhughes/opt/miniconda3/envs/Selenium_demo/lib/python3.10/site-packages/selenium/webdriver/remote/errorhandler.py?line=244'>245</a>\u001b[0m         alert_text \u001b[39m=\u001b[39m value[\u001b[39m'\u001b[39m\u001b[39malert\u001b[39m\u001b[39m'\u001b[39m]\u001b[39m.\u001b[39mget(\u001b[39m'\u001b[39m\u001b[39mtext\u001b[39m\u001b[39m'\u001b[39m)\n\u001b[1;32m    <a href='file:///Users/ryanhughes/opt/miniconda3/envs/Selenium_demo/lib/python3.10/site-packages/selenium/webdriver/remote/errorhandler.py?line=245'>246</a>\u001b[0m     \u001b[39mraise\u001b[39;00m exception_class(message, screen, stacktrace, alert_text)  \u001b[39m# type: ignore[call-arg]  # mypy is not smart enough here\u001b[39;00m\n\u001b[0;32m--> <a href='file:///Users/ryanhughes/opt/miniconda3/envs/Selenium_demo/lib/python3.10/site-packages/selenium/webdriver/remote/errorhandler.py?line=246'>247</a>\u001b[0m \u001b[39mraise\u001b[39;00m exception_class(message, screen, stacktrace)\n",
      "\u001b[0;31mNoSuchElementException\u001b[0m: Message: no such element: Unable to locate element: {\"method\":\"xpath\",\"selector\":\"//a[@class=\"btn paging-next\"]\"}\n  (Session info: chrome=103.0.5060.114)\nStacktrace:\n0   chromedriver                        0x00000001083c5079 chromedriver + 4444281\n1   chromedriver                        0x0000000108351403 chromedriver + 3970051\n2   chromedriver                        0x0000000107fec038 chromedriver + 409656\n3   chromedriver                        0x00000001080222fd chromedriver + 631549\n4   chromedriver                        0x0000000108022581 chromedriver + 632193\n5   chromedriver                        0x00000001080544f4 chromedriver + 836852\n6   chromedriver                        0x000000010803f7bd chromedriver + 751549\n7   chromedriver                        0x0000000108052221 chromedriver + 827937\n8   chromedriver                        0x000000010803f683 chromedriver + 751235\n9   chromedriver                        0x0000000108015a45 chromedriver + 580165\n10  chromedriver                        0x0000000108016a95 chromedriver + 584341\n11  chromedriver                        0x000000010839655d chromedriver + 4253021\n12  chromedriver                        0x000000010839b3a1 chromedriver + 4273057\n13  chromedriver                        0x00000001083a016f chromedriver + 4292975\n14  chromedriver                        0x000000010839bdea chromedriver + 4275690\n15  chromedriver                        0x000000010837554f chromedriver + 4117839\n16  chromedriver                        0x00000001083b5ed8 chromedriver + 4382424\n17  chromedriver                        0x00000001083b605f chromedriver + 4382815\n18  chromedriver                        0x00000001083cc8d5 chromedriver + 4475093\n19  libsystem_pthread.dylib             0x00007ff80939f4f4 _pthread_start + 125\n20  libsystem_pthread.dylib             0x00007ff80939b00f thread_start + 15\n"
     ]
    }
   ],
   "source": [
    "bot.button_click('//a[@class=\"btn paging-next\"]')"
   ]
  },
  {
   "cell_type": "code",
   "execution_count": 109,
   "metadata": {},
   "outputs": [
    {
     "name": "stdout",
     "output_type": "stream",
     "text": [
      "2 Bed Apartment To Rent\n"
     ]
    }
   ],
   "source": [
    "summary = bot.driver.find_element(By.XPATH, '//div[@class=\"prop-heading-brief\"]')\n",
    "print(summary.text)"
   ]
  },
  {
   "cell_type": "code",
   "execution_count": 99,
   "metadata": {},
   "outputs": [
    {
     "name": "stdout",
     "output_type": "stream",
     "text": [
      "1A CAREW STREET,\n",
      "Belfast BT4 1HQ\n",
      "£600\n",
      "/ month\n",
      "\n"
     ]
    }
   ],
   "source": [
    "info = bot.driver.find_element(By.XPATH, '//div[@class=\"prop-summary-row\"]')\n",
    "\n",
    "address = info.find_element(By.XPATH, './/h1')\n",
    "print(address.text)\n",
    "price = bot.driver.find_element(By.XPATH, '//div[@class=\"prop-price\"]')\n",
    "print(price.text)\n",
    "summary = bot.driver.find_element(By.XPATH, '//p[@class=\"prop-strapline\"]')\n",
    "print(summary.text)"
   ]
  },
  {
   "cell_type": "code",
   "execution_count": 102,
   "metadata": {},
   "outputs": [
    {
     "name": "stdout",
     "output_type": "stream",
     "text": [
      "2 Bed End-terrace House To Rent\n"
     ]
    }
   ],
   "source": [
    "summary = bot.driver.find_element(By.XPATH, '//div[@class=\"prop-heading-brief\"]')\n",
    "print(summary.text)"
   ]
  },
  {
   "cell_type": "code",
   "execution_count": 97,
   "metadata": {},
   "outputs": [
    {
     "ename": "NoSuchElementException",
     "evalue": "Message: no such element: Unable to locate element: {\"method\":\"css selector\",\"selector\":\"[name=\"Bedrooms\"]\"}\n  (Session info: chrome=103.0.5060.114)\nStacktrace:\n0   chromedriver                        0x000000010d7f8079 chromedriver + 4444281\n1   chromedriver                        0x000000010d784403 chromedriver + 3970051\n2   chromedriver                        0x000000010d41f038 chromedriver + 409656\n3   chromedriver                        0x000000010d4552fd chromedriver + 631549\n4   chromedriver                        0x000000010d455581 chromedriver + 632193\n5   chromedriver                        0x000000010d4874f4 chromedriver + 836852\n6   chromedriver                        0x000000010d4727bd chromedriver + 751549\n7   chromedriver                        0x000000010d485221 chromedriver + 827937\n8   chromedriver                        0x000000010d472683 chromedriver + 751235\n9   chromedriver                        0x000000010d448a45 chromedriver + 580165\n10  chromedriver                        0x000000010d449a95 chromedriver + 584341\n11  chromedriver                        0x000000010d7c955d chromedriver + 4253021\n12  chromedriver                        0x000000010d7ce3a1 chromedriver + 4273057\n13  chromedriver                        0x000000010d7d316f chromedriver + 4292975\n14  chromedriver                        0x000000010d7cedea chromedriver + 4275690\n15  chromedriver                        0x000000010d7a854f chromedriver + 4117839\n16  chromedriver                        0x000000010d7e8ed8 chromedriver + 4382424\n17  chromedriver                        0x000000010d7e905f chromedriver + 4382815\n18  chromedriver                        0x000000010d7ff8d5 chromedriver + 4475093\n19  libsystem_pthread.dylib             0x00007ff80939f4f4 _pthread_start + 125\n20  libsystem_pthread.dylib             0x00007ff80939b00f thread_start + 15\n",
     "output_type": "error",
     "traceback": [
      "\u001b[0;31m---------------------------------------------------------------------------\u001b[0m",
      "\u001b[0;31mNoSuchElementException\u001b[0m                    Traceback (most recent call last)",
      "Input \u001b[0;32mIn [97]\u001b[0m, in \u001b[0;36m<cell line: 1>\u001b[0;34m()\u001b[0m\n\u001b[0;32m----> 1\u001b[0m info_3 \u001b[39m=\u001b[39m bot\u001b[39m.\u001b[39;49mdriver\u001b[39m.\u001b[39;49mfind_element(By\u001b[39m.\u001b[39;49mNAME, \u001b[39m'\u001b[39;49m\u001b[39mBedrooms\u001b[39;49m\u001b[39m'\u001b[39;49m)\n",
      "File \u001b[0;32m~/opt/miniconda3/envs/Selenium_demo/lib/python3.10/site-packages/selenium/webdriver/remote/webdriver.py:1251\u001b[0m, in \u001b[0;36mWebDriver.find_element\u001b[0;34m(self, by, value)\u001b[0m\n\u001b[1;32m   <a href='file:///Users/ryanhughes/opt/miniconda3/envs/Selenium_demo/lib/python3.10/site-packages/selenium/webdriver/remote/webdriver.py?line=1247'>1248</a>\u001b[0m     by \u001b[39m=\u001b[39m By\u001b[39m.\u001b[39mCSS_SELECTOR\n\u001b[1;32m   <a href='file:///Users/ryanhughes/opt/miniconda3/envs/Selenium_demo/lib/python3.10/site-packages/selenium/webdriver/remote/webdriver.py?line=1248'>1249</a>\u001b[0m     value \u001b[39m=\u001b[39m \u001b[39m'\u001b[39m\u001b[39m[name=\u001b[39m\u001b[39m\"\u001b[39m\u001b[39m%s\u001b[39;00m\u001b[39m\"\u001b[39m\u001b[39m]\u001b[39m\u001b[39m'\u001b[39m \u001b[39m%\u001b[39m value\n\u001b[0;32m-> <a href='file:///Users/ryanhughes/opt/miniconda3/envs/Selenium_demo/lib/python3.10/site-packages/selenium/webdriver/remote/webdriver.py?line=1250'>1251</a>\u001b[0m \u001b[39mreturn\u001b[39;00m \u001b[39mself\u001b[39;49m\u001b[39m.\u001b[39;49mexecute(Command\u001b[39m.\u001b[39;49mFIND_ELEMENT, {\n\u001b[1;32m   <a href='file:///Users/ryanhughes/opt/miniconda3/envs/Selenium_demo/lib/python3.10/site-packages/selenium/webdriver/remote/webdriver.py?line=1251'>1252</a>\u001b[0m     \u001b[39m'\u001b[39;49m\u001b[39musing\u001b[39;49m\u001b[39m'\u001b[39;49m: by,\n\u001b[1;32m   <a href='file:///Users/ryanhughes/opt/miniconda3/envs/Selenium_demo/lib/python3.10/site-packages/selenium/webdriver/remote/webdriver.py?line=1252'>1253</a>\u001b[0m     \u001b[39m'\u001b[39;49m\u001b[39mvalue\u001b[39;49m\u001b[39m'\u001b[39;49m: value})[\u001b[39m'\u001b[39m\u001b[39mvalue\u001b[39m\u001b[39m'\u001b[39m]\n",
      "File \u001b[0;32m~/opt/miniconda3/envs/Selenium_demo/lib/python3.10/site-packages/selenium/webdriver/remote/webdriver.py:430\u001b[0m, in \u001b[0;36mWebDriver.execute\u001b[0;34m(self, driver_command, params)\u001b[0m\n\u001b[1;32m    <a href='file:///Users/ryanhughes/opt/miniconda3/envs/Selenium_demo/lib/python3.10/site-packages/selenium/webdriver/remote/webdriver.py?line=427'>428</a>\u001b[0m response \u001b[39m=\u001b[39m \u001b[39mself\u001b[39m\u001b[39m.\u001b[39mcommand_executor\u001b[39m.\u001b[39mexecute(driver_command, params)\n\u001b[1;32m    <a href='file:///Users/ryanhughes/opt/miniconda3/envs/Selenium_demo/lib/python3.10/site-packages/selenium/webdriver/remote/webdriver.py?line=428'>429</a>\u001b[0m \u001b[39mif\u001b[39;00m response:\n\u001b[0;32m--> <a href='file:///Users/ryanhughes/opt/miniconda3/envs/Selenium_demo/lib/python3.10/site-packages/selenium/webdriver/remote/webdriver.py?line=429'>430</a>\u001b[0m     \u001b[39mself\u001b[39;49m\u001b[39m.\u001b[39;49merror_handler\u001b[39m.\u001b[39;49mcheck_response(response)\n\u001b[1;32m    <a href='file:///Users/ryanhughes/opt/miniconda3/envs/Selenium_demo/lib/python3.10/site-packages/selenium/webdriver/remote/webdriver.py?line=430'>431</a>\u001b[0m     response[\u001b[39m'\u001b[39m\u001b[39mvalue\u001b[39m\u001b[39m'\u001b[39m] \u001b[39m=\u001b[39m \u001b[39mself\u001b[39m\u001b[39m.\u001b[39m_unwrap_value(\n\u001b[1;32m    <a href='file:///Users/ryanhughes/opt/miniconda3/envs/Selenium_demo/lib/python3.10/site-packages/selenium/webdriver/remote/webdriver.py?line=431'>432</a>\u001b[0m         response\u001b[39m.\u001b[39mget(\u001b[39m'\u001b[39m\u001b[39mvalue\u001b[39m\u001b[39m'\u001b[39m, \u001b[39mNone\u001b[39;00m))\n\u001b[1;32m    <a href='file:///Users/ryanhughes/opt/miniconda3/envs/Selenium_demo/lib/python3.10/site-packages/selenium/webdriver/remote/webdriver.py?line=432'>433</a>\u001b[0m     \u001b[39mreturn\u001b[39;00m response\n",
      "File \u001b[0;32m~/opt/miniconda3/envs/Selenium_demo/lib/python3.10/site-packages/selenium/webdriver/remote/errorhandler.py:247\u001b[0m, in \u001b[0;36mErrorHandler.check_response\u001b[0;34m(self, response)\u001b[0m\n\u001b[1;32m    <a href='file:///Users/ryanhughes/opt/miniconda3/envs/Selenium_demo/lib/python3.10/site-packages/selenium/webdriver/remote/errorhandler.py?line=244'>245</a>\u001b[0m         alert_text \u001b[39m=\u001b[39m value[\u001b[39m'\u001b[39m\u001b[39malert\u001b[39m\u001b[39m'\u001b[39m]\u001b[39m.\u001b[39mget(\u001b[39m'\u001b[39m\u001b[39mtext\u001b[39m\u001b[39m'\u001b[39m)\n\u001b[1;32m    <a href='file:///Users/ryanhughes/opt/miniconda3/envs/Selenium_demo/lib/python3.10/site-packages/selenium/webdriver/remote/errorhandler.py?line=245'>246</a>\u001b[0m     \u001b[39mraise\u001b[39;00m exception_class(message, screen, stacktrace, alert_text)  \u001b[39m# type: ignore[call-arg]  # mypy is not smart enough here\u001b[39;00m\n\u001b[0;32m--> <a href='file:///Users/ryanhughes/opt/miniconda3/envs/Selenium_demo/lib/python3.10/site-packages/selenium/webdriver/remote/errorhandler.py?line=246'>247</a>\u001b[0m \u001b[39mraise\u001b[39;00m exception_class(message, screen, stacktrace)\n",
      "\u001b[0;31mNoSuchElementException\u001b[0m: Message: no such element: Unable to locate element: {\"method\":\"css selector\",\"selector\":\"[name=\"Bedrooms\"]\"}\n  (Session info: chrome=103.0.5060.114)\nStacktrace:\n0   chromedriver                        0x000000010d7f8079 chromedriver + 4444281\n1   chromedriver                        0x000000010d784403 chromedriver + 3970051\n2   chromedriver                        0x000000010d41f038 chromedriver + 409656\n3   chromedriver                        0x000000010d4552fd chromedriver + 631549\n4   chromedriver                        0x000000010d455581 chromedriver + 632193\n5   chromedriver                        0x000000010d4874f4 chromedriver + 836852\n6   chromedriver                        0x000000010d4727bd chromedriver + 751549\n7   chromedriver                        0x000000010d485221 chromedriver + 827937\n8   chromedriver                        0x000000010d472683 chromedriver + 751235\n9   chromedriver                        0x000000010d448a45 chromedriver + 580165\n10  chromedriver                        0x000000010d449a95 chromedriver + 584341\n11  chromedriver                        0x000000010d7c955d chromedriver + 4253021\n12  chromedriver                        0x000000010d7ce3a1 chromedriver + 4273057\n13  chromedriver                        0x000000010d7d316f chromedriver + 4292975\n14  chromedriver                        0x000000010d7cedea chromedriver + 4275690\n15  chromedriver                        0x000000010d7a854f chromedriver + 4117839\n16  chromedriver                        0x000000010d7e8ed8 chromedriver + 4382424\n17  chromedriver                        0x000000010d7e905f chromedriver + 4382815\n18  chromedriver                        0x000000010d7ff8d5 chromedriver + 4475093\n19  libsystem_pthread.dylib             0x00007ff80939f4f4 _pthread_start + 125\n20  libsystem_pthread.dylib             0x00007ff80939b00f thread_start + 15\n"
     ]
    }
   ],
   "source": [
    "info_3 = bot.driver.find_element(By.NAME, 'Bedrooms')"
   ]
  },
  {
   "cell_type": "markdown",
   "metadata": {},
   "source": [
    "for link in list_links:\n",
    "    time.sleep(3)\n",
    "    bot.driver.get(link)"
   ]
  },
  {
   "cell_type": "code",
   "execution_count": 25,
   "metadata": {},
   "outputs": [
    {
     "name": "stdout",
     "output_type": "stream",
     "text": [
      "\n"
     ]
    },
    {
     "name": "stderr",
     "output_type": "stream",
     "text": [
      "[WDM] - ====== WebDriver manager ======\n",
      "[WDM] - Current google-chrome version is 103.0.5060\n",
      "[WDM] - Get LATEST chromedriver version for 103.0.5060 google-chrome\n",
      "[WDM] - Driver [/Users/ryanhughes/.wdm/drivers/chromedriver/mac64/103.0.5060.53/chromedriver] found in cache\n",
      "/var/folders/k0/hpk5zvqn2rdfdj_f5sv8ptp80000gn/T/ipykernel_24373/3071741555.py:3: DeprecationWarning: executable_path has been deprecated, please pass in a Service object\n",
      "  self.driver = Chrome(ChromeDriverManager().install())\n",
      "/var/folders/k0/hpk5zvqn2rdfdj_f5sv8ptp80000gn/T/ipykernel_24373/3071741555.py:33: DeprecationWarning: find_element_by_xpath is deprecated. Please use find_element(by=By.XPATH, value=xpath) instead\n",
      "  rent = self.driver.find_element_by_xpath('//*[@id=\"searchForm\"]/div/div[2]/button[2]')\n",
      "/var/folders/k0/hpk5zvqn2rdfdj_f5sv8ptp80000gn/T/ipykernel_24373/3071741555.py:41: DeprecationWarning: find_element_by_xpath is deprecated. Please use find_element(by=By.XPATH, value=xpath) instead\n",
      "  button = self.driver.find_element_by_xpath('//*[@id=\"body\"]/div[3]/div/div[1]/div/ul/li[1]/div/a[2]')\n"
     ]
    }
   ],
   "source": [
    "bot = Scraper()\n",
    "time.sleep(3)\n",
    "bot.accept_cookies('//*[@id=\"qc-cmp2-ui\"]/div[2]/div/button[2]')\n",
    "bot.search_word('//*[@id=\"searchForm\"]/div/div[1]', 'BT4')\n",
    "bot.search_rent()\n",
    "time.sleep(2)\n",
    "bot.scroll_down()\n",
    "bot.scroll_down()\n",
    "bot.button_click('//*[@id=\"body\"]/div[3]/div/div[1]/div/ul/li[1]/div/a[2]')"
   ]
  },
  {
   "cell_type": "code",
   "execution_count": null,
   "metadata": {},
   "outputs": [],
   "source": [
    "driver = webdriver.Chrome(ChromeDriverManager().install())\n",
    "driver.get(\"https://www.propertypal.com\")\n",
    "time.sleep(2)\n",
    "accept_cookies = driver.find_element(By.XPATH, '//*[@id=\"qc-cmp2-ui\"]/div[2]/div/button[2]')\n",
    "accept_cookies.click()\n",
    "time.sleep(2)\n",
    "search = driver.find_element(By.XPATH, '//*[@id=\"searchForm\"]/div/div[1]')\n",
    "driver.implicitly_wait(10)\n",
    "ActionChains(driver).move_to_element(search).click(search).perform()\n",
    "ActionChains(driver).send_keys(\"BT4\").perform()"
   ]
  },
  {
   "cell_type": "code",
   "execution_count": 77,
   "metadata": {},
   "outputs": [
    {
     "name": "stdout",
     "output_type": "stream",
     "text": [
      "\n"
     ]
    },
    {
     "name": "stderr",
     "output_type": "stream",
     "text": [
      "[WDM] - ====== WebDriver manager ======\n",
      "[WDM] - Current google-chrome version is 103.0.5060\n",
      "[WDM] - Get LATEST chromedriver version for 103.0.5060 google-chrome\n",
      "[WDM] - About to download new driver from https://chromedriver.storage.googleapis.com/103.0.5060.53/chromedriver_mac64.zip\n",
      "[WDM] - Driver has been saved in cache [/Users/ryanhughes/.wdm/drivers/chromedriver/mac64/103.0.5060.53]\n",
      "/var/folders/k0/hpk5zvqn2rdfdj_f5sv8ptp80000gn/T/ipykernel_82170/937025597.py:3: DeprecationWarning: executable_path has been deprecated, please pass in a Service object\n",
      "  self.driver = Chrome(ChromeDriverManager().install())\n"
     ]
    }
   ],
   "source": [
    "propertypal = Scraper(\"https://www.propertypal.com\")"
   ]
  },
  {
   "cell_type": "code",
   "execution_count": 78,
   "metadata": {},
   "outputs": [
    {
     "name": "stderr",
     "output_type": "stream",
     "text": [
      "/var/folders/k0/hpk5zvqn2rdfdj_f5sv8ptp80000gn/T/ipykernel_82170/937025597.py:13: DeprecationWarning: find_element_by_xpath is deprecated. Please use find_element(by=By.XPATH, value=xpath) instead\n",
      "  button = self.driver.find_element_by_xpath(xpath)\n"
     ]
    }
   ],
   "source": [
    "propertypal.accept_cookies('//*[@id=\"qc-cmp2-ui\"]/div[2]/div/button[2]')"
   ]
  },
  {
   "cell_type": "code",
   "execution_count": 36,
   "metadata": {},
   "outputs": [
    {
     "name": "stderr",
     "output_type": "stream",
     "text": [
      "/var/folders/k0/hpk5zvqn2rdfdj_f5sv8ptp80000gn/T/ipykernel_82170/2345440001.py:26: DeprecationWarning: find_element_by_xpath is deprecated. Please use find_element(by=By.XPATH, value=xpath) instead\n",
      "  search_bar = self.driver.find_element_by_xpath(xpath)\n"
     ]
    },
    {
     "ename": "ElementNotInteractableException",
     "evalue": "Message: element not interactable\n  (Session info: chrome=103.0.5060.53)\nStacktrace:\n0   chromedriver                        0x0000000100d45079 chromedriver + 4444281\n1   chromedriver                        0x0000000100cd1403 chromedriver + 3970051\n2   chromedriver                        0x000000010096beef chromedriver + 409327\n3   chromedriver                        0x000000010099c60f chromedriver + 607759\n4   chromedriver                        0x000000010099bc0d chromedriver + 605197\n5   chromedriver                        0x00000001009bf792 chromedriver + 751506\n6   chromedriver                        0x0000000100996f65 chromedriver + 585573\n7   chromedriver                        0x00000001009bf89e chromedriver + 751774\n8   chromedriver                        0x00000001009d2221 chromedriver + 827937\n9   chromedriver                        0x00000001009bf683 chromedriver + 751235\n10  chromedriver                        0x0000000100995a45 chromedriver + 580165\n11  chromedriver                        0x0000000100996a95 chromedriver + 584341\n12  chromedriver                        0x0000000100d1655d chromedriver + 4253021\n13  chromedriver                        0x0000000100d1b3a1 chromedriver + 4273057\n14  chromedriver                        0x0000000100d2016f chromedriver + 4292975\n15  chromedriver                        0x0000000100d1bdea chromedriver + 4275690\n16  chromedriver                        0x0000000100cf554f chromedriver + 4117839\n17  chromedriver                        0x0000000100d35ed8 chromedriver + 4382424\n18  chromedriver                        0x0000000100d3605f chromedriver + 4382815\n19  chromedriver                        0x0000000100d4c8d5 chromedriver + 4475093\n20  libsystem_pthread.dylib             0x00007ff813e254f4 _pthread_start + 125\n21  libsystem_pthread.dylib             0x00007ff813e2100f thread_start + 15\n",
     "output_type": "error",
     "traceback": [
      "\u001b[0;31m---------------------------------------------------------------------------\u001b[0m",
      "\u001b[0;31mElementNotInteractableException\u001b[0m           Traceback (most recent call last)",
      "\u001b[1;32m/Users/ryanhughes/Desktop/Aicore/Property-Pal-Pipeline.ipynb Cell 9'\u001b[0m in \u001b[0;36m<cell line: 1>\u001b[0;34m()\u001b[0m\n\u001b[0;32m----> <a href='vscode-notebook-cell:/Users/ryanhughes/Desktop/Aicore/Property-Pal-Pipeline.ipynb#ch0000011?line=0'>1</a>\u001b[0m propertypal\u001b[39m.\u001b[39;49msearch_word(\u001b[39m'\u001b[39;49m\u001b[39m//*[@id=\u001b[39;49m\u001b[39m\"\u001b[39;49m\u001b[39msearchForm\u001b[39;49m\u001b[39m\"\u001b[39;49m\u001b[39m]/div/div[1]\u001b[39;49m\u001b[39m'\u001b[39;49m,\u001b[39m'\u001b[39;49m\u001b[39mBT4 BT5\u001b[39;49m\u001b[39m'\u001b[39;49m)\n",
      "\u001b[1;32m/Users/ryanhughes/Desktop/Aicore/Property-Pal-Pipeline.ipynb Cell 6'\u001b[0m in \u001b[0;36mScraper.search_word\u001b[0;34m(self, xpath, text)\u001b[0m\n\u001b[1;32m     <a href='vscode-notebook-cell:/Users/ryanhughes/Desktop/Aicore/Property-Pal-Pipeline.ipynb#ch0000004?line=25'>26</a>\u001b[0m search_bar \u001b[39m=\u001b[39m \u001b[39mself\u001b[39m\u001b[39m.\u001b[39mdriver\u001b[39m.\u001b[39mfind_element_by_xpath(xpath)\n\u001b[1;32m     <a href='vscode-notebook-cell:/Users/ryanhughes/Desktop/Aicore/Property-Pal-Pipeline.ipynb#ch0000004?line=26'>27</a>\u001b[0m search_bar\u001b[39m.\u001b[39mclick()\n\u001b[0;32m---> <a href='vscode-notebook-cell:/Users/ryanhughes/Desktop/Aicore/Property-Pal-Pipeline.ipynb#ch0000004?line=27'>28</a>\u001b[0m search_bar\u001b[39m.\u001b[39;49msend_keys(text)\n",
      "File \u001b[0;32m~/opt/miniconda3/envs/Selenium_demo/lib/python3.10/site-packages/selenium/webdriver/remote/webelement.py:600\u001b[0m, in \u001b[0;36mWebElement.send_keys\u001b[0;34m(self, *value)\u001b[0m\n\u001b[1;32m    <a href='file:///Users/ryanhughes/opt/miniconda3/envs/Selenium_demo/lib/python3.10/site-packages/selenium/webdriver/remote/webelement.py?line=596'>597</a>\u001b[0m             remote_files\u001b[39m.\u001b[39mappend(\u001b[39mself\u001b[39m\u001b[39m.\u001b[39m_upload(file))\n\u001b[1;32m    <a href='file:///Users/ryanhughes/opt/miniconda3/envs/Selenium_demo/lib/python3.10/site-packages/selenium/webdriver/remote/webelement.py?line=597'>598</a>\u001b[0m         value \u001b[39m=\u001b[39m \u001b[39m'\u001b[39m\u001b[39m\\n\u001b[39;00m\u001b[39m'\u001b[39m\u001b[39m.\u001b[39mjoin(remote_files)\n\u001b[0;32m--> <a href='file:///Users/ryanhughes/opt/miniconda3/envs/Selenium_demo/lib/python3.10/site-packages/selenium/webdriver/remote/webelement.py?line=599'>600</a>\u001b[0m \u001b[39mself\u001b[39;49m\u001b[39m.\u001b[39;49m_execute(Command\u001b[39m.\u001b[39;49mSEND_KEYS_TO_ELEMENT,\n\u001b[1;32m    <a href='file:///Users/ryanhughes/opt/miniconda3/envs/Selenium_demo/lib/python3.10/site-packages/selenium/webdriver/remote/webelement.py?line=600'>601</a>\u001b[0m               {\u001b[39m'\u001b[39;49m\u001b[39mtext\u001b[39;49m\u001b[39m'\u001b[39;49m: \u001b[39m\"\u001b[39;49m\u001b[39m\"\u001b[39;49m\u001b[39m.\u001b[39;49mjoin(keys_to_typing(value)),\n\u001b[1;32m    <a href='file:///Users/ryanhughes/opt/miniconda3/envs/Selenium_demo/lib/python3.10/site-packages/selenium/webdriver/remote/webelement.py?line=601'>602</a>\u001b[0m                \u001b[39m'\u001b[39;49m\u001b[39mvalue\u001b[39;49m\u001b[39m'\u001b[39;49m: keys_to_typing(value)})\n",
      "File \u001b[0;32m~/opt/miniconda3/envs/Selenium_demo/lib/python3.10/site-packages/selenium/webdriver/remote/webelement.py:773\u001b[0m, in \u001b[0;36mWebElement._execute\u001b[0;34m(self, command, params)\u001b[0m\n\u001b[1;32m    <a href='file:///Users/ryanhughes/opt/miniconda3/envs/Selenium_demo/lib/python3.10/site-packages/selenium/webdriver/remote/webelement.py?line=770'>771</a>\u001b[0m     params \u001b[39m=\u001b[39m {}\n\u001b[1;32m    <a href='file:///Users/ryanhughes/opt/miniconda3/envs/Selenium_demo/lib/python3.10/site-packages/selenium/webdriver/remote/webelement.py?line=771'>772</a>\u001b[0m params[\u001b[39m'\u001b[39m\u001b[39mid\u001b[39m\u001b[39m'\u001b[39m] \u001b[39m=\u001b[39m \u001b[39mself\u001b[39m\u001b[39m.\u001b[39m_id\n\u001b[0;32m--> <a href='file:///Users/ryanhughes/opt/miniconda3/envs/Selenium_demo/lib/python3.10/site-packages/selenium/webdriver/remote/webelement.py?line=772'>773</a>\u001b[0m \u001b[39mreturn\u001b[39;00m \u001b[39mself\u001b[39;49m\u001b[39m.\u001b[39;49m_parent\u001b[39m.\u001b[39;49mexecute(command, params)\n",
      "File \u001b[0;32m~/opt/miniconda3/envs/Selenium_demo/lib/python3.10/site-packages/selenium/webdriver/remote/webdriver.py:430\u001b[0m, in \u001b[0;36mWebDriver.execute\u001b[0;34m(self, driver_command, params)\u001b[0m\n\u001b[1;32m    <a href='file:///Users/ryanhughes/opt/miniconda3/envs/Selenium_demo/lib/python3.10/site-packages/selenium/webdriver/remote/webdriver.py?line=427'>428</a>\u001b[0m response \u001b[39m=\u001b[39m \u001b[39mself\u001b[39m\u001b[39m.\u001b[39mcommand_executor\u001b[39m.\u001b[39mexecute(driver_command, params)\n\u001b[1;32m    <a href='file:///Users/ryanhughes/opt/miniconda3/envs/Selenium_demo/lib/python3.10/site-packages/selenium/webdriver/remote/webdriver.py?line=428'>429</a>\u001b[0m \u001b[39mif\u001b[39;00m response:\n\u001b[0;32m--> <a href='file:///Users/ryanhughes/opt/miniconda3/envs/Selenium_demo/lib/python3.10/site-packages/selenium/webdriver/remote/webdriver.py?line=429'>430</a>\u001b[0m     \u001b[39mself\u001b[39;49m\u001b[39m.\u001b[39;49merror_handler\u001b[39m.\u001b[39;49mcheck_response(response)\n\u001b[1;32m    <a href='file:///Users/ryanhughes/opt/miniconda3/envs/Selenium_demo/lib/python3.10/site-packages/selenium/webdriver/remote/webdriver.py?line=430'>431</a>\u001b[0m     response[\u001b[39m'\u001b[39m\u001b[39mvalue\u001b[39m\u001b[39m'\u001b[39m] \u001b[39m=\u001b[39m \u001b[39mself\u001b[39m\u001b[39m.\u001b[39m_unwrap_value(\n\u001b[1;32m    <a href='file:///Users/ryanhughes/opt/miniconda3/envs/Selenium_demo/lib/python3.10/site-packages/selenium/webdriver/remote/webdriver.py?line=431'>432</a>\u001b[0m         response\u001b[39m.\u001b[39mget(\u001b[39m'\u001b[39m\u001b[39mvalue\u001b[39m\u001b[39m'\u001b[39m, \u001b[39mNone\u001b[39;00m))\n\u001b[1;32m    <a href='file:///Users/ryanhughes/opt/miniconda3/envs/Selenium_demo/lib/python3.10/site-packages/selenium/webdriver/remote/webdriver.py?line=432'>433</a>\u001b[0m     \u001b[39mreturn\u001b[39;00m response\n",
      "File \u001b[0;32m~/opt/miniconda3/envs/Selenium_demo/lib/python3.10/site-packages/selenium/webdriver/remote/errorhandler.py:247\u001b[0m, in \u001b[0;36mErrorHandler.check_response\u001b[0;34m(self, response)\u001b[0m\n\u001b[1;32m    <a href='file:///Users/ryanhughes/opt/miniconda3/envs/Selenium_demo/lib/python3.10/site-packages/selenium/webdriver/remote/errorhandler.py?line=244'>245</a>\u001b[0m         alert_text \u001b[39m=\u001b[39m value[\u001b[39m'\u001b[39m\u001b[39malert\u001b[39m\u001b[39m'\u001b[39m]\u001b[39m.\u001b[39mget(\u001b[39m'\u001b[39m\u001b[39mtext\u001b[39m\u001b[39m'\u001b[39m)\n\u001b[1;32m    <a href='file:///Users/ryanhughes/opt/miniconda3/envs/Selenium_demo/lib/python3.10/site-packages/selenium/webdriver/remote/errorhandler.py?line=245'>246</a>\u001b[0m     \u001b[39mraise\u001b[39;00m exception_class(message, screen, stacktrace, alert_text)  \u001b[39m# type: ignore[call-arg]  # mypy is not smart enough here\u001b[39;00m\n\u001b[0;32m--> <a href='file:///Users/ryanhughes/opt/miniconda3/envs/Selenium_demo/lib/python3.10/site-packages/selenium/webdriver/remote/errorhandler.py?line=246'>247</a>\u001b[0m \u001b[39mraise\u001b[39;00m exception_class(message, screen, stacktrace)\n",
      "\u001b[0;31mElementNotInteractableException\u001b[0m: Message: element not interactable\n  (Session info: chrome=103.0.5060.53)\nStacktrace:\n0   chromedriver                        0x0000000100d45079 chromedriver + 4444281\n1   chromedriver                        0x0000000100cd1403 chromedriver + 3970051\n2   chromedriver                        0x000000010096beef chromedriver + 409327\n3   chromedriver                        0x000000010099c60f chromedriver + 607759\n4   chromedriver                        0x000000010099bc0d chromedriver + 605197\n5   chromedriver                        0x00000001009bf792 chromedriver + 751506\n6   chromedriver                        0x0000000100996f65 chromedriver + 585573\n7   chromedriver                        0x00000001009bf89e chromedriver + 751774\n8   chromedriver                        0x00000001009d2221 chromedriver + 827937\n9   chromedriver                        0x00000001009bf683 chromedriver + 751235\n10  chromedriver                        0x0000000100995a45 chromedriver + 580165\n11  chromedriver                        0x0000000100996a95 chromedriver + 584341\n12  chromedriver                        0x0000000100d1655d chromedriver + 4253021\n13  chromedriver                        0x0000000100d1b3a1 chromedriver + 4273057\n14  chromedriver                        0x0000000100d2016f chromedriver + 4292975\n15  chromedriver                        0x0000000100d1bdea chromedriver + 4275690\n16  chromedriver                        0x0000000100cf554f chromedriver + 4117839\n17  chromedriver                        0x0000000100d35ed8 chromedriver + 4382424\n18  chromedriver                        0x0000000100d3605f chromedriver + 4382815\n19  chromedriver                        0x0000000100d4c8d5 chromedriver + 4475093\n20  libsystem_pthread.dylib             0x00007ff813e254f4 _pthread_start + 125\n21  libsystem_pthread.dylib             0x00007ff813e2100f thread_start + 15\n"
     ]
    }
   ],
   "source": [
    "propertypal.search_word('//*[@id=\"searchForm\"]/div/div[1]','BT4 BT5')"
   ]
  },
  {
   "cell_type": "code",
   "execution_count": 81,
   "metadata": {},
   "outputs": [
    {
     "ename": "ElementNotInteractableException",
     "evalue": "Message: element not interactable\n  (Session info: chrome=103.0.5060.53)\nStacktrace:\n0   chromedriver                        0x000000010c4c8079 chromedriver + 4444281\n1   chromedriver                        0x000000010c454403 chromedriver + 3970051\n2   chromedriver                        0x000000010c0eeeef chromedriver + 409327\n3   chromedriver                        0x000000010c126477 chromedriver + 636023\n4   chromedriver                        0x000000010c11a6a9 chromedriver + 587433\n5   chromedriver                        0x000000010c142792 chromedriver + 751506\n6   chromedriver                        0x000000010c119f65 chromedriver + 585573\n7   chromedriver                        0x000000010c14289e chromedriver + 751774\n8   chromedriver                        0x000000010c155221 chromedriver + 827937\n9   chromedriver                        0x000000010c142683 chromedriver + 751235\n10  chromedriver                        0x000000010c118a45 chromedriver + 580165\n11  chromedriver                        0x000000010c119a95 chromedriver + 584341\n12  chromedriver                        0x000000010c49955d chromedriver + 4253021\n13  chromedriver                        0x000000010c49e3a1 chromedriver + 4273057\n14  chromedriver                        0x000000010c4a316f chromedriver + 4292975\n15  chromedriver                        0x000000010c49edea chromedriver + 4275690\n16  chromedriver                        0x000000010c47854f chromedriver + 4117839\n17  chromedriver                        0x000000010c4b8ed8 chromedriver + 4382424\n18  chromedriver                        0x000000010c4b905f chromedriver + 4382815\n19  chromedriver                        0x000000010c4cf8d5 chromedriver + 4475093\n20  libsystem_pthread.dylib             0x00007ff813e254f4 _pthread_start + 125\n21  libsystem_pthread.dylib             0x00007ff813e2100f thread_start + 15\n",
     "output_type": "error",
     "traceback": [
      "\u001b[0;31m---------------------------------------------------------------------------\u001b[0m",
      "\u001b[0;31mElementNotInteractableException\u001b[0m           Traceback (most recent call last)",
      "\u001b[1;32m/Users/ryanhughes/Desktop/Aicore/Property-Pal-Pipeline.ipynb Cell 10'\u001b[0m in \u001b[0;36m<cell line: 2>\u001b[0;34m()\u001b[0m\n\u001b[1;32m      <a href='vscode-notebook-cell:/Users/ryanhughes/Desktop/Aicore/Property-Pal-Pipeline.ipynb#ch0000012?line=0'>1</a>\u001b[0m search \u001b[39m=\u001b[39m propertypal\u001b[39m.\u001b[39mdriver\u001b[39m.\u001b[39mfind_element(By\u001b[39m.\u001b[39mXPATH, \u001b[39m'\u001b[39m\u001b[39m//*[@id=\u001b[39m\u001b[39m\"\u001b[39m\u001b[39mquery\u001b[39m\u001b[39m\"\u001b[39m\u001b[39m]\u001b[39m\u001b[39m'\u001b[39m)\n\u001b[0;32m----> <a href='vscode-notebook-cell:/Users/ryanhughes/Desktop/Aicore/Property-Pal-Pipeline.ipynb#ch0000012?line=1'>2</a>\u001b[0m search\u001b[39m.\u001b[39;49mclick()\n",
      "File \u001b[0;32m~/opt/miniconda3/envs/Selenium_demo/lib/python3.10/site-packages/selenium/webdriver/remote/webelement.py:89\u001b[0m, in \u001b[0;36mWebElement.click\u001b[0;34m(self)\u001b[0m\n\u001b[1;32m     <a href='file:///Users/ryanhughes/opt/miniconda3/envs/Selenium_demo/lib/python3.10/site-packages/selenium/webdriver/remote/webelement.py?line=86'>87</a>\u001b[0m \u001b[39mdef\u001b[39;00m \u001b[39mclick\u001b[39m(\u001b[39mself\u001b[39m) \u001b[39m-\u001b[39m\u001b[39m>\u001b[39m \u001b[39mNone\u001b[39;00m:\n\u001b[1;32m     <a href='file:///Users/ryanhughes/opt/miniconda3/envs/Selenium_demo/lib/python3.10/site-packages/selenium/webdriver/remote/webelement.py?line=87'>88</a>\u001b[0m     \u001b[39m\"\"\"Clicks the element.\"\"\"\u001b[39;00m\n\u001b[0;32m---> <a href='file:///Users/ryanhughes/opt/miniconda3/envs/Selenium_demo/lib/python3.10/site-packages/selenium/webdriver/remote/webelement.py?line=88'>89</a>\u001b[0m     \u001b[39mself\u001b[39;49m\u001b[39m.\u001b[39;49m_execute(Command\u001b[39m.\u001b[39;49mCLICK_ELEMENT)\n",
      "File \u001b[0;32m~/opt/miniconda3/envs/Selenium_demo/lib/python3.10/site-packages/selenium/webdriver/remote/webelement.py:773\u001b[0m, in \u001b[0;36mWebElement._execute\u001b[0;34m(self, command, params)\u001b[0m\n\u001b[1;32m    <a href='file:///Users/ryanhughes/opt/miniconda3/envs/Selenium_demo/lib/python3.10/site-packages/selenium/webdriver/remote/webelement.py?line=770'>771</a>\u001b[0m     params \u001b[39m=\u001b[39m {}\n\u001b[1;32m    <a href='file:///Users/ryanhughes/opt/miniconda3/envs/Selenium_demo/lib/python3.10/site-packages/selenium/webdriver/remote/webelement.py?line=771'>772</a>\u001b[0m params[\u001b[39m'\u001b[39m\u001b[39mid\u001b[39m\u001b[39m'\u001b[39m] \u001b[39m=\u001b[39m \u001b[39mself\u001b[39m\u001b[39m.\u001b[39m_id\n\u001b[0;32m--> <a href='file:///Users/ryanhughes/opt/miniconda3/envs/Selenium_demo/lib/python3.10/site-packages/selenium/webdriver/remote/webelement.py?line=772'>773</a>\u001b[0m \u001b[39mreturn\u001b[39;00m \u001b[39mself\u001b[39;49m\u001b[39m.\u001b[39;49m_parent\u001b[39m.\u001b[39;49mexecute(command, params)\n",
      "File \u001b[0;32m~/opt/miniconda3/envs/Selenium_demo/lib/python3.10/site-packages/selenium/webdriver/remote/webdriver.py:430\u001b[0m, in \u001b[0;36mWebDriver.execute\u001b[0;34m(self, driver_command, params)\u001b[0m\n\u001b[1;32m    <a href='file:///Users/ryanhughes/opt/miniconda3/envs/Selenium_demo/lib/python3.10/site-packages/selenium/webdriver/remote/webdriver.py?line=427'>428</a>\u001b[0m response \u001b[39m=\u001b[39m \u001b[39mself\u001b[39m\u001b[39m.\u001b[39mcommand_executor\u001b[39m.\u001b[39mexecute(driver_command, params)\n\u001b[1;32m    <a href='file:///Users/ryanhughes/opt/miniconda3/envs/Selenium_demo/lib/python3.10/site-packages/selenium/webdriver/remote/webdriver.py?line=428'>429</a>\u001b[0m \u001b[39mif\u001b[39;00m response:\n\u001b[0;32m--> <a href='file:///Users/ryanhughes/opt/miniconda3/envs/Selenium_demo/lib/python3.10/site-packages/selenium/webdriver/remote/webdriver.py?line=429'>430</a>\u001b[0m     \u001b[39mself\u001b[39;49m\u001b[39m.\u001b[39;49merror_handler\u001b[39m.\u001b[39;49mcheck_response(response)\n\u001b[1;32m    <a href='file:///Users/ryanhughes/opt/miniconda3/envs/Selenium_demo/lib/python3.10/site-packages/selenium/webdriver/remote/webdriver.py?line=430'>431</a>\u001b[0m     response[\u001b[39m'\u001b[39m\u001b[39mvalue\u001b[39m\u001b[39m'\u001b[39m] \u001b[39m=\u001b[39m \u001b[39mself\u001b[39m\u001b[39m.\u001b[39m_unwrap_value(\n\u001b[1;32m    <a href='file:///Users/ryanhughes/opt/miniconda3/envs/Selenium_demo/lib/python3.10/site-packages/selenium/webdriver/remote/webdriver.py?line=431'>432</a>\u001b[0m         response\u001b[39m.\u001b[39mget(\u001b[39m'\u001b[39m\u001b[39mvalue\u001b[39m\u001b[39m'\u001b[39m, \u001b[39mNone\u001b[39;00m))\n\u001b[1;32m    <a href='file:///Users/ryanhughes/opt/miniconda3/envs/Selenium_demo/lib/python3.10/site-packages/selenium/webdriver/remote/webdriver.py?line=432'>433</a>\u001b[0m     \u001b[39mreturn\u001b[39;00m response\n",
      "File \u001b[0;32m~/opt/miniconda3/envs/Selenium_demo/lib/python3.10/site-packages/selenium/webdriver/remote/errorhandler.py:247\u001b[0m, in \u001b[0;36mErrorHandler.check_response\u001b[0;34m(self, response)\u001b[0m\n\u001b[1;32m    <a href='file:///Users/ryanhughes/opt/miniconda3/envs/Selenium_demo/lib/python3.10/site-packages/selenium/webdriver/remote/errorhandler.py?line=244'>245</a>\u001b[0m         alert_text \u001b[39m=\u001b[39m value[\u001b[39m'\u001b[39m\u001b[39malert\u001b[39m\u001b[39m'\u001b[39m]\u001b[39m.\u001b[39mget(\u001b[39m'\u001b[39m\u001b[39mtext\u001b[39m\u001b[39m'\u001b[39m)\n\u001b[1;32m    <a href='file:///Users/ryanhughes/opt/miniconda3/envs/Selenium_demo/lib/python3.10/site-packages/selenium/webdriver/remote/errorhandler.py?line=245'>246</a>\u001b[0m     \u001b[39mraise\u001b[39;00m exception_class(message, screen, stacktrace, alert_text)  \u001b[39m# type: ignore[call-arg]  # mypy is not smart enough here\u001b[39;00m\n\u001b[0;32m--> <a href='file:///Users/ryanhughes/opt/miniconda3/envs/Selenium_demo/lib/python3.10/site-packages/selenium/webdriver/remote/errorhandler.py?line=246'>247</a>\u001b[0m \u001b[39mraise\u001b[39;00m exception_class(message, screen, stacktrace)\n",
      "\u001b[0;31mElementNotInteractableException\u001b[0m: Message: element not interactable\n  (Session info: chrome=103.0.5060.53)\nStacktrace:\n0   chromedriver                        0x000000010c4c8079 chromedriver + 4444281\n1   chromedriver                        0x000000010c454403 chromedriver + 3970051\n2   chromedriver                        0x000000010c0eeeef chromedriver + 409327\n3   chromedriver                        0x000000010c126477 chromedriver + 636023\n4   chromedriver                        0x000000010c11a6a9 chromedriver + 587433\n5   chromedriver                        0x000000010c142792 chromedriver + 751506\n6   chromedriver                        0x000000010c119f65 chromedriver + 585573\n7   chromedriver                        0x000000010c14289e chromedriver + 751774\n8   chromedriver                        0x000000010c155221 chromedriver + 827937\n9   chromedriver                        0x000000010c142683 chromedriver + 751235\n10  chromedriver                        0x000000010c118a45 chromedriver + 580165\n11  chromedriver                        0x000000010c119a95 chromedriver + 584341\n12  chromedriver                        0x000000010c49955d chromedriver + 4253021\n13  chromedriver                        0x000000010c49e3a1 chromedriver + 4273057\n14  chromedriver                        0x000000010c4a316f chromedriver + 4292975\n15  chromedriver                        0x000000010c49edea chromedriver + 4275690\n16  chromedriver                        0x000000010c47854f chromedriver + 4117839\n17  chromedriver                        0x000000010c4b8ed8 chromedriver + 4382424\n18  chromedriver                        0x000000010c4b905f chromedriver + 4382815\n19  chromedriver                        0x000000010c4cf8d5 chromedriver + 4475093\n20  libsystem_pthread.dylib             0x00007ff813e254f4 _pthread_start + 125\n21  libsystem_pthread.dylib             0x00007ff813e2100f thread_start + 15\n"
     ]
    }
   ],
   "source": [
    "search = propertypal.driver.find_element(By.XPATH, '//*[@id=\"query\"]')\n",
    "search.click()\n",
    "search.send_keys(\"BT4\")"
   ]
  },
  {
   "cell_type": "code",
   "execution_count": 72,
   "metadata": {},
   "outputs": [
    {
     "ename": "ElementNotInteractableException",
     "evalue": "Message: element not interactable\n  (Session info: chrome=103.0.5060.53)\nStacktrace:\n0   chromedriver                        0x0000000101cd0079 chromedriver + 4444281\n1   chromedriver                        0x0000000101c5c403 chromedriver + 3970051\n2   chromedriver                        0x00000001018f6eef chromedriver + 409327\n3   chromedriver                        0x000000010192760f chromedriver + 607759\n4   chromedriver                        0x0000000101926c0d chromedriver + 605197\n5   chromedriver                        0x000000010194a792 chromedriver + 751506\n6   chromedriver                        0x0000000101921f65 chromedriver + 585573\n7   chromedriver                        0x000000010194a89e chromedriver + 751774\n8   chromedriver                        0x000000010195d221 chromedriver + 827937\n9   chromedriver                        0x000000010194a683 chromedriver + 751235\n10  chromedriver                        0x0000000101920a45 chromedriver + 580165\n11  chromedriver                        0x0000000101921a95 chromedriver + 584341\n12  chromedriver                        0x0000000101ca155d chromedriver + 4253021\n13  chromedriver                        0x0000000101ca63a1 chromedriver + 4273057\n14  chromedriver                        0x0000000101cab16f chromedriver + 4292975\n15  chromedriver                        0x0000000101ca6dea chromedriver + 4275690\n16  chromedriver                        0x0000000101c8054f chromedriver + 4117839\n17  chromedriver                        0x0000000101cc0ed8 chromedriver + 4382424\n18  chromedriver                        0x0000000101cc105f chromedriver + 4382815\n19  chromedriver                        0x0000000101cd78d5 chromedriver + 4475093\n20  libsystem_pthread.dylib             0x00007ff813e254f4 _pthread_start + 125\n21  libsystem_pthread.dylib             0x00007ff813e2100f thread_start + 15\n",
     "output_type": "error",
     "traceback": [
      "\u001b[0;31m---------------------------------------------------------------------------\u001b[0m",
      "\u001b[0;31mElementNotInteractableException\u001b[0m           Traceback (most recent call last)",
      "\u001b[1;32m/Users/ryanhughes/Desktop/Aicore/Property-Pal-Pipeline.ipynb Cell 10'\u001b[0m in \u001b[0;36m<cell line: 3>\u001b[0;34m()\u001b[0m\n\u001b[1;32m      <a href='vscode-notebook-cell:/Users/ryanhughes/Desktop/Aicore/Property-Pal-Pipeline.ipynb#ch0000013?line=0'>1</a>\u001b[0m search_bar \u001b[39m=\u001b[39m propertypal\u001b[39m.\u001b[39mdriver\u001b[39m.\u001b[39mfind_element(By\u001b[39m.\u001b[39mXPATH, \u001b[39m'\u001b[39m\u001b[39m//*[@id=\u001b[39m\u001b[39m\"\u001b[39m\u001b[39msearchForm\u001b[39m\u001b[39m\"\u001b[39m\u001b[39m]/div/div[1]/section\u001b[39m\u001b[39m'\u001b[39m)\n\u001b[1;32m      <a href='vscode-notebook-cell:/Users/ryanhughes/Desktop/Aicore/Property-Pal-Pipeline.ipynb#ch0000013?line=1'>2</a>\u001b[0m search_bar\u001b[39m.\u001b[39mclick\n\u001b[0;32m----> <a href='vscode-notebook-cell:/Users/ryanhughes/Desktop/Aicore/Property-Pal-Pipeline.ipynb#ch0000013?line=2'>3</a>\u001b[0m search_bar\u001b[39m.\u001b[39;49msend_keys(\u001b[39m\"\u001b[39;49m\u001b[39mBT4\u001b[39;49m\u001b[39m\"\u001b[39;49m)\n",
      "File \u001b[0;32m~/opt/miniconda3/envs/Selenium_demo/lib/python3.10/site-packages/selenium/webdriver/remote/webelement.py:600\u001b[0m, in \u001b[0;36mWebElement.send_keys\u001b[0;34m(self, *value)\u001b[0m\n\u001b[1;32m    <a href='file:///Users/ryanhughes/opt/miniconda3/envs/Selenium_demo/lib/python3.10/site-packages/selenium/webdriver/remote/webelement.py?line=596'>597</a>\u001b[0m             remote_files\u001b[39m.\u001b[39mappend(\u001b[39mself\u001b[39m\u001b[39m.\u001b[39m_upload(file))\n\u001b[1;32m    <a href='file:///Users/ryanhughes/opt/miniconda3/envs/Selenium_demo/lib/python3.10/site-packages/selenium/webdriver/remote/webelement.py?line=597'>598</a>\u001b[0m         value \u001b[39m=\u001b[39m \u001b[39m'\u001b[39m\u001b[39m\\n\u001b[39;00m\u001b[39m'\u001b[39m\u001b[39m.\u001b[39mjoin(remote_files)\n\u001b[0;32m--> <a href='file:///Users/ryanhughes/opt/miniconda3/envs/Selenium_demo/lib/python3.10/site-packages/selenium/webdriver/remote/webelement.py?line=599'>600</a>\u001b[0m \u001b[39mself\u001b[39;49m\u001b[39m.\u001b[39;49m_execute(Command\u001b[39m.\u001b[39;49mSEND_KEYS_TO_ELEMENT,\n\u001b[1;32m    <a href='file:///Users/ryanhughes/opt/miniconda3/envs/Selenium_demo/lib/python3.10/site-packages/selenium/webdriver/remote/webelement.py?line=600'>601</a>\u001b[0m               {\u001b[39m'\u001b[39;49m\u001b[39mtext\u001b[39;49m\u001b[39m'\u001b[39;49m: \u001b[39m\"\u001b[39;49m\u001b[39m\"\u001b[39;49m\u001b[39m.\u001b[39;49mjoin(keys_to_typing(value)),\n\u001b[1;32m    <a href='file:///Users/ryanhughes/opt/miniconda3/envs/Selenium_demo/lib/python3.10/site-packages/selenium/webdriver/remote/webelement.py?line=601'>602</a>\u001b[0m                \u001b[39m'\u001b[39;49m\u001b[39mvalue\u001b[39;49m\u001b[39m'\u001b[39;49m: keys_to_typing(value)})\n",
      "File \u001b[0;32m~/opt/miniconda3/envs/Selenium_demo/lib/python3.10/site-packages/selenium/webdriver/remote/webelement.py:773\u001b[0m, in \u001b[0;36mWebElement._execute\u001b[0;34m(self, command, params)\u001b[0m\n\u001b[1;32m    <a href='file:///Users/ryanhughes/opt/miniconda3/envs/Selenium_demo/lib/python3.10/site-packages/selenium/webdriver/remote/webelement.py?line=770'>771</a>\u001b[0m     params \u001b[39m=\u001b[39m {}\n\u001b[1;32m    <a href='file:///Users/ryanhughes/opt/miniconda3/envs/Selenium_demo/lib/python3.10/site-packages/selenium/webdriver/remote/webelement.py?line=771'>772</a>\u001b[0m params[\u001b[39m'\u001b[39m\u001b[39mid\u001b[39m\u001b[39m'\u001b[39m] \u001b[39m=\u001b[39m \u001b[39mself\u001b[39m\u001b[39m.\u001b[39m_id\n\u001b[0;32m--> <a href='file:///Users/ryanhughes/opt/miniconda3/envs/Selenium_demo/lib/python3.10/site-packages/selenium/webdriver/remote/webelement.py?line=772'>773</a>\u001b[0m \u001b[39mreturn\u001b[39;00m \u001b[39mself\u001b[39;49m\u001b[39m.\u001b[39;49m_parent\u001b[39m.\u001b[39;49mexecute(command, params)\n",
      "File \u001b[0;32m~/opt/miniconda3/envs/Selenium_demo/lib/python3.10/site-packages/selenium/webdriver/remote/webdriver.py:430\u001b[0m, in \u001b[0;36mWebDriver.execute\u001b[0;34m(self, driver_command, params)\u001b[0m\n\u001b[1;32m    <a href='file:///Users/ryanhughes/opt/miniconda3/envs/Selenium_demo/lib/python3.10/site-packages/selenium/webdriver/remote/webdriver.py?line=427'>428</a>\u001b[0m response \u001b[39m=\u001b[39m \u001b[39mself\u001b[39m\u001b[39m.\u001b[39mcommand_executor\u001b[39m.\u001b[39mexecute(driver_command, params)\n\u001b[1;32m    <a href='file:///Users/ryanhughes/opt/miniconda3/envs/Selenium_demo/lib/python3.10/site-packages/selenium/webdriver/remote/webdriver.py?line=428'>429</a>\u001b[0m \u001b[39mif\u001b[39;00m response:\n\u001b[0;32m--> <a href='file:///Users/ryanhughes/opt/miniconda3/envs/Selenium_demo/lib/python3.10/site-packages/selenium/webdriver/remote/webdriver.py?line=429'>430</a>\u001b[0m     \u001b[39mself\u001b[39;49m\u001b[39m.\u001b[39;49merror_handler\u001b[39m.\u001b[39;49mcheck_response(response)\n\u001b[1;32m    <a href='file:///Users/ryanhughes/opt/miniconda3/envs/Selenium_demo/lib/python3.10/site-packages/selenium/webdriver/remote/webdriver.py?line=430'>431</a>\u001b[0m     response[\u001b[39m'\u001b[39m\u001b[39mvalue\u001b[39m\u001b[39m'\u001b[39m] \u001b[39m=\u001b[39m \u001b[39mself\u001b[39m\u001b[39m.\u001b[39m_unwrap_value(\n\u001b[1;32m    <a href='file:///Users/ryanhughes/opt/miniconda3/envs/Selenium_demo/lib/python3.10/site-packages/selenium/webdriver/remote/webdriver.py?line=431'>432</a>\u001b[0m         response\u001b[39m.\u001b[39mget(\u001b[39m'\u001b[39m\u001b[39mvalue\u001b[39m\u001b[39m'\u001b[39m, \u001b[39mNone\u001b[39;00m))\n\u001b[1;32m    <a href='file:///Users/ryanhughes/opt/miniconda3/envs/Selenium_demo/lib/python3.10/site-packages/selenium/webdriver/remote/webdriver.py?line=432'>433</a>\u001b[0m     \u001b[39mreturn\u001b[39;00m response\n",
      "File \u001b[0;32m~/opt/miniconda3/envs/Selenium_demo/lib/python3.10/site-packages/selenium/webdriver/remote/errorhandler.py:247\u001b[0m, in \u001b[0;36mErrorHandler.check_response\u001b[0;34m(self, response)\u001b[0m\n\u001b[1;32m    <a href='file:///Users/ryanhughes/opt/miniconda3/envs/Selenium_demo/lib/python3.10/site-packages/selenium/webdriver/remote/errorhandler.py?line=244'>245</a>\u001b[0m         alert_text \u001b[39m=\u001b[39m value[\u001b[39m'\u001b[39m\u001b[39malert\u001b[39m\u001b[39m'\u001b[39m]\u001b[39m.\u001b[39mget(\u001b[39m'\u001b[39m\u001b[39mtext\u001b[39m\u001b[39m'\u001b[39m)\n\u001b[1;32m    <a href='file:///Users/ryanhughes/opt/miniconda3/envs/Selenium_demo/lib/python3.10/site-packages/selenium/webdriver/remote/errorhandler.py?line=245'>246</a>\u001b[0m     \u001b[39mraise\u001b[39;00m exception_class(message, screen, stacktrace, alert_text)  \u001b[39m# type: ignore[call-arg]  # mypy is not smart enough here\u001b[39;00m\n\u001b[0;32m--> <a href='file:///Users/ryanhughes/opt/miniconda3/envs/Selenium_demo/lib/python3.10/site-packages/selenium/webdriver/remote/errorhandler.py?line=246'>247</a>\u001b[0m \u001b[39mraise\u001b[39;00m exception_class(message, screen, stacktrace)\n",
      "\u001b[0;31mElementNotInteractableException\u001b[0m: Message: element not interactable\n  (Session info: chrome=103.0.5060.53)\nStacktrace:\n0   chromedriver                        0x0000000101cd0079 chromedriver + 4444281\n1   chromedriver                        0x0000000101c5c403 chromedriver + 3970051\n2   chromedriver                        0x00000001018f6eef chromedriver + 409327\n3   chromedriver                        0x000000010192760f chromedriver + 607759\n4   chromedriver                        0x0000000101926c0d chromedriver + 605197\n5   chromedriver                        0x000000010194a792 chromedriver + 751506\n6   chromedriver                        0x0000000101921f65 chromedriver + 585573\n7   chromedriver                        0x000000010194a89e chromedriver + 751774\n8   chromedriver                        0x000000010195d221 chromedriver + 827937\n9   chromedriver                        0x000000010194a683 chromedriver + 751235\n10  chromedriver                        0x0000000101920a45 chromedriver + 580165\n11  chromedriver                        0x0000000101921a95 chromedriver + 584341\n12  chromedriver                        0x0000000101ca155d chromedriver + 4253021\n13  chromedriver                        0x0000000101ca63a1 chromedriver + 4273057\n14  chromedriver                        0x0000000101cab16f chromedriver + 4292975\n15  chromedriver                        0x0000000101ca6dea chromedriver + 4275690\n16  chromedriver                        0x0000000101c8054f chromedriver + 4117839\n17  chromedriver                        0x0000000101cc0ed8 chromedriver + 4382424\n18  chromedriver                        0x0000000101cc105f chromedriver + 4382815\n19  chromedriver                        0x0000000101cd78d5 chromedriver + 4475093\n20  libsystem_pthread.dylib             0x00007ff813e254f4 _pthread_start + 125\n21  libsystem_pthread.dylib             0x00007ff813e2100f thread_start + 15\n"
     ]
    }
   ],
   "source": [
    "search_bar = propertypal.driver.find_element(By.XPATH, '//*[@id=\"searchForm\"]/div/div[1]/section')\n",
    "search_bar.click\n",
    "search_bar.send_keys(\"BT4\")"
   ]
  },
  {
   "cell_type": "code",
   "execution_count": 65,
   "metadata": {},
   "outputs": [],
   "source": [
    "propertypal.scroll_down()"
   ]
  },
  {
   "cell_type": "code",
   "execution_count": 82,
   "metadata": {},
   "outputs": [],
   "source": [
    "from selenium.webdriver.common.by import By\n",
    "from selenium.webdriver.common.action_chains import ActionChains\n",
    "import time "
   ]
  },
  {
   "cell_type": "code",
   "execution_count": 83,
   "metadata": {},
   "outputs": [
    {
     "name": "stdout",
     "output_type": "stream",
     "text": [
      "\n"
     ]
    },
    {
     "name": "stderr",
     "output_type": "stream",
     "text": [
      "[WDM] - ====== WebDriver manager ======\n",
      "[WDM] - Current google-chrome version is 103.0.5060\n",
      "[WDM] - Get LATEST chromedriver version for 103.0.5060 google-chrome\n",
      "[WDM] - Driver [/Users/ryanhughes/.wdm/drivers/chromedriver/mac64/103.0.5060.53/chromedriver] found in cache\n",
      "/var/folders/k0/hpk5zvqn2rdfdj_f5sv8ptp80000gn/T/ipykernel_82170/199523797.py:1: DeprecationWarning: executable_path has been deprecated, please pass in a Service object\n",
      "  driver = webdriver.Chrome(ChromeDriverManager().install())\n"
     ]
    }
   ],
   "source": [
    "driver = webdriver.Chrome(ChromeDriverManager().install())\n",
    "driver.get(\"https://www.propertypal.com\")\n",
    "time.sleep(2)\n",
    "accept_cookies = driver.find_element(By.XPATH, '//*[@id=\"qc-cmp2-ui\"]/div[2]/div/button[2]')\n",
    "accept_cookies.click()\n",
    "time.sleep(2)\n",
    "search = driver.find_element(By.XPATH, '//*[@id=\"searchForm\"]/div/div[1]')\n",
    "driver.implicitly_wait(10)\n",
    "ActionChains(driver).move_to_element(search).click(search).perform()\n",
    "ActionChains(driver).send_keys(\"BT4\").perform()\n"
   ]
  },
  {
   "cell_type": "code",
   "execution_count": null,
   "metadata": {},
   "outputs": [],
   "source": []
  }
 ],
 "metadata": {
  "interpreter": {
   "hash": "7cff52bf4713bc310c3529dfa4c8f486705b7e68a3bc265f7e385d5cb49a4053"
  },
  "kernelspec": {
   "display_name": "Python 3.9.7 ('base')",
   "language": "python",
   "name": "python3"
  },
  "language_info": {
   "codemirror_mode": {
    "name": "ipython",
    "version": 3
   },
   "file_extension": ".py",
   "mimetype": "text/x-python",
   "name": "python",
   "nbconvert_exporter": "python",
   "pygments_lexer": "ipython3",
   "version": "3.10.4"
  },
  "orig_nbformat": 4
 },
 "nbformat": 4,
 "nbformat_minor": 2
}
