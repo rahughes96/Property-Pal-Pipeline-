{
 "cells": [
  {
   "cell_type": "code",
   "execution_count": 1,
   "metadata": {},
   "outputs": [
    {
     "name": "stdout",
     "output_type": "stream",
     "text": [
      "\n"
     ]
    },
    {
     "name": "stderr",
     "output_type": "stream",
     "text": [
      "[WDM] - ====== WebDriver manager ======\n",
      "[WDM] - Current google-chrome version is 103.0.5060\n",
      "[WDM] - Get LATEST chromedriver version for 103.0.5060 google-chrome\n",
      "[WDM] - Driver [/Users/ryanhughes/.wdm/drivers/chromedriver/mac64/103.0.5060.53/chromedriver] found in cache\n",
      "/var/folders/k0/hpk5zvqn2rdfdj_f5sv8ptp80000gn/T/ipykernel_76763/3368490567.py:20: DeprecationWarning: executable_path has been deprecated, please pass in a Service object\n",
      "  self.driver = Chrome(ChromeDriverManager().install())\n",
      "/var/folders/k0/hpk5zvqn2rdfdj_f5sv8ptp80000gn/T/ipykernel_76763/3368490567.py:59: DeprecationWarning: find_element_by_xpath is deprecated. Please use find_element(by=By.XPATH, value=xpath) instead\n",
      "  button = self.driver.find_element_by_xpath(xpath)\n",
      "/var/folders/k0/hpk5zvqn2rdfdj_f5sv8ptp80000gn/T/ipykernel_76763/3368490567.py:51: DeprecationWarning: find_element_by_xpath is deprecated. Please use find_element(by=By.XPATH, value=xpath) instead\n",
      "  rent = self.driver.find_element_by_xpath('//*[@id=\"searchForm\"]/div/div[2]/button[2]')\n"
     ]
    },
    {
     "name": "stdout",
     "output_type": "stream",
     "text": [
      "Finding elements...\n",
      "looking for container\n",
      "No element found\n",
      "looking for container\n",
      "No element found\n",
      "looking for container\n",
      "No element found\n",
      "looking for container\n",
      "No element found\n",
      "looking for container\n",
      "No element found\n",
      "looking for container\n",
      "No element found\n",
      "No element found\n",
      "looking for container\n",
      "No element found\n",
      "looking for container\n",
      "No element found\n",
      "looking for container\n",
      "No element found\n",
      "looking for container\n",
      "No element found\n",
      "looking for container\n",
      "No element found\n",
      "looking for container\n",
      "No element found\n",
      "looking for container\n",
      "No element found\n",
      "looking for container\n",
      "No element found\n",
      "looking for container\n",
      "No element found\n",
      "looking for container\n",
      "No element found\n",
      "No element found\n",
      "looking for container\n",
      "No element found\n",
      "looking for container\n",
      "No element found\n",
      "looking for container\n",
      "No element found\n",
      "looking for container\n",
      "No element found\n",
      "looking for container\n",
      "No element found\n",
      "No element found\n",
      "No more pages\n",
      "gathering info...\n"
     ]
    },
    {
     "data": {
      "text/html": [
       "<div>\n",
       "<style scoped>\n",
       "    .dataframe tbody tr th:only-of-type {\n",
       "        vertical-align: middle;\n",
       "    }\n",
       "\n",
       "    .dataframe tbody tr th {\n",
       "        vertical-align: top;\n",
       "    }\n",
       "\n",
       "    .dataframe thead th {\n",
       "        text-align: right;\n",
       "    }\n",
       "</style>\n",
       "<table border=\"1\" class=\"dataframe\">\n",
       "  <thead>\n",
       "    <tr style=\"text-align: right;\">\n",
       "      <th></th>\n",
       "      <th>fr-id</th>\n",
       "      <th>id</th>\n",
       "      <th>Link</th>\n",
       "      <th>Summary</th>\n",
       "      <th>Address</th>\n",
       "      <th>Price</th>\n",
       "      <th>Image links</th>\n",
       "    </tr>\n",
       "  </thead>\n",
       "  <tbody>\n",
       "    <tr>\n",
       "      <th>0</th>\n",
       "      <td>56-park766769</td>\n",
       "      <td>01ef3a17-4771-4ec9-a148-0bbd60cb6716</td>\n",
       "      <td>https://www.propertypal.com/56-park-avenue-bel...</td>\n",
       "      <td>3 Bed Terrace House To Rent</td>\n",
       "      <td>56 PARK AVENUE,\\nBELFAST BT4 1JJ</td>\n",
       "      <td>£795\\n/ month + fees</td>\n",
       "      <td>[]</td>\n",
       "    </tr>\n",
       "    <tr>\n",
       "      <th>1</th>\n",
       "      <td>apt-1-2548636</td>\n",
       "      <td>c58afd82-05ee-4ea1-a8f7-79bf69ffcc86</td>\n",
       "      <td>https://www.propertypal.com/apt-1-223d-belmont...</td>\n",
       "      <td>1 Bed Apartment To Rent</td>\n",
       "      <td>APT 1, 223D BELMONT ROAD,\\nBELFAST BT4 2AH</td>\n",
       "      <td>£725\\n/ month + fees</td>\n",
       "      <td>[]</td>\n",
       "    </tr>\n",
       "    <tr>\n",
       "      <th>2</th>\n",
       "      <td>1a-care765807</td>\n",
       "      <td>9cc989cc-5893-47ec-bdf9-ad4224e1e598</td>\n",
       "      <td>https://www.propertypal.com/1a-carew-street-be...</td>\n",
       "      <td>2 Bed End-terrace House To Rent</td>\n",
       "      <td>1A CAREW STREET,\\nBelfast BT4 1HQ</td>\n",
       "      <td>£600\\n/ month</td>\n",
       "      <td>[]</td>\n",
       "    </tr>\n",
       "    <tr>\n",
       "      <th>3</th>\n",
       "      <td>13-bath765788</td>\n",
       "      <td>189cf83d-2e67-4510-99f1-0eb78d593e00</td>\n",
       "      <td>https://www.propertypal.com/13-bathgate-drive-...</td>\n",
       "      <td>4 Bed Terrace House To Rent</td>\n",
       "      <td>13 BATHGATE DRIVE,\\nBelfast BT4 2BA</td>\n",
       "      <td>£895\\n/ month + fees</td>\n",
       "      <td>[]</td>\n",
       "    </tr>\n",
       "    <tr>\n",
       "      <th>4</th>\n",
       "      <td>flat-3-532728</td>\n",
       "      <td>38b6501b-b3d3-4ebb-b087-e55a0a0f79cc</td>\n",
       "      <td>https://www.propertypal.com/flat-3-152-upper-n...</td>\n",
       "      <td>1 Bed Apartment To Rent</td>\n",
       "      <td>FLAT 3, 152 UPPER NEWTOWNARDS ROAD,\\n152 Upper...</td>\n",
       "      <td>£550\\n/ month + fees</td>\n",
       "      <td>[]</td>\n",
       "    </tr>\n",
       "    <tr>\n",
       "      <th>5</th>\n",
       "      <td>229-par765499</td>\n",
       "      <td>b63b85c8-5e25-470d-be73-81b01243c28b</td>\n",
       "      <td>https://www.propertypal.com/229-park-avenue-be...</td>\n",
       "      <td>4 Bed Mid-terrace House To Rent</td>\n",
       "      <td>229 PARK AVENUE,\\nBelfast BT4 1LN</td>\n",
       "      <td>£1,100\\n/ month + fees</td>\n",
       "      <td>[]</td>\n",
       "    </tr>\n",
       "    <tr>\n",
       "      <th>6</th>\n",
       "      <td>9-pims-765427</td>\n",
       "      <td>fd7e2892-4fd6-451c-aafe-ca57dcd85050</td>\n",
       "      <td>https://www.propertypal.com/9-pims-avenue-belf...</td>\n",
       "      <td>3 Bed Terrace House To Rent</td>\n",
       "      <td>9 PIMS AVENUE,\\nBELFAST BT4 1PJ</td>\n",
       "      <td>£750\\n/ month + fees</td>\n",
       "      <td>[]</td>\n",
       "    </tr>\n",
       "    <tr>\n",
       "      <th>7</th>\n",
       "      <td>apt-3-g765358</td>\n",
       "      <td>a0fd694a-1f65-4618-a95c-ee3b88281dcb</td>\n",
       "      <td>https://www.propertypal.com/apt-3-goldstone-ha...</td>\n",
       "      <td>2 Bed 1st Floor Apartment To Rent</td>\n",
       "      <td>APT 3, GOLDSTONE HALL,\\nBelfast BT4 1JE</td>\n",
       "      <td>£775\\n/ month + fees</td>\n",
       "      <td>[]</td>\n",
       "    </tr>\n",
       "    <tr>\n",
       "      <th>8</th>\n",
       "      <td>53-uppe765329</td>\n",
       "      <td>e6fa9a92-cd3c-47c2-babf-af66fd39e97b</td>\n",
       "      <td>https://www.propertypal.com/53-upper-newtownar...</td>\n",
       "      <td>3 Bed Terrace House To Rent</td>\n",
       "      <td>53 UPPER NEWTOWNARDS ROAD,\\nBELFAST BT4 3HT</td>\n",
       "      <td>£850\\n/ month + fees</td>\n",
       "      <td>[]</td>\n",
       "    </tr>\n",
       "    <tr>\n",
       "      <th>9</th>\n",
       "      <td>4-devon765273</td>\n",
       "      <td>b4615223-ff40-4e9c-93fb-98cea4914d92</td>\n",
       "      <td>https://www.propertypal.com/4-devon-drive-syde...</td>\n",
       "      <td>2 Bed Terrace House To Rent</td>\n",
       "      <td>4 DEVON DRIVE,\\nSydenham, Belfast BT4 1LF</td>\n",
       "      <td>£575\\n/ month</td>\n",
       "      <td>[]</td>\n",
       "    </tr>\n",
       "    <tr>\n",
       "      <th>10</th>\n",
       "      <td>40-norw765201</td>\n",
       "      <td>c1a7bb30-6bbb-4289-894a-c647fc8cbdd2</td>\n",
       "      <td>https://www.propertypal.com/40-norwood-avenue-...</td>\n",
       "      <td>3 Bed Semi-detached House To Rent</td>\n",
       "      <td>40 NORWOOD AVENUE,\\nBelfast BT4 2EF</td>\n",
       "      <td>£1,250\\n/ month + fees</td>\n",
       "      <td>[]</td>\n",
       "    </tr>\n",
       "    <tr>\n",
       "      <th>11</th>\n",
       "      <td>the-lim105704</td>\n",
       "      <td>21443fe1-0989-4625-914a-5757f69937b0</td>\n",
       "      <td>https://www.propertypal.com/the-limes-216-belm...</td>\n",
       "      <td>2 Bed Apartment To Rent</td>\n",
       "      <td>THE LIMES, 216 BELMONT ROAD,\\nBelfast BT4 2AT</td>\n",
       "      <td>£775\\n/ month + fees</td>\n",
       "      <td>[]</td>\n",
       "    </tr>\n",
       "    <tr>\n",
       "      <th>12</th>\n",
       "      <td>79-uppe730603</td>\n",
       "      <td>5c572b5a-26cc-4b96-8489-47fc971fb87a</td>\n",
       "      <td>https://www.propertypal.com/79-upper-newtownar...</td>\n",
       "      <td>Double Room To Rent</td>\n",
       "      <td>79 UPPER NEWTOWNARDS ROAD,\\nBelfast BT4 3HU</td>\n",
       "      <td>£550\\n/ month + fees</td>\n",
       "      <td>[]</td>\n",
       "    </tr>\n",
       "    <tr>\n",
       "      <th>13</th>\n",
       "      <td>apt-12-762260</td>\n",
       "      <td>b600be2a-0aac-4ccd-8552-81ad44b1c92e</td>\n",
       "      <td>https://www.propertypal.com/apt-12-39-dundela-...</td>\n",
       "      <td>2 Bed Apartment To Rent</td>\n",
       "      <td>APT 12, 39 DUNDELA CRESCENT,\\nBelfast BT4 3BN</td>\n",
       "      <td>£775\\n/ month + fees</td>\n",
       "      <td>[]</td>\n",
       "    </tr>\n",
       "    <tr>\n",
       "      <th>14</th>\n",
       "      <td>73-uppe761430</td>\n",
       "      <td>bfe34a30-13ef-465f-ba99-7d7c0ca5ddec</td>\n",
       "      <td>https://www.propertypal.com/73-upper-newtownar...</td>\n",
       "      <td>1 Bed 2nd Floor Apartment To Rent</td>\n",
       "      <td>73 UPPER NEWTOWNARDS ROAD (APT 3),\\nBallyhacka...</td>\n",
       "      <td>£575\\n/ month + fees</td>\n",
       "      <td>[]</td>\n",
       "    </tr>\n",
       "    <tr>\n",
       "      <th>15</th>\n",
       "      <td>352-bel512687</td>\n",
       "      <td>ec7933d1-8841-435e-8cf9-f9dc2159afbf</td>\n",
       "      <td>https://www.propertypal.com/352-belmont-road-k...</td>\n",
       "      <td>4 Bed Semi-detached House To Rent</td>\n",
       "      <td>352 BELMONT ROAD,\\nKnockdarragh, Belfast BT4 2LA</td>\n",
       "      <td>£2,095\\n/ month + fees</td>\n",
       "      <td>[]</td>\n",
       "    </tr>\n",
       "    <tr>\n",
       "      <th>16</th>\n",
       "      <td>84-lark759906</td>\n",
       "      <td>5847a996-bf2f-4da5-905c-0ca7a095e3f6</td>\n",
       "      <td>https://www.propertypal.com/84-larkfield-road-...</td>\n",
       "      <td>3 Bed Terrace House To Rent</td>\n",
       "      <td>84 LARKFIELD ROAD,\\nBELFAST BT4 1QF</td>\n",
       "      <td>£750\\n/ month + fees</td>\n",
       "      <td>[]</td>\n",
       "    </tr>\n",
       "    <tr>\n",
       "      <th>17</th>\n",
       "      <td>9-larkf759461</td>\n",
       "      <td>7c79a171-1767-4ad0-b8cb-2940f5c2529a</td>\n",
       "      <td>https://www.propertypal.com/9-larkfield-grove-...</td>\n",
       "      <td>3 Bed Terrace House To Rent</td>\n",
       "      <td>9 LARKFIELD GROVE,\\nSydenham, Belfast BT4 1QH</td>\n",
       "      <td>£770\\n/ month</td>\n",
       "      <td>[]</td>\n",
       "    </tr>\n",
       "    <tr>\n",
       "      <th>18</th>\n",
       "      <td>85-uppe606480</td>\n",
       "      <td>6f5048fc-56c6-40b8-8525-086ed29ef2e1</td>\n",
       "      <td>https://www.propertypal.com/85-upper-newtownar...</td>\n",
       "      <td>Double Room To Rent</td>\n",
       "      <td>85 UPPER NEWTOWNARDS ROAD,\\nRoom 5, Belfast BT...</td>\n",
       "      <td>£480\\n/ month + fees</td>\n",
       "      <td>[]</td>\n",
       "    </tr>\n",
       "    <tr>\n",
       "      <th>19</th>\n",
       "      <td>55c-vic752602</td>\n",
       "      <td>2082049b-ed4f-4b0d-aef0-3b861e75f38d</td>\n",
       "      <td>https://www.propertypal.com/55c-victoria-road-...</td>\n",
       "      <td>2 Bed Top Floor Apartment To Rent</td>\n",
       "      <td>55C VICTORIA ROAD,\\nBelfast BT4 1QW</td>\n",
       "      <td>£650\\n/ month + fees</td>\n",
       "      <td>[]</td>\n",
       "    </tr>\n",
       "    <tr>\n",
       "      <th>20</th>\n",
       "      <td>187-hol343908</td>\n",
       "      <td>60c961fe-6c17-4958-b994-42f97efddf4a</td>\n",
       "      <td>https://www.propertypal.com/187-holywood-road-...</td>\n",
       "      <td>6 Bed End-terrace House To Rent</td>\n",
       "      <td>187 HOLYWOOD ROAD,\\nBelfast BT4 2DG</td>\n",
       "      <td>£1,050\\n/ month + fees</td>\n",
       "      <td>[]</td>\n",
       "    </tr>\n",
       "  </tbody>\n",
       "</table>\n",
       "</div>"
      ],
      "text/plain": [
       "            fr-id                                    id  \\\n",
       "0   56-park766769  01ef3a17-4771-4ec9-a148-0bbd60cb6716   \n",
       "1   apt-1-2548636  c58afd82-05ee-4ea1-a8f7-79bf69ffcc86   \n",
       "2   1a-care765807  9cc989cc-5893-47ec-bdf9-ad4224e1e598   \n",
       "3   13-bath765788  189cf83d-2e67-4510-99f1-0eb78d593e00   \n",
       "4   flat-3-532728  38b6501b-b3d3-4ebb-b087-e55a0a0f79cc   \n",
       "5   229-par765499  b63b85c8-5e25-470d-be73-81b01243c28b   \n",
       "6   9-pims-765427  fd7e2892-4fd6-451c-aafe-ca57dcd85050   \n",
       "7   apt-3-g765358  a0fd694a-1f65-4618-a95c-ee3b88281dcb   \n",
       "8   53-uppe765329  e6fa9a92-cd3c-47c2-babf-af66fd39e97b   \n",
       "9   4-devon765273  b4615223-ff40-4e9c-93fb-98cea4914d92   \n",
       "10  40-norw765201  c1a7bb30-6bbb-4289-894a-c647fc8cbdd2   \n",
       "11  the-lim105704  21443fe1-0989-4625-914a-5757f69937b0   \n",
       "12  79-uppe730603  5c572b5a-26cc-4b96-8489-47fc971fb87a   \n",
       "13  apt-12-762260  b600be2a-0aac-4ccd-8552-81ad44b1c92e   \n",
       "14  73-uppe761430  bfe34a30-13ef-465f-ba99-7d7c0ca5ddec   \n",
       "15  352-bel512687  ec7933d1-8841-435e-8cf9-f9dc2159afbf   \n",
       "16  84-lark759906  5847a996-bf2f-4da5-905c-0ca7a095e3f6   \n",
       "17  9-larkf759461  7c79a171-1767-4ad0-b8cb-2940f5c2529a   \n",
       "18  85-uppe606480  6f5048fc-56c6-40b8-8525-086ed29ef2e1   \n",
       "19  55c-vic752602  2082049b-ed4f-4b0d-aef0-3b861e75f38d   \n",
       "20  187-hol343908  60c961fe-6c17-4958-b994-42f97efddf4a   \n",
       "\n",
       "                                                 Link  \\\n",
       "0   https://www.propertypal.com/56-park-avenue-bel...   \n",
       "1   https://www.propertypal.com/apt-1-223d-belmont...   \n",
       "2   https://www.propertypal.com/1a-carew-street-be...   \n",
       "3   https://www.propertypal.com/13-bathgate-drive-...   \n",
       "4   https://www.propertypal.com/flat-3-152-upper-n...   \n",
       "5   https://www.propertypal.com/229-park-avenue-be...   \n",
       "6   https://www.propertypal.com/9-pims-avenue-belf...   \n",
       "7   https://www.propertypal.com/apt-3-goldstone-ha...   \n",
       "8   https://www.propertypal.com/53-upper-newtownar...   \n",
       "9   https://www.propertypal.com/4-devon-drive-syde...   \n",
       "10  https://www.propertypal.com/40-norwood-avenue-...   \n",
       "11  https://www.propertypal.com/the-limes-216-belm...   \n",
       "12  https://www.propertypal.com/79-upper-newtownar...   \n",
       "13  https://www.propertypal.com/apt-12-39-dundela-...   \n",
       "14  https://www.propertypal.com/73-upper-newtownar...   \n",
       "15  https://www.propertypal.com/352-belmont-road-k...   \n",
       "16  https://www.propertypal.com/84-larkfield-road-...   \n",
       "17  https://www.propertypal.com/9-larkfield-grove-...   \n",
       "18  https://www.propertypal.com/85-upper-newtownar...   \n",
       "19  https://www.propertypal.com/55c-victoria-road-...   \n",
       "20  https://www.propertypal.com/187-holywood-road-...   \n",
       "\n",
       "                              Summary  \\\n",
       "0         3 Bed Terrace House To Rent   \n",
       "1             1 Bed Apartment To Rent   \n",
       "2     2 Bed End-terrace House To Rent   \n",
       "3         4 Bed Terrace House To Rent   \n",
       "4             1 Bed Apartment To Rent   \n",
       "5     4 Bed Mid-terrace House To Rent   \n",
       "6         3 Bed Terrace House To Rent   \n",
       "7   2 Bed 1st Floor Apartment To Rent   \n",
       "8         3 Bed Terrace House To Rent   \n",
       "9         2 Bed Terrace House To Rent   \n",
       "10  3 Bed Semi-detached House To Rent   \n",
       "11            2 Bed Apartment To Rent   \n",
       "12                Double Room To Rent   \n",
       "13            2 Bed Apartment To Rent   \n",
       "14  1 Bed 2nd Floor Apartment To Rent   \n",
       "15  4 Bed Semi-detached House To Rent   \n",
       "16        3 Bed Terrace House To Rent   \n",
       "17        3 Bed Terrace House To Rent   \n",
       "18                Double Room To Rent   \n",
       "19  2 Bed Top Floor Apartment To Rent   \n",
       "20    6 Bed End-terrace House To Rent   \n",
       "\n",
       "                                              Address                   Price  \\\n",
       "0                    56 PARK AVENUE,\\nBELFAST BT4 1JJ    £795\\n/ month + fees   \n",
       "1          APT 1, 223D BELMONT ROAD,\\nBELFAST BT4 2AH    £725\\n/ month + fees   \n",
       "2                   1A CAREW STREET,\\nBelfast BT4 1HQ           £600\\n/ month   \n",
       "3                 13 BATHGATE DRIVE,\\nBelfast BT4 2BA    £895\\n/ month + fees   \n",
       "4   FLAT 3, 152 UPPER NEWTOWNARDS ROAD,\\n152 Upper...    £550\\n/ month + fees   \n",
       "5                   229 PARK AVENUE,\\nBelfast BT4 1LN  £1,100\\n/ month + fees   \n",
       "6                     9 PIMS AVENUE,\\nBELFAST BT4 1PJ    £750\\n/ month + fees   \n",
       "7             APT 3, GOLDSTONE HALL,\\nBelfast BT4 1JE    £775\\n/ month + fees   \n",
       "8         53 UPPER NEWTOWNARDS ROAD,\\nBELFAST BT4 3HT    £850\\n/ month + fees   \n",
       "9           4 DEVON DRIVE,\\nSydenham, Belfast BT4 1LF           £575\\n/ month   \n",
       "10                40 NORWOOD AVENUE,\\nBelfast BT4 2EF  £1,250\\n/ month + fees   \n",
       "11      THE LIMES, 216 BELMONT ROAD,\\nBelfast BT4 2AT    £775\\n/ month + fees   \n",
       "12        79 UPPER NEWTOWNARDS ROAD,\\nBelfast BT4 3HU    £550\\n/ month + fees   \n",
       "13      APT 12, 39 DUNDELA CRESCENT,\\nBelfast BT4 3BN    £775\\n/ month + fees   \n",
       "14  73 UPPER NEWTOWNARDS ROAD (APT 3),\\nBallyhacka...    £575\\n/ month + fees   \n",
       "15   352 BELMONT ROAD,\\nKnockdarragh, Belfast BT4 2LA  £2,095\\n/ month + fees   \n",
       "16                84 LARKFIELD ROAD,\\nBELFAST BT4 1QF    £750\\n/ month + fees   \n",
       "17      9 LARKFIELD GROVE,\\nSydenham, Belfast BT4 1QH           £770\\n/ month   \n",
       "18  85 UPPER NEWTOWNARDS ROAD,\\nRoom 5, Belfast BT...    £480\\n/ month + fees   \n",
       "19                55C VICTORIA ROAD,\\nBelfast BT4 1QW    £650\\n/ month + fees   \n",
       "20                187 HOLYWOOD ROAD,\\nBelfast BT4 2DG  £1,050\\n/ month + fees   \n",
       "\n",
       "   Image links  \n",
       "0           []  \n",
       "1           []  \n",
       "2           []  \n",
       "3           []  \n",
       "4           []  \n",
       "5           []  \n",
       "6           []  \n",
       "7           []  \n",
       "8           []  \n",
       "9           []  \n",
       "10          []  \n",
       "11          []  \n",
       "12          []  \n",
       "13          []  \n",
       "14          []  \n",
       "15          []  \n",
       "16          []  \n",
       "17          []  \n",
       "18          []  \n",
       "19          []  \n",
       "20          []  "
      ]
     },
     "execution_count": 1,
     "metadata": {},
     "output_type": "execute_result"
    }
   ],
   "source": [
    "import selenium\n",
    "from selenium import webdriver\n",
    "import pandas as pd\n",
    "from selenium.webdriver import Chrome\n",
    "from webdriver_manager.chrome import ChromeDriverManager\n",
    "from selenium.webdriver.common.by import By\n",
    "from selenium.webdriver.common.action_chains import ActionChains\n",
    "from selenium.webdriver.support.ui import WebDriverWait\n",
    "from selenium.webdriver.support import expected_conditions as EC\n",
    "from selenium.common.exceptions import TimeoutException\n",
    "from selenium.common.exceptions import NoSuchElementException\n",
    "import time\n",
    "import uuid\n",
    "import os\n",
    "import urllib\n",
    "\n",
    "\n",
    "class Scraper:\n",
    "    def __init__(self, url: str = 'https://www.propertypal.com') -> None:\n",
    "        self.driver = Chrome(ChromeDriverManager().install())\n",
    "        self.driver.get(url)\n",
    "        \n",
    "    def ivan_accept_cookies(self, xpath:str = '//*[@id=\"qc-cmp2-ui\"]/div[2]/div/button[2]'):\n",
    "        \n",
    "        try:\n",
    "            time.sleep(1)\n",
    "            WebDriverWait(self.driver, 10).until(EC.presence_of_element_located((By.XPATH, xpath)))\n",
    "\n",
    "            button = self.driver.find_element(By.XPATH, xpath)\n",
    "            button.click()\n",
    "        except TimeoutException:\n",
    "            print(\"No Cookies Found\")\n",
    "\n",
    "    def accept_cookies(self, xpath:str = '//*[@id=\"qc-cmp2-ui\"]/div[2]/div/button[2]'):\n",
    "        button = self.driver.find_element(By.XPATH, xpath)\n",
    "        button.click()\n",
    "\n",
    "    \n",
    "    def search_word(self, xpath, Postcode = \"BT4\"):\n",
    "\n",
    "        search = self.driver.find_element(By.XPATH, xpath)\n",
    "        self.driver.implicitly_wait(10)\n",
    "        ActionChains(self.driver).move_to_element(search).click(search).perform()\n",
    "        ActionChains(self.driver).send_keys(Postcode).perform()\n",
    "\n",
    "    def scroll_down(self):\n",
    "        \n",
    "        self.driver.execute_script(\"window.scrollTo(0, 540)\") \n",
    "    \n",
    "    def search_rent(self):\n",
    "        rent = self.driver.find_element_by_xpath('//*[@id=\"searchForm\"]/div/div[2]/button[2]')\n",
    "        rent.click()\n",
    "\n",
    "    def search_sale(self):\n",
    "        rent = self.driver.find_element_by_xpath('//*[@id=\"searchForm\"]/div/div[2]/button[1]')\n",
    "        rent.click()\n",
    "\n",
    "    def button_click(self,xpath):\n",
    "        button = self.driver.find_element_by_xpath(xpath)\n",
    "        button.click()\n",
    "    \n",
    "    def find_container(self, xpath: str = '//*[@id=\"body\"]/div[3]/div/div[1]/div/ul'):\n",
    "        self.container = self.driver.find_element(By.XPATH, xpath)\n",
    "        return self.container\n",
    "\n",
    "##\n",
    "# NAVIGATE THE WEBSITE\n",
    "##\n",
    "\n",
    "if __name__ == \"__main__\":\n",
    "    bot = Scraper()\n",
    "    bot.ivan_accept_cookies()\n",
    "    time.sleep(2)\n",
    "    bot.button_click('//a[@href=\"/login\"]')\n",
    "    time.sleep(2)\n",
    "    bot.search_word('//input[@placeholder=\"Email address\"]','sopranotony233@gmail.com')\n",
    "    time.sleep(2)\n",
    "    bot.search_word('//input[@placeholder=\"Password\"]','sopranotony321')\n",
    "    time.sleep(2)\n",
    "    bot.button_click('//*[@id=\"root\"]/div/div/div/div/div/div[1]/div/div[2]/div[2]/form/button')\n",
    "    time.sleep(2)\n",
    "    bot.button_click('//a[@class=\"mainnav-logo\"]')  \n",
    "    time.sleep(2)\n",
    "    bot.search_word('//*[@id=\"searchForm\"]/div/div[1]')\n",
    "    time.sleep(2)\n",
    "    bot.search_rent()\n",
    "    time.sleep(2)\n",
    "    \n",
    "\n",
    "    #CREATE THE LIST OF LINKS\n",
    "    list_links = []\n",
    "    img_links = []\n",
    "    print(\"Finding elements...\")\n",
    "    while True:\n",
    "        container = bot.find_container()\n",
    "        items = container.find_elements(By.XPATH, './li')\n",
    "        for i in items:\n",
    "            try:\n",
    "                house = i.find_element(By.XPATH, './/a[2]')\n",
    "                link = house.get_attribute('href')\n",
    "                list_links.append(link)\n",
    "                time.sleep(1)\n",
    "                print('looking for container')\n",
    "                container_2= bot.driver.find_element(By.XPATH, '//div[@class=\"Slideshow-slides SlideshowCarousel\"]')\n",
    "                print('found container')\n",
    "                items_2 = container_2.find_elements(By.XPATH, './/img')\n",
    "                print('found items')\n",
    "                for i in items_2:\n",
    "                    try:\n",
    "                        link = i.get_attribute('src')\n",
    "                        img_links.append(link)\n",
    "                    except:\n",
    "                        print('No src found')\n",
    "            except NoSuchElementException:\n",
    "                print('No element found')\n",
    "            except Exception as e:\n",
    "                print(e)\n",
    "        \n",
    "        try:\n",
    "            bot.button_click('//a[@class=\"btn paging-next\"]')\n",
    "        except NoSuchElementException:\n",
    "            print(\"No more pages\")\n",
    "            break\n",
    "\n",
    "    #GRAB INFO FROM EACH LINK AND STORE\n",
    "    print(\"gathering info...\")\n",
    "    prop_dict = {\"fr-id\": [],\n",
    "            \"id\": [],\n",
    "            \"Link\": [],\n",
    "             \"Summary\": [],\n",
    "            \"Address\": [],\n",
    "            \"Price\": [],\n",
    "            \"Image links\": []\n",
    "            }\n",
    "    for link in list_links:\n",
    "        im = link[-6:]\n",
    "        im2 = link[28:35]\n",
    "        prop_dict[\"fr-id\"].append(im2+im)\n",
    "        id = uuid.uuid4()\n",
    "        prop_dict[\"id\"].append(id)\n",
    "        bot.driver.get(link)\n",
    "        prop_dict[\"Link\"].append(link)\n",
    "        time.sleep(1)\n",
    "        summary = bot.driver.find_element(By.XPATH, '//div[@class=\"prop-heading-brief\"]')\n",
    "        prop_dict[\"Summary\"].append(summary.text)\n",
    "        time.sleep(1)\n",
    "        info = bot.driver.find_element(By.XPATH, '//div[@class=\"prop-summary-row\"]')\n",
    "        address = info.find_element(By.XPATH, './/h1')\n",
    "        prop_dict[\"Address\"].append(address.text)\n",
    "        time.sleep(1)\n",
    "        price = bot.driver.find_element(By.XPATH, '//div[@class=\"prop-price\"]')\n",
    "        prop_dict[\"Price\"].append(price.text)\n",
    "        prop_dict[\"Image links\"].append(img_links)\n",
    "\n",
    "\n",
    "    Postcode = \"BT4\"\n",
    "    os.mkdir(f\"/Users/ryanhughes/Desktop/Aicore/Property-Pal-Pipeline-/Property_Photos/{Postcode}\")\n",
    "    image_directory = os.path.dirname(f\"/Users/ryanhughes/Desktop/Aicore/Property-Pal-Pipeline-/Property_Photos/{Postcode}/\")\n",
    "    img_link_ct=0\n",
    "    for i in prop_dict[\"Image links\"]:\n",
    "        img_link_ct += 1\n",
    "        img_ct = 0\n",
    "        for url in i:\n",
    "            try:\n",
    "                img_ct += 1\n",
    "                req = urllib.request.Request(url, headers={'User-Agent': 'Mozilla/5.0'})\n",
    "                with open(f\"{image_directory}/{prop_dict['fr-id'][img_link_ct]}_{str(img_ct)}.jpg\", \"wb\") as f:\n",
    "                    with urllib.request.urlopen(req) as r:\n",
    "                        f.write(r.read())\n",
    "            except IndexError:\n",
    "                pass\n",
    "\n",
    "df = pd.DataFrame(prop_dict)\n",
    "df"
   ]
  },
  {
   "cell_type": "code",
   "execution_count": 3,
   "metadata": {},
   "outputs": [
    {
     "name": "stdout",
     "output_type": "stream",
     "text": [
      "\n"
     ]
    },
    {
     "name": "stderr",
     "output_type": "stream",
     "text": [
      "[WDM] - ====== WebDriver manager ======\n",
      "[WDM] - Current google-chrome version is 103.0.5060\n",
      "[WDM] - Get LATEST chromedriver version for 103.0.5060 google-chrome\n",
      "[WDM] - Driver [/Users/ryanhughes/.wdm/drivers/chromedriver/mac64/103.0.5060.53/chromedriver] found in cache\n",
      "/var/folders/k0/hpk5zvqn2rdfdj_f5sv8ptp80000gn/T/ipykernel_76763/3368490567.py:20: DeprecationWarning: executable_path has been deprecated, please pass in a Service object\n",
      "  self.driver = Chrome(ChromeDriverManager().install())\n"
     ]
    }
   ],
   "source": [
    "bot = Scraper()\n"
   ]
  },
  {
   "cell_type": "code",
   "execution_count": 2,
   "metadata": {},
   "outputs": [
    {
     "name": "stdout",
     "output_type": "stream",
     "text": [
      "\n"
     ]
    },
    {
     "name": "stderr",
     "output_type": "stream",
     "text": [
      "[WDM] - ====== WebDriver manager ======\n",
      "[WDM] - Current google-chrome version is 103.0.5060\n",
      "[WDM] - Get LATEST chromedriver version for 103.0.5060 google-chrome\n",
      "[WDM] - Driver [/Users/ryanhughes/.wdm/drivers/chromedriver/mac64/103.0.5060.53/chromedriver] found in cache\n",
      "/var/folders/k0/hpk5zvqn2rdfdj_f5sv8ptp80000gn/T/ipykernel_76763/3368490567.py:20: DeprecationWarning: executable_path has been deprecated, please pass in a Service object\n",
      "  self.driver = Chrome(ChromeDriverManager().install())\n"
     ]
    },
    {
     "ename": "NoSuchElementException",
     "evalue": "Message: no such element: Unable to locate element: {\"method\":\"xpath\",\"selector\":\"//*[@id=\"body\"]/div[3]/div/div[1]/div/ul\"}\n  (Session info: chrome=103.0.5060.114)\nStacktrace:\n0   chromedriver                        0x000000010397c079 chromedriver + 4444281\n1   chromedriver                        0x0000000103908403 chromedriver + 3970051\n2   chromedriver                        0x00000001035a3038 chromedriver + 409656\n3   chromedriver                        0x00000001035d92fd chromedriver + 631549\n4   chromedriver                        0x00000001035d9581 chromedriver + 632193\n5   chromedriver                        0x000000010360b4f4 chromedriver + 836852\n6   chromedriver                        0x00000001035f67bd chromedriver + 751549\n7   chromedriver                        0x0000000103609221 chromedriver + 827937\n8   chromedriver                        0x00000001035f6683 chromedriver + 751235\n9   chromedriver                        0x00000001035cca45 chromedriver + 580165\n10  chromedriver                        0x00000001035cda95 chromedriver + 584341\n11  chromedriver                        0x000000010394d55d chromedriver + 4253021\n12  chromedriver                        0x00000001039523a1 chromedriver + 4273057\n13  chromedriver                        0x000000010395716f chromedriver + 4292975\n14  chromedriver                        0x0000000103952dea chromedriver + 4275690\n15  chromedriver                        0x000000010392c54f chromedriver + 4117839\n16  chromedriver                        0x000000010396ced8 chromedriver + 4382424\n17  chromedriver                        0x000000010396d05f chromedriver + 4382815\n18  chromedriver                        0x00000001039838d5 chromedriver + 4475093\n19  libsystem_pthread.dylib             0x00007ff80939f4f4 _pthread_start + 125\n20  libsystem_pthread.dylib             0x00007ff80939b00f thread_start + 15\n",
     "output_type": "error",
     "traceback": [
      "\u001b[0;31m---------------------------------------------------------------------------\u001b[0m",
      "\u001b[0;31mNoSuchElementException\u001b[0m                    Traceback (most recent call last)",
      "\u001b[1;32m/Users/ryanhughes/Desktop/Aicore/Property-Pal-Pipeline-/Property-Pal-Pipeline.ipynb Cell 2'\u001b[0m in \u001b[0;36m<cell line: 2>\u001b[0;34m()\u001b[0m\n\u001b[1;32m      <a href='vscode-notebook-cell:/Users/ryanhughes/Desktop/Aicore/Property-Pal-Pipeline-/Property-Pal-Pipeline.ipynb#ch0000036?line=0'>1</a>\u001b[0m bot \u001b[39m=\u001b[39m Scraper()\n\u001b[0;32m----> <a href='vscode-notebook-cell:/Users/ryanhughes/Desktop/Aicore/Property-Pal-Pipeline-/Property-Pal-Pipeline.ipynb#ch0000036?line=1'>2</a>\u001b[0m container \u001b[39m=\u001b[39m bot\u001b[39m.\u001b[39;49mfind_container()\n\u001b[1;32m      <a href='vscode-notebook-cell:/Users/ryanhughes/Desktop/Aicore/Property-Pal-Pipeline-/Property-Pal-Pipeline.ipynb#ch0000036?line=2'>3</a>\u001b[0m items \u001b[39m=\u001b[39m container\u001b[39m.\u001b[39mfind_elements(By\u001b[39m.\u001b[39mXPATH, \u001b[39m'\u001b[39m\u001b[39m./li\u001b[39m\u001b[39m'\u001b[39m)\n\u001b[1;32m      <a href='vscode-notebook-cell:/Users/ryanhughes/Desktop/Aicore/Property-Pal-Pipeline-/Property-Pal-Pipeline.ipynb#ch0000036?line=3'>4</a>\u001b[0m \u001b[39mfor\u001b[39;00m i \u001b[39min\u001b[39;00m items:\n",
      "\u001b[1;32m/Users/ryanhughes/Desktop/Aicore/Property-Pal-Pipeline-/Property-Pal-Pipeline.ipynb Cell 1'\u001b[0m in \u001b[0;36mScraper.find_container\u001b[0;34m(self, xpath)\u001b[0m\n\u001b[1;32m     <a href='vscode-notebook-cell:/Users/ryanhughes/Desktop/Aicore/Property-Pal-Pipeline-/Property-Pal-Pipeline.ipynb#ch0000001?line=61'>62</a>\u001b[0m \u001b[39mdef\u001b[39;00m \u001b[39mfind_container\u001b[39m(\u001b[39mself\u001b[39m, xpath: \u001b[39mstr\u001b[39m \u001b[39m=\u001b[39m \u001b[39m'\u001b[39m\u001b[39m//*[@id=\u001b[39m\u001b[39m\"\u001b[39m\u001b[39mbody\u001b[39m\u001b[39m\"\u001b[39m\u001b[39m]/div[3]/div/div[1]/div/ul\u001b[39m\u001b[39m'\u001b[39m):\n\u001b[0;32m---> <a href='vscode-notebook-cell:/Users/ryanhughes/Desktop/Aicore/Property-Pal-Pipeline-/Property-Pal-Pipeline.ipynb#ch0000001?line=62'>63</a>\u001b[0m     \u001b[39mself\u001b[39m\u001b[39m.\u001b[39mcontainer \u001b[39m=\u001b[39m \u001b[39mself\u001b[39;49m\u001b[39m.\u001b[39;49mdriver\u001b[39m.\u001b[39;49mfind_element(By\u001b[39m.\u001b[39;49mXPATH, xpath)\n\u001b[1;32m     <a href='vscode-notebook-cell:/Users/ryanhughes/Desktop/Aicore/Property-Pal-Pipeline-/Property-Pal-Pipeline.ipynb#ch0000001?line=63'>64</a>\u001b[0m     \u001b[39mreturn\u001b[39;00m \u001b[39mself\u001b[39m\u001b[39m.\u001b[39mcontainer\n",
      "File \u001b[0;32m~/opt/miniconda3/envs/Selenium_demo/lib/python3.10/site-packages/selenium/webdriver/remote/webdriver.py:1251\u001b[0m, in \u001b[0;36mWebDriver.find_element\u001b[0;34m(self, by, value)\u001b[0m\n\u001b[1;32m   <a href='file:///Users/ryanhughes/opt/miniconda3/envs/Selenium_demo/lib/python3.10/site-packages/selenium/webdriver/remote/webdriver.py?line=1247'>1248</a>\u001b[0m     by \u001b[39m=\u001b[39m By\u001b[39m.\u001b[39mCSS_SELECTOR\n\u001b[1;32m   <a href='file:///Users/ryanhughes/opt/miniconda3/envs/Selenium_demo/lib/python3.10/site-packages/selenium/webdriver/remote/webdriver.py?line=1248'>1249</a>\u001b[0m     value \u001b[39m=\u001b[39m \u001b[39m'\u001b[39m\u001b[39m[name=\u001b[39m\u001b[39m\"\u001b[39m\u001b[39m%s\u001b[39;00m\u001b[39m\"\u001b[39m\u001b[39m]\u001b[39m\u001b[39m'\u001b[39m \u001b[39m%\u001b[39m value\n\u001b[0;32m-> <a href='file:///Users/ryanhughes/opt/miniconda3/envs/Selenium_demo/lib/python3.10/site-packages/selenium/webdriver/remote/webdriver.py?line=1250'>1251</a>\u001b[0m \u001b[39mreturn\u001b[39;00m \u001b[39mself\u001b[39;49m\u001b[39m.\u001b[39;49mexecute(Command\u001b[39m.\u001b[39;49mFIND_ELEMENT, {\n\u001b[1;32m   <a href='file:///Users/ryanhughes/opt/miniconda3/envs/Selenium_demo/lib/python3.10/site-packages/selenium/webdriver/remote/webdriver.py?line=1251'>1252</a>\u001b[0m     \u001b[39m'\u001b[39;49m\u001b[39musing\u001b[39;49m\u001b[39m'\u001b[39;49m: by,\n\u001b[1;32m   <a href='file:///Users/ryanhughes/opt/miniconda3/envs/Selenium_demo/lib/python3.10/site-packages/selenium/webdriver/remote/webdriver.py?line=1252'>1253</a>\u001b[0m     \u001b[39m'\u001b[39;49m\u001b[39mvalue\u001b[39;49m\u001b[39m'\u001b[39;49m: value})[\u001b[39m'\u001b[39m\u001b[39mvalue\u001b[39m\u001b[39m'\u001b[39m]\n",
      "File \u001b[0;32m~/opt/miniconda3/envs/Selenium_demo/lib/python3.10/site-packages/selenium/webdriver/remote/webdriver.py:430\u001b[0m, in \u001b[0;36mWebDriver.execute\u001b[0;34m(self, driver_command, params)\u001b[0m\n\u001b[1;32m    <a href='file:///Users/ryanhughes/opt/miniconda3/envs/Selenium_demo/lib/python3.10/site-packages/selenium/webdriver/remote/webdriver.py?line=427'>428</a>\u001b[0m response \u001b[39m=\u001b[39m \u001b[39mself\u001b[39m\u001b[39m.\u001b[39mcommand_executor\u001b[39m.\u001b[39mexecute(driver_command, params)\n\u001b[1;32m    <a href='file:///Users/ryanhughes/opt/miniconda3/envs/Selenium_demo/lib/python3.10/site-packages/selenium/webdriver/remote/webdriver.py?line=428'>429</a>\u001b[0m \u001b[39mif\u001b[39;00m response:\n\u001b[0;32m--> <a href='file:///Users/ryanhughes/opt/miniconda3/envs/Selenium_demo/lib/python3.10/site-packages/selenium/webdriver/remote/webdriver.py?line=429'>430</a>\u001b[0m     \u001b[39mself\u001b[39;49m\u001b[39m.\u001b[39;49merror_handler\u001b[39m.\u001b[39;49mcheck_response(response)\n\u001b[1;32m    <a href='file:///Users/ryanhughes/opt/miniconda3/envs/Selenium_demo/lib/python3.10/site-packages/selenium/webdriver/remote/webdriver.py?line=430'>431</a>\u001b[0m     response[\u001b[39m'\u001b[39m\u001b[39mvalue\u001b[39m\u001b[39m'\u001b[39m] \u001b[39m=\u001b[39m \u001b[39mself\u001b[39m\u001b[39m.\u001b[39m_unwrap_value(\n\u001b[1;32m    <a href='file:///Users/ryanhughes/opt/miniconda3/envs/Selenium_demo/lib/python3.10/site-packages/selenium/webdriver/remote/webdriver.py?line=431'>432</a>\u001b[0m         response\u001b[39m.\u001b[39mget(\u001b[39m'\u001b[39m\u001b[39mvalue\u001b[39m\u001b[39m'\u001b[39m, \u001b[39mNone\u001b[39;00m))\n\u001b[1;32m    <a href='file:///Users/ryanhughes/opt/miniconda3/envs/Selenium_demo/lib/python3.10/site-packages/selenium/webdriver/remote/webdriver.py?line=432'>433</a>\u001b[0m     \u001b[39mreturn\u001b[39;00m response\n",
      "File \u001b[0;32m~/opt/miniconda3/envs/Selenium_demo/lib/python3.10/site-packages/selenium/webdriver/remote/errorhandler.py:247\u001b[0m, in \u001b[0;36mErrorHandler.check_response\u001b[0;34m(self, response)\u001b[0m\n\u001b[1;32m    <a href='file:///Users/ryanhughes/opt/miniconda3/envs/Selenium_demo/lib/python3.10/site-packages/selenium/webdriver/remote/errorhandler.py?line=244'>245</a>\u001b[0m         alert_text \u001b[39m=\u001b[39m value[\u001b[39m'\u001b[39m\u001b[39malert\u001b[39m\u001b[39m'\u001b[39m]\u001b[39m.\u001b[39mget(\u001b[39m'\u001b[39m\u001b[39mtext\u001b[39m\u001b[39m'\u001b[39m)\n\u001b[1;32m    <a href='file:///Users/ryanhughes/opt/miniconda3/envs/Selenium_demo/lib/python3.10/site-packages/selenium/webdriver/remote/errorhandler.py?line=245'>246</a>\u001b[0m     \u001b[39mraise\u001b[39;00m exception_class(message, screen, stacktrace, alert_text)  \u001b[39m# type: ignore[call-arg]  # mypy is not smart enough here\u001b[39;00m\n\u001b[0;32m--> <a href='file:///Users/ryanhughes/opt/miniconda3/envs/Selenium_demo/lib/python3.10/site-packages/selenium/webdriver/remote/errorhandler.py?line=246'>247</a>\u001b[0m \u001b[39mraise\u001b[39;00m exception_class(message, screen, stacktrace)\n",
      "\u001b[0;31mNoSuchElementException\u001b[0m: Message: no such element: Unable to locate element: {\"method\":\"xpath\",\"selector\":\"//*[@id=\"body\"]/div[3]/div/div[1]/div/ul\"}\n  (Session info: chrome=103.0.5060.114)\nStacktrace:\n0   chromedriver                        0x000000010397c079 chromedriver + 4444281\n1   chromedriver                        0x0000000103908403 chromedriver + 3970051\n2   chromedriver                        0x00000001035a3038 chromedriver + 409656\n3   chromedriver                        0x00000001035d92fd chromedriver + 631549\n4   chromedriver                        0x00000001035d9581 chromedriver + 632193\n5   chromedriver                        0x000000010360b4f4 chromedriver + 836852\n6   chromedriver                        0x00000001035f67bd chromedriver + 751549\n7   chromedriver                        0x0000000103609221 chromedriver + 827937\n8   chromedriver                        0x00000001035f6683 chromedriver + 751235\n9   chromedriver                        0x00000001035cca45 chromedriver + 580165\n10  chromedriver                        0x00000001035cda95 chromedriver + 584341\n11  chromedriver                        0x000000010394d55d chromedriver + 4253021\n12  chromedriver                        0x00000001039523a1 chromedriver + 4273057\n13  chromedriver                        0x000000010395716f chromedriver + 4292975\n14  chromedriver                        0x0000000103952dea chromedriver + 4275690\n15  chromedriver                        0x000000010392c54f chromedriver + 4117839\n16  chromedriver                        0x000000010396ced8 chromedriver + 4382424\n17  chromedriver                        0x000000010396d05f chromedriver + 4382815\n18  chromedriver                        0x00000001039838d5 chromedriver + 4475093\n19  libsystem_pthread.dylib             0x00007ff80939f4f4 _pthread_start + 125\n20  libsystem_pthread.dylib             0x00007ff80939b00f thread_start + 15\n"
     ]
    }
   ],
   "source": [
    "container = bot.find_container()\n",
    "items = container.find_elements(By.XPATH, './li')\n",
    "for i in items:\n",
    "    try:\n",
    "        house = i.find_element(By.XPATH, './/a[2]')\n",
    "        link = house.get_attribute('href')\n",
    "        list_links.append(link)\n",
    "        time.sleep(1)\n",
    "        print('looking for container')\n",
    "        container_2= bot.driver.find_element(By.XPATH, '//div[@class=\"Slideshow-slides SlideshowCarousel\"]')\n",
    "        print('found container')\n",
    "        items_2 = container_2.find_elements(By.XPATH, './/img')\n",
    "        print('found items')\n",
    "        for i in items_2:\n",
    "            try:\n",
    "                link = i.get_attribute('src')\n",
    "                img_links.append(link)\n",
    "            except:\n",
    "                print('No src found')\n",
    "    except NoSuchElementException:\n",
    "        print('No element found')\n",
    "    except Exception as e:\n",
    "        print(e)"
   ]
  },
  {
   "cell_type": "code",
   "execution_count": 17,
   "metadata": {},
   "outputs": [],
   "source": [
    "class Scraper:\n",
    "    def __init__(self, url: str = 'https://www.propertypal.com') -> None:\n",
    "        self.driver = Chrome(ChromeDriverManager().install())\n",
    "        self.driver.get(url)\n",
    "        \n",
    "    def ivan_accept_cookies(self, xpath:str = '//*[@id=\"qc-cmp2-ui\"]/div[2]/div/button[2]'):\n",
    "        \n",
    "        try:\n",
    "            time.sleep(1)\n",
    "            WebDriverWait(self.driver, 10).until(EC.presence_of_element_located((By.XPATH, xpath)))\n",
    "\n",
    "            button = self.driver.find_element(By.XPATH, xpath)\n",
    "            button.click()\n",
    "        except TimeoutException:\n",
    "            print(\"No Cookies Found\")\n",
    "\n",
    "    def accept_cookies(self, xpath:str = '//*[@id=\"qc-cmp2-ui\"]/div[2]/div/button[2]'):\n",
    "        button = self.driver.find_element(By.XPATH, xpath)\n",
    "        button.click()\n",
    "\n",
    "    \n",
    "    def search_word(self, xpath, text):\n",
    "\n",
    "        search = self.driver.find_element(By.XPATH, xpath)\n",
    "        self.driver.implicitly_wait(10)\n",
    "        ActionChains(self.driver).move_to_element(search).click(search).perform()\n",
    "        ActionChains(self.driver).send_keys(text).perform()\n",
    "\n",
    "    def scroll_down(self):\n",
    "        \n",
    "        self.driver.execute_script(\"window.scrollTo(0, 540)\") \n",
    "    \n",
    "    def search_rent(self):\n",
    "        rent = self.driver.find_element_by_xpath('//*[@id=\"searchForm\"]/div/div[2]/button[2]')\n",
    "        rent.click()\n",
    "\n",
    "    def search_sale(self):\n",
    "        rent = self.driver.find_element_by_xpath('//*[@id=\"searchForm\"]/div/div[2]/button[1]')\n",
    "        rent.click()\n",
    "    \n",
    "    def button_click(self,xpath):\n",
    "        button = self.driver.find_element_by_xpath(xpath)\n",
    "        button.click()\n",
    "    \n",
    "    def find_container(self, xpath: str = '//*[@id=\"body\"]/div[3]/div/div[1]/div/ul'):\n",
    "        self.container = self.driver.find_element(By.XPATH, xpath)\n",
    "        return self.container"
   ]
  },
  {
   "cell_type": "code",
   "execution_count": 19,
   "metadata": {},
   "outputs": [
    {
     "name": "stdout",
     "output_type": "stream",
     "text": [
      "\n"
     ]
    },
    {
     "name": "stderr",
     "output_type": "stream",
     "text": [
      "[WDM] - ====== WebDriver manager ======\n",
      "[WDM] - Current google-chrome version is 103.0.5060\n",
      "[WDM] - Get LATEST chromedriver version for 103.0.5060 google-chrome\n",
      "[WDM] - About to download new driver from https://chromedriver.storage.googleapis.com/103.0.5060.53/chromedriver_mac64.zip\n",
      "[WDM] - Driver has been saved in cache [/Users/ryanhughes/.wdm/drivers/chromedriver/mac64/103.0.5060.53]\n",
      "/var/folders/k0/hpk5zvqn2rdfdj_f5sv8ptp80000gn/T/ipykernel_6413/2763093461.py:3: DeprecationWarning: executable_path has been deprecated, please pass in a Service object\n",
      "  self.driver = Chrome(ChromeDriverManager().install())\n",
      "/var/folders/k0/hpk5zvqn2rdfdj_f5sv8ptp80000gn/T/ipykernel_6413/2763093461.py:34: DeprecationWarning: find_element_by_xpath is deprecated. Please use find_element(by=By.XPATH, value=xpath) instead\n",
      "  rent = self.driver.find_element_by_xpath('//*[@id=\"searchForm\"]/div/div[2]/button[2]')\n"
     ]
    }
   ],
   "source": [
    "bot = Scraper()\n",
    "bot.ivan_accept_cookies()\n",
    "time.sleep(2)\n",
    "bot.search_word('//*[@id=\"searchForm\"]/div/div[1]', 'bt4')\n",
    "time.sleep(2)\n",
    "bot.search_rent()\n"
   ]
  },
  {
   "cell_type": "code",
   "execution_count": 59,
   "metadata": {},
   "outputs": [
    {
     "name": "stdout",
     "output_type": "stream",
     "text": [
      "\n"
     ]
    },
    {
     "name": "stderr",
     "output_type": "stream",
     "text": [
      "[WDM] - ====== WebDriver manager ======\n",
      "[WDM] - Current google-chrome version is 103.0.5060\n",
      "[WDM] - Get LATEST chromedriver version for 103.0.5060 google-chrome\n",
      "[WDM] - About to download new driver from https://chromedriver.storage.googleapis.com/103.0.5060.53/chromedriver_mac64.zip\n",
      "[WDM] - Driver has been saved in cache [/Users/ryanhughes/.wdm/drivers/chromedriver/mac64/103.0.5060.53]\n",
      "/var/folders/k0/hpk5zvqn2rdfdj_f5sv8ptp80000gn/T/ipykernel_6413/2763093461.py:3: DeprecationWarning: executable_path has been deprecated, please pass in a Service object\n",
      "  self.driver = Chrome(ChromeDriverManager().install())\n"
     ]
    }
   ],
   "source": [
    "bot = Scraper()\n",
    "bot.ivan_accept_cookies()"
   ]
  },
  {
   "cell_type": "code",
   "execution_count": 53,
   "metadata": {},
   "outputs": [
    {
     "name": "stderr",
     "output_type": "stream",
     "text": [
      "/var/folders/k0/hpk5zvqn2rdfdj_f5sv8ptp80000gn/T/ipykernel_6413/2763093461.py:42: DeprecationWarning: find_element_by_xpath is deprecated. Please use find_element(by=By.XPATH, value=xpath) instead\n",
      "  button = self.driver.find_element_by_xpath(xpath)\n"
     ]
    }
   ],
   "source": [
    "bot = Scraper()\n",
    "bot.ivan_accept_cookies()\n",
    "bot.button_click('//a[@href=\"/login\"]')"
   ]
  },
  {
   "cell_type": "code",
   "execution_count": 54,
   "metadata": {},
   "outputs": [],
   "source": [
    "bot = Scraper()\n",
    "bot.ivan_accept_cookies()\n",
    "bot.button_click('//a[@href=\"/login\"]')\n",
    "bot.search_word('//input[@placeholder=\"Email address\"]','sopranotony233@gmail.com')"
   ]
  },
  {
   "cell_type": "code",
   "execution_count": 113,
   "metadata": {},
   "outputs": [
    {
     "name": "stdout",
     "output_type": "stream",
     "text": [
      "\n"
     ]
    },
    {
     "name": "stderr",
     "output_type": "stream",
     "text": [
      "[WDM] - ====== WebDriver manager ======\n",
      "[WDM] - Current google-chrome version is 103.0.5060\n",
      "[WDM] - Get LATEST chromedriver version for 103.0.5060 google-chrome\n",
      "[WDM] - Driver [/Users/ryanhughes/.wdm/drivers/chromedriver/mac64/103.0.5060.53/chromedriver] found in cache\n",
      "/var/folders/k0/hpk5zvqn2rdfdj_f5sv8ptp80000gn/T/ipykernel_6413/2763093461.py:3: DeprecationWarning: executable_path has been deprecated, please pass in a Service object\n",
      "  self.driver = Chrome(ChromeDriverManager().install())\n",
      "/var/folders/k0/hpk5zvqn2rdfdj_f5sv8ptp80000gn/T/ipykernel_6413/2763093461.py:42: DeprecationWarning: find_element_by_xpath is deprecated. Please use find_element(by=By.XPATH, value=xpath) instead\n",
      "  button = self.driver.find_element_by_xpath(xpath)\n"
     ]
    }
   ],
   "source": [
    "bot = Scraper()\n",
    "bot.ivan_accept_cookies()\n",
    "time.sleep(2)\n",
    "bot.button_click('//a[@href=\"/login\"]')\n",
    "time.sleep(2)\n",
    "bot.search_word('//input[@placeholder=\"Email address\"]','sopranotony233@gmail.com')\n",
    "time.sleep(2)\n",
    "bot.search_word('//input[@placeholder=\"Password\"]','sopranotony321')\n",
    "time.sleep(2)\n",
    "bot.button_click('//*[@id=\"root\"]/div/div/div/div/div/div[1]/div/div[2]/div[2]/form/button')\n",
    "time.sleep(2)\n",
    "bot.button_click('//a[@class=\"mainnav-logo\"]')"
   ]
  },
  {
   "cell_type": "code",
   "execution_count": 56,
   "metadata": {},
   "outputs": [
    {
     "name": "stderr",
     "output_type": "stream",
     "text": [
      "/var/folders/k0/hpk5zvqn2rdfdj_f5sv8ptp80000gn/T/ipykernel_6413/2763093461.py:42: DeprecationWarning: find_element_by_xpath is deprecated. Please use find_element(by=By.XPATH, value=xpath) instead\n",
      "  button = self.driver.find_element_by_xpath(xpath)\n"
     ]
    }
   ],
   "source": [
    "bot.button_click('//*[@id=\"root\"]/div/div/div/div/div/div[1]/div/div[2]/div[2]/form/button')"
   ]
  },
  {
   "cell_type": "code",
   "execution_count": 57,
   "metadata": {},
   "outputs": [
    {
     "name": "stderr",
     "output_type": "stream",
     "text": [
      "/var/folders/k0/hpk5zvqn2rdfdj_f5sv8ptp80000gn/T/ipykernel_6413/2763093461.py:42: DeprecationWarning: find_element_by_xpath is deprecated. Please use find_element(by=By.XPATH, value=xpath) instead\n",
      "  button = self.driver.find_element_by_xpath(xpath)\n"
     ]
    }
   ],
   "source": [
    "bot.button_click('//a[@class=\"mainnav-logo\"]')"
   ]
  },
  {
   "cell_type": "code",
   "execution_count": 114,
   "metadata": {},
   "outputs": [],
   "source": [
    "container = bot.find_container()"
   ]
  },
  {
   "cell_type": "code",
   "execution_count": 115,
   "metadata": {},
   "outputs": [
    {
     "name": "stdout",
     "output_type": "stream",
     "text": [
      "[<selenium.webdriver.remote.webelement.WebElement (session=\"b6a148851ce2e9ac7589947b2f3fb558\", element=\"79985579-5e29-499b-81dd-90b7bf676e16\")>, <selenium.webdriver.remote.webelement.WebElement (session=\"b6a148851ce2e9ac7589947b2f3fb558\", element=\"aff8746d-55b3-4408-81ae-a4a4ce27a24c\")>, <selenium.webdriver.remote.webelement.WebElement (session=\"b6a148851ce2e9ac7589947b2f3fb558\", element=\"e87a33e9-4504-4eae-a587-5bd519750a56\")>, <selenium.webdriver.remote.webelement.WebElement (session=\"b6a148851ce2e9ac7589947b2f3fb558\", element=\"36e06693-2224-4d0c-9163-4912a28d9000\")>, <selenium.webdriver.remote.webelement.WebElement (session=\"b6a148851ce2e9ac7589947b2f3fb558\", element=\"dd746f6a-6989-4e5a-99d0-36f6ef43f081\")>, <selenium.webdriver.remote.webelement.WebElement (session=\"b6a148851ce2e9ac7589947b2f3fb558\", element=\"f4ab1e6d-a5e8-4f1e-9d22-02c741466b7e\")>, <selenium.webdriver.remote.webelement.WebElement (session=\"b6a148851ce2e9ac7589947b2f3fb558\", element=\"69fa86c3-b21c-49a2-a878-c3559d00ab0b\")>, <selenium.webdriver.remote.webelement.WebElement (session=\"b6a148851ce2e9ac7589947b2f3fb558\", element=\"3c9f4849-446a-4dbb-9b2f-d877f7a34ae7\")>, <selenium.webdriver.remote.webelement.WebElement (session=\"b6a148851ce2e9ac7589947b2f3fb558\", element=\"1f1e2a59-a223-4d62-acbd-29c7a99d46e5\")>, <selenium.webdriver.remote.webelement.WebElement (session=\"b6a148851ce2e9ac7589947b2f3fb558\", element=\"582983d4-c2c9-4d88-b521-f90e922b8ada\")>, <selenium.webdriver.remote.webelement.WebElement (session=\"b6a148851ce2e9ac7589947b2f3fb558\", element=\"d00bfaff-29bf-4953-9b68-6cd8e28d6c77\")>]\n"
     ]
    }
   ],
   "source": [
    "items = container.find_elements(By.XPATH, './li')\n",
    "print(items)\n",
    "list_links = []"
   ]
  },
  {
   "cell_type": "code",
   "execution_count": 116,
   "metadata": {},
   "outputs": [
    {
     "ename": "AttributeError",
     "evalue": "'list' object has no attribute 'find_element'",
     "output_type": "error",
     "traceback": [
      "\u001b[0;31m---------------------------------------------------------------------------\u001b[0m",
      "\u001b[0;31mAttributeError\u001b[0m                            Traceback (most recent call last)",
      "Input \u001b[0;32mIn [116]\u001b[0m, in \u001b[0;36m<cell line: 1>\u001b[0;34m()\u001b[0m\n\u001b[0;32m----> 1\u001b[0m house \u001b[39m=\u001b[39m items\u001b[39m.\u001b[39;49mfind_element(By\u001b[39m.\u001b[39mXPATH, \u001b[39m'\u001b[39m\u001b[39m.//a[2]\u001b[39m\u001b[39m'\u001b[39m)\n\u001b[1;32m      2\u001b[0m link \u001b[39m=\u001b[39m house\u001b[39m.\u001b[39mget_attribute(\u001b[39m'\u001b[39m\u001b[39mhref\u001b[39m\u001b[39m'\u001b[39m)\n\u001b[1;32m      3\u001b[0m \u001b[39mprint\u001b[39m(link)\n",
      "\u001b[0;31mAttributeError\u001b[0m: 'list' object has no attribute 'find_element'"
     ]
    }
   ],
   "source": [
    "\n",
    "house = items.find_element(By.XPATH, './/a[2]')\n",
    "link = house.get_attribute('href')\n",
    "print(link)"
   ]
  },
  {
   "cell_type": "code",
   "execution_count": 133,
   "metadata": {},
   "outputs": [
    {
     "name": "stdout",
     "output_type": "stream",
     "text": [
      "No href found, skipping this property\n",
      "No href found, skipping this property\n",
      "No href found, skipping this property\n",
      "No href found, skipping this property\n",
      "No href found, skipping this property\n",
      "No href found, skipping this property\n",
      "No href found, skipping this property\n",
      "No href found, skipping this property\n",
      "No href found, skipping this property\n",
      "No href found, skipping this property\n",
      "No href found, skipping this property\n",
      "['https://www.propertypal.com/apt-14-39-dundela-crescent-belfast/759335', 'https://www.propertypal.com/1a-carew-street-belfast/765807', 'https://www.propertypal.com/13-bathgate-drive-belfast/765788', 'https://www.propertypal.com/flat-3-152-upper-newtownards-road-152-upper-newtownards-road-belfast/532728', 'https://www.propertypal.com/229-park-avenue-belfast/765499', 'https://www.propertypal.com/9-pims-avenue-belfast/765427', 'https://www.propertypal.com/apt-3-goldstone-hall-belfast/765358', 'https://www.propertypal.com/53-upper-newtownards-road-belfast/765329', 'https://www.propertypal.com/4-devon-drive-sydenham-belfast/765273', 'https://www.propertypal.com/40-norwood-avenue-belfast/765201']\n"
     ]
    }
   ],
   "source": [
    " for i in items:\n",
    "    try:\n",
    "        house = i.find_element(By.XPATH, './/a[2]')\n",
    "        link = house.get_attribute('href')\n",
    "        print(link)\n",
    "        list_links.append(link)\n",
    "    except:\n",
    "        print('No href found, skipping this property')\n",
    " print(list_links)"
   ]
  },
  {
   "cell_type": "code",
   "execution_count": 118,
   "metadata": {},
   "outputs": [
    {
     "name": "stdout",
     "output_type": "stream",
     "text": [
      "{'Link': ['https://www.propertypal.com/apt-14-39-dundela-crescent-belfast/759335', 'https://www.propertypal.com/1a-carew-street-belfast/765807', 'https://www.propertypal.com/13-bathgate-drive-belfast/765788', 'https://www.propertypal.com/flat-3-152-upper-newtownards-road-152-upper-newtownards-road-belfast/532728', 'https://www.propertypal.com/229-park-avenue-belfast/765499', 'https://www.propertypal.com/9-pims-avenue-belfast/765427', 'https://www.propertypal.com/apt-3-goldstone-hall-belfast/765358', 'https://www.propertypal.com/53-upper-newtownards-road-belfast/765329', 'https://www.propertypal.com/4-devon-drive-sydenham-belfast/765273', 'https://www.propertypal.com/40-norwood-avenue-belfast/765201'], 'Summary': ['2 Bed Apartment To Rent', '2 Bed End-terrace House To Rent', '4 Bed Terrace House To Rent', '1 Bed Apartment To Rent', '4 Bed Mid-terrace House To Rent', '3 Bed Terrace House To Rent', '2 Bed 1st Floor Apartment To Rent', '3 Bed Terrace House To Rent', '2 Bed Terrace House To Rent', '3 Bed Semi-detached House To Rent'], 'Address': ['APT 14, 39 DUNDELA CRESCENT,\\nBelfast BT4 3BN', '1A CAREW STREET,\\nBelfast BT4 1HQ', '13 BATHGATE DRIVE,\\nBelfast BT4 2BA', 'FLAT 3, 152 UPPER NEWTOWNARDS ROAD,\\n152 Upper Newtownards Road, BELFAST BT4 3EQ', '229 PARK AVENUE,\\nBelfast BT4 1LN', '9 PIMS AVENUE,\\nBELFAST BT4 1PJ', 'APT 3, GOLDSTONE HALL,\\nBelfast BT4 1JE', '53 UPPER NEWTOWNARDS ROAD,\\nBELFAST BT4 3HT', '4 DEVON DRIVE,\\nSydenham, Belfast BT4 1LF', '40 NORWOOD AVENUE,\\nBelfast BT4 2EF']}\n"
     ]
    }
   ],
   "source": [
    "prop_dict = {\"Link\": [],\n",
    "             \"Summary\": [],\n",
    "            \"Address\": []\n",
    "            \"Price\": []\n",
    "            }\n",
    "for link in list_links:\n",
    "    bot.driver.get(link)\n",
    "    prop_dict[\"Link\"].append(link)\n",
    "    time.sleep(1)\n",
    "    summary = bot.driver.find_element(By.XPATH, '//div[@class=\"prop-heading-brief\"]')\n",
    "    prop_dict[\"Summary\"].append(summary.text)\n",
    "    time.sleep(1)\n",
    "    info = bot.driver.find_element(By.XPATH, '//div[@class=\"prop-summary-row\"]')\n",
    "    address = info.find_element(By.XPATH, './/h1')\n",
    "    prop_dict[\"Address\"].append(address.text)\n",
    "    time.sleep(1)\n",
    "    price = bot.driver.find_element(By.XPATH, '//div[@class=\"prop-price\"]')\n",
    "    prop_dict[\"Price\"].append(price)\n",
    "    \n",
    "print(prop_dict)"
   ]
  },
  {
   "cell_type": "code",
   "execution_count": 120,
   "metadata": {},
   "outputs": [
    {
     "data": {
      "text/html": [
       "<div>\n",
       "<style scoped>\n",
       "    .dataframe tbody tr th:only-of-type {\n",
       "        vertical-align: middle;\n",
       "    }\n",
       "\n",
       "    .dataframe tbody tr th {\n",
       "        vertical-align: top;\n",
       "    }\n",
       "\n",
       "    .dataframe thead th {\n",
       "        text-align: right;\n",
       "    }\n",
       "</style>\n",
       "<table border=\"1\" class=\"dataframe\">\n",
       "  <thead>\n",
       "    <tr style=\"text-align: right;\">\n",
       "      <th></th>\n",
       "      <th>Link</th>\n",
       "      <th>Summary</th>\n",
       "      <th>Address</th>\n",
       "    </tr>\n",
       "  </thead>\n",
       "  <tbody>\n",
       "    <tr>\n",
       "      <th>0</th>\n",
       "      <td>https://www.propertypal.com/apt-14-39-dundela-...</td>\n",
       "      <td>2 Bed Apartment To Rent</td>\n",
       "      <td>APT 14, 39 DUNDELA CRESCENT,\\nBelfast BT4 3BN</td>\n",
       "    </tr>\n",
       "    <tr>\n",
       "      <th>1</th>\n",
       "      <td>https://www.propertypal.com/1a-carew-street-be...</td>\n",
       "      <td>2 Bed End-terrace House To Rent</td>\n",
       "      <td>1A CAREW STREET,\\nBelfast BT4 1HQ</td>\n",
       "    </tr>\n",
       "    <tr>\n",
       "      <th>2</th>\n",
       "      <td>https://www.propertypal.com/13-bathgate-drive-...</td>\n",
       "      <td>4 Bed Terrace House To Rent</td>\n",
       "      <td>13 BATHGATE DRIVE,\\nBelfast BT4 2BA</td>\n",
       "    </tr>\n",
       "    <tr>\n",
       "      <th>3</th>\n",
       "      <td>https://www.propertypal.com/flat-3-152-upper-n...</td>\n",
       "      <td>1 Bed Apartment To Rent</td>\n",
       "      <td>FLAT 3, 152 UPPER NEWTOWNARDS ROAD,\\n152 Upper...</td>\n",
       "    </tr>\n",
       "    <tr>\n",
       "      <th>4</th>\n",
       "      <td>https://www.propertypal.com/229-park-avenue-be...</td>\n",
       "      <td>4 Bed Mid-terrace House To Rent</td>\n",
       "      <td>229 PARK AVENUE,\\nBelfast BT4 1LN</td>\n",
       "    </tr>\n",
       "    <tr>\n",
       "      <th>5</th>\n",
       "      <td>https://www.propertypal.com/9-pims-avenue-belf...</td>\n",
       "      <td>3 Bed Terrace House To Rent</td>\n",
       "      <td>9 PIMS AVENUE,\\nBELFAST BT4 1PJ</td>\n",
       "    </tr>\n",
       "    <tr>\n",
       "      <th>6</th>\n",
       "      <td>https://www.propertypal.com/apt-3-goldstone-ha...</td>\n",
       "      <td>2 Bed 1st Floor Apartment To Rent</td>\n",
       "      <td>APT 3, GOLDSTONE HALL,\\nBelfast BT4 1JE</td>\n",
       "    </tr>\n",
       "    <tr>\n",
       "      <th>7</th>\n",
       "      <td>https://www.propertypal.com/53-upper-newtownar...</td>\n",
       "      <td>3 Bed Terrace House To Rent</td>\n",
       "      <td>53 UPPER NEWTOWNARDS ROAD,\\nBELFAST BT4 3HT</td>\n",
       "    </tr>\n",
       "    <tr>\n",
       "      <th>8</th>\n",
       "      <td>https://www.propertypal.com/4-devon-drive-syde...</td>\n",
       "      <td>2 Bed Terrace House To Rent</td>\n",
       "      <td>4 DEVON DRIVE,\\nSydenham, Belfast BT4 1LF</td>\n",
       "    </tr>\n",
       "    <tr>\n",
       "      <th>9</th>\n",
       "      <td>https://www.propertypal.com/40-norwood-avenue-...</td>\n",
       "      <td>3 Bed Semi-detached House To Rent</td>\n",
       "      <td>40 NORWOOD AVENUE,\\nBelfast BT4 2EF</td>\n",
       "    </tr>\n",
       "  </tbody>\n",
       "</table>\n",
       "</div>"
      ],
      "text/plain": [
       "                                                Link  \\\n",
       "0  https://www.propertypal.com/apt-14-39-dundela-...   \n",
       "1  https://www.propertypal.com/1a-carew-street-be...   \n",
       "2  https://www.propertypal.com/13-bathgate-drive-...   \n",
       "3  https://www.propertypal.com/flat-3-152-upper-n...   \n",
       "4  https://www.propertypal.com/229-park-avenue-be...   \n",
       "5  https://www.propertypal.com/9-pims-avenue-belf...   \n",
       "6  https://www.propertypal.com/apt-3-goldstone-ha...   \n",
       "7  https://www.propertypal.com/53-upper-newtownar...   \n",
       "8  https://www.propertypal.com/4-devon-drive-syde...   \n",
       "9  https://www.propertypal.com/40-norwood-avenue-...   \n",
       "\n",
       "                             Summary  \\\n",
       "0            2 Bed Apartment To Rent   \n",
       "1    2 Bed End-terrace House To Rent   \n",
       "2        4 Bed Terrace House To Rent   \n",
       "3            1 Bed Apartment To Rent   \n",
       "4    4 Bed Mid-terrace House To Rent   \n",
       "5        3 Bed Terrace House To Rent   \n",
       "6  2 Bed 1st Floor Apartment To Rent   \n",
       "7        3 Bed Terrace House To Rent   \n",
       "8        2 Bed Terrace House To Rent   \n",
       "9  3 Bed Semi-detached House To Rent   \n",
       "\n",
       "                                             Address  \n",
       "0      APT 14, 39 DUNDELA CRESCENT,\\nBelfast BT4 3BN  \n",
       "1                  1A CAREW STREET,\\nBelfast BT4 1HQ  \n",
       "2                13 BATHGATE DRIVE,\\nBelfast BT4 2BA  \n",
       "3  FLAT 3, 152 UPPER NEWTOWNARDS ROAD,\\n152 Upper...  \n",
       "4                  229 PARK AVENUE,\\nBelfast BT4 1LN  \n",
       "5                    9 PIMS AVENUE,\\nBELFAST BT4 1PJ  \n",
       "6            APT 3, GOLDSTONE HALL,\\nBelfast BT4 1JE  \n",
       "7        53 UPPER NEWTOWNARDS ROAD,\\nBELFAST BT4 3HT  \n",
       "8          4 DEVON DRIVE,\\nSydenham, Belfast BT4 1LF  \n",
       "9                40 NORWOOD AVENUE,\\nBelfast BT4 2EF  "
      ]
     },
     "execution_count": 120,
     "metadata": {},
     "output_type": "execute_result"
    }
   ],
   "source": [
    "import pandas as pd\n",
    "\n",
    "pd.DataFrame(prop_dict)"
   ]
  },
  {
   "cell_type": "code",
   "execution_count": 137,
   "metadata": {},
   "outputs": [
    {
     "name": "stdout",
     "output_type": "stream",
     "text": [
      "No href found, skipping this property\n"
     ]
    },
    {
     "name": "stderr",
     "output_type": "stream",
     "text": [
      "/var/folders/k0/hpk5zvqn2rdfdj_f5sv8ptp80000gn/T/ipykernel_6413/2763093461.py:42: DeprecationWarning: find_element_by_xpath is deprecated. Please use find_element(by=By.XPATH, value=xpath) instead\n",
      "  button = self.driver.find_element_by_xpath(xpath)\n"
     ]
    },
    {
     "name": "stdout",
     "output_type": "stream",
     "text": [
      "No href found, skipping this property\n",
      "No href found, skipping this property\n",
      "No href found, skipping this property\n",
      "end of list\n"
     ]
    }
   ],
   "source": [
    "list_links = []\n",
    "while True:\n",
    "    container = bot.find_container()\n",
    "    items = container.find_elements(By.XPATH, './li')\n",
    "    for i in items:\n",
    "        try:\n",
    "            house = i.find_element(By.XPATH, './/a[2]')\n",
    "            link = house.get_attribute('href')\n",
    "            list_links.append(link)\n",
    "        except:\n",
    "            print('No href found, skipping this property')\n",
    "    \n",
    "    try:\n",
    "        bot.button_click('//a[@class=\"btn paging-next\"]')\n",
    "    except NoSuchElementException:\n",
    "        print(\"end of list\")\n",
    "        break\n"
   ]
  },
  {
   "cell_type": "code",
   "execution_count": 138,
   "metadata": {},
   "outputs": [
    {
     "name": "stdout",
     "output_type": "stream",
     "text": [
      "['https://www.propertypal.com/apt-14-39-dundela-crescent-belfast/759335', 'https://www.propertypal.com/1a-carew-street-belfast/765807', 'https://www.propertypal.com/13-bathgate-drive-belfast/765788', 'https://www.propertypal.com/flat-3-152-upper-newtownards-road-152-upper-newtownards-road-belfast/532728', 'https://www.propertypal.com/229-park-avenue-belfast/765499', 'https://www.propertypal.com/9-pims-avenue-belfast/765427', 'https://www.propertypal.com/apt-3-goldstone-hall-belfast/765358', 'https://www.propertypal.com/53-upper-newtownards-road-belfast/765329', 'https://www.propertypal.com/4-devon-drive-sydenham-belfast/765273', 'https://www.propertypal.com/40-norwood-avenue-belfast/765201', 'https://www.propertypal.com/the-limes-216-belmont-road-belfast/105704', 'https://www.propertypal.com/apt-14-39-dundela-crescent-belfast/759335', 'https://www.propertypal.com/35-sydenham-avenue-belmont-belfast/764757', 'https://www.propertypal.com/79-upper-newtownards-road-belfast/730603', 'https://www.propertypal.com/apt-12-39-dundela-crescent-belfast/762260', 'https://www.propertypal.com/73-upper-newtownards-road-apt-3-ballyhackamore-belfast/761430', 'https://www.propertypal.com/352-belmont-road-knockdarragh-belfast/512687', 'https://www.propertypal.com/apt-3-556-upper-newtownards-road-belfast/711069', 'https://www.propertypal.com/84-larkfield-road-belfast/759906', 'https://www.propertypal.com/9-larkfield-grove-sydenham-belfast/759461', 'https://www.propertypal.com/85-upper-newtownards-road-room-5-belfast/606480', 'https://www.propertypal.com/55c-victoria-road-belfast/752602', 'https://www.propertypal.com/187-holywood-road-belfast/343908']\n"
     ]
    },
    {
     "data": {
      "text/plain": [
       "23"
      ]
     },
     "execution_count": 138,
     "metadata": {},
     "output_type": "execute_result"
    }
   ],
   "source": [
    "print(list_links)\n",
    "len(list_links)"
   ]
  },
  {
   "cell_type": "code",
   "execution_count": 123,
   "metadata": {},
   "outputs": [
    {
     "name": "stdout",
     "output_type": "stream",
     "text": [
      "\n"
     ]
    },
    {
     "name": "stderr",
     "output_type": "stream",
     "text": [
      "[WDM] - ====== WebDriver manager ======\n",
      "[WDM] - Current google-chrome version is 103.0.5060\n",
      "[WDM] - Get LATEST chromedriver version for 103.0.5060 google-chrome\n",
      "[WDM] - Driver [/Users/ryanhughes/.wdm/drivers/chromedriver/mac64/103.0.5060.53/chromedriver] found in cache\n",
      "/var/folders/k0/hpk5zvqn2rdfdj_f5sv8ptp80000gn/T/ipykernel_6413/2763093461.py:3: DeprecationWarning: executable_path has been deprecated, please pass in a Service object\n",
      "  self.driver = Chrome(ChromeDriverManager().install())\n"
     ]
    }
   ],
   "source": [
    "bot = Scraper()"
   ]
  },
  {
   "cell_type": "code",
   "execution_count": 126,
   "metadata": {},
   "outputs": [
    {
     "name": "stderr",
     "output_type": "stream",
     "text": [
      "/var/folders/k0/hpk5zvqn2rdfdj_f5sv8ptp80000gn/T/ipykernel_6413/2763093461.py:42: DeprecationWarning: find_element_by_xpath is deprecated. Please use find_element(by=By.XPATH, value=xpath) instead\n",
      "  button = self.driver.find_element_by_xpath(xpath)\n"
     ]
    },
    {
     "ename": "NoSuchElementException",
     "evalue": "Message: no such element: Unable to locate element: {\"method\":\"xpath\",\"selector\":\"//a[@class=\"btn paging-next\"]\"}\n  (Session info: chrome=103.0.5060.114)\nStacktrace:\n0   chromedriver                        0x00000001083c5079 chromedriver + 4444281\n1   chromedriver                        0x0000000108351403 chromedriver + 3970051\n2   chromedriver                        0x0000000107fec038 chromedriver + 409656\n3   chromedriver                        0x00000001080222fd chromedriver + 631549\n4   chromedriver                        0x0000000108022581 chromedriver + 632193\n5   chromedriver                        0x00000001080544f4 chromedriver + 836852\n6   chromedriver                        0x000000010803f7bd chromedriver + 751549\n7   chromedriver                        0x0000000108052221 chromedriver + 827937\n8   chromedriver                        0x000000010803f683 chromedriver + 751235\n9   chromedriver                        0x0000000108015a45 chromedriver + 580165\n10  chromedriver                        0x0000000108016a95 chromedriver + 584341\n11  chromedriver                        0x000000010839655d chromedriver + 4253021\n12  chromedriver                        0x000000010839b3a1 chromedriver + 4273057\n13  chromedriver                        0x00000001083a016f chromedriver + 4292975\n14  chromedriver                        0x000000010839bdea chromedriver + 4275690\n15  chromedriver                        0x000000010837554f chromedriver + 4117839\n16  chromedriver                        0x00000001083b5ed8 chromedriver + 4382424\n17  chromedriver                        0x00000001083b605f chromedriver + 4382815\n18  chromedriver                        0x00000001083cc8d5 chromedriver + 4475093\n19  libsystem_pthread.dylib             0x00007ff80939f4f4 _pthread_start + 125\n20  libsystem_pthread.dylib             0x00007ff80939b00f thread_start + 15\n",
     "output_type": "error",
     "traceback": [
      "\u001b[0;31m---------------------------------------------------------------------------\u001b[0m",
      "\u001b[0;31mNoSuchElementException\u001b[0m                    Traceback (most recent call last)",
      "Input \u001b[0;32mIn [126]\u001b[0m, in \u001b[0;36m<cell line: 1>\u001b[0;34m()\u001b[0m\n\u001b[0;32m----> 1\u001b[0m bot\u001b[39m.\u001b[39;49mbutton_click(\u001b[39m'\u001b[39;49m\u001b[39m//a[@class=\u001b[39;49m\u001b[39m\"\u001b[39;49m\u001b[39mbtn paging-next\u001b[39;49m\u001b[39m\"\u001b[39;49m\u001b[39m]\u001b[39;49m\u001b[39m'\u001b[39;49m)\n",
      "\u001b[1;32m/Users/ryanhughes/Desktop/Aicore/Property-Pal-Pipeline-/Property-Pal-Pipeline.ipynb Cell 2'\u001b[0m in \u001b[0;36mScraper.button_click\u001b[0;34m(self, xpath)\u001b[0m\n\u001b[1;32m     <a href='vscode-notebook-cell:/Users/ryanhughes/Desktop/Aicore/Property-Pal-Pipeline-/Property-Pal-Pipeline.ipynb#ch0000001?line=40'>41</a>\u001b[0m \u001b[39mdef\u001b[39;00m \u001b[39mbutton_click\u001b[39m(\u001b[39mself\u001b[39m,xpath):\n\u001b[0;32m---> <a href='vscode-notebook-cell:/Users/ryanhughes/Desktop/Aicore/Property-Pal-Pipeline-/Property-Pal-Pipeline.ipynb#ch0000001?line=41'>42</a>\u001b[0m     button \u001b[39m=\u001b[39m \u001b[39mself\u001b[39;49m\u001b[39m.\u001b[39;49mdriver\u001b[39m.\u001b[39;49mfind_element_by_xpath(xpath)\n\u001b[1;32m     <a href='vscode-notebook-cell:/Users/ryanhughes/Desktop/Aicore/Property-Pal-Pipeline-/Property-Pal-Pipeline.ipynb#ch0000001?line=42'>43</a>\u001b[0m     button\u001b[39m.\u001b[39mclick()\n",
      "File \u001b[0;32m~/opt/miniconda3/envs/Selenium_demo/lib/python3.10/site-packages/selenium/webdriver/remote/webdriver.py:526\u001b[0m, in \u001b[0;36mWebDriver.find_element_by_xpath\u001b[0;34m(self, xpath)\u001b[0m\n\u001b[1;32m    <a href='file:///Users/ryanhughes/opt/miniconda3/envs/Selenium_demo/lib/python3.10/site-packages/selenium/webdriver/remote/webdriver.py?line=503'>504</a>\u001b[0m \u001b[39m\"\"\"\u001b[39;00m\n\u001b[1;32m    <a href='file:///Users/ryanhughes/opt/miniconda3/envs/Selenium_demo/lib/python3.10/site-packages/selenium/webdriver/remote/webdriver.py?line=504'>505</a>\u001b[0m \u001b[39mFinds an element by xpath.\u001b[39;00m\n\u001b[1;32m    <a href='file:///Users/ryanhughes/opt/miniconda3/envs/Selenium_demo/lib/python3.10/site-packages/selenium/webdriver/remote/webdriver.py?line=505'>506</a>\u001b[0m \n\u001b[0;32m   (...)\u001b[0m\n\u001b[1;32m    <a href='file:///Users/ryanhughes/opt/miniconda3/envs/Selenium_demo/lib/python3.10/site-packages/selenium/webdriver/remote/webdriver.py?line=518'>519</a>\u001b[0m \u001b[39m        element = driver.find_element_by_xpath('//div/td[1]')\u001b[39;00m\n\u001b[1;32m    <a href='file:///Users/ryanhughes/opt/miniconda3/envs/Selenium_demo/lib/python3.10/site-packages/selenium/webdriver/remote/webdriver.py?line=519'>520</a>\u001b[0m \u001b[39m\"\"\"\u001b[39;00m\n\u001b[1;32m    <a href='file:///Users/ryanhughes/opt/miniconda3/envs/Selenium_demo/lib/python3.10/site-packages/selenium/webdriver/remote/webdriver.py?line=520'>521</a>\u001b[0m warnings\u001b[39m.\u001b[39mwarn(\n\u001b[1;32m    <a href='file:///Users/ryanhughes/opt/miniconda3/envs/Selenium_demo/lib/python3.10/site-packages/selenium/webdriver/remote/webdriver.py?line=521'>522</a>\u001b[0m     \u001b[39m\"\u001b[39m\u001b[39mfind_element_by_xpath is deprecated. Please use find_element(by=By.XPATH, value=xpath) instead\u001b[39m\u001b[39m\"\u001b[39m,\n\u001b[1;32m    <a href='file:///Users/ryanhughes/opt/miniconda3/envs/Selenium_demo/lib/python3.10/site-packages/selenium/webdriver/remote/webdriver.py?line=522'>523</a>\u001b[0m     \u001b[39mDeprecationWarning\u001b[39;00m,\n\u001b[1;32m    <a href='file:///Users/ryanhughes/opt/miniconda3/envs/Selenium_demo/lib/python3.10/site-packages/selenium/webdriver/remote/webdriver.py?line=523'>524</a>\u001b[0m     stacklevel\u001b[39m=\u001b[39m\u001b[39m2\u001b[39m,\n\u001b[1;32m    <a href='file:///Users/ryanhughes/opt/miniconda3/envs/Selenium_demo/lib/python3.10/site-packages/selenium/webdriver/remote/webdriver.py?line=524'>525</a>\u001b[0m )\n\u001b[0;32m--> <a href='file:///Users/ryanhughes/opt/miniconda3/envs/Selenium_demo/lib/python3.10/site-packages/selenium/webdriver/remote/webdriver.py?line=525'>526</a>\u001b[0m \u001b[39mreturn\u001b[39;00m \u001b[39mself\u001b[39;49m\u001b[39m.\u001b[39;49mfind_element(by\u001b[39m=\u001b[39;49mBy\u001b[39m.\u001b[39;49mXPATH, value\u001b[39m=\u001b[39;49mxpath)\n",
      "File \u001b[0;32m~/opt/miniconda3/envs/Selenium_demo/lib/python3.10/site-packages/selenium/webdriver/remote/webdriver.py:1251\u001b[0m, in \u001b[0;36mWebDriver.find_element\u001b[0;34m(self, by, value)\u001b[0m\n\u001b[1;32m   <a href='file:///Users/ryanhughes/opt/miniconda3/envs/Selenium_demo/lib/python3.10/site-packages/selenium/webdriver/remote/webdriver.py?line=1247'>1248</a>\u001b[0m     by \u001b[39m=\u001b[39m By\u001b[39m.\u001b[39mCSS_SELECTOR\n\u001b[1;32m   <a href='file:///Users/ryanhughes/opt/miniconda3/envs/Selenium_demo/lib/python3.10/site-packages/selenium/webdriver/remote/webdriver.py?line=1248'>1249</a>\u001b[0m     value \u001b[39m=\u001b[39m \u001b[39m'\u001b[39m\u001b[39m[name=\u001b[39m\u001b[39m\"\u001b[39m\u001b[39m%s\u001b[39;00m\u001b[39m\"\u001b[39m\u001b[39m]\u001b[39m\u001b[39m'\u001b[39m \u001b[39m%\u001b[39m value\n\u001b[0;32m-> <a href='file:///Users/ryanhughes/opt/miniconda3/envs/Selenium_demo/lib/python3.10/site-packages/selenium/webdriver/remote/webdriver.py?line=1250'>1251</a>\u001b[0m \u001b[39mreturn\u001b[39;00m \u001b[39mself\u001b[39;49m\u001b[39m.\u001b[39;49mexecute(Command\u001b[39m.\u001b[39;49mFIND_ELEMENT, {\n\u001b[1;32m   <a href='file:///Users/ryanhughes/opt/miniconda3/envs/Selenium_demo/lib/python3.10/site-packages/selenium/webdriver/remote/webdriver.py?line=1251'>1252</a>\u001b[0m     \u001b[39m'\u001b[39;49m\u001b[39musing\u001b[39;49m\u001b[39m'\u001b[39;49m: by,\n\u001b[1;32m   <a href='file:///Users/ryanhughes/opt/miniconda3/envs/Selenium_demo/lib/python3.10/site-packages/selenium/webdriver/remote/webdriver.py?line=1252'>1253</a>\u001b[0m     \u001b[39m'\u001b[39;49m\u001b[39mvalue\u001b[39;49m\u001b[39m'\u001b[39;49m: value})[\u001b[39m'\u001b[39m\u001b[39mvalue\u001b[39m\u001b[39m'\u001b[39m]\n",
      "File \u001b[0;32m~/opt/miniconda3/envs/Selenium_demo/lib/python3.10/site-packages/selenium/webdriver/remote/webdriver.py:430\u001b[0m, in \u001b[0;36mWebDriver.execute\u001b[0;34m(self, driver_command, params)\u001b[0m\n\u001b[1;32m    <a href='file:///Users/ryanhughes/opt/miniconda3/envs/Selenium_demo/lib/python3.10/site-packages/selenium/webdriver/remote/webdriver.py?line=427'>428</a>\u001b[0m response \u001b[39m=\u001b[39m \u001b[39mself\u001b[39m\u001b[39m.\u001b[39mcommand_executor\u001b[39m.\u001b[39mexecute(driver_command, params)\n\u001b[1;32m    <a href='file:///Users/ryanhughes/opt/miniconda3/envs/Selenium_demo/lib/python3.10/site-packages/selenium/webdriver/remote/webdriver.py?line=428'>429</a>\u001b[0m \u001b[39mif\u001b[39;00m response:\n\u001b[0;32m--> <a href='file:///Users/ryanhughes/opt/miniconda3/envs/Selenium_demo/lib/python3.10/site-packages/selenium/webdriver/remote/webdriver.py?line=429'>430</a>\u001b[0m     \u001b[39mself\u001b[39;49m\u001b[39m.\u001b[39;49merror_handler\u001b[39m.\u001b[39;49mcheck_response(response)\n\u001b[1;32m    <a href='file:///Users/ryanhughes/opt/miniconda3/envs/Selenium_demo/lib/python3.10/site-packages/selenium/webdriver/remote/webdriver.py?line=430'>431</a>\u001b[0m     response[\u001b[39m'\u001b[39m\u001b[39mvalue\u001b[39m\u001b[39m'\u001b[39m] \u001b[39m=\u001b[39m \u001b[39mself\u001b[39m\u001b[39m.\u001b[39m_unwrap_value(\n\u001b[1;32m    <a href='file:///Users/ryanhughes/opt/miniconda3/envs/Selenium_demo/lib/python3.10/site-packages/selenium/webdriver/remote/webdriver.py?line=431'>432</a>\u001b[0m         response\u001b[39m.\u001b[39mget(\u001b[39m'\u001b[39m\u001b[39mvalue\u001b[39m\u001b[39m'\u001b[39m, \u001b[39mNone\u001b[39;00m))\n\u001b[1;32m    <a href='file:///Users/ryanhughes/opt/miniconda3/envs/Selenium_demo/lib/python3.10/site-packages/selenium/webdriver/remote/webdriver.py?line=432'>433</a>\u001b[0m     \u001b[39mreturn\u001b[39;00m response\n",
      "File \u001b[0;32m~/opt/miniconda3/envs/Selenium_demo/lib/python3.10/site-packages/selenium/webdriver/remote/errorhandler.py:247\u001b[0m, in \u001b[0;36mErrorHandler.check_response\u001b[0;34m(self, response)\u001b[0m\n\u001b[1;32m    <a href='file:///Users/ryanhughes/opt/miniconda3/envs/Selenium_demo/lib/python3.10/site-packages/selenium/webdriver/remote/errorhandler.py?line=244'>245</a>\u001b[0m         alert_text \u001b[39m=\u001b[39m value[\u001b[39m'\u001b[39m\u001b[39malert\u001b[39m\u001b[39m'\u001b[39m]\u001b[39m.\u001b[39mget(\u001b[39m'\u001b[39m\u001b[39mtext\u001b[39m\u001b[39m'\u001b[39m)\n\u001b[1;32m    <a href='file:///Users/ryanhughes/opt/miniconda3/envs/Selenium_demo/lib/python3.10/site-packages/selenium/webdriver/remote/errorhandler.py?line=245'>246</a>\u001b[0m     \u001b[39mraise\u001b[39;00m exception_class(message, screen, stacktrace, alert_text)  \u001b[39m# type: ignore[call-arg]  # mypy is not smart enough here\u001b[39;00m\n\u001b[0;32m--> <a href='file:///Users/ryanhughes/opt/miniconda3/envs/Selenium_demo/lib/python3.10/site-packages/selenium/webdriver/remote/errorhandler.py?line=246'>247</a>\u001b[0m \u001b[39mraise\u001b[39;00m exception_class(message, screen, stacktrace)\n",
      "\u001b[0;31mNoSuchElementException\u001b[0m: Message: no such element: Unable to locate element: {\"method\":\"xpath\",\"selector\":\"//a[@class=\"btn paging-next\"]\"}\n  (Session info: chrome=103.0.5060.114)\nStacktrace:\n0   chromedriver                        0x00000001083c5079 chromedriver + 4444281\n1   chromedriver                        0x0000000108351403 chromedriver + 3970051\n2   chromedriver                        0x0000000107fec038 chromedriver + 409656\n3   chromedriver                        0x00000001080222fd chromedriver + 631549\n4   chromedriver                        0x0000000108022581 chromedriver + 632193\n5   chromedriver                        0x00000001080544f4 chromedriver + 836852\n6   chromedriver                        0x000000010803f7bd chromedriver + 751549\n7   chromedriver                        0x0000000108052221 chromedriver + 827937\n8   chromedriver                        0x000000010803f683 chromedriver + 751235\n9   chromedriver                        0x0000000108015a45 chromedriver + 580165\n10  chromedriver                        0x0000000108016a95 chromedriver + 584341\n11  chromedriver                        0x000000010839655d chromedriver + 4253021\n12  chromedriver                        0x000000010839b3a1 chromedriver + 4273057\n13  chromedriver                        0x00000001083a016f chromedriver + 4292975\n14  chromedriver                        0x000000010839bdea chromedriver + 4275690\n15  chromedriver                        0x000000010837554f chromedriver + 4117839\n16  chromedriver                        0x00000001083b5ed8 chromedriver + 4382424\n17  chromedriver                        0x00000001083b605f chromedriver + 4382815\n18  chromedriver                        0x00000001083cc8d5 chromedriver + 4475093\n19  libsystem_pthread.dylib             0x00007ff80939f4f4 _pthread_start + 125\n20  libsystem_pthread.dylib             0x00007ff80939b00f thread_start + 15\n"
     ]
    }
   ],
   "source": [
    "bot.button_click('//a[@class=\"btn paging-next\"]')"
   ]
  },
  {
   "cell_type": "code",
   "execution_count": 109,
   "metadata": {},
   "outputs": [
    {
     "name": "stdout",
     "output_type": "stream",
     "text": [
      "2 Bed Apartment To Rent\n"
     ]
    }
   ],
   "source": [
    "summary = bot.driver.find_element(By.XPATH, '//div[@class=\"prop-heading-brief\"]')\n",
    "print(summary.text)"
   ]
  },
  {
   "cell_type": "code",
   "execution_count": 99,
   "metadata": {},
   "outputs": [
    {
     "name": "stdout",
     "output_type": "stream",
     "text": [
      "1A CAREW STREET,\n",
      "Belfast BT4 1HQ\n",
      "£600\n",
      "/ month\n",
      "\n"
     ]
    }
   ],
   "source": [
    "info = bot.driver.find_element(By.XPATH, '//div[@class=\"prop-summary-row\"]')\n",
    "\n",
    "address = info.find_element(By.XPATH, './/h1')\n",
    "print(address.text)\n",
    "price = bot.driver.find_element(By.XPATH, '//div[@class=\"prop-price\"]')\n",
    "print(price.text)\n",
    "summary = bot.driver.find_element(By.XPATH, '//p[@class=\"prop-strapline\"]')\n",
    "print(summary.text)"
   ]
  },
  {
   "cell_type": "code",
   "execution_count": 102,
   "metadata": {},
   "outputs": [
    {
     "name": "stdout",
     "output_type": "stream",
     "text": [
      "2 Bed End-terrace House To Rent\n"
     ]
    }
   ],
   "source": [
    "summary = bot.driver.find_element(By.XPATH, '//div[@class=\"prop-heading-brief\"]')\n",
    "print(summary.text)"
   ]
  },
  {
   "cell_type": "code",
   "execution_count": 97,
   "metadata": {},
   "outputs": [
    {
     "ename": "NoSuchElementException",
     "evalue": "Message: no such element: Unable to locate element: {\"method\":\"css selector\",\"selector\":\"[name=\"Bedrooms\"]\"}\n  (Session info: chrome=103.0.5060.114)\nStacktrace:\n0   chromedriver                        0x000000010d7f8079 chromedriver + 4444281\n1   chromedriver                        0x000000010d784403 chromedriver + 3970051\n2   chromedriver                        0x000000010d41f038 chromedriver + 409656\n3   chromedriver                        0x000000010d4552fd chromedriver + 631549\n4   chromedriver                        0x000000010d455581 chromedriver + 632193\n5   chromedriver                        0x000000010d4874f4 chromedriver + 836852\n6   chromedriver                        0x000000010d4727bd chromedriver + 751549\n7   chromedriver                        0x000000010d485221 chromedriver + 827937\n8   chromedriver                        0x000000010d472683 chromedriver + 751235\n9   chromedriver                        0x000000010d448a45 chromedriver + 580165\n10  chromedriver                        0x000000010d449a95 chromedriver + 584341\n11  chromedriver                        0x000000010d7c955d chromedriver + 4253021\n12  chromedriver                        0x000000010d7ce3a1 chromedriver + 4273057\n13  chromedriver                        0x000000010d7d316f chromedriver + 4292975\n14  chromedriver                        0x000000010d7cedea chromedriver + 4275690\n15  chromedriver                        0x000000010d7a854f chromedriver + 4117839\n16  chromedriver                        0x000000010d7e8ed8 chromedriver + 4382424\n17  chromedriver                        0x000000010d7e905f chromedriver + 4382815\n18  chromedriver                        0x000000010d7ff8d5 chromedriver + 4475093\n19  libsystem_pthread.dylib             0x00007ff80939f4f4 _pthread_start + 125\n20  libsystem_pthread.dylib             0x00007ff80939b00f thread_start + 15\n",
     "output_type": "error",
     "traceback": [
      "\u001b[0;31m---------------------------------------------------------------------------\u001b[0m",
      "\u001b[0;31mNoSuchElementException\u001b[0m                    Traceback (most recent call last)",
      "Input \u001b[0;32mIn [97]\u001b[0m, in \u001b[0;36m<cell line: 1>\u001b[0;34m()\u001b[0m\n\u001b[0;32m----> 1\u001b[0m info_3 \u001b[39m=\u001b[39m bot\u001b[39m.\u001b[39;49mdriver\u001b[39m.\u001b[39;49mfind_element(By\u001b[39m.\u001b[39;49mNAME, \u001b[39m'\u001b[39;49m\u001b[39mBedrooms\u001b[39;49m\u001b[39m'\u001b[39;49m)\n",
      "File \u001b[0;32m~/opt/miniconda3/envs/Selenium_demo/lib/python3.10/site-packages/selenium/webdriver/remote/webdriver.py:1251\u001b[0m, in \u001b[0;36mWebDriver.find_element\u001b[0;34m(self, by, value)\u001b[0m\n\u001b[1;32m   <a href='file:///Users/ryanhughes/opt/miniconda3/envs/Selenium_demo/lib/python3.10/site-packages/selenium/webdriver/remote/webdriver.py?line=1247'>1248</a>\u001b[0m     by \u001b[39m=\u001b[39m By\u001b[39m.\u001b[39mCSS_SELECTOR\n\u001b[1;32m   <a href='file:///Users/ryanhughes/opt/miniconda3/envs/Selenium_demo/lib/python3.10/site-packages/selenium/webdriver/remote/webdriver.py?line=1248'>1249</a>\u001b[0m     value \u001b[39m=\u001b[39m \u001b[39m'\u001b[39m\u001b[39m[name=\u001b[39m\u001b[39m\"\u001b[39m\u001b[39m%s\u001b[39;00m\u001b[39m\"\u001b[39m\u001b[39m]\u001b[39m\u001b[39m'\u001b[39m \u001b[39m%\u001b[39m value\n\u001b[0;32m-> <a href='file:///Users/ryanhughes/opt/miniconda3/envs/Selenium_demo/lib/python3.10/site-packages/selenium/webdriver/remote/webdriver.py?line=1250'>1251</a>\u001b[0m \u001b[39mreturn\u001b[39;00m \u001b[39mself\u001b[39;49m\u001b[39m.\u001b[39;49mexecute(Command\u001b[39m.\u001b[39;49mFIND_ELEMENT, {\n\u001b[1;32m   <a href='file:///Users/ryanhughes/opt/miniconda3/envs/Selenium_demo/lib/python3.10/site-packages/selenium/webdriver/remote/webdriver.py?line=1251'>1252</a>\u001b[0m     \u001b[39m'\u001b[39;49m\u001b[39musing\u001b[39;49m\u001b[39m'\u001b[39;49m: by,\n\u001b[1;32m   <a href='file:///Users/ryanhughes/opt/miniconda3/envs/Selenium_demo/lib/python3.10/site-packages/selenium/webdriver/remote/webdriver.py?line=1252'>1253</a>\u001b[0m     \u001b[39m'\u001b[39;49m\u001b[39mvalue\u001b[39;49m\u001b[39m'\u001b[39;49m: value})[\u001b[39m'\u001b[39m\u001b[39mvalue\u001b[39m\u001b[39m'\u001b[39m]\n",
      "File \u001b[0;32m~/opt/miniconda3/envs/Selenium_demo/lib/python3.10/site-packages/selenium/webdriver/remote/webdriver.py:430\u001b[0m, in \u001b[0;36mWebDriver.execute\u001b[0;34m(self, driver_command, params)\u001b[0m\n\u001b[1;32m    <a href='file:///Users/ryanhughes/opt/miniconda3/envs/Selenium_demo/lib/python3.10/site-packages/selenium/webdriver/remote/webdriver.py?line=427'>428</a>\u001b[0m response \u001b[39m=\u001b[39m \u001b[39mself\u001b[39m\u001b[39m.\u001b[39mcommand_executor\u001b[39m.\u001b[39mexecute(driver_command, params)\n\u001b[1;32m    <a href='file:///Users/ryanhughes/opt/miniconda3/envs/Selenium_demo/lib/python3.10/site-packages/selenium/webdriver/remote/webdriver.py?line=428'>429</a>\u001b[0m \u001b[39mif\u001b[39;00m response:\n\u001b[0;32m--> <a href='file:///Users/ryanhughes/opt/miniconda3/envs/Selenium_demo/lib/python3.10/site-packages/selenium/webdriver/remote/webdriver.py?line=429'>430</a>\u001b[0m     \u001b[39mself\u001b[39;49m\u001b[39m.\u001b[39;49merror_handler\u001b[39m.\u001b[39;49mcheck_response(response)\n\u001b[1;32m    <a href='file:///Users/ryanhughes/opt/miniconda3/envs/Selenium_demo/lib/python3.10/site-packages/selenium/webdriver/remote/webdriver.py?line=430'>431</a>\u001b[0m     response[\u001b[39m'\u001b[39m\u001b[39mvalue\u001b[39m\u001b[39m'\u001b[39m] \u001b[39m=\u001b[39m \u001b[39mself\u001b[39m\u001b[39m.\u001b[39m_unwrap_value(\n\u001b[1;32m    <a href='file:///Users/ryanhughes/opt/miniconda3/envs/Selenium_demo/lib/python3.10/site-packages/selenium/webdriver/remote/webdriver.py?line=431'>432</a>\u001b[0m         response\u001b[39m.\u001b[39mget(\u001b[39m'\u001b[39m\u001b[39mvalue\u001b[39m\u001b[39m'\u001b[39m, \u001b[39mNone\u001b[39;00m))\n\u001b[1;32m    <a href='file:///Users/ryanhughes/opt/miniconda3/envs/Selenium_demo/lib/python3.10/site-packages/selenium/webdriver/remote/webdriver.py?line=432'>433</a>\u001b[0m     \u001b[39mreturn\u001b[39;00m response\n",
      "File \u001b[0;32m~/opt/miniconda3/envs/Selenium_demo/lib/python3.10/site-packages/selenium/webdriver/remote/errorhandler.py:247\u001b[0m, in \u001b[0;36mErrorHandler.check_response\u001b[0;34m(self, response)\u001b[0m\n\u001b[1;32m    <a href='file:///Users/ryanhughes/opt/miniconda3/envs/Selenium_demo/lib/python3.10/site-packages/selenium/webdriver/remote/errorhandler.py?line=244'>245</a>\u001b[0m         alert_text \u001b[39m=\u001b[39m value[\u001b[39m'\u001b[39m\u001b[39malert\u001b[39m\u001b[39m'\u001b[39m]\u001b[39m.\u001b[39mget(\u001b[39m'\u001b[39m\u001b[39mtext\u001b[39m\u001b[39m'\u001b[39m)\n\u001b[1;32m    <a href='file:///Users/ryanhughes/opt/miniconda3/envs/Selenium_demo/lib/python3.10/site-packages/selenium/webdriver/remote/errorhandler.py?line=245'>246</a>\u001b[0m     \u001b[39mraise\u001b[39;00m exception_class(message, screen, stacktrace, alert_text)  \u001b[39m# type: ignore[call-arg]  # mypy is not smart enough here\u001b[39;00m\n\u001b[0;32m--> <a href='file:///Users/ryanhughes/opt/miniconda3/envs/Selenium_demo/lib/python3.10/site-packages/selenium/webdriver/remote/errorhandler.py?line=246'>247</a>\u001b[0m \u001b[39mraise\u001b[39;00m exception_class(message, screen, stacktrace)\n",
      "\u001b[0;31mNoSuchElementException\u001b[0m: Message: no such element: Unable to locate element: {\"method\":\"css selector\",\"selector\":\"[name=\"Bedrooms\"]\"}\n  (Session info: chrome=103.0.5060.114)\nStacktrace:\n0   chromedriver                        0x000000010d7f8079 chromedriver + 4444281\n1   chromedriver                        0x000000010d784403 chromedriver + 3970051\n2   chromedriver                        0x000000010d41f038 chromedriver + 409656\n3   chromedriver                        0x000000010d4552fd chromedriver + 631549\n4   chromedriver                        0x000000010d455581 chromedriver + 632193\n5   chromedriver                        0x000000010d4874f4 chromedriver + 836852\n6   chromedriver                        0x000000010d4727bd chromedriver + 751549\n7   chromedriver                        0x000000010d485221 chromedriver + 827937\n8   chromedriver                        0x000000010d472683 chromedriver + 751235\n9   chromedriver                        0x000000010d448a45 chromedriver + 580165\n10  chromedriver                        0x000000010d449a95 chromedriver + 584341\n11  chromedriver                        0x000000010d7c955d chromedriver + 4253021\n12  chromedriver                        0x000000010d7ce3a1 chromedriver + 4273057\n13  chromedriver                        0x000000010d7d316f chromedriver + 4292975\n14  chromedriver                        0x000000010d7cedea chromedriver + 4275690\n15  chromedriver                        0x000000010d7a854f chromedriver + 4117839\n16  chromedriver                        0x000000010d7e8ed8 chromedriver + 4382424\n17  chromedriver                        0x000000010d7e905f chromedriver + 4382815\n18  chromedriver                        0x000000010d7ff8d5 chromedriver + 4475093\n19  libsystem_pthread.dylib             0x00007ff80939f4f4 _pthread_start + 125\n20  libsystem_pthread.dylib             0x00007ff80939b00f thread_start + 15\n"
     ]
    }
   ],
   "source": [
    "info_3 = bot.driver.find_element(By.NAME, 'Bedrooms')"
   ]
  },
  {
   "cell_type": "markdown",
   "metadata": {},
   "source": [
    "for link in list_links:\n",
    "    time.sleep(3)\n",
    "    bot.driver.get(link)"
   ]
  },
  {
   "cell_type": "code",
   "execution_count": 25,
   "metadata": {},
   "outputs": [
    {
     "name": "stdout",
     "output_type": "stream",
     "text": [
      "\n"
     ]
    },
    {
     "name": "stderr",
     "output_type": "stream",
     "text": [
      "[WDM] - ====== WebDriver manager ======\n",
      "[WDM] - Current google-chrome version is 103.0.5060\n",
      "[WDM] - Get LATEST chromedriver version for 103.0.5060 google-chrome\n",
      "[WDM] - Driver [/Users/ryanhughes/.wdm/drivers/chromedriver/mac64/103.0.5060.53/chromedriver] found in cache\n",
      "/var/folders/k0/hpk5zvqn2rdfdj_f5sv8ptp80000gn/T/ipykernel_24373/3071741555.py:3: DeprecationWarning: executable_path has been deprecated, please pass in a Service object\n",
      "  self.driver = Chrome(ChromeDriverManager().install())\n",
      "/var/folders/k0/hpk5zvqn2rdfdj_f5sv8ptp80000gn/T/ipykernel_24373/3071741555.py:33: DeprecationWarning: find_element_by_xpath is deprecated. Please use find_element(by=By.XPATH, value=xpath) instead\n",
      "  rent = self.driver.find_element_by_xpath('//*[@id=\"searchForm\"]/div/div[2]/button[2]')\n",
      "/var/folders/k0/hpk5zvqn2rdfdj_f5sv8ptp80000gn/T/ipykernel_24373/3071741555.py:41: DeprecationWarning: find_element_by_xpath is deprecated. Please use find_element(by=By.XPATH, value=xpath) instead\n",
      "  button = self.driver.find_element_by_xpath('//*[@id=\"body\"]/div[3]/div/div[1]/div/ul/li[1]/div/a[2]')\n"
     ]
    }
   ],
   "source": [
    "bot = Scraper()\n",
    "time.sleep(3)\n",
    "bot.accept_cookies('//*[@id=\"qc-cmp2-ui\"]/div[2]/div/button[2]')\n",
    "bot.search_word('//*[@id=\"searchForm\"]/div/div[1]', 'BT4')\n",
    "bot.search_rent()\n",
    "time.sleep(2)\n",
    "bot.scroll_down()\n",
    "bot.scroll_down()\n",
    "bot.button_click('//*[@id=\"body\"]/div[3]/div/div[1]/div/ul/li[1]/div/a[2]')"
   ]
  },
  {
   "cell_type": "code",
   "execution_count": null,
   "metadata": {},
   "outputs": [],
   "source": [
    "driver = webdriver.Chrome(ChromeDriverManager().install())\n",
    "driver.get(\"https://www.propertypal.com\")\n",
    "time.sleep(2)\n",
    "accept_cookies = driver.find_element(By.XPATH, '//*[@id=\"qc-cmp2-ui\"]/div[2]/div/button[2]')\n",
    "accept_cookies.click()\n",
    "time.sleep(2)\n",
    "search = driver.find_element(By.XPATH, '//*[@id=\"searchForm\"]/div/div[1]')\n",
    "driver.implicitly_wait(10)\n",
    "ActionChains(driver).move_to_element(search).click(search).perform()\n",
    "ActionChains(driver).send_keys(\"BT4\").perform()"
   ]
  },
  {
   "cell_type": "code",
   "execution_count": 77,
   "metadata": {},
   "outputs": [
    {
     "name": "stdout",
     "output_type": "stream",
     "text": [
      "\n"
     ]
    },
    {
     "name": "stderr",
     "output_type": "stream",
     "text": [
      "[WDM] - ====== WebDriver manager ======\n",
      "[WDM] - Current google-chrome version is 103.0.5060\n",
      "[WDM] - Get LATEST chromedriver version for 103.0.5060 google-chrome\n",
      "[WDM] - About to download new driver from https://chromedriver.storage.googleapis.com/103.0.5060.53/chromedriver_mac64.zip\n",
      "[WDM] - Driver has been saved in cache [/Users/ryanhughes/.wdm/drivers/chromedriver/mac64/103.0.5060.53]\n",
      "/var/folders/k0/hpk5zvqn2rdfdj_f5sv8ptp80000gn/T/ipykernel_82170/937025597.py:3: DeprecationWarning: executable_path has been deprecated, please pass in a Service object\n",
      "  self.driver = Chrome(ChromeDriverManager().install())\n"
     ]
    }
   ],
   "source": [
    "propertypal = Scraper(\"https://www.propertypal.com\")"
   ]
  },
  {
   "cell_type": "code",
   "execution_count": 78,
   "metadata": {},
   "outputs": [
    {
     "name": "stderr",
     "output_type": "stream",
     "text": [
      "/var/folders/k0/hpk5zvqn2rdfdj_f5sv8ptp80000gn/T/ipykernel_82170/937025597.py:13: DeprecationWarning: find_element_by_xpath is deprecated. Please use find_element(by=By.XPATH, value=xpath) instead\n",
      "  button = self.driver.find_element_by_xpath(xpath)\n"
     ]
    }
   ],
   "source": [
    "propertypal.accept_cookies('//*[@id=\"qc-cmp2-ui\"]/div[2]/div/button[2]')"
   ]
  },
  {
   "cell_type": "code",
   "execution_count": 36,
   "metadata": {},
   "outputs": [
    {
     "name": "stderr",
     "output_type": "stream",
     "text": [
      "/var/folders/k0/hpk5zvqn2rdfdj_f5sv8ptp80000gn/T/ipykernel_82170/2345440001.py:26: DeprecationWarning: find_element_by_xpath is deprecated. Please use find_element(by=By.XPATH, value=xpath) instead\n",
      "  search_bar = self.driver.find_element_by_xpath(xpath)\n"
     ]
    },
    {
     "ename": "ElementNotInteractableException",
     "evalue": "Message: element not interactable\n  (Session info: chrome=103.0.5060.53)\nStacktrace:\n0   chromedriver                        0x0000000100d45079 chromedriver + 4444281\n1   chromedriver                        0x0000000100cd1403 chromedriver + 3970051\n2   chromedriver                        0x000000010096beef chromedriver + 409327\n3   chromedriver                        0x000000010099c60f chromedriver + 607759\n4   chromedriver                        0x000000010099bc0d chromedriver + 605197\n5   chromedriver                        0x00000001009bf792 chromedriver + 751506\n6   chromedriver                        0x0000000100996f65 chromedriver + 585573\n7   chromedriver                        0x00000001009bf89e chromedriver + 751774\n8   chromedriver                        0x00000001009d2221 chromedriver + 827937\n9   chromedriver                        0x00000001009bf683 chromedriver + 751235\n10  chromedriver                        0x0000000100995a45 chromedriver + 580165\n11  chromedriver                        0x0000000100996a95 chromedriver + 584341\n12  chromedriver                        0x0000000100d1655d chromedriver + 4253021\n13  chromedriver                        0x0000000100d1b3a1 chromedriver + 4273057\n14  chromedriver                        0x0000000100d2016f chromedriver + 4292975\n15  chromedriver                        0x0000000100d1bdea chromedriver + 4275690\n16  chromedriver                        0x0000000100cf554f chromedriver + 4117839\n17  chromedriver                        0x0000000100d35ed8 chromedriver + 4382424\n18  chromedriver                        0x0000000100d3605f chromedriver + 4382815\n19  chromedriver                        0x0000000100d4c8d5 chromedriver + 4475093\n20  libsystem_pthread.dylib             0x00007ff813e254f4 _pthread_start + 125\n21  libsystem_pthread.dylib             0x00007ff813e2100f thread_start + 15\n",
     "output_type": "error",
     "traceback": [
      "\u001b[0;31m---------------------------------------------------------------------------\u001b[0m",
      "\u001b[0;31mElementNotInteractableException\u001b[0m           Traceback (most recent call last)",
      "\u001b[1;32m/Users/ryanhughes/Desktop/Aicore/Property-Pal-Pipeline.ipynb Cell 9'\u001b[0m in \u001b[0;36m<cell line: 1>\u001b[0;34m()\u001b[0m\n\u001b[0;32m----> <a href='vscode-notebook-cell:/Users/ryanhughes/Desktop/Aicore/Property-Pal-Pipeline.ipynb#ch0000011?line=0'>1</a>\u001b[0m propertypal\u001b[39m.\u001b[39;49msearch_word(\u001b[39m'\u001b[39;49m\u001b[39m//*[@id=\u001b[39;49m\u001b[39m\"\u001b[39;49m\u001b[39msearchForm\u001b[39;49m\u001b[39m\"\u001b[39;49m\u001b[39m]/div/div[1]\u001b[39;49m\u001b[39m'\u001b[39;49m,\u001b[39m'\u001b[39;49m\u001b[39mBT4 BT5\u001b[39;49m\u001b[39m'\u001b[39;49m)\n",
      "\u001b[1;32m/Users/ryanhughes/Desktop/Aicore/Property-Pal-Pipeline.ipynb Cell 6'\u001b[0m in \u001b[0;36mScraper.search_word\u001b[0;34m(self, xpath, text)\u001b[0m\n\u001b[1;32m     <a href='vscode-notebook-cell:/Users/ryanhughes/Desktop/Aicore/Property-Pal-Pipeline.ipynb#ch0000004?line=25'>26</a>\u001b[0m search_bar \u001b[39m=\u001b[39m \u001b[39mself\u001b[39m\u001b[39m.\u001b[39mdriver\u001b[39m.\u001b[39mfind_element_by_xpath(xpath)\n\u001b[1;32m     <a href='vscode-notebook-cell:/Users/ryanhughes/Desktop/Aicore/Property-Pal-Pipeline.ipynb#ch0000004?line=26'>27</a>\u001b[0m search_bar\u001b[39m.\u001b[39mclick()\n\u001b[0;32m---> <a href='vscode-notebook-cell:/Users/ryanhughes/Desktop/Aicore/Property-Pal-Pipeline.ipynb#ch0000004?line=27'>28</a>\u001b[0m search_bar\u001b[39m.\u001b[39;49msend_keys(text)\n",
      "File \u001b[0;32m~/opt/miniconda3/envs/Selenium_demo/lib/python3.10/site-packages/selenium/webdriver/remote/webelement.py:600\u001b[0m, in \u001b[0;36mWebElement.send_keys\u001b[0;34m(self, *value)\u001b[0m\n\u001b[1;32m    <a href='file:///Users/ryanhughes/opt/miniconda3/envs/Selenium_demo/lib/python3.10/site-packages/selenium/webdriver/remote/webelement.py?line=596'>597</a>\u001b[0m             remote_files\u001b[39m.\u001b[39mappend(\u001b[39mself\u001b[39m\u001b[39m.\u001b[39m_upload(file))\n\u001b[1;32m    <a href='file:///Users/ryanhughes/opt/miniconda3/envs/Selenium_demo/lib/python3.10/site-packages/selenium/webdriver/remote/webelement.py?line=597'>598</a>\u001b[0m         value \u001b[39m=\u001b[39m \u001b[39m'\u001b[39m\u001b[39m\\n\u001b[39;00m\u001b[39m'\u001b[39m\u001b[39m.\u001b[39mjoin(remote_files)\n\u001b[0;32m--> <a href='file:///Users/ryanhughes/opt/miniconda3/envs/Selenium_demo/lib/python3.10/site-packages/selenium/webdriver/remote/webelement.py?line=599'>600</a>\u001b[0m \u001b[39mself\u001b[39;49m\u001b[39m.\u001b[39;49m_execute(Command\u001b[39m.\u001b[39;49mSEND_KEYS_TO_ELEMENT,\n\u001b[1;32m    <a href='file:///Users/ryanhughes/opt/miniconda3/envs/Selenium_demo/lib/python3.10/site-packages/selenium/webdriver/remote/webelement.py?line=600'>601</a>\u001b[0m               {\u001b[39m'\u001b[39;49m\u001b[39mtext\u001b[39;49m\u001b[39m'\u001b[39;49m: \u001b[39m\"\u001b[39;49m\u001b[39m\"\u001b[39;49m\u001b[39m.\u001b[39;49mjoin(keys_to_typing(value)),\n\u001b[1;32m    <a href='file:///Users/ryanhughes/opt/miniconda3/envs/Selenium_demo/lib/python3.10/site-packages/selenium/webdriver/remote/webelement.py?line=601'>602</a>\u001b[0m                \u001b[39m'\u001b[39;49m\u001b[39mvalue\u001b[39;49m\u001b[39m'\u001b[39;49m: keys_to_typing(value)})\n",
      "File \u001b[0;32m~/opt/miniconda3/envs/Selenium_demo/lib/python3.10/site-packages/selenium/webdriver/remote/webelement.py:773\u001b[0m, in \u001b[0;36mWebElement._execute\u001b[0;34m(self, command, params)\u001b[0m\n\u001b[1;32m    <a href='file:///Users/ryanhughes/opt/miniconda3/envs/Selenium_demo/lib/python3.10/site-packages/selenium/webdriver/remote/webelement.py?line=770'>771</a>\u001b[0m     params \u001b[39m=\u001b[39m {}\n\u001b[1;32m    <a href='file:///Users/ryanhughes/opt/miniconda3/envs/Selenium_demo/lib/python3.10/site-packages/selenium/webdriver/remote/webelement.py?line=771'>772</a>\u001b[0m params[\u001b[39m'\u001b[39m\u001b[39mid\u001b[39m\u001b[39m'\u001b[39m] \u001b[39m=\u001b[39m \u001b[39mself\u001b[39m\u001b[39m.\u001b[39m_id\n\u001b[0;32m--> <a href='file:///Users/ryanhughes/opt/miniconda3/envs/Selenium_demo/lib/python3.10/site-packages/selenium/webdriver/remote/webelement.py?line=772'>773</a>\u001b[0m \u001b[39mreturn\u001b[39;00m \u001b[39mself\u001b[39;49m\u001b[39m.\u001b[39;49m_parent\u001b[39m.\u001b[39;49mexecute(command, params)\n",
      "File \u001b[0;32m~/opt/miniconda3/envs/Selenium_demo/lib/python3.10/site-packages/selenium/webdriver/remote/webdriver.py:430\u001b[0m, in \u001b[0;36mWebDriver.execute\u001b[0;34m(self, driver_command, params)\u001b[0m\n\u001b[1;32m    <a href='file:///Users/ryanhughes/opt/miniconda3/envs/Selenium_demo/lib/python3.10/site-packages/selenium/webdriver/remote/webdriver.py?line=427'>428</a>\u001b[0m response \u001b[39m=\u001b[39m \u001b[39mself\u001b[39m\u001b[39m.\u001b[39mcommand_executor\u001b[39m.\u001b[39mexecute(driver_command, params)\n\u001b[1;32m    <a href='file:///Users/ryanhughes/opt/miniconda3/envs/Selenium_demo/lib/python3.10/site-packages/selenium/webdriver/remote/webdriver.py?line=428'>429</a>\u001b[0m \u001b[39mif\u001b[39;00m response:\n\u001b[0;32m--> <a href='file:///Users/ryanhughes/opt/miniconda3/envs/Selenium_demo/lib/python3.10/site-packages/selenium/webdriver/remote/webdriver.py?line=429'>430</a>\u001b[0m     \u001b[39mself\u001b[39;49m\u001b[39m.\u001b[39;49merror_handler\u001b[39m.\u001b[39;49mcheck_response(response)\n\u001b[1;32m    <a href='file:///Users/ryanhughes/opt/miniconda3/envs/Selenium_demo/lib/python3.10/site-packages/selenium/webdriver/remote/webdriver.py?line=430'>431</a>\u001b[0m     response[\u001b[39m'\u001b[39m\u001b[39mvalue\u001b[39m\u001b[39m'\u001b[39m] \u001b[39m=\u001b[39m \u001b[39mself\u001b[39m\u001b[39m.\u001b[39m_unwrap_value(\n\u001b[1;32m    <a href='file:///Users/ryanhughes/opt/miniconda3/envs/Selenium_demo/lib/python3.10/site-packages/selenium/webdriver/remote/webdriver.py?line=431'>432</a>\u001b[0m         response\u001b[39m.\u001b[39mget(\u001b[39m'\u001b[39m\u001b[39mvalue\u001b[39m\u001b[39m'\u001b[39m, \u001b[39mNone\u001b[39;00m))\n\u001b[1;32m    <a href='file:///Users/ryanhughes/opt/miniconda3/envs/Selenium_demo/lib/python3.10/site-packages/selenium/webdriver/remote/webdriver.py?line=432'>433</a>\u001b[0m     \u001b[39mreturn\u001b[39;00m response\n",
      "File \u001b[0;32m~/opt/miniconda3/envs/Selenium_demo/lib/python3.10/site-packages/selenium/webdriver/remote/errorhandler.py:247\u001b[0m, in \u001b[0;36mErrorHandler.check_response\u001b[0;34m(self, response)\u001b[0m\n\u001b[1;32m    <a href='file:///Users/ryanhughes/opt/miniconda3/envs/Selenium_demo/lib/python3.10/site-packages/selenium/webdriver/remote/errorhandler.py?line=244'>245</a>\u001b[0m         alert_text \u001b[39m=\u001b[39m value[\u001b[39m'\u001b[39m\u001b[39malert\u001b[39m\u001b[39m'\u001b[39m]\u001b[39m.\u001b[39mget(\u001b[39m'\u001b[39m\u001b[39mtext\u001b[39m\u001b[39m'\u001b[39m)\n\u001b[1;32m    <a href='file:///Users/ryanhughes/opt/miniconda3/envs/Selenium_demo/lib/python3.10/site-packages/selenium/webdriver/remote/errorhandler.py?line=245'>246</a>\u001b[0m     \u001b[39mraise\u001b[39;00m exception_class(message, screen, stacktrace, alert_text)  \u001b[39m# type: ignore[call-arg]  # mypy is not smart enough here\u001b[39;00m\n\u001b[0;32m--> <a href='file:///Users/ryanhughes/opt/miniconda3/envs/Selenium_demo/lib/python3.10/site-packages/selenium/webdriver/remote/errorhandler.py?line=246'>247</a>\u001b[0m \u001b[39mraise\u001b[39;00m exception_class(message, screen, stacktrace)\n",
      "\u001b[0;31mElementNotInteractableException\u001b[0m: Message: element not interactable\n  (Session info: chrome=103.0.5060.53)\nStacktrace:\n0   chromedriver                        0x0000000100d45079 chromedriver + 4444281\n1   chromedriver                        0x0000000100cd1403 chromedriver + 3970051\n2   chromedriver                        0x000000010096beef chromedriver + 409327\n3   chromedriver                        0x000000010099c60f chromedriver + 607759\n4   chromedriver                        0x000000010099bc0d chromedriver + 605197\n5   chromedriver                        0x00000001009bf792 chromedriver + 751506\n6   chromedriver                        0x0000000100996f65 chromedriver + 585573\n7   chromedriver                        0x00000001009bf89e chromedriver + 751774\n8   chromedriver                        0x00000001009d2221 chromedriver + 827937\n9   chromedriver                        0x00000001009bf683 chromedriver + 751235\n10  chromedriver                        0x0000000100995a45 chromedriver + 580165\n11  chromedriver                        0x0000000100996a95 chromedriver + 584341\n12  chromedriver                        0x0000000100d1655d chromedriver + 4253021\n13  chromedriver                        0x0000000100d1b3a1 chromedriver + 4273057\n14  chromedriver                        0x0000000100d2016f chromedriver + 4292975\n15  chromedriver                        0x0000000100d1bdea chromedriver + 4275690\n16  chromedriver                        0x0000000100cf554f chromedriver + 4117839\n17  chromedriver                        0x0000000100d35ed8 chromedriver + 4382424\n18  chromedriver                        0x0000000100d3605f chromedriver + 4382815\n19  chromedriver                        0x0000000100d4c8d5 chromedriver + 4475093\n20  libsystem_pthread.dylib             0x00007ff813e254f4 _pthread_start + 125\n21  libsystem_pthread.dylib             0x00007ff813e2100f thread_start + 15\n"
     ]
    }
   ],
   "source": [
    "propertypal.search_word('//*[@id=\"searchForm\"]/div/div[1]','BT4 BT5')"
   ]
  },
  {
   "cell_type": "code",
   "execution_count": 81,
   "metadata": {},
   "outputs": [
    {
     "ename": "ElementNotInteractableException",
     "evalue": "Message: element not interactable\n  (Session info: chrome=103.0.5060.53)\nStacktrace:\n0   chromedriver                        0x000000010c4c8079 chromedriver + 4444281\n1   chromedriver                        0x000000010c454403 chromedriver + 3970051\n2   chromedriver                        0x000000010c0eeeef chromedriver + 409327\n3   chromedriver                        0x000000010c126477 chromedriver + 636023\n4   chromedriver                        0x000000010c11a6a9 chromedriver + 587433\n5   chromedriver                        0x000000010c142792 chromedriver + 751506\n6   chromedriver                        0x000000010c119f65 chromedriver + 585573\n7   chromedriver                        0x000000010c14289e chromedriver + 751774\n8   chromedriver                        0x000000010c155221 chromedriver + 827937\n9   chromedriver                        0x000000010c142683 chromedriver + 751235\n10  chromedriver                        0x000000010c118a45 chromedriver + 580165\n11  chromedriver                        0x000000010c119a95 chromedriver + 584341\n12  chromedriver                        0x000000010c49955d chromedriver + 4253021\n13  chromedriver                        0x000000010c49e3a1 chromedriver + 4273057\n14  chromedriver                        0x000000010c4a316f chromedriver + 4292975\n15  chromedriver                        0x000000010c49edea chromedriver + 4275690\n16  chromedriver                        0x000000010c47854f chromedriver + 4117839\n17  chromedriver                        0x000000010c4b8ed8 chromedriver + 4382424\n18  chromedriver                        0x000000010c4b905f chromedriver + 4382815\n19  chromedriver                        0x000000010c4cf8d5 chromedriver + 4475093\n20  libsystem_pthread.dylib             0x00007ff813e254f4 _pthread_start + 125\n21  libsystem_pthread.dylib             0x00007ff813e2100f thread_start + 15\n",
     "output_type": "error",
     "traceback": [
      "\u001b[0;31m---------------------------------------------------------------------------\u001b[0m",
      "\u001b[0;31mElementNotInteractableException\u001b[0m           Traceback (most recent call last)",
      "\u001b[1;32m/Users/ryanhughes/Desktop/Aicore/Property-Pal-Pipeline.ipynb Cell 10'\u001b[0m in \u001b[0;36m<cell line: 2>\u001b[0;34m()\u001b[0m\n\u001b[1;32m      <a href='vscode-notebook-cell:/Users/ryanhughes/Desktop/Aicore/Property-Pal-Pipeline.ipynb#ch0000012?line=0'>1</a>\u001b[0m search \u001b[39m=\u001b[39m propertypal\u001b[39m.\u001b[39mdriver\u001b[39m.\u001b[39mfind_element(By\u001b[39m.\u001b[39mXPATH, \u001b[39m'\u001b[39m\u001b[39m//*[@id=\u001b[39m\u001b[39m\"\u001b[39m\u001b[39mquery\u001b[39m\u001b[39m\"\u001b[39m\u001b[39m]\u001b[39m\u001b[39m'\u001b[39m)\n\u001b[0;32m----> <a href='vscode-notebook-cell:/Users/ryanhughes/Desktop/Aicore/Property-Pal-Pipeline.ipynb#ch0000012?line=1'>2</a>\u001b[0m search\u001b[39m.\u001b[39;49mclick()\n",
      "File \u001b[0;32m~/opt/miniconda3/envs/Selenium_demo/lib/python3.10/site-packages/selenium/webdriver/remote/webelement.py:89\u001b[0m, in \u001b[0;36mWebElement.click\u001b[0;34m(self)\u001b[0m\n\u001b[1;32m     <a href='file:///Users/ryanhughes/opt/miniconda3/envs/Selenium_demo/lib/python3.10/site-packages/selenium/webdriver/remote/webelement.py?line=86'>87</a>\u001b[0m \u001b[39mdef\u001b[39;00m \u001b[39mclick\u001b[39m(\u001b[39mself\u001b[39m) \u001b[39m-\u001b[39m\u001b[39m>\u001b[39m \u001b[39mNone\u001b[39;00m:\n\u001b[1;32m     <a href='file:///Users/ryanhughes/opt/miniconda3/envs/Selenium_demo/lib/python3.10/site-packages/selenium/webdriver/remote/webelement.py?line=87'>88</a>\u001b[0m     \u001b[39m\"\"\"Clicks the element.\"\"\"\u001b[39;00m\n\u001b[0;32m---> <a href='file:///Users/ryanhughes/opt/miniconda3/envs/Selenium_demo/lib/python3.10/site-packages/selenium/webdriver/remote/webelement.py?line=88'>89</a>\u001b[0m     \u001b[39mself\u001b[39;49m\u001b[39m.\u001b[39;49m_execute(Command\u001b[39m.\u001b[39;49mCLICK_ELEMENT)\n",
      "File \u001b[0;32m~/opt/miniconda3/envs/Selenium_demo/lib/python3.10/site-packages/selenium/webdriver/remote/webelement.py:773\u001b[0m, in \u001b[0;36mWebElement._execute\u001b[0;34m(self, command, params)\u001b[0m\n\u001b[1;32m    <a href='file:///Users/ryanhughes/opt/miniconda3/envs/Selenium_demo/lib/python3.10/site-packages/selenium/webdriver/remote/webelement.py?line=770'>771</a>\u001b[0m     params \u001b[39m=\u001b[39m {}\n\u001b[1;32m    <a href='file:///Users/ryanhughes/opt/miniconda3/envs/Selenium_demo/lib/python3.10/site-packages/selenium/webdriver/remote/webelement.py?line=771'>772</a>\u001b[0m params[\u001b[39m'\u001b[39m\u001b[39mid\u001b[39m\u001b[39m'\u001b[39m] \u001b[39m=\u001b[39m \u001b[39mself\u001b[39m\u001b[39m.\u001b[39m_id\n\u001b[0;32m--> <a href='file:///Users/ryanhughes/opt/miniconda3/envs/Selenium_demo/lib/python3.10/site-packages/selenium/webdriver/remote/webelement.py?line=772'>773</a>\u001b[0m \u001b[39mreturn\u001b[39;00m \u001b[39mself\u001b[39;49m\u001b[39m.\u001b[39;49m_parent\u001b[39m.\u001b[39;49mexecute(command, params)\n",
      "File \u001b[0;32m~/opt/miniconda3/envs/Selenium_demo/lib/python3.10/site-packages/selenium/webdriver/remote/webdriver.py:430\u001b[0m, in \u001b[0;36mWebDriver.execute\u001b[0;34m(self, driver_command, params)\u001b[0m\n\u001b[1;32m    <a href='file:///Users/ryanhughes/opt/miniconda3/envs/Selenium_demo/lib/python3.10/site-packages/selenium/webdriver/remote/webdriver.py?line=427'>428</a>\u001b[0m response \u001b[39m=\u001b[39m \u001b[39mself\u001b[39m\u001b[39m.\u001b[39mcommand_executor\u001b[39m.\u001b[39mexecute(driver_command, params)\n\u001b[1;32m    <a href='file:///Users/ryanhughes/opt/miniconda3/envs/Selenium_demo/lib/python3.10/site-packages/selenium/webdriver/remote/webdriver.py?line=428'>429</a>\u001b[0m \u001b[39mif\u001b[39;00m response:\n\u001b[0;32m--> <a href='file:///Users/ryanhughes/opt/miniconda3/envs/Selenium_demo/lib/python3.10/site-packages/selenium/webdriver/remote/webdriver.py?line=429'>430</a>\u001b[0m     \u001b[39mself\u001b[39;49m\u001b[39m.\u001b[39;49merror_handler\u001b[39m.\u001b[39;49mcheck_response(response)\n\u001b[1;32m    <a href='file:///Users/ryanhughes/opt/miniconda3/envs/Selenium_demo/lib/python3.10/site-packages/selenium/webdriver/remote/webdriver.py?line=430'>431</a>\u001b[0m     response[\u001b[39m'\u001b[39m\u001b[39mvalue\u001b[39m\u001b[39m'\u001b[39m] \u001b[39m=\u001b[39m \u001b[39mself\u001b[39m\u001b[39m.\u001b[39m_unwrap_value(\n\u001b[1;32m    <a href='file:///Users/ryanhughes/opt/miniconda3/envs/Selenium_demo/lib/python3.10/site-packages/selenium/webdriver/remote/webdriver.py?line=431'>432</a>\u001b[0m         response\u001b[39m.\u001b[39mget(\u001b[39m'\u001b[39m\u001b[39mvalue\u001b[39m\u001b[39m'\u001b[39m, \u001b[39mNone\u001b[39;00m))\n\u001b[1;32m    <a href='file:///Users/ryanhughes/opt/miniconda3/envs/Selenium_demo/lib/python3.10/site-packages/selenium/webdriver/remote/webdriver.py?line=432'>433</a>\u001b[0m     \u001b[39mreturn\u001b[39;00m response\n",
      "File \u001b[0;32m~/opt/miniconda3/envs/Selenium_demo/lib/python3.10/site-packages/selenium/webdriver/remote/errorhandler.py:247\u001b[0m, in \u001b[0;36mErrorHandler.check_response\u001b[0;34m(self, response)\u001b[0m\n\u001b[1;32m    <a href='file:///Users/ryanhughes/opt/miniconda3/envs/Selenium_demo/lib/python3.10/site-packages/selenium/webdriver/remote/errorhandler.py?line=244'>245</a>\u001b[0m         alert_text \u001b[39m=\u001b[39m value[\u001b[39m'\u001b[39m\u001b[39malert\u001b[39m\u001b[39m'\u001b[39m]\u001b[39m.\u001b[39mget(\u001b[39m'\u001b[39m\u001b[39mtext\u001b[39m\u001b[39m'\u001b[39m)\n\u001b[1;32m    <a href='file:///Users/ryanhughes/opt/miniconda3/envs/Selenium_demo/lib/python3.10/site-packages/selenium/webdriver/remote/errorhandler.py?line=245'>246</a>\u001b[0m     \u001b[39mraise\u001b[39;00m exception_class(message, screen, stacktrace, alert_text)  \u001b[39m# type: ignore[call-arg]  # mypy is not smart enough here\u001b[39;00m\n\u001b[0;32m--> <a href='file:///Users/ryanhughes/opt/miniconda3/envs/Selenium_demo/lib/python3.10/site-packages/selenium/webdriver/remote/errorhandler.py?line=246'>247</a>\u001b[0m \u001b[39mraise\u001b[39;00m exception_class(message, screen, stacktrace)\n",
      "\u001b[0;31mElementNotInteractableException\u001b[0m: Message: element not interactable\n  (Session info: chrome=103.0.5060.53)\nStacktrace:\n0   chromedriver                        0x000000010c4c8079 chromedriver + 4444281\n1   chromedriver                        0x000000010c454403 chromedriver + 3970051\n2   chromedriver                        0x000000010c0eeeef chromedriver + 409327\n3   chromedriver                        0x000000010c126477 chromedriver + 636023\n4   chromedriver                        0x000000010c11a6a9 chromedriver + 587433\n5   chromedriver                        0x000000010c142792 chromedriver + 751506\n6   chromedriver                        0x000000010c119f65 chromedriver + 585573\n7   chromedriver                        0x000000010c14289e chromedriver + 751774\n8   chromedriver                        0x000000010c155221 chromedriver + 827937\n9   chromedriver                        0x000000010c142683 chromedriver + 751235\n10  chromedriver                        0x000000010c118a45 chromedriver + 580165\n11  chromedriver                        0x000000010c119a95 chromedriver + 584341\n12  chromedriver                        0x000000010c49955d chromedriver + 4253021\n13  chromedriver                        0x000000010c49e3a1 chromedriver + 4273057\n14  chromedriver                        0x000000010c4a316f chromedriver + 4292975\n15  chromedriver                        0x000000010c49edea chromedriver + 4275690\n16  chromedriver                        0x000000010c47854f chromedriver + 4117839\n17  chromedriver                        0x000000010c4b8ed8 chromedriver + 4382424\n18  chromedriver                        0x000000010c4b905f chromedriver + 4382815\n19  chromedriver                        0x000000010c4cf8d5 chromedriver + 4475093\n20  libsystem_pthread.dylib             0x00007ff813e254f4 _pthread_start + 125\n21  libsystem_pthread.dylib             0x00007ff813e2100f thread_start + 15\n"
     ]
    }
   ],
   "source": [
    "search = propertypal.driver.find_element(By.XPATH, '//*[@id=\"query\"]')\n",
    "search.click()\n",
    "search.send_keys(\"BT4\")"
   ]
  },
  {
   "cell_type": "code",
   "execution_count": 72,
   "metadata": {},
   "outputs": [
    {
     "ename": "ElementNotInteractableException",
     "evalue": "Message: element not interactable\n  (Session info: chrome=103.0.5060.53)\nStacktrace:\n0   chromedriver                        0x0000000101cd0079 chromedriver + 4444281\n1   chromedriver                        0x0000000101c5c403 chromedriver + 3970051\n2   chromedriver                        0x00000001018f6eef chromedriver + 409327\n3   chromedriver                        0x000000010192760f chromedriver + 607759\n4   chromedriver                        0x0000000101926c0d chromedriver + 605197\n5   chromedriver                        0x000000010194a792 chromedriver + 751506\n6   chromedriver                        0x0000000101921f65 chromedriver + 585573\n7   chromedriver                        0x000000010194a89e chromedriver + 751774\n8   chromedriver                        0x000000010195d221 chromedriver + 827937\n9   chromedriver                        0x000000010194a683 chromedriver + 751235\n10  chromedriver                        0x0000000101920a45 chromedriver + 580165\n11  chromedriver                        0x0000000101921a95 chromedriver + 584341\n12  chromedriver                        0x0000000101ca155d chromedriver + 4253021\n13  chromedriver                        0x0000000101ca63a1 chromedriver + 4273057\n14  chromedriver                        0x0000000101cab16f chromedriver + 4292975\n15  chromedriver                        0x0000000101ca6dea chromedriver + 4275690\n16  chromedriver                        0x0000000101c8054f chromedriver + 4117839\n17  chromedriver                        0x0000000101cc0ed8 chromedriver + 4382424\n18  chromedriver                        0x0000000101cc105f chromedriver + 4382815\n19  chromedriver                        0x0000000101cd78d5 chromedriver + 4475093\n20  libsystem_pthread.dylib             0x00007ff813e254f4 _pthread_start + 125\n21  libsystem_pthread.dylib             0x00007ff813e2100f thread_start + 15\n",
     "output_type": "error",
     "traceback": [
      "\u001b[0;31m---------------------------------------------------------------------------\u001b[0m",
      "\u001b[0;31mElementNotInteractableException\u001b[0m           Traceback (most recent call last)",
      "\u001b[1;32m/Users/ryanhughes/Desktop/Aicore/Property-Pal-Pipeline.ipynb Cell 10'\u001b[0m in \u001b[0;36m<cell line: 3>\u001b[0;34m()\u001b[0m\n\u001b[1;32m      <a href='vscode-notebook-cell:/Users/ryanhughes/Desktop/Aicore/Property-Pal-Pipeline.ipynb#ch0000013?line=0'>1</a>\u001b[0m search_bar \u001b[39m=\u001b[39m propertypal\u001b[39m.\u001b[39mdriver\u001b[39m.\u001b[39mfind_element(By\u001b[39m.\u001b[39mXPATH, \u001b[39m'\u001b[39m\u001b[39m//*[@id=\u001b[39m\u001b[39m\"\u001b[39m\u001b[39msearchForm\u001b[39m\u001b[39m\"\u001b[39m\u001b[39m]/div/div[1]/section\u001b[39m\u001b[39m'\u001b[39m)\n\u001b[1;32m      <a href='vscode-notebook-cell:/Users/ryanhughes/Desktop/Aicore/Property-Pal-Pipeline.ipynb#ch0000013?line=1'>2</a>\u001b[0m search_bar\u001b[39m.\u001b[39mclick\n\u001b[0;32m----> <a href='vscode-notebook-cell:/Users/ryanhughes/Desktop/Aicore/Property-Pal-Pipeline.ipynb#ch0000013?line=2'>3</a>\u001b[0m search_bar\u001b[39m.\u001b[39;49msend_keys(\u001b[39m\"\u001b[39;49m\u001b[39mBT4\u001b[39;49m\u001b[39m\"\u001b[39;49m)\n",
      "File \u001b[0;32m~/opt/miniconda3/envs/Selenium_demo/lib/python3.10/site-packages/selenium/webdriver/remote/webelement.py:600\u001b[0m, in \u001b[0;36mWebElement.send_keys\u001b[0;34m(self, *value)\u001b[0m\n\u001b[1;32m    <a href='file:///Users/ryanhughes/opt/miniconda3/envs/Selenium_demo/lib/python3.10/site-packages/selenium/webdriver/remote/webelement.py?line=596'>597</a>\u001b[0m             remote_files\u001b[39m.\u001b[39mappend(\u001b[39mself\u001b[39m\u001b[39m.\u001b[39m_upload(file))\n\u001b[1;32m    <a href='file:///Users/ryanhughes/opt/miniconda3/envs/Selenium_demo/lib/python3.10/site-packages/selenium/webdriver/remote/webelement.py?line=597'>598</a>\u001b[0m         value \u001b[39m=\u001b[39m \u001b[39m'\u001b[39m\u001b[39m\\n\u001b[39;00m\u001b[39m'\u001b[39m\u001b[39m.\u001b[39mjoin(remote_files)\n\u001b[0;32m--> <a href='file:///Users/ryanhughes/opt/miniconda3/envs/Selenium_demo/lib/python3.10/site-packages/selenium/webdriver/remote/webelement.py?line=599'>600</a>\u001b[0m \u001b[39mself\u001b[39;49m\u001b[39m.\u001b[39;49m_execute(Command\u001b[39m.\u001b[39;49mSEND_KEYS_TO_ELEMENT,\n\u001b[1;32m    <a href='file:///Users/ryanhughes/opt/miniconda3/envs/Selenium_demo/lib/python3.10/site-packages/selenium/webdriver/remote/webelement.py?line=600'>601</a>\u001b[0m               {\u001b[39m'\u001b[39;49m\u001b[39mtext\u001b[39;49m\u001b[39m'\u001b[39;49m: \u001b[39m\"\u001b[39;49m\u001b[39m\"\u001b[39;49m\u001b[39m.\u001b[39;49mjoin(keys_to_typing(value)),\n\u001b[1;32m    <a href='file:///Users/ryanhughes/opt/miniconda3/envs/Selenium_demo/lib/python3.10/site-packages/selenium/webdriver/remote/webelement.py?line=601'>602</a>\u001b[0m                \u001b[39m'\u001b[39;49m\u001b[39mvalue\u001b[39;49m\u001b[39m'\u001b[39;49m: keys_to_typing(value)})\n",
      "File \u001b[0;32m~/opt/miniconda3/envs/Selenium_demo/lib/python3.10/site-packages/selenium/webdriver/remote/webelement.py:773\u001b[0m, in \u001b[0;36mWebElement._execute\u001b[0;34m(self, command, params)\u001b[0m\n\u001b[1;32m    <a href='file:///Users/ryanhughes/opt/miniconda3/envs/Selenium_demo/lib/python3.10/site-packages/selenium/webdriver/remote/webelement.py?line=770'>771</a>\u001b[0m     params \u001b[39m=\u001b[39m {}\n\u001b[1;32m    <a href='file:///Users/ryanhughes/opt/miniconda3/envs/Selenium_demo/lib/python3.10/site-packages/selenium/webdriver/remote/webelement.py?line=771'>772</a>\u001b[0m params[\u001b[39m'\u001b[39m\u001b[39mid\u001b[39m\u001b[39m'\u001b[39m] \u001b[39m=\u001b[39m \u001b[39mself\u001b[39m\u001b[39m.\u001b[39m_id\n\u001b[0;32m--> <a href='file:///Users/ryanhughes/opt/miniconda3/envs/Selenium_demo/lib/python3.10/site-packages/selenium/webdriver/remote/webelement.py?line=772'>773</a>\u001b[0m \u001b[39mreturn\u001b[39;00m \u001b[39mself\u001b[39;49m\u001b[39m.\u001b[39;49m_parent\u001b[39m.\u001b[39;49mexecute(command, params)\n",
      "File \u001b[0;32m~/opt/miniconda3/envs/Selenium_demo/lib/python3.10/site-packages/selenium/webdriver/remote/webdriver.py:430\u001b[0m, in \u001b[0;36mWebDriver.execute\u001b[0;34m(self, driver_command, params)\u001b[0m\n\u001b[1;32m    <a href='file:///Users/ryanhughes/opt/miniconda3/envs/Selenium_demo/lib/python3.10/site-packages/selenium/webdriver/remote/webdriver.py?line=427'>428</a>\u001b[0m response \u001b[39m=\u001b[39m \u001b[39mself\u001b[39m\u001b[39m.\u001b[39mcommand_executor\u001b[39m.\u001b[39mexecute(driver_command, params)\n\u001b[1;32m    <a href='file:///Users/ryanhughes/opt/miniconda3/envs/Selenium_demo/lib/python3.10/site-packages/selenium/webdriver/remote/webdriver.py?line=428'>429</a>\u001b[0m \u001b[39mif\u001b[39;00m response:\n\u001b[0;32m--> <a href='file:///Users/ryanhughes/opt/miniconda3/envs/Selenium_demo/lib/python3.10/site-packages/selenium/webdriver/remote/webdriver.py?line=429'>430</a>\u001b[0m     \u001b[39mself\u001b[39;49m\u001b[39m.\u001b[39;49merror_handler\u001b[39m.\u001b[39;49mcheck_response(response)\n\u001b[1;32m    <a href='file:///Users/ryanhughes/opt/miniconda3/envs/Selenium_demo/lib/python3.10/site-packages/selenium/webdriver/remote/webdriver.py?line=430'>431</a>\u001b[0m     response[\u001b[39m'\u001b[39m\u001b[39mvalue\u001b[39m\u001b[39m'\u001b[39m] \u001b[39m=\u001b[39m \u001b[39mself\u001b[39m\u001b[39m.\u001b[39m_unwrap_value(\n\u001b[1;32m    <a href='file:///Users/ryanhughes/opt/miniconda3/envs/Selenium_demo/lib/python3.10/site-packages/selenium/webdriver/remote/webdriver.py?line=431'>432</a>\u001b[0m         response\u001b[39m.\u001b[39mget(\u001b[39m'\u001b[39m\u001b[39mvalue\u001b[39m\u001b[39m'\u001b[39m, \u001b[39mNone\u001b[39;00m))\n\u001b[1;32m    <a href='file:///Users/ryanhughes/opt/miniconda3/envs/Selenium_demo/lib/python3.10/site-packages/selenium/webdriver/remote/webdriver.py?line=432'>433</a>\u001b[0m     \u001b[39mreturn\u001b[39;00m response\n",
      "File \u001b[0;32m~/opt/miniconda3/envs/Selenium_demo/lib/python3.10/site-packages/selenium/webdriver/remote/errorhandler.py:247\u001b[0m, in \u001b[0;36mErrorHandler.check_response\u001b[0;34m(self, response)\u001b[0m\n\u001b[1;32m    <a href='file:///Users/ryanhughes/opt/miniconda3/envs/Selenium_demo/lib/python3.10/site-packages/selenium/webdriver/remote/errorhandler.py?line=244'>245</a>\u001b[0m         alert_text \u001b[39m=\u001b[39m value[\u001b[39m'\u001b[39m\u001b[39malert\u001b[39m\u001b[39m'\u001b[39m]\u001b[39m.\u001b[39mget(\u001b[39m'\u001b[39m\u001b[39mtext\u001b[39m\u001b[39m'\u001b[39m)\n\u001b[1;32m    <a href='file:///Users/ryanhughes/opt/miniconda3/envs/Selenium_demo/lib/python3.10/site-packages/selenium/webdriver/remote/errorhandler.py?line=245'>246</a>\u001b[0m     \u001b[39mraise\u001b[39;00m exception_class(message, screen, stacktrace, alert_text)  \u001b[39m# type: ignore[call-arg]  # mypy is not smart enough here\u001b[39;00m\n\u001b[0;32m--> <a href='file:///Users/ryanhughes/opt/miniconda3/envs/Selenium_demo/lib/python3.10/site-packages/selenium/webdriver/remote/errorhandler.py?line=246'>247</a>\u001b[0m \u001b[39mraise\u001b[39;00m exception_class(message, screen, stacktrace)\n",
      "\u001b[0;31mElementNotInteractableException\u001b[0m: Message: element not interactable\n  (Session info: chrome=103.0.5060.53)\nStacktrace:\n0   chromedriver                        0x0000000101cd0079 chromedriver + 4444281\n1   chromedriver                        0x0000000101c5c403 chromedriver + 3970051\n2   chromedriver                        0x00000001018f6eef chromedriver + 409327\n3   chromedriver                        0x000000010192760f chromedriver + 607759\n4   chromedriver                        0x0000000101926c0d chromedriver + 605197\n5   chromedriver                        0x000000010194a792 chromedriver + 751506\n6   chromedriver                        0x0000000101921f65 chromedriver + 585573\n7   chromedriver                        0x000000010194a89e chromedriver + 751774\n8   chromedriver                        0x000000010195d221 chromedriver + 827937\n9   chromedriver                        0x000000010194a683 chromedriver + 751235\n10  chromedriver                        0x0000000101920a45 chromedriver + 580165\n11  chromedriver                        0x0000000101921a95 chromedriver + 584341\n12  chromedriver                        0x0000000101ca155d chromedriver + 4253021\n13  chromedriver                        0x0000000101ca63a1 chromedriver + 4273057\n14  chromedriver                        0x0000000101cab16f chromedriver + 4292975\n15  chromedriver                        0x0000000101ca6dea chromedriver + 4275690\n16  chromedriver                        0x0000000101c8054f chromedriver + 4117839\n17  chromedriver                        0x0000000101cc0ed8 chromedriver + 4382424\n18  chromedriver                        0x0000000101cc105f chromedriver + 4382815\n19  chromedriver                        0x0000000101cd78d5 chromedriver + 4475093\n20  libsystem_pthread.dylib             0x00007ff813e254f4 _pthread_start + 125\n21  libsystem_pthread.dylib             0x00007ff813e2100f thread_start + 15\n"
     ]
    }
   ],
   "source": [
    "search_bar = propertypal.driver.find_element(By.XPATH, '//*[@id=\"searchForm\"]/div/div[1]/section')\n",
    "search_bar.click\n",
    "search_bar.send_keys(\"BT4\")"
   ]
  },
  {
   "cell_type": "code",
   "execution_count": 65,
   "metadata": {},
   "outputs": [],
   "source": [
    "propertypal.scroll_down()"
   ]
  },
  {
   "cell_type": "code",
   "execution_count": 82,
   "metadata": {},
   "outputs": [],
   "source": [
    "from selenium.webdriver.common.by import By\n",
    "from selenium.webdriver.common.action_chains import ActionChains\n",
    "import time "
   ]
  },
  {
   "cell_type": "code",
   "execution_count": 83,
   "metadata": {},
   "outputs": [
    {
     "name": "stdout",
     "output_type": "stream",
     "text": [
      "\n"
     ]
    },
    {
     "name": "stderr",
     "output_type": "stream",
     "text": [
      "[WDM] - ====== WebDriver manager ======\n",
      "[WDM] - Current google-chrome version is 103.0.5060\n",
      "[WDM] - Get LATEST chromedriver version for 103.0.5060 google-chrome\n",
      "[WDM] - Driver [/Users/ryanhughes/.wdm/drivers/chromedriver/mac64/103.0.5060.53/chromedriver] found in cache\n",
      "/var/folders/k0/hpk5zvqn2rdfdj_f5sv8ptp80000gn/T/ipykernel_82170/199523797.py:1: DeprecationWarning: executable_path has been deprecated, please pass in a Service object\n",
      "  driver = webdriver.Chrome(ChromeDriverManager().install())\n"
     ]
    }
   ],
   "source": [
    "driver = webdriver.Chrome(ChromeDriverManager().install())\n",
    "driver.get(\"https://www.propertypal.com\")\n",
    "time.sleep(2)\n",
    "accept_cookies = driver.find_element(By.XPATH, '//*[@id=\"qc-cmp2-ui\"]/div[2]/div/button[2]')\n",
    "accept_cookies.click()\n",
    "time.sleep(2)\n",
    "search = driver.find_element(By.XPATH, '//*[@id=\"searchForm\"]/div/div[1]')\n",
    "driver.implicitly_wait(10)\n",
    "ActionChains(driver).move_to_element(search).click(search).perform()\n",
    "ActionChains(driver).send_keys(\"BT4\").perform()\n"
   ]
  },
  {
   "cell_type": "code",
   "execution_count": null,
   "metadata": {},
   "outputs": [],
   "source": []
  }
 ],
 "metadata": {
  "interpreter": {
   "hash": "7cff52bf4713bc310c3529dfa4c8f486705b7e68a3bc265f7e385d5cb49a4053"
  },
  "kernelspec": {
   "display_name": "Python 3.9.7 ('base')",
   "language": "python",
   "name": "python3"
  },
  "language_info": {
   "codemirror_mode": {
    "name": "ipython",
    "version": 3
   },
   "file_extension": ".py",
   "mimetype": "text/x-python",
   "name": "python",
   "nbconvert_exporter": "python",
   "pygments_lexer": "ipython3",
   "version": "3.10.4"
  },
  "orig_nbformat": 4
 },
 "nbformat": 4,
 "nbformat_minor": 2
}
