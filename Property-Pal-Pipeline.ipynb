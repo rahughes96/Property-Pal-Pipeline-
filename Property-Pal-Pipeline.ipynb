{
 "cells": [
  {
   "cell_type": "code",
   "execution_count": 1,
   "metadata": {},
   "outputs": [
    {
     "name": "stdout",
     "output_type": "stream",
     "text": [
      "<!DOCTYPE html>\n",
      "<html lang=\"en-US\">\n",
      "<head>\n",
      "<title>Access denied</title>\n",
      "<meta http-equiv=\"X-UA-Compatible\" content=\"IE=Edge\" />\n",
      "<meta name=\"robots\" content=\"noindex, nofollow\" />\n",
      "<meta name=\"viewport\" content=\"width=device-width,initial-scale=1\" />\n",
      "<link rel=\"stylesheet\" href=\"/cdn-cgi/styles/errors.new.min.css\" media=\"screen\" />\n",
      "<script>\n",
      "(function(){if(document.addEventListener&&window.XMLHttpRequest&&JSON&&JSON.stringify){var e=function(a){var c=document.getElementById(\"error-feedback-survey\"),d=document.getElementById(\"error-feedback-success\"),b=new XMLHttpRequest;a={event:\"feedback clicked\",properties:{errorCode:1020,helpful:a,version:3}};b.open(\"POST\",\"https://sparrow.cloudflare.com/api/v1/event\");b.setRequestHeader(\"Content-Type\",\"application/json\");b.setRequestHeader(\"Sparrow-Source-Key\",\"c771f0e4b54944bebf4261d44bd79a1e\");\n",
      "b.send(JSON.stringify(a));c.classList.add(\"feedback-hidden\");d.classList.remove(\"feedback-hidden\")};document.addEventListener(\"DOMContentLoaded\",function(){var a=document.getElementById(\"error-feedback\"),c=document.getElementById(\"feedback-button-yes\"),d=document.getElementById(\"feedback-button-no\");\"classList\"in a&&(a.classList.remove(\"feedback-hidden\"),c.addEventListener(\"click\",function(){e(!0)}),d.addEventListener(\"click\",function(){e(!1)}))})}})();\n",
      "</script>\n",
      "<script>\n",
      "         (function(){if(document.addEventListener){var c=function(){var b=document.getElementById(\"copy-label\");document.getElementById(\"plain-ray-id\");if(navigator.clipboard)navigator.clipboard.writeText(\"726a572b79f976b9\");else{var a=document.createElement(\"textarea\");a.value=\"726a572b79f976b9\";a.style.top=\"0\";a.style.left=\"0\";a.style.position=\"fixed\";document.body.appendChild(a);a.focus();a.select();document.execCommand(\"copy\");document.body.removeChild(a)}b.innerText=\"Copied\"};document.addEventListener(\"DOMContentLoaded\",\n",
      "function(){var b=document.getElementById(\"plain-ray-id\"),a=document.getElementById(\"click-to-copy-btn\");\"classList\"in b&&(b.classList.add(\"hidden\"),a.classList.remove(\"hidden\"),a.addEventListener(\"click\",c))})}})();\n",
      "      </script>\n",
      "<script defer src=\"https://performance.radar.cloudflare.com/beacon.js\"></script>\n",
      "</head>\n",
      "<body>\n",
      "<div class=\"main-wrapper\" role=\"main\">\n",
      "<div class=\"header section\">\n",
      "<h1>\n",
      "<span class=\"error-description\">Access denied</span>\n",
      "<span class=\"code-label\">Error code <span>1020</span></span>\n",
      "</h1>\n",
      "<div class=\"large-font\">\n",
      "<p>You do not have access to www.propertypal.com.</p><p>The site owner may have set restrictions that prevent you from accessing the site. Contact the site owner for access or try loading the page again.</p>\n",
      "</div>\n",
      "</div>\n",
      "</div>\n",
      "<div>\n",
      "<div class=\"clearfix section\">\n",
      "<div class=\"column know-more\">\n",
      "<h2 class=\"large-font\">Additional information</h2>\n",
      "<p>The access policies of a site define which visits are allowed. Your current visit is not allowed according to those policies.</p><p>Only the site owner can change site access policies.</p>\n",
      "</div>\n",
      "<div class=\"column know-more\">\n",
      "<h2 class=\"large-font\">I am the site owner</h2>\n",
      "<p class=\"ray-id-wrapper\">\n",
      "Ray ID:\n",
      "<span class=\"plain-ray-id\" id=\"plain-ray-id\">\n",
      "726a572b79f976b9\n",
      "</span>\n",
      "<button class=\"click-to-copy-btn hidden\" id=\"click-to-copy-btn\" title=\"Click to copy Ray ID\" type=\"button\">\n",
      "<span class=\"ray-id\">726a572b79f976b9</span><span class=\"copy-label\" id=\"copy-label\">Copy</span>\n",
      "</button>\n",
      "</p>\n",
      "<ol>\n",
      "<li>\n",
      "Search the\n",
      "<a rel=\"noopener noreferrer\" href=\"https://dash.cloudflare.com/?to=/:account/:zone/firewall\" target=\"_blank\">Firewall Events Log</a>\n",
      "<img class=\"external-link\" title=\"Opens in new tab\" src=\"/cdn-cgi/images/external.png\" alt=\"External link\">\n",
      "for the above Ray ID.\n",
      "</li>\n",
      "<li>Examine and assess the details of the access policy.</li>\n",
      "</ol>\n",
      "<br>\n",
      "<a rel=\"noopener noreferrer\" href=\"https://support.cloudflare.com/hc/articles/360029779472-Troubleshooting-Cloudflare-1XXX-errors#error1020\" target=\"_blank\">Troubleshooting guide</a>\n",
      "<img class=\"external-link\" title=\"Opens in new tab\" src=\"/cdn-cgi/images/external.png\" alt=\"External link\">\n",
      "</div>\n",
      "</div>\n",
      "<div class=\"clearfix footer section\" role=\"contentinfo\">\n",
      "<div class=\"column\">\n",
      "<div class=\"feedback-hidden py-8 text-center\" id=\"error-feedback\">\n",
      "<div id=\"error-feedback-survey\" class=\"footer-line-wrapper\">\n",
      "Was this page helpful?\n",
      "<button class=\"border border-solid bg-white cf-button cursor-pointer ml-4 px-4 py-2 rounded\" id=\"feedback-button-yes\" type=\"button\">Yes</button>\n",
      "<button class=\"border border-solid bg-white cf-button cursor-pointer ml-4 px-4 py-2 rounded\" id=\"feedback-button-no\" type=\"button\">No</button>\n",
      "</div>\n",
      "<div class=\"feedback-success feedback-hidden\" id=\"error-feedback-success\">\n",
      "Thank you for your feedback!\n",
      "</div>\n",
      "</div>\n",
      "</div>\n",
      "<div class=\"column footer-line-wrapper text-center\">\n",
      "Performance &amp; security by <a rel=\"noopener noreferrer\" href=\"https://www.cloudflare.com\" target=\"_blank\">Cloudflare</a>\n",
      "<img class=\"external-link\" title=\"Opens in new tab\" src=\"/cdn-cgi/images/external.png\" alt=\"External link\">\n",
      "</div>\n",
      "</div>\n",
      "</div>\n",
      "<script>(function(){var js = \"window['__CF$cv$params']={r:'726a572b79f976b9',m:'rm6ynT4h5Bl.K6kiK5bWPIY35KdNSjNgmYX_bjRAQBM-1657131480-0-AQC6PofYinPErvIYtd/flwBMDLM9FyaaW0lRFZhi7Yih5iiaO10UfS2OLeCYw7s3QslHYkNLIDqBZb3HclLXui0ZsFOshhLya5szOKtR2yme2OIYwUQybklkOANbpiY9OQ==',s:[0x8a673aef33,0xfbba8645da],u:'/cdn-cgi/challenge-platform/h/g'};var now=Date.now()/1000,offset=14400,ts=''+(Math.floor(now)-Math.floor(now%offset)),_cpo=document.createElement('script');_cpo.nonce='',_cpo.src='/cdn-cgi/challenge-platform/h/g/scripts/alpha/invisible.js?ts='+ts,document.getElementsByTagName('head')[0].appendChild(_cpo);\";var _0xh = document.createElement('iframe');_0xh.height = 1;_0xh.width = 1;_0xh.style.border = 'none';_0xh.style.visibility = 'hidden';document.body.appendChild(_0xh);function handler() {var _0xi = _0xh.contentDocument || _0xh.contentWindow.document;if (_0xi) {var _0xj = _0xi.createElement('script');_0xj.innerHTML = js;_0xi.getElementsByTagName('head')[0].appendChild(_0xj);}}if (document.readyState !== 'loading') {handler();} else if (window.addEventListener) {document.addEventListener('DOMContentLoaded', handler);} else {var prev = document.onreadystatechange || function () {};document.onreadystatechange = function (e) {prev(e);if (document.readyState !== 'loading') {document.onreadystatechange = prev;handler();}};}})();</script></body>\n",
      "</html>\n",
      "\n",
      "<!DOCTYPE html>\n",
      "<html lang=\"en-US\">\n",
      " <head>\n",
      "  <title>\n",
      "   Access denied\n",
      "  </title>\n",
      "  <meta content=\"IE=Edge\" http-equiv=\"X-UA-Compatible\"/>\n",
      "  <meta content=\"noindex, nofollow\" name=\"robots\"/>\n",
      "  <meta content=\"width=device-width,initial-scale=1\" name=\"viewport\"/>\n",
      "  <link href=\"/cdn-cgi/styles/errors.new.min.css\" media=\"screen\" rel=\"stylesheet\"/>\n",
      "  <script>\n",
      "   (function(){if(document.addEventListener&&window.XMLHttpRequest&&JSON&&JSON.stringify){var e=function(a){var c=document.getElementById(\"error-feedback-survey\"),d=document.getElementById(\"error-feedback-success\"),b=new XMLHttpRequest;a={event:\"feedback clicked\",properties:{errorCode:1020,helpful:a,version:3}};b.open(\"POST\",\"https://sparrow.cloudflare.com/api/v1/event\");b.setRequestHeader(\"Content-Type\",\"application/json\");b.setRequestHeader(\"Sparrow-Source-Key\",\"c771f0e4b54944bebf4261d44bd79a1e\");\n",
      "b.send(JSON.stringify(a));c.classList.add(\"feedback-hidden\");d.classList.remove(\"feedback-hidden\")};document.addEventListener(\"DOMContentLoaded\",function(){var a=document.getElementById(\"error-feedback\"),c=document.getElementById(\"feedback-button-yes\"),d=document.getElementById(\"feedback-button-no\");\"classList\"in a&&(a.classList.remove(\"feedback-hidden\"),c.addEventListener(\"click\",function(){e(!0)}),d.addEventListener(\"click\",function(){e(!1)}))})}})();\n",
      "  </script>\n",
      "  <script>\n",
      "   (function(){if(document.addEventListener){var c=function(){var b=document.getElementById(\"copy-label\");document.getElementById(\"plain-ray-id\");if(navigator.clipboard)navigator.clipboard.writeText(\"726a572b79f976b9\");else{var a=document.createElement(\"textarea\");a.value=\"726a572b79f976b9\";a.style.top=\"0\";a.style.left=\"0\";a.style.position=\"fixed\";document.body.appendChild(a);a.focus();a.select();document.execCommand(\"copy\");document.body.removeChild(a)}b.innerText=\"Copied\"};document.addEventListener(\"DOMContentLoaded\",\n",
      "function(){var b=document.getElementById(\"plain-ray-id\"),a=document.getElementById(\"click-to-copy-btn\");\"classList\"in b&&(b.classList.add(\"hidden\"),a.classList.remove(\"hidden\"),a.addEventListener(\"click\",c))})}})();\n",
      "  </script>\n",
      "  <script defer=\"\" src=\"https://performance.radar.cloudflare.com/beacon.js\">\n",
      "  </script>\n",
      " </head>\n",
      " <body>\n",
      "  <div class=\"main-wrapper\" role=\"main\">\n",
      "   <div class=\"header section\">\n",
      "    <h1>\n",
      "     <span class=\"error-description\">\n",
      "      Access denied\n",
      "     </span>\n",
      "     <span class=\"code-label\">\n",
      "      Error code\n",
      "      <span>\n",
      "       1020\n",
      "      </span>\n",
      "     </span>\n",
      "    </h1>\n",
      "    <div class=\"large-font\">\n",
      "     <p>\n",
      "      You do not have access to www.propertypal.com.\n",
      "     </p>\n",
      "     <p>\n",
      "      The site owner may have set restrictions that prevent you from accessing the site. Contact the site owner for access or try loading the page again.\n",
      "     </p>\n",
      "    </div>\n",
      "   </div>\n",
      "  </div>\n",
      "  <div>\n",
      "   <div class=\"clearfix section\">\n",
      "    <div class=\"column know-more\">\n",
      "     <h2 class=\"large-font\">\n",
      "      Additional information\n",
      "     </h2>\n",
      "     <p>\n",
      "      The access policies of a site define which visits are allowed. Your current visit is not allowed according to those policies.\n",
      "     </p>\n",
      "     <p>\n",
      "      Only the site owner can change site access policies.\n",
      "     </p>\n",
      "    </div>\n",
      "    <div class=\"column know-more\">\n",
      "     <h2 class=\"large-font\">\n",
      "      I am the site owner\n",
      "     </h2>\n",
      "     <p class=\"ray-id-wrapper\">\n",
      "      Ray ID:\n",
      "      <span class=\"plain-ray-id\" id=\"plain-ray-id\">\n",
      "       726a572b79f976b9\n",
      "      </span>\n",
      "      <button class=\"click-to-copy-btn hidden\" id=\"click-to-copy-btn\" title=\"Click to copy Ray ID\" type=\"button\">\n",
      "       <span class=\"ray-id\">\n",
      "        726a572b79f976b9\n",
      "       </span>\n",
      "       <span class=\"copy-label\" id=\"copy-label\">\n",
      "        Copy\n",
      "       </span>\n",
      "      </button>\n",
      "     </p>\n",
      "     <ol>\n",
      "      <li>\n",
      "       Search the\n",
      "       <a href=\"https://dash.cloudflare.com/?to=/:account/:zone/firewall\" rel=\"noopener noreferrer\" target=\"_blank\">\n",
      "        Firewall Events Log\n",
      "       </a>\n",
      "       <img alt=\"External link\" class=\"external-link\" src=\"/cdn-cgi/images/external.png\" title=\"Opens in new tab\"/>\n",
      "       for the above Ray ID.\n",
      "      </li>\n",
      "      <li>\n",
      "       Examine and assess the details of the access policy.\n",
      "      </li>\n",
      "     </ol>\n",
      "     <br/>\n",
      "     <a href=\"https://support.cloudflare.com/hc/articles/360029779472-Troubleshooting-Cloudflare-1XXX-errors#error1020\" rel=\"noopener noreferrer\" target=\"_blank\">\n",
      "      Troubleshooting guide\n",
      "     </a>\n",
      "     <img alt=\"External link\" class=\"external-link\" src=\"/cdn-cgi/images/external.png\" title=\"Opens in new tab\"/>\n",
      "    </div>\n",
      "   </div>\n",
      "   <div class=\"clearfix footer section\" role=\"contentinfo\">\n",
      "    <div class=\"column\">\n",
      "     <div class=\"feedback-hidden py-8 text-center\" id=\"error-feedback\">\n",
      "      <div class=\"footer-line-wrapper\" id=\"error-feedback-survey\">\n",
      "       Was this page helpful?\n",
      "       <button class=\"border border-solid bg-white cf-button cursor-pointer ml-4 px-4 py-2 rounded\" id=\"feedback-button-yes\" type=\"button\">\n",
      "        Yes\n",
      "       </button>\n",
      "       <button class=\"border border-solid bg-white cf-button cursor-pointer ml-4 px-4 py-2 rounded\" id=\"feedback-button-no\" type=\"button\">\n",
      "        No\n",
      "       </button>\n",
      "      </div>\n",
      "      <div class=\"feedback-success feedback-hidden\" id=\"error-feedback-success\">\n",
      "       Thank you for your feedback!\n",
      "      </div>\n",
      "     </div>\n",
      "    </div>\n",
      "    <div class=\"column footer-line-wrapper text-center\">\n",
      "     Performance &amp; security by\n",
      "     <a href=\"https://www.cloudflare.com\" rel=\"noopener noreferrer\" target=\"_blank\">\n",
      "      Cloudflare\n",
      "     </a>\n",
      "     <img alt=\"External link\" class=\"external-link\" src=\"/cdn-cgi/images/external.png\" title=\"Opens in new tab\"/>\n",
      "    </div>\n",
      "   </div>\n",
      "  </div>\n",
      "  <script>\n",
      "   (function(){var js = \"window['__CF$cv$params']={r:'726a572b79f976b9',m:'rm6ynT4h5Bl.K6kiK5bWPIY35KdNSjNgmYX_bjRAQBM-1657131480-0-AQC6PofYinPErvIYtd/flwBMDLM9FyaaW0lRFZhi7Yih5iiaO10UfS2OLeCYw7s3QslHYkNLIDqBZb3HclLXui0ZsFOshhLya5szOKtR2yme2OIYwUQybklkOANbpiY9OQ==',s:[0x8a673aef33,0xfbba8645da],u:'/cdn-cgi/challenge-platform/h/g'};var now=Date.now()/1000,offset=14400,ts=''+(Math.floor(now)-Math.floor(now%offset)),_cpo=document.createElement('script');_cpo.nonce='',_cpo.src='/cdn-cgi/challenge-platform/h/g/scripts/alpha/invisible.js?ts='+ts,document.getElementsByTagName('head')[0].appendChild(_cpo);\";var _0xh = document.createElement('iframe');_0xh.height = 1;_0xh.width = 1;_0xh.style.border = 'none';_0xh.style.visibility = 'hidden';document.body.appendChild(_0xh);function handler() {var _0xi = _0xh.contentDocument || _0xh.contentWindow.document;if (_0xi) {var _0xj = _0xi.createElement('script');_0xj.innerHTML = js;_0xi.getElementsByTagName('head')[0].appendChild(_0xj);}}if (document.readyState !== 'loading') {handler();} else if (window.addEventListener) {document.addEventListener('DOMContentLoaded', handler);} else {var prev = document.onreadystatechange || function () {};document.onreadystatechange = function (e) {prev(e);if (document.readyState !== 'loading') {document.onreadystatechange = prev;handler();}};}})();\n",
      "  </script>\n",
      " </body>\n",
      "</html>\n",
      "\n"
     ]
    }
   ],
   "source": [
    "from bs4 import BeautifulSoup\n",
    "import requests\n",
    "r=requests.get('https://www.propertypal.com')\n",
    "html_str=r.text\n",
    "print(r.text)\n",
    "python_wiki = BeautifulSoup(html_str, 'html.parser')\n",
    "print(python_wiki.prettify())"
   ]
  },
  {
   "cell_type": "code",
   "execution_count": 2,
   "metadata": {},
   "outputs": [],
   "source": [
    "import selenium\n",
    "from selenium import webdriver\n",
    "from selenium.webdriver import Chrome\n",
    "from webdriver_manager.chrome import ChromeDriverManager\n",
    "from selenium.webdriver.common.by import By\n",
    "from selenium.webdriver.common.action_chains import ActionChains\n",
    "from selenium.webdriver.support.ui import WebDriverWait\n",
    "from selenium.webdriver.support import expected_conditions as EC\n",
    "from selenium.common.exceptions import TimeoutException\n",
    "import time"
   ]
  },
  {
   "cell_type": "code",
   "execution_count": 7,
   "metadata": {},
   "outputs": [],
   "source": [
    "class Scraper:\n",
    "    def __init__(self, url: str = 'https://www.propertypal.com') -> None:\n",
    "        self.driver = Chrome(ChromeDriverManager().install())\n",
    "        self.driver.get(url)\n",
    "        \n",
    "    def ivan_accept_cookies(self, xpath:str = '//*[@id=\"qc-cmp2-ui\"]/div[2]/div/button[2]'):\n",
    "        \n",
    "        try:\n",
    "            time.sleep(1)\n",
    "            WebDriverWait(self.driver, 10).until(EC.presence_of_element_located((By.XPATH, xpath)))\n",
    "\n",
    "            button = self.driver.find_element(By.XPATH, xpath)\n",
    "            button.click()\n",
    "        except TimeoutException:\n",
    "            print(\"No Cookies Found\")\n",
    "\n",
    "    def accept_cookies(self, xpath:str = '//*[@id=\"qc-cmp2-ui\"]/div[2]/div/button[2]'):\n",
    "        button = self.driver.find_element(By.XPATH, xpath)\n",
    "        button.click()\n",
    "\n",
    "    \n",
    "    def search_word(self, xpath, text):\n",
    "\n",
    "        search = self.driver.find_element(By.XPATH, xpath)\n",
    "        self.driver.implicitly_wait(10)\n",
    "        ActionChains(self.driver).move_to_element(search).click(search).perform()\n",
    "        ActionChains(self.driver).send_keys(text).perform()\n",
    "\n",
    "    def scroll_down(self):\n",
    "        \n",
    "        self.driver.execute_script(\"window.scrollTo(0, 540)\") \n",
    "    \n",
    "    def search_rent(self):\n",
    "        rent = self.driver.find_element_by_xpath('//*[@id=\"searchForm\"]/div/div[2]/button[2]')\n",
    "        rent.click()\n",
    "\n",
    "    def search_sale(self):\n",
    "        rent = self.driver.find_element_by_xpath('//*[@id=\"searchForm\"]/div/div[2]/button[1]')\n",
    "        rent.click()\n",
    "    \n",
    "    def button_click(self,xpath):\n",
    "        button = self.driver.find_element_by_xpath(xpath)\n",
    "        button.click()\n",
    "    \n",
    "    def find_container(self, xpath: str = '//*[@id=\"body\"]/div[3]/div/div[1]/div/ul'):\n",
    "        self.container = self.driver.find_element(By.XPATH, xpath)\n",
    "        return self.container"
   ]
  },
  {
   "cell_type": "code",
   "execution_count": 8,
   "metadata": {},
   "outputs": [
    {
     "name": "stdout",
     "output_type": "stream",
     "text": [
      "\n"
     ]
    },
    {
     "name": "stderr",
     "output_type": "stream",
     "text": [
      "[WDM] - ====== WebDriver manager ======\n",
      "[WDM] - Current google-chrome version is 103.0.5060\n",
      "[WDM] - Get LATEST chromedriver version for 103.0.5060 google-chrome\n",
      "[WDM] - Driver [/Users/ryanhughes/.wdm/drivers/chromedriver/mac64/103.0.5060.53/chromedriver] found in cache\n",
      "/var/folders/k0/hpk5zvqn2rdfdj_f5sv8ptp80000gn/T/ipykernel_6413/2763093461.py:3: DeprecationWarning: executable_path has been deprecated, please pass in a Service object\n",
      "  self.driver = Chrome(ChromeDriverManager().install())\n",
      "/var/folders/k0/hpk5zvqn2rdfdj_f5sv8ptp80000gn/T/ipykernel_6413/2763093461.py:34: DeprecationWarning: find_element_by_xpath is deprecated. Please use find_element(by=By.XPATH, value=xpath) instead\n",
      "  rent = self.driver.find_element_by_xpath('//*[@id=\"searchForm\"]/div/div[2]/button[2]')\n"
     ]
    }
   ],
   "source": [
    "bot = Scraper()\n",
    "bot.ivan_accept_cookies()\n",
    "time.sleep(2)\n",
    "bot.search_word('//*[@id=\"searchForm\"]/div/div[1]', 'bt4')\n",
    "time.sleep(2)\n",
    "bot.search_rent()\n"
   ]
  },
  {
   "cell_type": "code",
   "execution_count": 10,
   "metadata": {},
   "outputs": [],
   "source": [
    "container = bot.find_container()"
   ]
  },
  {
   "cell_type": "code",
   "execution_count": 11,
   "metadata": {},
   "outputs": [
    {
     "name": "stdout",
     "output_type": "stream",
     "text": [
      "[<selenium.webdriver.remote.webelement.WebElement (session=\"66483beed52fb5fc23a8ac01d0beccfd\", element=\"e455faf4-109d-4195-a53f-584b655d57f2\")>, <selenium.webdriver.remote.webelement.WebElement (session=\"66483beed52fb5fc23a8ac01d0beccfd\", element=\"efc2b62b-22e1-4c9e-98e9-057eee53c7ba\")>, <selenium.webdriver.remote.webelement.WebElement (session=\"66483beed52fb5fc23a8ac01d0beccfd\", element=\"402cffc7-c6d3-42eb-852f-0457ba429edc\")>, <selenium.webdriver.remote.webelement.WebElement (session=\"66483beed52fb5fc23a8ac01d0beccfd\", element=\"4aa2f255-f856-4192-95b7-ff807dea9c57\")>, <selenium.webdriver.remote.webelement.WebElement (session=\"66483beed52fb5fc23a8ac01d0beccfd\", element=\"f5bc0d93-a8e1-4936-a254-592317f32c8b\")>, <selenium.webdriver.remote.webelement.WebElement (session=\"66483beed52fb5fc23a8ac01d0beccfd\", element=\"7aa0b660-81d0-4ed5-ae22-8a417aba65ba\")>, <selenium.webdriver.remote.webelement.WebElement (session=\"66483beed52fb5fc23a8ac01d0beccfd\", element=\"87941af4-df11-4a56-8024-77243458c2ff\")>, <selenium.webdriver.remote.webelement.WebElement (session=\"66483beed52fb5fc23a8ac01d0beccfd\", element=\"7c662490-1212-4e42-8ef2-e9a70af3359e\")>, <selenium.webdriver.remote.webelement.WebElement (session=\"66483beed52fb5fc23a8ac01d0beccfd\", element=\"7999f2aa-5d2d-40a7-966d-4f4e9e363a8c\")>, <selenium.webdriver.remote.webelement.WebElement (session=\"66483beed52fb5fc23a8ac01d0beccfd\", element=\"7719bdfc-a752-4e1b-85f8-62053fedcc8f\")>, <selenium.webdriver.remote.webelement.WebElement (session=\"66483beed52fb5fc23a8ac01d0beccfd\", element=\"4f78f3d7-8f6e-452e-98ef-0e014406d9e6\")>]\n"
     ]
    }
   ],
   "source": [
    "items = container.find_elements(By.XPATH, './li')\n",
    "print(items)\n",
    "list_links = []"
   ]
  },
  {
   "cell_type": "code",
   "execution_count": 14,
   "metadata": {},
   "outputs": [
    {
     "name": "stdout",
     "output_type": "stream",
     "text": [
      "No href found, skipping this property\n",
      "['https://www.propertypal.com/user/shortlist.do?update=758135&sourcePath=%2Fproperty-to-rent%2Fbt4', 'https://www.propertypal.com/user/shortlist.do?update=764607&sourcePath=%2Fproperty-to-rent%2Fbt4', 'https://www.propertypal.com/user/shortlist.do?update=764588&sourcePath=%2Fproperty-to-rent%2Fbt4', 'https://www.propertypal.com/user/shortlist.do?update=531528&sourcePath=%2Fproperty-to-rent%2Fbt4', 'https://www.propertypal.com/user/shortlist.do?update=764299&sourcePath=%2Fproperty-to-rent%2Fbt4', 'https://www.propertypal.com/user/shortlist.do?update=764227&sourcePath=%2Fproperty-to-rent%2Fbt4', 'https://www.propertypal.com/user/shortlist.do?update=764158&sourcePath=%2Fproperty-to-rent%2Fbt4', 'https://www.propertypal.com/user/shortlist.do?update=764129&sourcePath=%2Fproperty-to-rent%2Fbt4', 'https://www.propertypal.com/user/shortlist.do?update=764073&sourcePath=%2Fproperty-to-rent%2Fbt4', 'https://www.propertypal.com/user/shortlist.do?update=764001&sourcePath=%2Fproperty-to-rent%2Fbt4']\n"
     ]
    }
   ],
   "source": [
    " for i in items:\n",
    "    try:\n",
    "        house = i.find_element(By.XPATH, './/a')\n",
    "        link = house.get_attribute('href')\n",
    "        list_links.append(link)\n",
    "    except:\n",
    "        print('No href found, skipping this property')\n",
    " print(list_links)"
   ]
  },
  {
   "cell_type": "code",
   "execution_count": 16,
   "metadata": {},
   "outputs": [],
   "source": [
    "for link in list_links:\n",
    "    time.sleep(3)\n",
    "    bot.driver.get(link)"
   ]
  },
  {
   "cell_type": "code",
   "execution_count": 25,
   "metadata": {},
   "outputs": [
    {
     "name": "stdout",
     "output_type": "stream",
     "text": [
      "\n"
     ]
    },
    {
     "name": "stderr",
     "output_type": "stream",
     "text": [
      "[WDM] - ====== WebDriver manager ======\n",
      "[WDM] - Current google-chrome version is 103.0.5060\n",
      "[WDM] - Get LATEST chromedriver version for 103.0.5060 google-chrome\n",
      "[WDM] - Driver [/Users/ryanhughes/.wdm/drivers/chromedriver/mac64/103.0.5060.53/chromedriver] found in cache\n",
      "/var/folders/k0/hpk5zvqn2rdfdj_f5sv8ptp80000gn/T/ipykernel_24373/3071741555.py:3: DeprecationWarning: executable_path has been deprecated, please pass in a Service object\n",
      "  self.driver = Chrome(ChromeDriverManager().install())\n",
      "/var/folders/k0/hpk5zvqn2rdfdj_f5sv8ptp80000gn/T/ipykernel_24373/3071741555.py:33: DeprecationWarning: find_element_by_xpath is deprecated. Please use find_element(by=By.XPATH, value=xpath) instead\n",
      "  rent = self.driver.find_element_by_xpath('//*[@id=\"searchForm\"]/div/div[2]/button[2]')\n",
      "/var/folders/k0/hpk5zvqn2rdfdj_f5sv8ptp80000gn/T/ipykernel_24373/3071741555.py:41: DeprecationWarning: find_element_by_xpath is deprecated. Please use find_element(by=By.XPATH, value=xpath) instead\n",
      "  button = self.driver.find_element_by_xpath('//*[@id=\"body\"]/div[3]/div/div[1]/div/ul/li[1]/div/a[2]')\n"
     ]
    }
   ],
   "source": [
    "bot = Scraper()\n",
    "time.sleep(3)\n",
    "bot.accept_cookies('//*[@id=\"qc-cmp2-ui\"]/div[2]/div/button[2]')\n",
    "bot.search_word('//*[@id=\"searchForm\"]/div/div[1]', 'BT4')\n",
    "bot.search_rent()\n",
    "time.sleep(2)\n",
    "bot.scroll_down()\n",
    "bot.scroll_down()\n",
    "bot.button_click('//*[@id=\"body\"]/div[3]/div/div[1]/div/ul/li[1]/div/a[2]')"
   ]
  },
  {
   "cell_type": "code",
   "execution_count": null,
   "metadata": {},
   "outputs": [],
   "source": [
    "driver = webdriver.Chrome(ChromeDriverManager().install())\n",
    "driver.get(\"https://www.propertypal.com\")\n",
    "time.sleep(2)\n",
    "accept_cookies = driver.find_element(By.XPATH, '//*[@id=\"qc-cmp2-ui\"]/div[2]/div/button[2]')\n",
    "accept_cookies.click()\n",
    "time.sleep(2)\n",
    "search = driver.find_element(By.XPATH, '//*[@id=\"searchForm\"]/div/div[1]')\n",
    "driver.implicitly_wait(10)\n",
    "ActionChains(driver).move_to_element(search).click(search).perform()\n",
    "ActionChains(driver).send_keys(\"BT4\").perform()"
   ]
  },
  {
   "cell_type": "code",
   "execution_count": 77,
   "metadata": {},
   "outputs": [
    {
     "name": "stdout",
     "output_type": "stream",
     "text": [
      "\n"
     ]
    },
    {
     "name": "stderr",
     "output_type": "stream",
     "text": [
      "[WDM] - ====== WebDriver manager ======\n",
      "[WDM] - Current google-chrome version is 103.0.5060\n",
      "[WDM] - Get LATEST chromedriver version for 103.0.5060 google-chrome\n",
      "[WDM] - About to download new driver from https://chromedriver.storage.googleapis.com/103.0.5060.53/chromedriver_mac64.zip\n",
      "[WDM] - Driver has been saved in cache [/Users/ryanhughes/.wdm/drivers/chromedriver/mac64/103.0.5060.53]\n",
      "/var/folders/k0/hpk5zvqn2rdfdj_f5sv8ptp80000gn/T/ipykernel_82170/937025597.py:3: DeprecationWarning: executable_path has been deprecated, please pass in a Service object\n",
      "  self.driver = Chrome(ChromeDriverManager().install())\n"
     ]
    }
   ],
   "source": [
    "propertypal = Scraper(\"https://www.propertypal.com\")"
   ]
  },
  {
   "cell_type": "code",
   "execution_count": 78,
   "metadata": {},
   "outputs": [
    {
     "name": "stderr",
     "output_type": "stream",
     "text": [
      "/var/folders/k0/hpk5zvqn2rdfdj_f5sv8ptp80000gn/T/ipykernel_82170/937025597.py:13: DeprecationWarning: find_element_by_xpath is deprecated. Please use find_element(by=By.XPATH, value=xpath) instead\n",
      "  button = self.driver.find_element_by_xpath(xpath)\n"
     ]
    }
   ],
   "source": [
    "propertypal.accept_cookies('//*[@id=\"qc-cmp2-ui\"]/div[2]/div/button[2]')"
   ]
  },
  {
   "cell_type": "code",
   "execution_count": 36,
   "metadata": {},
   "outputs": [
    {
     "name": "stderr",
     "output_type": "stream",
     "text": [
      "/var/folders/k0/hpk5zvqn2rdfdj_f5sv8ptp80000gn/T/ipykernel_82170/2345440001.py:26: DeprecationWarning: find_element_by_xpath is deprecated. Please use find_element(by=By.XPATH, value=xpath) instead\n",
      "  search_bar = self.driver.find_element_by_xpath(xpath)\n"
     ]
    },
    {
     "ename": "ElementNotInteractableException",
     "evalue": "Message: element not interactable\n  (Session info: chrome=103.0.5060.53)\nStacktrace:\n0   chromedriver                        0x0000000100d45079 chromedriver + 4444281\n1   chromedriver                        0x0000000100cd1403 chromedriver + 3970051\n2   chromedriver                        0x000000010096beef chromedriver + 409327\n3   chromedriver                        0x000000010099c60f chromedriver + 607759\n4   chromedriver                        0x000000010099bc0d chromedriver + 605197\n5   chromedriver                        0x00000001009bf792 chromedriver + 751506\n6   chromedriver                        0x0000000100996f65 chromedriver + 585573\n7   chromedriver                        0x00000001009bf89e chromedriver + 751774\n8   chromedriver                        0x00000001009d2221 chromedriver + 827937\n9   chromedriver                        0x00000001009bf683 chromedriver + 751235\n10  chromedriver                        0x0000000100995a45 chromedriver + 580165\n11  chromedriver                        0x0000000100996a95 chromedriver + 584341\n12  chromedriver                        0x0000000100d1655d chromedriver + 4253021\n13  chromedriver                        0x0000000100d1b3a1 chromedriver + 4273057\n14  chromedriver                        0x0000000100d2016f chromedriver + 4292975\n15  chromedriver                        0x0000000100d1bdea chromedriver + 4275690\n16  chromedriver                        0x0000000100cf554f chromedriver + 4117839\n17  chromedriver                        0x0000000100d35ed8 chromedriver + 4382424\n18  chromedriver                        0x0000000100d3605f chromedriver + 4382815\n19  chromedriver                        0x0000000100d4c8d5 chromedriver + 4475093\n20  libsystem_pthread.dylib             0x00007ff813e254f4 _pthread_start + 125\n21  libsystem_pthread.dylib             0x00007ff813e2100f thread_start + 15\n",
     "output_type": "error",
     "traceback": [
      "\u001b[0;31m---------------------------------------------------------------------------\u001b[0m",
      "\u001b[0;31mElementNotInteractableException\u001b[0m           Traceback (most recent call last)",
      "\u001b[1;32m/Users/ryanhughes/Desktop/Aicore/Property-Pal-Pipeline.ipynb Cell 9'\u001b[0m in \u001b[0;36m<cell line: 1>\u001b[0;34m()\u001b[0m\n\u001b[0;32m----> <a href='vscode-notebook-cell:/Users/ryanhughes/Desktop/Aicore/Property-Pal-Pipeline.ipynb#ch0000011?line=0'>1</a>\u001b[0m propertypal\u001b[39m.\u001b[39;49msearch_word(\u001b[39m'\u001b[39;49m\u001b[39m//*[@id=\u001b[39;49m\u001b[39m\"\u001b[39;49m\u001b[39msearchForm\u001b[39;49m\u001b[39m\"\u001b[39;49m\u001b[39m]/div/div[1]\u001b[39;49m\u001b[39m'\u001b[39;49m,\u001b[39m'\u001b[39;49m\u001b[39mBT4 BT5\u001b[39;49m\u001b[39m'\u001b[39;49m)\n",
      "\u001b[1;32m/Users/ryanhughes/Desktop/Aicore/Property-Pal-Pipeline.ipynb Cell 6'\u001b[0m in \u001b[0;36mScraper.search_word\u001b[0;34m(self, xpath, text)\u001b[0m\n\u001b[1;32m     <a href='vscode-notebook-cell:/Users/ryanhughes/Desktop/Aicore/Property-Pal-Pipeline.ipynb#ch0000004?line=25'>26</a>\u001b[0m search_bar \u001b[39m=\u001b[39m \u001b[39mself\u001b[39m\u001b[39m.\u001b[39mdriver\u001b[39m.\u001b[39mfind_element_by_xpath(xpath)\n\u001b[1;32m     <a href='vscode-notebook-cell:/Users/ryanhughes/Desktop/Aicore/Property-Pal-Pipeline.ipynb#ch0000004?line=26'>27</a>\u001b[0m search_bar\u001b[39m.\u001b[39mclick()\n\u001b[0;32m---> <a href='vscode-notebook-cell:/Users/ryanhughes/Desktop/Aicore/Property-Pal-Pipeline.ipynb#ch0000004?line=27'>28</a>\u001b[0m search_bar\u001b[39m.\u001b[39;49msend_keys(text)\n",
      "File \u001b[0;32m~/opt/miniconda3/envs/Selenium_demo/lib/python3.10/site-packages/selenium/webdriver/remote/webelement.py:600\u001b[0m, in \u001b[0;36mWebElement.send_keys\u001b[0;34m(self, *value)\u001b[0m\n\u001b[1;32m    <a href='file:///Users/ryanhughes/opt/miniconda3/envs/Selenium_demo/lib/python3.10/site-packages/selenium/webdriver/remote/webelement.py?line=596'>597</a>\u001b[0m             remote_files\u001b[39m.\u001b[39mappend(\u001b[39mself\u001b[39m\u001b[39m.\u001b[39m_upload(file))\n\u001b[1;32m    <a href='file:///Users/ryanhughes/opt/miniconda3/envs/Selenium_demo/lib/python3.10/site-packages/selenium/webdriver/remote/webelement.py?line=597'>598</a>\u001b[0m         value \u001b[39m=\u001b[39m \u001b[39m'\u001b[39m\u001b[39m\\n\u001b[39;00m\u001b[39m'\u001b[39m\u001b[39m.\u001b[39mjoin(remote_files)\n\u001b[0;32m--> <a href='file:///Users/ryanhughes/opt/miniconda3/envs/Selenium_demo/lib/python3.10/site-packages/selenium/webdriver/remote/webelement.py?line=599'>600</a>\u001b[0m \u001b[39mself\u001b[39;49m\u001b[39m.\u001b[39;49m_execute(Command\u001b[39m.\u001b[39;49mSEND_KEYS_TO_ELEMENT,\n\u001b[1;32m    <a href='file:///Users/ryanhughes/opt/miniconda3/envs/Selenium_demo/lib/python3.10/site-packages/selenium/webdriver/remote/webelement.py?line=600'>601</a>\u001b[0m               {\u001b[39m'\u001b[39;49m\u001b[39mtext\u001b[39;49m\u001b[39m'\u001b[39;49m: \u001b[39m\"\u001b[39;49m\u001b[39m\"\u001b[39;49m\u001b[39m.\u001b[39;49mjoin(keys_to_typing(value)),\n\u001b[1;32m    <a href='file:///Users/ryanhughes/opt/miniconda3/envs/Selenium_demo/lib/python3.10/site-packages/selenium/webdriver/remote/webelement.py?line=601'>602</a>\u001b[0m                \u001b[39m'\u001b[39;49m\u001b[39mvalue\u001b[39;49m\u001b[39m'\u001b[39;49m: keys_to_typing(value)})\n",
      "File \u001b[0;32m~/opt/miniconda3/envs/Selenium_demo/lib/python3.10/site-packages/selenium/webdriver/remote/webelement.py:773\u001b[0m, in \u001b[0;36mWebElement._execute\u001b[0;34m(self, command, params)\u001b[0m\n\u001b[1;32m    <a href='file:///Users/ryanhughes/opt/miniconda3/envs/Selenium_demo/lib/python3.10/site-packages/selenium/webdriver/remote/webelement.py?line=770'>771</a>\u001b[0m     params \u001b[39m=\u001b[39m {}\n\u001b[1;32m    <a href='file:///Users/ryanhughes/opt/miniconda3/envs/Selenium_demo/lib/python3.10/site-packages/selenium/webdriver/remote/webelement.py?line=771'>772</a>\u001b[0m params[\u001b[39m'\u001b[39m\u001b[39mid\u001b[39m\u001b[39m'\u001b[39m] \u001b[39m=\u001b[39m \u001b[39mself\u001b[39m\u001b[39m.\u001b[39m_id\n\u001b[0;32m--> <a href='file:///Users/ryanhughes/opt/miniconda3/envs/Selenium_demo/lib/python3.10/site-packages/selenium/webdriver/remote/webelement.py?line=772'>773</a>\u001b[0m \u001b[39mreturn\u001b[39;00m \u001b[39mself\u001b[39;49m\u001b[39m.\u001b[39;49m_parent\u001b[39m.\u001b[39;49mexecute(command, params)\n",
      "File \u001b[0;32m~/opt/miniconda3/envs/Selenium_demo/lib/python3.10/site-packages/selenium/webdriver/remote/webdriver.py:430\u001b[0m, in \u001b[0;36mWebDriver.execute\u001b[0;34m(self, driver_command, params)\u001b[0m\n\u001b[1;32m    <a href='file:///Users/ryanhughes/opt/miniconda3/envs/Selenium_demo/lib/python3.10/site-packages/selenium/webdriver/remote/webdriver.py?line=427'>428</a>\u001b[0m response \u001b[39m=\u001b[39m \u001b[39mself\u001b[39m\u001b[39m.\u001b[39mcommand_executor\u001b[39m.\u001b[39mexecute(driver_command, params)\n\u001b[1;32m    <a href='file:///Users/ryanhughes/opt/miniconda3/envs/Selenium_demo/lib/python3.10/site-packages/selenium/webdriver/remote/webdriver.py?line=428'>429</a>\u001b[0m \u001b[39mif\u001b[39;00m response:\n\u001b[0;32m--> <a href='file:///Users/ryanhughes/opt/miniconda3/envs/Selenium_demo/lib/python3.10/site-packages/selenium/webdriver/remote/webdriver.py?line=429'>430</a>\u001b[0m     \u001b[39mself\u001b[39;49m\u001b[39m.\u001b[39;49merror_handler\u001b[39m.\u001b[39;49mcheck_response(response)\n\u001b[1;32m    <a href='file:///Users/ryanhughes/opt/miniconda3/envs/Selenium_demo/lib/python3.10/site-packages/selenium/webdriver/remote/webdriver.py?line=430'>431</a>\u001b[0m     response[\u001b[39m'\u001b[39m\u001b[39mvalue\u001b[39m\u001b[39m'\u001b[39m] \u001b[39m=\u001b[39m \u001b[39mself\u001b[39m\u001b[39m.\u001b[39m_unwrap_value(\n\u001b[1;32m    <a href='file:///Users/ryanhughes/opt/miniconda3/envs/Selenium_demo/lib/python3.10/site-packages/selenium/webdriver/remote/webdriver.py?line=431'>432</a>\u001b[0m         response\u001b[39m.\u001b[39mget(\u001b[39m'\u001b[39m\u001b[39mvalue\u001b[39m\u001b[39m'\u001b[39m, \u001b[39mNone\u001b[39;00m))\n\u001b[1;32m    <a href='file:///Users/ryanhughes/opt/miniconda3/envs/Selenium_demo/lib/python3.10/site-packages/selenium/webdriver/remote/webdriver.py?line=432'>433</a>\u001b[0m     \u001b[39mreturn\u001b[39;00m response\n",
      "File \u001b[0;32m~/opt/miniconda3/envs/Selenium_demo/lib/python3.10/site-packages/selenium/webdriver/remote/errorhandler.py:247\u001b[0m, in \u001b[0;36mErrorHandler.check_response\u001b[0;34m(self, response)\u001b[0m\n\u001b[1;32m    <a href='file:///Users/ryanhughes/opt/miniconda3/envs/Selenium_demo/lib/python3.10/site-packages/selenium/webdriver/remote/errorhandler.py?line=244'>245</a>\u001b[0m         alert_text \u001b[39m=\u001b[39m value[\u001b[39m'\u001b[39m\u001b[39malert\u001b[39m\u001b[39m'\u001b[39m]\u001b[39m.\u001b[39mget(\u001b[39m'\u001b[39m\u001b[39mtext\u001b[39m\u001b[39m'\u001b[39m)\n\u001b[1;32m    <a href='file:///Users/ryanhughes/opt/miniconda3/envs/Selenium_demo/lib/python3.10/site-packages/selenium/webdriver/remote/errorhandler.py?line=245'>246</a>\u001b[0m     \u001b[39mraise\u001b[39;00m exception_class(message, screen, stacktrace, alert_text)  \u001b[39m# type: ignore[call-arg]  # mypy is not smart enough here\u001b[39;00m\n\u001b[0;32m--> <a href='file:///Users/ryanhughes/opt/miniconda3/envs/Selenium_demo/lib/python3.10/site-packages/selenium/webdriver/remote/errorhandler.py?line=246'>247</a>\u001b[0m \u001b[39mraise\u001b[39;00m exception_class(message, screen, stacktrace)\n",
      "\u001b[0;31mElementNotInteractableException\u001b[0m: Message: element not interactable\n  (Session info: chrome=103.0.5060.53)\nStacktrace:\n0   chromedriver                        0x0000000100d45079 chromedriver + 4444281\n1   chromedriver                        0x0000000100cd1403 chromedriver + 3970051\n2   chromedriver                        0x000000010096beef chromedriver + 409327\n3   chromedriver                        0x000000010099c60f chromedriver + 607759\n4   chromedriver                        0x000000010099bc0d chromedriver + 605197\n5   chromedriver                        0x00000001009bf792 chromedriver + 751506\n6   chromedriver                        0x0000000100996f65 chromedriver + 585573\n7   chromedriver                        0x00000001009bf89e chromedriver + 751774\n8   chromedriver                        0x00000001009d2221 chromedriver + 827937\n9   chromedriver                        0x00000001009bf683 chromedriver + 751235\n10  chromedriver                        0x0000000100995a45 chromedriver + 580165\n11  chromedriver                        0x0000000100996a95 chromedriver + 584341\n12  chromedriver                        0x0000000100d1655d chromedriver + 4253021\n13  chromedriver                        0x0000000100d1b3a1 chromedriver + 4273057\n14  chromedriver                        0x0000000100d2016f chromedriver + 4292975\n15  chromedriver                        0x0000000100d1bdea chromedriver + 4275690\n16  chromedriver                        0x0000000100cf554f chromedriver + 4117839\n17  chromedriver                        0x0000000100d35ed8 chromedriver + 4382424\n18  chromedriver                        0x0000000100d3605f chromedriver + 4382815\n19  chromedriver                        0x0000000100d4c8d5 chromedriver + 4475093\n20  libsystem_pthread.dylib             0x00007ff813e254f4 _pthread_start + 125\n21  libsystem_pthread.dylib             0x00007ff813e2100f thread_start + 15\n"
     ]
    }
   ],
   "source": [
    "propertypal.search_word('//*[@id=\"searchForm\"]/div/div[1]','BT4 BT5')"
   ]
  },
  {
   "cell_type": "code",
   "execution_count": 81,
   "metadata": {},
   "outputs": [
    {
     "ename": "ElementNotInteractableException",
     "evalue": "Message: element not interactable\n  (Session info: chrome=103.0.5060.53)\nStacktrace:\n0   chromedriver                        0x000000010c4c8079 chromedriver + 4444281\n1   chromedriver                        0x000000010c454403 chromedriver + 3970051\n2   chromedriver                        0x000000010c0eeeef chromedriver + 409327\n3   chromedriver                        0x000000010c126477 chromedriver + 636023\n4   chromedriver                        0x000000010c11a6a9 chromedriver + 587433\n5   chromedriver                        0x000000010c142792 chromedriver + 751506\n6   chromedriver                        0x000000010c119f65 chromedriver + 585573\n7   chromedriver                        0x000000010c14289e chromedriver + 751774\n8   chromedriver                        0x000000010c155221 chromedriver + 827937\n9   chromedriver                        0x000000010c142683 chromedriver + 751235\n10  chromedriver                        0x000000010c118a45 chromedriver + 580165\n11  chromedriver                        0x000000010c119a95 chromedriver + 584341\n12  chromedriver                        0x000000010c49955d chromedriver + 4253021\n13  chromedriver                        0x000000010c49e3a1 chromedriver + 4273057\n14  chromedriver                        0x000000010c4a316f chromedriver + 4292975\n15  chromedriver                        0x000000010c49edea chromedriver + 4275690\n16  chromedriver                        0x000000010c47854f chromedriver + 4117839\n17  chromedriver                        0x000000010c4b8ed8 chromedriver + 4382424\n18  chromedriver                        0x000000010c4b905f chromedriver + 4382815\n19  chromedriver                        0x000000010c4cf8d5 chromedriver + 4475093\n20  libsystem_pthread.dylib             0x00007ff813e254f4 _pthread_start + 125\n21  libsystem_pthread.dylib             0x00007ff813e2100f thread_start + 15\n",
     "output_type": "error",
     "traceback": [
      "\u001b[0;31m---------------------------------------------------------------------------\u001b[0m",
      "\u001b[0;31mElementNotInteractableException\u001b[0m           Traceback (most recent call last)",
      "\u001b[1;32m/Users/ryanhughes/Desktop/Aicore/Property-Pal-Pipeline.ipynb Cell 10'\u001b[0m in \u001b[0;36m<cell line: 2>\u001b[0;34m()\u001b[0m\n\u001b[1;32m      <a href='vscode-notebook-cell:/Users/ryanhughes/Desktop/Aicore/Property-Pal-Pipeline.ipynb#ch0000012?line=0'>1</a>\u001b[0m search \u001b[39m=\u001b[39m propertypal\u001b[39m.\u001b[39mdriver\u001b[39m.\u001b[39mfind_element(By\u001b[39m.\u001b[39mXPATH, \u001b[39m'\u001b[39m\u001b[39m//*[@id=\u001b[39m\u001b[39m\"\u001b[39m\u001b[39mquery\u001b[39m\u001b[39m\"\u001b[39m\u001b[39m]\u001b[39m\u001b[39m'\u001b[39m)\n\u001b[0;32m----> <a href='vscode-notebook-cell:/Users/ryanhughes/Desktop/Aicore/Property-Pal-Pipeline.ipynb#ch0000012?line=1'>2</a>\u001b[0m search\u001b[39m.\u001b[39;49mclick()\n",
      "File \u001b[0;32m~/opt/miniconda3/envs/Selenium_demo/lib/python3.10/site-packages/selenium/webdriver/remote/webelement.py:89\u001b[0m, in \u001b[0;36mWebElement.click\u001b[0;34m(self)\u001b[0m\n\u001b[1;32m     <a href='file:///Users/ryanhughes/opt/miniconda3/envs/Selenium_demo/lib/python3.10/site-packages/selenium/webdriver/remote/webelement.py?line=86'>87</a>\u001b[0m \u001b[39mdef\u001b[39;00m \u001b[39mclick\u001b[39m(\u001b[39mself\u001b[39m) \u001b[39m-\u001b[39m\u001b[39m>\u001b[39m \u001b[39mNone\u001b[39;00m:\n\u001b[1;32m     <a href='file:///Users/ryanhughes/opt/miniconda3/envs/Selenium_demo/lib/python3.10/site-packages/selenium/webdriver/remote/webelement.py?line=87'>88</a>\u001b[0m     \u001b[39m\"\"\"Clicks the element.\"\"\"\u001b[39;00m\n\u001b[0;32m---> <a href='file:///Users/ryanhughes/opt/miniconda3/envs/Selenium_demo/lib/python3.10/site-packages/selenium/webdriver/remote/webelement.py?line=88'>89</a>\u001b[0m     \u001b[39mself\u001b[39;49m\u001b[39m.\u001b[39;49m_execute(Command\u001b[39m.\u001b[39;49mCLICK_ELEMENT)\n",
      "File \u001b[0;32m~/opt/miniconda3/envs/Selenium_demo/lib/python3.10/site-packages/selenium/webdriver/remote/webelement.py:773\u001b[0m, in \u001b[0;36mWebElement._execute\u001b[0;34m(self, command, params)\u001b[0m\n\u001b[1;32m    <a href='file:///Users/ryanhughes/opt/miniconda3/envs/Selenium_demo/lib/python3.10/site-packages/selenium/webdriver/remote/webelement.py?line=770'>771</a>\u001b[0m     params \u001b[39m=\u001b[39m {}\n\u001b[1;32m    <a href='file:///Users/ryanhughes/opt/miniconda3/envs/Selenium_demo/lib/python3.10/site-packages/selenium/webdriver/remote/webelement.py?line=771'>772</a>\u001b[0m params[\u001b[39m'\u001b[39m\u001b[39mid\u001b[39m\u001b[39m'\u001b[39m] \u001b[39m=\u001b[39m \u001b[39mself\u001b[39m\u001b[39m.\u001b[39m_id\n\u001b[0;32m--> <a href='file:///Users/ryanhughes/opt/miniconda3/envs/Selenium_demo/lib/python3.10/site-packages/selenium/webdriver/remote/webelement.py?line=772'>773</a>\u001b[0m \u001b[39mreturn\u001b[39;00m \u001b[39mself\u001b[39;49m\u001b[39m.\u001b[39;49m_parent\u001b[39m.\u001b[39;49mexecute(command, params)\n",
      "File \u001b[0;32m~/opt/miniconda3/envs/Selenium_demo/lib/python3.10/site-packages/selenium/webdriver/remote/webdriver.py:430\u001b[0m, in \u001b[0;36mWebDriver.execute\u001b[0;34m(self, driver_command, params)\u001b[0m\n\u001b[1;32m    <a href='file:///Users/ryanhughes/opt/miniconda3/envs/Selenium_demo/lib/python3.10/site-packages/selenium/webdriver/remote/webdriver.py?line=427'>428</a>\u001b[0m response \u001b[39m=\u001b[39m \u001b[39mself\u001b[39m\u001b[39m.\u001b[39mcommand_executor\u001b[39m.\u001b[39mexecute(driver_command, params)\n\u001b[1;32m    <a href='file:///Users/ryanhughes/opt/miniconda3/envs/Selenium_demo/lib/python3.10/site-packages/selenium/webdriver/remote/webdriver.py?line=428'>429</a>\u001b[0m \u001b[39mif\u001b[39;00m response:\n\u001b[0;32m--> <a href='file:///Users/ryanhughes/opt/miniconda3/envs/Selenium_demo/lib/python3.10/site-packages/selenium/webdriver/remote/webdriver.py?line=429'>430</a>\u001b[0m     \u001b[39mself\u001b[39;49m\u001b[39m.\u001b[39;49merror_handler\u001b[39m.\u001b[39;49mcheck_response(response)\n\u001b[1;32m    <a href='file:///Users/ryanhughes/opt/miniconda3/envs/Selenium_demo/lib/python3.10/site-packages/selenium/webdriver/remote/webdriver.py?line=430'>431</a>\u001b[0m     response[\u001b[39m'\u001b[39m\u001b[39mvalue\u001b[39m\u001b[39m'\u001b[39m] \u001b[39m=\u001b[39m \u001b[39mself\u001b[39m\u001b[39m.\u001b[39m_unwrap_value(\n\u001b[1;32m    <a href='file:///Users/ryanhughes/opt/miniconda3/envs/Selenium_demo/lib/python3.10/site-packages/selenium/webdriver/remote/webdriver.py?line=431'>432</a>\u001b[0m         response\u001b[39m.\u001b[39mget(\u001b[39m'\u001b[39m\u001b[39mvalue\u001b[39m\u001b[39m'\u001b[39m, \u001b[39mNone\u001b[39;00m))\n\u001b[1;32m    <a href='file:///Users/ryanhughes/opt/miniconda3/envs/Selenium_demo/lib/python3.10/site-packages/selenium/webdriver/remote/webdriver.py?line=432'>433</a>\u001b[0m     \u001b[39mreturn\u001b[39;00m response\n",
      "File \u001b[0;32m~/opt/miniconda3/envs/Selenium_demo/lib/python3.10/site-packages/selenium/webdriver/remote/errorhandler.py:247\u001b[0m, in \u001b[0;36mErrorHandler.check_response\u001b[0;34m(self, response)\u001b[0m\n\u001b[1;32m    <a href='file:///Users/ryanhughes/opt/miniconda3/envs/Selenium_demo/lib/python3.10/site-packages/selenium/webdriver/remote/errorhandler.py?line=244'>245</a>\u001b[0m         alert_text \u001b[39m=\u001b[39m value[\u001b[39m'\u001b[39m\u001b[39malert\u001b[39m\u001b[39m'\u001b[39m]\u001b[39m.\u001b[39mget(\u001b[39m'\u001b[39m\u001b[39mtext\u001b[39m\u001b[39m'\u001b[39m)\n\u001b[1;32m    <a href='file:///Users/ryanhughes/opt/miniconda3/envs/Selenium_demo/lib/python3.10/site-packages/selenium/webdriver/remote/errorhandler.py?line=245'>246</a>\u001b[0m     \u001b[39mraise\u001b[39;00m exception_class(message, screen, stacktrace, alert_text)  \u001b[39m# type: ignore[call-arg]  # mypy is not smart enough here\u001b[39;00m\n\u001b[0;32m--> <a href='file:///Users/ryanhughes/opt/miniconda3/envs/Selenium_demo/lib/python3.10/site-packages/selenium/webdriver/remote/errorhandler.py?line=246'>247</a>\u001b[0m \u001b[39mraise\u001b[39;00m exception_class(message, screen, stacktrace)\n",
      "\u001b[0;31mElementNotInteractableException\u001b[0m: Message: element not interactable\n  (Session info: chrome=103.0.5060.53)\nStacktrace:\n0   chromedriver                        0x000000010c4c8079 chromedriver + 4444281\n1   chromedriver                        0x000000010c454403 chromedriver + 3970051\n2   chromedriver                        0x000000010c0eeeef chromedriver + 409327\n3   chromedriver                        0x000000010c126477 chromedriver + 636023\n4   chromedriver                        0x000000010c11a6a9 chromedriver + 587433\n5   chromedriver                        0x000000010c142792 chromedriver + 751506\n6   chromedriver                        0x000000010c119f65 chromedriver + 585573\n7   chromedriver                        0x000000010c14289e chromedriver + 751774\n8   chromedriver                        0x000000010c155221 chromedriver + 827937\n9   chromedriver                        0x000000010c142683 chromedriver + 751235\n10  chromedriver                        0x000000010c118a45 chromedriver + 580165\n11  chromedriver                        0x000000010c119a95 chromedriver + 584341\n12  chromedriver                        0x000000010c49955d chromedriver + 4253021\n13  chromedriver                        0x000000010c49e3a1 chromedriver + 4273057\n14  chromedriver                        0x000000010c4a316f chromedriver + 4292975\n15  chromedriver                        0x000000010c49edea chromedriver + 4275690\n16  chromedriver                        0x000000010c47854f chromedriver + 4117839\n17  chromedriver                        0x000000010c4b8ed8 chromedriver + 4382424\n18  chromedriver                        0x000000010c4b905f chromedriver + 4382815\n19  chromedriver                        0x000000010c4cf8d5 chromedriver + 4475093\n20  libsystem_pthread.dylib             0x00007ff813e254f4 _pthread_start + 125\n21  libsystem_pthread.dylib             0x00007ff813e2100f thread_start + 15\n"
     ]
    }
   ],
   "source": [
    "search = propertypal.driver.find_element(By.XPATH, '//*[@id=\"query\"]')\n",
    "search.click()\n",
    "search.send_keys(\"BT4\")"
   ]
  },
  {
   "cell_type": "code",
   "execution_count": 72,
   "metadata": {},
   "outputs": [
    {
     "ename": "ElementNotInteractableException",
     "evalue": "Message: element not interactable\n  (Session info: chrome=103.0.5060.53)\nStacktrace:\n0   chromedriver                        0x0000000101cd0079 chromedriver + 4444281\n1   chromedriver                        0x0000000101c5c403 chromedriver + 3970051\n2   chromedriver                        0x00000001018f6eef chromedriver + 409327\n3   chromedriver                        0x000000010192760f chromedriver + 607759\n4   chromedriver                        0x0000000101926c0d chromedriver + 605197\n5   chromedriver                        0x000000010194a792 chromedriver + 751506\n6   chromedriver                        0x0000000101921f65 chromedriver + 585573\n7   chromedriver                        0x000000010194a89e chromedriver + 751774\n8   chromedriver                        0x000000010195d221 chromedriver + 827937\n9   chromedriver                        0x000000010194a683 chromedriver + 751235\n10  chromedriver                        0x0000000101920a45 chromedriver + 580165\n11  chromedriver                        0x0000000101921a95 chromedriver + 584341\n12  chromedriver                        0x0000000101ca155d chromedriver + 4253021\n13  chromedriver                        0x0000000101ca63a1 chromedriver + 4273057\n14  chromedriver                        0x0000000101cab16f chromedriver + 4292975\n15  chromedriver                        0x0000000101ca6dea chromedriver + 4275690\n16  chromedriver                        0x0000000101c8054f chromedriver + 4117839\n17  chromedriver                        0x0000000101cc0ed8 chromedriver + 4382424\n18  chromedriver                        0x0000000101cc105f chromedriver + 4382815\n19  chromedriver                        0x0000000101cd78d5 chromedriver + 4475093\n20  libsystem_pthread.dylib             0x00007ff813e254f4 _pthread_start + 125\n21  libsystem_pthread.dylib             0x00007ff813e2100f thread_start + 15\n",
     "output_type": "error",
     "traceback": [
      "\u001b[0;31m---------------------------------------------------------------------------\u001b[0m",
      "\u001b[0;31mElementNotInteractableException\u001b[0m           Traceback (most recent call last)",
      "\u001b[1;32m/Users/ryanhughes/Desktop/Aicore/Property-Pal-Pipeline.ipynb Cell 10'\u001b[0m in \u001b[0;36m<cell line: 3>\u001b[0;34m()\u001b[0m\n\u001b[1;32m      <a href='vscode-notebook-cell:/Users/ryanhughes/Desktop/Aicore/Property-Pal-Pipeline.ipynb#ch0000013?line=0'>1</a>\u001b[0m search_bar \u001b[39m=\u001b[39m propertypal\u001b[39m.\u001b[39mdriver\u001b[39m.\u001b[39mfind_element(By\u001b[39m.\u001b[39mXPATH, \u001b[39m'\u001b[39m\u001b[39m//*[@id=\u001b[39m\u001b[39m\"\u001b[39m\u001b[39msearchForm\u001b[39m\u001b[39m\"\u001b[39m\u001b[39m]/div/div[1]/section\u001b[39m\u001b[39m'\u001b[39m)\n\u001b[1;32m      <a href='vscode-notebook-cell:/Users/ryanhughes/Desktop/Aicore/Property-Pal-Pipeline.ipynb#ch0000013?line=1'>2</a>\u001b[0m search_bar\u001b[39m.\u001b[39mclick\n\u001b[0;32m----> <a href='vscode-notebook-cell:/Users/ryanhughes/Desktop/Aicore/Property-Pal-Pipeline.ipynb#ch0000013?line=2'>3</a>\u001b[0m search_bar\u001b[39m.\u001b[39;49msend_keys(\u001b[39m\"\u001b[39;49m\u001b[39mBT4\u001b[39;49m\u001b[39m\"\u001b[39;49m)\n",
      "File \u001b[0;32m~/opt/miniconda3/envs/Selenium_demo/lib/python3.10/site-packages/selenium/webdriver/remote/webelement.py:600\u001b[0m, in \u001b[0;36mWebElement.send_keys\u001b[0;34m(self, *value)\u001b[0m\n\u001b[1;32m    <a href='file:///Users/ryanhughes/opt/miniconda3/envs/Selenium_demo/lib/python3.10/site-packages/selenium/webdriver/remote/webelement.py?line=596'>597</a>\u001b[0m             remote_files\u001b[39m.\u001b[39mappend(\u001b[39mself\u001b[39m\u001b[39m.\u001b[39m_upload(file))\n\u001b[1;32m    <a href='file:///Users/ryanhughes/opt/miniconda3/envs/Selenium_demo/lib/python3.10/site-packages/selenium/webdriver/remote/webelement.py?line=597'>598</a>\u001b[0m         value \u001b[39m=\u001b[39m \u001b[39m'\u001b[39m\u001b[39m\\n\u001b[39;00m\u001b[39m'\u001b[39m\u001b[39m.\u001b[39mjoin(remote_files)\n\u001b[0;32m--> <a href='file:///Users/ryanhughes/opt/miniconda3/envs/Selenium_demo/lib/python3.10/site-packages/selenium/webdriver/remote/webelement.py?line=599'>600</a>\u001b[0m \u001b[39mself\u001b[39;49m\u001b[39m.\u001b[39;49m_execute(Command\u001b[39m.\u001b[39;49mSEND_KEYS_TO_ELEMENT,\n\u001b[1;32m    <a href='file:///Users/ryanhughes/opt/miniconda3/envs/Selenium_demo/lib/python3.10/site-packages/selenium/webdriver/remote/webelement.py?line=600'>601</a>\u001b[0m               {\u001b[39m'\u001b[39;49m\u001b[39mtext\u001b[39;49m\u001b[39m'\u001b[39;49m: \u001b[39m\"\u001b[39;49m\u001b[39m\"\u001b[39;49m\u001b[39m.\u001b[39;49mjoin(keys_to_typing(value)),\n\u001b[1;32m    <a href='file:///Users/ryanhughes/opt/miniconda3/envs/Selenium_demo/lib/python3.10/site-packages/selenium/webdriver/remote/webelement.py?line=601'>602</a>\u001b[0m                \u001b[39m'\u001b[39;49m\u001b[39mvalue\u001b[39;49m\u001b[39m'\u001b[39;49m: keys_to_typing(value)})\n",
      "File \u001b[0;32m~/opt/miniconda3/envs/Selenium_demo/lib/python3.10/site-packages/selenium/webdriver/remote/webelement.py:773\u001b[0m, in \u001b[0;36mWebElement._execute\u001b[0;34m(self, command, params)\u001b[0m\n\u001b[1;32m    <a href='file:///Users/ryanhughes/opt/miniconda3/envs/Selenium_demo/lib/python3.10/site-packages/selenium/webdriver/remote/webelement.py?line=770'>771</a>\u001b[0m     params \u001b[39m=\u001b[39m {}\n\u001b[1;32m    <a href='file:///Users/ryanhughes/opt/miniconda3/envs/Selenium_demo/lib/python3.10/site-packages/selenium/webdriver/remote/webelement.py?line=771'>772</a>\u001b[0m params[\u001b[39m'\u001b[39m\u001b[39mid\u001b[39m\u001b[39m'\u001b[39m] \u001b[39m=\u001b[39m \u001b[39mself\u001b[39m\u001b[39m.\u001b[39m_id\n\u001b[0;32m--> <a href='file:///Users/ryanhughes/opt/miniconda3/envs/Selenium_demo/lib/python3.10/site-packages/selenium/webdriver/remote/webelement.py?line=772'>773</a>\u001b[0m \u001b[39mreturn\u001b[39;00m \u001b[39mself\u001b[39;49m\u001b[39m.\u001b[39;49m_parent\u001b[39m.\u001b[39;49mexecute(command, params)\n",
      "File \u001b[0;32m~/opt/miniconda3/envs/Selenium_demo/lib/python3.10/site-packages/selenium/webdriver/remote/webdriver.py:430\u001b[0m, in \u001b[0;36mWebDriver.execute\u001b[0;34m(self, driver_command, params)\u001b[0m\n\u001b[1;32m    <a href='file:///Users/ryanhughes/opt/miniconda3/envs/Selenium_demo/lib/python3.10/site-packages/selenium/webdriver/remote/webdriver.py?line=427'>428</a>\u001b[0m response \u001b[39m=\u001b[39m \u001b[39mself\u001b[39m\u001b[39m.\u001b[39mcommand_executor\u001b[39m.\u001b[39mexecute(driver_command, params)\n\u001b[1;32m    <a href='file:///Users/ryanhughes/opt/miniconda3/envs/Selenium_demo/lib/python3.10/site-packages/selenium/webdriver/remote/webdriver.py?line=428'>429</a>\u001b[0m \u001b[39mif\u001b[39;00m response:\n\u001b[0;32m--> <a href='file:///Users/ryanhughes/opt/miniconda3/envs/Selenium_demo/lib/python3.10/site-packages/selenium/webdriver/remote/webdriver.py?line=429'>430</a>\u001b[0m     \u001b[39mself\u001b[39;49m\u001b[39m.\u001b[39;49merror_handler\u001b[39m.\u001b[39;49mcheck_response(response)\n\u001b[1;32m    <a href='file:///Users/ryanhughes/opt/miniconda3/envs/Selenium_demo/lib/python3.10/site-packages/selenium/webdriver/remote/webdriver.py?line=430'>431</a>\u001b[0m     response[\u001b[39m'\u001b[39m\u001b[39mvalue\u001b[39m\u001b[39m'\u001b[39m] \u001b[39m=\u001b[39m \u001b[39mself\u001b[39m\u001b[39m.\u001b[39m_unwrap_value(\n\u001b[1;32m    <a href='file:///Users/ryanhughes/opt/miniconda3/envs/Selenium_demo/lib/python3.10/site-packages/selenium/webdriver/remote/webdriver.py?line=431'>432</a>\u001b[0m         response\u001b[39m.\u001b[39mget(\u001b[39m'\u001b[39m\u001b[39mvalue\u001b[39m\u001b[39m'\u001b[39m, \u001b[39mNone\u001b[39;00m))\n\u001b[1;32m    <a href='file:///Users/ryanhughes/opt/miniconda3/envs/Selenium_demo/lib/python3.10/site-packages/selenium/webdriver/remote/webdriver.py?line=432'>433</a>\u001b[0m     \u001b[39mreturn\u001b[39;00m response\n",
      "File \u001b[0;32m~/opt/miniconda3/envs/Selenium_demo/lib/python3.10/site-packages/selenium/webdriver/remote/errorhandler.py:247\u001b[0m, in \u001b[0;36mErrorHandler.check_response\u001b[0;34m(self, response)\u001b[0m\n\u001b[1;32m    <a href='file:///Users/ryanhughes/opt/miniconda3/envs/Selenium_demo/lib/python3.10/site-packages/selenium/webdriver/remote/errorhandler.py?line=244'>245</a>\u001b[0m         alert_text \u001b[39m=\u001b[39m value[\u001b[39m'\u001b[39m\u001b[39malert\u001b[39m\u001b[39m'\u001b[39m]\u001b[39m.\u001b[39mget(\u001b[39m'\u001b[39m\u001b[39mtext\u001b[39m\u001b[39m'\u001b[39m)\n\u001b[1;32m    <a href='file:///Users/ryanhughes/opt/miniconda3/envs/Selenium_demo/lib/python3.10/site-packages/selenium/webdriver/remote/errorhandler.py?line=245'>246</a>\u001b[0m     \u001b[39mraise\u001b[39;00m exception_class(message, screen, stacktrace, alert_text)  \u001b[39m# type: ignore[call-arg]  # mypy is not smart enough here\u001b[39;00m\n\u001b[0;32m--> <a href='file:///Users/ryanhughes/opt/miniconda3/envs/Selenium_demo/lib/python3.10/site-packages/selenium/webdriver/remote/errorhandler.py?line=246'>247</a>\u001b[0m \u001b[39mraise\u001b[39;00m exception_class(message, screen, stacktrace)\n",
      "\u001b[0;31mElementNotInteractableException\u001b[0m: Message: element not interactable\n  (Session info: chrome=103.0.5060.53)\nStacktrace:\n0   chromedriver                        0x0000000101cd0079 chromedriver + 4444281\n1   chromedriver                        0x0000000101c5c403 chromedriver + 3970051\n2   chromedriver                        0x00000001018f6eef chromedriver + 409327\n3   chromedriver                        0x000000010192760f chromedriver + 607759\n4   chromedriver                        0x0000000101926c0d chromedriver + 605197\n5   chromedriver                        0x000000010194a792 chromedriver + 751506\n6   chromedriver                        0x0000000101921f65 chromedriver + 585573\n7   chromedriver                        0x000000010194a89e chromedriver + 751774\n8   chromedriver                        0x000000010195d221 chromedriver + 827937\n9   chromedriver                        0x000000010194a683 chromedriver + 751235\n10  chromedriver                        0x0000000101920a45 chromedriver + 580165\n11  chromedriver                        0x0000000101921a95 chromedriver + 584341\n12  chromedriver                        0x0000000101ca155d chromedriver + 4253021\n13  chromedriver                        0x0000000101ca63a1 chromedriver + 4273057\n14  chromedriver                        0x0000000101cab16f chromedriver + 4292975\n15  chromedriver                        0x0000000101ca6dea chromedriver + 4275690\n16  chromedriver                        0x0000000101c8054f chromedriver + 4117839\n17  chromedriver                        0x0000000101cc0ed8 chromedriver + 4382424\n18  chromedriver                        0x0000000101cc105f chromedriver + 4382815\n19  chromedriver                        0x0000000101cd78d5 chromedriver + 4475093\n20  libsystem_pthread.dylib             0x00007ff813e254f4 _pthread_start + 125\n21  libsystem_pthread.dylib             0x00007ff813e2100f thread_start + 15\n"
     ]
    }
   ],
   "source": [
    "search_bar = propertypal.driver.find_element(By.XPATH, '//*[@id=\"searchForm\"]/div/div[1]/section')\n",
    "search_bar.click\n",
    "search_bar.send_keys(\"BT4\")"
   ]
  },
  {
   "cell_type": "code",
   "execution_count": 65,
   "metadata": {},
   "outputs": [],
   "source": [
    "propertypal.scroll_down()"
   ]
  },
  {
   "cell_type": "code",
   "execution_count": 82,
   "metadata": {},
   "outputs": [],
   "source": [
    "from selenium.webdriver.common.by import By\n",
    "from selenium.webdriver.common.action_chains import ActionChains\n",
    "import time "
   ]
  },
  {
   "cell_type": "code",
   "execution_count": 83,
   "metadata": {},
   "outputs": [
    {
     "name": "stdout",
     "output_type": "stream",
     "text": [
      "\n"
     ]
    },
    {
     "name": "stderr",
     "output_type": "stream",
     "text": [
      "[WDM] - ====== WebDriver manager ======\n",
      "[WDM] - Current google-chrome version is 103.0.5060\n",
      "[WDM] - Get LATEST chromedriver version for 103.0.5060 google-chrome\n",
      "[WDM] - Driver [/Users/ryanhughes/.wdm/drivers/chromedriver/mac64/103.0.5060.53/chromedriver] found in cache\n",
      "/var/folders/k0/hpk5zvqn2rdfdj_f5sv8ptp80000gn/T/ipykernel_82170/199523797.py:1: DeprecationWarning: executable_path has been deprecated, please pass in a Service object\n",
      "  driver = webdriver.Chrome(ChromeDriverManager().install())\n"
     ]
    }
   ],
   "source": [
    "driver = webdriver.Chrome(ChromeDriverManager().install())\n",
    "driver.get(\"https://www.propertypal.com\")\n",
    "time.sleep(2)\n",
    "accept_cookies = driver.find_element(By.XPATH, '//*[@id=\"qc-cmp2-ui\"]/div[2]/div/button[2]')\n",
    "accept_cookies.click()\n",
    "time.sleep(2)\n",
    "search = driver.find_element(By.XPATH, '//*[@id=\"searchForm\"]/div/div[1]')\n",
    "driver.implicitly_wait(10)\n",
    "ActionChains(driver).move_to_element(search).click(search).perform()\n",
    "ActionChains(driver).send_keys(\"BT4\").perform()\n"
   ]
  },
  {
   "cell_type": "code",
   "execution_count": null,
   "metadata": {},
   "outputs": [],
   "source": []
  }
 ],
 "metadata": {
  "interpreter": {
   "hash": "7cff52bf4713bc310c3529dfa4c8f486705b7e68a3bc265f7e385d5cb49a4053"
  },
  "kernelspec": {
   "display_name": "Python 3.9.7 ('base')",
   "language": "python",
   "name": "python3"
  },
  "language_info": {
   "codemirror_mode": {
    "name": "ipython",
    "version": 3
   },
   "file_extension": ".py",
   "mimetype": "text/x-python",
   "name": "python",
   "nbconvert_exporter": "python",
   "pygments_lexer": "ipython3",
   "version": "3.10.4"
  },
  "orig_nbformat": 4
 },
 "nbformat": 4,
 "nbformat_minor": 2
}
